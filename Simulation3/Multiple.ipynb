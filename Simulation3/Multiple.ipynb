{
 "cells": [
  {
   "cell_type": "code",
   "execution_count": 1,
   "metadata": {},
   "outputs": [
    {
     "name": "stdout",
     "output_type": "stream",
     "text": [
      "Populating the interactive namespace from numpy and matplotlib\n"
     ]
    }
   ],
   "source": [
    "from Heat_atom import *\n",
    "%pylab inline"
   ]
  },
  {
   "cell_type": "code",
   "execution_count": 17,
   "metadata": {},
   "outputs": [
    {
     "data": {
      "text/plain": [
       "0.020896012720926095"
      ]
     },
     "execution_count": 17,
     "metadata": {},
     "output_type": "execute_result"
    },
    {
     "data": {
      "image/png": "[encoded data removed]",
      "text/plain": [
       "<Figure size 288x288 with 1 Axes>"
      ]
     },
     "metadata": {
      "needs_background": "light"
     },
     "output_type": "display_data"
    },
    {
     "data": {
      "image/png": "[encoded data removed]",
      "text/plain": [
       "<Figure size 288x288 with 1 Axes>"
      ]
     },
     "metadata": {
      "needs_background": "light"
     },
     "output_type": "display_data"
    }
   ],
   "source": [
    "L,A,s0,D = Setup(10)\n",
    "U,V = Combine([250]*40,3,L,0.001,10)\n",
    "Adj, Cond = Learn(U,V)\n",
    "err = (ErrCheck(Adj, A))[2]\n",
    "err"
   ]
  },
  {
   "cell_type": "code",
   "execution_count": 5,
   "metadata": {},
   "outputs": [],
   "source": [
    "def Err_Meas(b):\n",
    "    L,A,s0,D = Setup(10)\n",
    "    U,V = Combine([250]*b,3,L,0.001,10)\n",
    "    Adj, Cond = Learn(U,V)\n",
    "    err = (error(Adj, A))[2]\n",
    "    return err"
   ]
  },
  {
   "cell_type": "code",
   "execution_count": 7,
   "metadata": {},
   "outputs": [],
   "source": [
    "e = [Err_Meas(10*i) for i in range(1,4)]"
   ]
  },
  {
   "cell_type": "code",
   "execution_count": 7,
   "metadata": {},
   "outputs": [
    {
     "data": {
      "text/plain": [
       "5.622807320749549"
      ]
     },
     "execution_count": 7,
     "metadata": {},
     "output_type": "execute_result"
    },
    {
     "data": {
      "image/png": "[encoded data removed]",
      "text/plain": [
       "<Figure size 288x288 with 1 Axes>"
      ]
     },
     "metadata": {
      "needs_background": "light"
     },
     "output_type": "display_data"
    },
    {
     "data": {
      "image/png": "[encoded data removed]",
      "text/plain": [
       "<Figure size 288x288 with 1 Axes>"
      ]
     },
     "metadata": {
      "needs_background": "light"
     },
     "output_type": "display_data"
    }
   ],
   "source": [
    "L, A_gt, s0,D = Setup(10)\n",
    "Samples, T = CreateNoisySamples(L,s0,0.001,1e-5,10)\n",
    "sk, dk = Resample(3,Samples,0.001)\n",
    "U,V = UVmatrix(T,sk,dk,3,D)\n",
    "Adj, Cond = Learn(U,V)\n",
    "Adj_le, A_gt, err = ErrCheck(Adj, A_gt)\n",
    "err"
   ]
  },
  {
   "cell_type": "code",
   "execution_count": 4,
   "metadata": {},
   "outputs": [],
   "source": [
    "# L, A_gt, s0,D = Setup(10)\n",
    "# Samples = Combine([250]*5,L,0.001,10)\n",
    "# T = sum(1250)\n",
    "# sk, dk = Resample(3,Samples,0.001)\n",
    "# U,V = UVmatrix(T,sk,dk,3,D)\n",
    "# Adj, Cond = Learn(U,V)\n",
    "# Adj_le, A_gt, err = ErrCheck(Adj, A_gt)\n",
    "# err"
   ]
  },
  {
   "cell_type": "code",
   "execution_count": 5,
   "metadata": {},
   "outputs": [],
   "source": [
    "# L, A_gt, s0,D = Setup(10)\n",
    "# Samples, T = CreateNoisySamples(L,s0,0.001,1e-5,10)\n",
    "# sk, dk = Resample(3,Samples,0.001)\n",
    "# U,V = UVmatrix(T,sk,dk,3,D)\n",
    "# Adj, Cond = Learn(U,V)\n",
    "# Adj_le, A_gt, err = ErrCheck(Adj, A_gt)\n",
    "# err"
   ]
  }
 ],
 "metadata": {
  "kernelspec": {
   "display_name": "Python 3.9.9 64-bit",
   "language": "python",
   "name": "python3"
  },
  "language_info": {
   "codemirror_mode": {
    "name": "ipython",
    "version": 3
   },
   "file_extension": ".py",
   "mimetype": "text/x-python",
   "name": "python",
   "nbconvert_exporter": "python",
   "pygments_lexer": "ipython3",
   "version": "3.9.9"
  },
  "orig_nbformat": 4,
  "vscode": {
   "interpreter": {
    "hash": "d28cfe9b801dc90300b9fc0f66b03165a7e2df121cf51f00b207dbb24586521e"
   }
  }
 },
 "nbformat": 4,
 "nbformat_minor": 2
}
