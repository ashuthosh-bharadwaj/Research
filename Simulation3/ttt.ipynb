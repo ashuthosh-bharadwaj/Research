{
 "cells": [
  {
   "cell_type": "code",
   "execution_count": 1,
   "metadata": {},
   "outputs": [
    {
     "name": "stdout",
     "output_type": "stream",
     "text": [
      "%pylab is deprecated, use %matplotlib inline and import the required libraries.\n",
      "Populating the interactive namespace from numpy and matplotlib\n"
     ]
    }
   ],
   "source": [
    "from Heat_atom_Lap import *\n",
    "%pylab inline"
   ]
  },
  {
   "cell_type": "code",
   "execution_count": 2,
   "metadata": {},
   "outputs": [],
   "source": [
    "A = array([[0,\t0,\t0,\t0,\t1,\t1,\t0,\t1,\t0,\t0],\n",
    "[0,\t0,\t0,\t1,\t1,\t0,\t0,\t0,\t0,\t1],\n",
    "[0,\t0,\t0,\t0,\t0,\t0,\t1,\t1,\t0,\t1],\n",
    "[0,\t1,\t0,\t0,\t0,\t0,\t1,\t0,\t1,\t0],\n",
    "[1,\t1,\t0,\t0,\t0,\t0,\t0,\t1,\t0,\t0],\n",
    "[1,\t0,\t0,\t0,\t0,\t0,\t0,\t0,\t1,\t1],\n",
    "[0,\t0,\t1,\t1,\t0,\t0,\t0,\t0,\t1,\t0],\n",
    "[1,\t0,\t1,\t0,\t1,\t0,\t0,\t0,\t0,\t0],\n",
    "[0,\t0,\t0,\t1,\t0,\t1,\t1,\t0,\t0,\t0],\n",
    "[0,\t1,\t1,\t0,\t0,\t1,\t0,\t0,\t0,\t0]])\n",
    "\n",
    "L = -A\n",
    "for i in range(10): L[i,i] = 3"
   ]
  },
  {
   "cell_type": "code",
   "execution_count": 4,
   "metadata": {},
   "outputs": [
    {
     "data": {
      "text/plain": [
       "0.45866520154886836"
      ]
     },
     "execution_count": 4,
     "metadata": {},
     "output_type": "execute_result"
    },
    {
     "data": {
      "image/png": "[encoded data removed]",
      "text/plain": [
       "<Figure size 288x288 with 1 Axes>"
      ]
     },
     "metadata": {
      "needs_background": "light"
     },
     "output_type": "display_data"
    },
    {
     "data": {
      "image/png": "[encoded data removed]",
      "text/plain": [
       "<Figure size 288x288 with 1 Axes>"
      ]
     },
     "metadata": {
      "needs_background": "light"
     },
     "output_type": "display_data"
    }
   ],
   "source": [
    "U,V = Combine2022([250]*50,5,L,0.001)\n",
    "Lap_Learned, Cond = Learn(U,V)\n",
    "err = (ErrCheck(L,Lap_Learned))[2]\n",
    "err"
   ]
  }
 ],
 "metadata": {
  "kernelspec": {
   "display_name": "Heatlearn",
   "language": "python",
   "name": "heatlearn"
  },
  "orig_nbformat": 4
 },
 "nbformat": 4,
 "nbformat_minor": 2
}
