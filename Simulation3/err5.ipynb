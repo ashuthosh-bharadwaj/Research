{
 "cells": [
  {
   "cell_type": "code",
   "execution_count": 1,
   "metadata": {},
   "outputs": [
    {
     "name": "stdout",
     "output_type": "stream",
     "text": [
      "%pylab is deprecated, use %matplotlib inline and import the required libraries.\n",
      "Populating the interactive namespace from numpy and matplotlib\n"
     ]
    }
   ],
   "source": [
    "from Heat_atom_Lap import *\n",
    "%pylab inline\n",
    "from tqdm import tqdm"
   ]
  },
  {
   "cell_type": "code",
   "execution_count": 3,
   "metadata": {},
   "outputs": [],
   "source": [
    "def errget(N,s1,s2):\n",
    "    L,L_gt,s0,D = Setup2(N,s1,s2)\n",
    "    U,V = Combine([250]*5,5,L,0.001,10)\n",
    "    Lap, Cond = Learn(U,V)\n",
    "    err = (error(Lap,L_gt))[2]\n",
    "    return err "
   ]
  },
  {
   "cell_type": "code",
   "execution_count": 4,
   "metadata": {},
   "outputs": [
    {
     "name": "stderr",
     "output_type": "stream",
     "text": [
      "100%|██████████| 200/200 [00:17<00:00, 11.32it/s]\n",
      "100%|██████████| 200/200 [00:21<00:00,  9.30it/s]\n",
      "100%|██████████| 200/200 [00:25<00:00,  7.71it/s]\n",
      "100%|██████████| 200/200 [00:30<00:00,  6.50it/s]\n",
      "100%|██████████| 200/200 [00:37<00:00,  5.36it/s]\n",
      "100%|██████████| 200/200 [00:44<00:00,  4.47it/s]\n",
      "100%|██████████| 200/200 [00:53<00:00,  3.75it/s]\n",
      "100%|██████████| 200/200 [01:04<00:00,  3.11it/s]\n",
      "100%|██████████| 200/200 [01:18<00:00,  2.55it/s]\n",
      "100%|██████████| 200/200 [01:35<00:00,  2.10it/s]\n",
      "100%|██████████| 200/200 [01:56<00:00,  1.72it/s]\n",
      "100%|██████████| 200/200 [02:24<00:00,  1.38it/s]\n",
      "100%|██████████| 200/200 [02:57<00:00,  1.12it/s]\n",
      "100%|██████████| 200/200 [03:33<00:00,  1.07s/it]\n",
      "100%|██████████| 200/200 [04:12<00:00,  1.26s/it]\n",
      "100%|██████████| 200/200 [04:52<00:00,  1.46s/it]\n",
      "100%|██████████| 200/200 [05:54<00:00,  1.77s/it]\n",
      "100%|██████████| 200/200 [07:10<00:00,  2.15s/it]\n",
      "100%|██████████| 200/200 [08:45<00:00,  2.63s/it]\n",
      "100%|██████████| 19/19 [49:37<00:00, 156.69s/it]\n"
     ]
    }
   ],
   "source": [
    "erro5 = []\n",
    " \n",
    "for N in tqdm(range(2,21)):\n",
    "    r = 0\n",
    "    for l in tqdm(range(200)):\n",
    "        s1,s2 = tuple(random.randint(0,100,2))\n",
    "        r += errget(N,s1,s2)\n",
    "    erro5.append(r/200) "
   ]
  },
  {
   "cell_type": "code",
   "execution_count": 6,
   "metadata": {},
   "outputs": [
    {
     "data": {
      "text/plain": [
       "[0.005814460684167844,\n",
       " 0.0073776307386185245,\n",
       " 0.009728412433539634,\n",
       " 0.013183488092989639,\n",
       " 0.012352943994642974,\n",
       " 0.01301821854044702,\n",
       " 0.01777145478586265,\n",
       " 0.020550065300971646,\n",
       " 0.02178363595623005,\n",
       " 0.023437876680219117,\n",
       " 0.024927777472814393,\n",
       " 0.027362643683795946,\n",
       " 0.0324484422484769,\n",
       " 0.03127867757157537,\n",
       " 0.03292060833823198,\n",
       " 0.05312452120268553,\n",
       " 0.3074957955286083,\n",
       " 0.08724872737940237,\n",
       " 1.0886281425672641]"
      ]
     },
     "execution_count": 6,
     "metadata": {},
     "output_type": "execute_result"
    }
   ],
   "source": [
    "erro5"
   ]
  },
  {
   "cell_type": "code",
   "execution_count": null,
   "metadata": {},
   "outputs": [],
   "source": [
    "pkl.dump(array(erro5),open(\"./Data/E5.pkl\", \"wb\"))"
   ]
  }
 ],
 "metadata": {
  "kernelspec": {
   "display_name": "Heatlearn",
   "language": "python",
   "name": "heatlearn"
  },
  "language_info": {
   "codemirror_mode": {
    "name": "ipython",
    "version": 3
   },
   "file_extension": ".py",
   "mimetype": "text/x-python",
   "name": "python",
   "nbconvert_exporter": "python",
   "pygments_lexer": "ipython3",
   "version": "3.10.6"
  },
  "orig_nbformat": 4
 },
 "nbformat": 4,
 "nbformat_minor": 2
}
