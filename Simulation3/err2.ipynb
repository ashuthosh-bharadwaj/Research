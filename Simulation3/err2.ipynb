{
 "cells": [
  {
   "cell_type": "code",
   "execution_count": 1,
   "metadata": {},
   "outputs": [
    {
     "name": "stdout",
     "output_type": "stream",
     "text": [
      "%pylab is deprecated, use %matplotlib inline and import the required libraries.\n",
      "Populating the interactive namespace from numpy and matplotlib\n"
     ]
    }
   ],
   "source": [
    "from Heat_atom_Lap import *\n",
    "%pylab inline\n",
    "from tqdm import tqdm"
   ]
  },
  {
   "cell_type": "code",
   "execution_count": 2,
   "metadata": {},
   "outputs": [],
   "source": [
    "def errget(N,s1,s2):\n",
    "    L,L_gt,s0,D = Setup2(N,s1,s2)\n",
    "    U,V = Combine([250]*2,5,L,0.001,10)\n",
    "    Lap, Cond = Learn(U,V)\n",
    "    err = (error(Lap,L_gt))[2]\n",
    "    return err "
   ]
  },
  {
   "cell_type": "code",
   "execution_count": 3,
   "metadata": {},
   "outputs": [
    {
     "name": "stderr",
     "output_type": "stream",
     "text": [
      "100%|██████████| 200/200 [00:08<00:00, 25.00it/s]\n",
      "100%|██████████| 200/200 [00:09<00:00, 21.34it/s]\n",
      "100%|██████████| 200/200 [00:10<00:00, 18.32it/s]\n",
      "100%|██████████| 200/200 [00:12<00:00, 15.96it/s]\n",
      "100%|██████████| 200/200 [00:14<00:00, 13.69it/s]\n",
      "100%|██████████| 200/200 [00:16<00:00, 11.96it/s]\n",
      "100%|██████████| 200/200 [00:20<00:00,  9.88it/s]\n",
      "100%|██████████| 200/200 [00:23<00:00,  8.45it/s]\n",
      "100%|██████████| 200/200 [00:28<00:00,  7.14it/s]\n",
      "100%|██████████| 200/200 [00:33<00:00,  6.00it/s]\n",
      "100%|██████████| 200/200 [00:38<00:00,  5.19it/s]\n",
      "100%|██████████| 200/200 [00:46<00:00,  4.33it/s]\n",
      "100%|██████████| 200/200 [00:55<00:00,  3.63it/s]\n",
      "100%|██████████| 200/200 [01:05<00:00,  3.06it/s]\n",
      "100%|██████████| 200/200 [01:17<00:00,  2.58it/s]\n",
      "100%|██████████| 200/200 [01:29<00:00,  2.23it/s]\n",
      "100%|██████████| 200/200 [01:48<00:00,  1.85it/s]\n",
      "100%|██████████| 200/200 [02:09<00:00,  1.55it/s]\n",
      "100%|██████████| 200/200 [02:34<00:00,  1.29it/s]\n",
      "100%|██████████| 200/200 [03:08<00:00,  1.06it/s]\n",
      " 46%|████▌     | 91/200 [01:37<01:57,  1.07s/it]\n",
      " 83%|████████▎ | 20/24 [20:27<04:05, 61.38s/it] \n"
     ]
    },
    {
     "ename": "KeyboardInterrupt",
     "evalue": "",
     "output_type": "error",
     "traceback": [
      "\u001b[0;31m---------------------------------------------------------------------------\u001b[0m",
      "\u001b[0;31mKeyboardInterrupt\u001b[0m                         Traceback (most recent call last)",
      "\u001b[1;32m/home2/ashu_bharadwaj/Research/Simulation3/err2.ipynb Cell 3\u001b[0m in \u001b[0;36m<cell line: 3>\u001b[0;34m()\u001b[0m\n\u001b[1;32m      <a href='vscode-notebook-cell://ssh-remote%2Bgnode032/home2/ashu_bharadwaj/Research/Simulation3/err2.ipynb#W2sdnNjb2RlLXJlbW90ZQ%3D%3D?line=4'>5</a>\u001b[0m \u001b[39mfor\u001b[39;00m l \u001b[39min\u001b[39;00m tqdm(\u001b[39mrange\u001b[39m(\u001b[39m200\u001b[39m)):\n\u001b[1;32m      <a href='vscode-notebook-cell://ssh-remote%2Bgnode032/home2/ashu_bharadwaj/Research/Simulation3/err2.ipynb#W2sdnNjb2RlLXJlbW90ZQ%3D%3D?line=5'>6</a>\u001b[0m     s1,s2 \u001b[39m=\u001b[39m \u001b[39mtuple\u001b[39m(random\u001b[39m.\u001b[39mrandint(\u001b[39m0\u001b[39m,\u001b[39m100\u001b[39m,\u001b[39m2\u001b[39m))\n\u001b[0;32m----> <a href='vscode-notebook-cell://ssh-remote%2Bgnode032/home2/ashu_bharadwaj/Research/Simulation3/err2.ipynb#W2sdnNjb2RlLXJlbW90ZQ%3D%3D?line=6'>7</a>\u001b[0m     r \u001b[39m+\u001b[39m\u001b[39m=\u001b[39m errget(N,s1,s2)\n\u001b[1;32m      <a href='vscode-notebook-cell://ssh-remote%2Bgnode032/home2/ashu_bharadwaj/Research/Simulation3/err2.ipynb#W2sdnNjb2RlLXJlbW90ZQ%3D%3D?line=7'>8</a>\u001b[0m erro2\u001b[39m.\u001b[39mappend(r\u001b[39m/\u001b[39m\u001b[39m200\u001b[39m)\n",
      "\u001b[1;32m/home2/ashu_bharadwaj/Research/Simulation3/err2.ipynb Cell 3\u001b[0m in \u001b[0;36merrget\u001b[0;34m(N, s1, s2)\u001b[0m\n\u001b[1;32m      <a href='vscode-notebook-cell://ssh-remote%2Bgnode032/home2/ashu_bharadwaj/Research/Simulation3/err2.ipynb#W2sdnNjb2RlLXJlbW90ZQ%3D%3D?line=1'>2</a>\u001b[0m L,L_gt,s0,D \u001b[39m=\u001b[39m Setup2(N,s1,s2)\n\u001b[1;32m      <a href='vscode-notebook-cell://ssh-remote%2Bgnode032/home2/ashu_bharadwaj/Research/Simulation3/err2.ipynb#W2sdnNjb2RlLXJlbW90ZQ%3D%3D?line=2'>3</a>\u001b[0m U,V \u001b[39m=\u001b[39m Combine([\u001b[39m250\u001b[39m]\u001b[39m*\u001b[39m\u001b[39m2\u001b[39m,\u001b[39m5\u001b[39m,L,\u001b[39m0.001\u001b[39m,\u001b[39m10\u001b[39m)\n\u001b[0;32m----> <a href='vscode-notebook-cell://ssh-remote%2Bgnode032/home2/ashu_bharadwaj/Research/Simulation3/err2.ipynb#W2sdnNjb2RlLXJlbW90ZQ%3D%3D?line=3'>4</a>\u001b[0m Lap, Cond \u001b[39m=\u001b[39m Learn(U,V)\n\u001b[1;32m      <a href='vscode-notebook-cell://ssh-remote%2Bgnode032/home2/ashu_bharadwaj/Research/Simulation3/err2.ipynb#W2sdnNjb2RlLXJlbW90ZQ%3D%3D?line=4'>5</a>\u001b[0m err \u001b[39m=\u001b[39m (error(Lap,L_gt))[\u001b[39m2\u001b[39m]\n\u001b[1;32m      <a href='vscode-notebook-cell://ssh-remote%2Bgnode032/home2/ashu_bharadwaj/Research/Simulation3/err2.ipynb#W2sdnNjb2RlLXJlbW90ZQ%3D%3D?line=5'>6</a>\u001b[0m \u001b[39mreturn\u001b[39;00m err\n",
      "File \u001b[0;32m~/Research/Simulation3/Heat_atom_Lap.py:90\u001b[0m, in \u001b[0;36mLearn\u001b[0;34m(U, V)\u001b[0m\n\u001b[1;32m     87\u001b[0m ranks \u001b[39m=\u001b[39m []\n\u001b[1;32m     89\u001b[0m \u001b[39mfor\u001b[39;00m j \u001b[39min\u001b[39;00m \u001b[39mrange\u001b[39m(M):\n\u001b[0;32m---> 90\u001b[0m     Uu \u001b[39m=\u001b[39m U_synth2(reshape(U[:,j], (N,\u001b[39m1\u001b[39;49m)))\n\u001b[1;32m     91\u001b[0m     Bigu \u001b[39m=\u001b[39m append(Bigu, Uu, axis\u001b[39m=\u001b[39m\u001b[39m0\u001b[39m)\n\u001b[1;32m     92\u001b[0m     ranks\u001b[39m.\u001b[39mappend(linalg\u001b[39m.\u001b[39mmatrix_rank(Bigu))\n",
      "File \u001b[0;32m~/Research/Simulation3/utils3.py:45\u001b[0m, in \u001b[0;36mU_synth2\u001b[0;34m(u)\u001b[0m\n\u001b[1;32m     43\u001b[0m         t \u001b[39m=\u001b[39m np\u001b[39m.\u001b[39mappend(Z,uL,axis\u001b[39m=\u001b[39m\u001b[39m0\u001b[39m)\n\u001b[1;32m     44\u001b[0m         t \u001b[39m=\u001b[39m np\u001b[39m.\u001b[39mappend(t,I,axis\u001b[39m=\u001b[39m\u001b[39m0\u001b[39m)\n\u001b[0;32m---> 45\u001b[0m         t \u001b[39m=\u001b[39m np\u001b[39m.\u001b[39;49mappend(u_there,t,axis\u001b[39m=\u001b[39;49m\u001b[39m1\u001b[39;49m)    \n\u001b[1;32m     46\u001b[0m         U \u001b[39m=\u001b[39m np\u001b[39m.\u001b[39mappend(U,t, axis\u001b[39m=\u001b[39m\u001b[39m1\u001b[39m)\n\u001b[1;32m     48\u001b[0m \u001b[39mreturn\u001b[39;00m U\n",
      "File \u001b[0;32m<__array_function__ internals>:177\u001b[0m, in \u001b[0;36mappend\u001b[0;34m(*args, **kwargs)\u001b[0m\n",
      "\u001b[0;31mKeyboardInterrupt\u001b[0m: "
     ]
    }
   ],
   "source": [
    "erro2 = []\n",
    " \n",
    "for N in tqdm(range(2,26)):\n",
    "    r = 0\n",
    "    for l in tqdm(range(200)):\n",
    "        s1,s2 = tuple(random.randint(0,100,2))\n",
    "        r += errget(N,s1,s2)\n",
    "    erro2.append(r/200) "
   ]
  },
  {
   "cell_type": "code",
   "execution_count": 10,
   "metadata": {},
   "outputs": [
    {
     "data": {
      "text/plain": [
       "[0.0022184337540627126,\n",
       " 0.008333967654545619,\n",
       " 0.012476203053200543,\n",
       " 0.011916021530827303,\n",
       " 0.015452920168312803,\n",
       " 0.013511423990350572,\n",
       " 1.955230654498147,\n",
       " 2.5195721817803243,\n",
       " 6.744602876240037,\n",
       " 8.273438061941102,\n",
       " 8.14620316477262,\n",
       " 9.395167188809042,\n",
       " 8.920725684668598,\n",
       " 8.074214063269688,\n",
       " 8.464525096916903,\n",
       " 8.502456642011479,\n",
       " 8.47777254562916,\n",
       " 7.973622986416762,\n",
       " 8.210376927993371]"
      ]
     },
     "execution_count": 10,
     "metadata": {},
     "output_type": "execute_result"
    }
   ],
   "source": [
    "err02"
   ]
  },
  {
   "cell_type": "code",
   "execution_count": null,
   "metadata": {},
   "outputs": [],
   "source": [
    "pkl.dump(array(err02),open(\"./Data/E2.pkl\", \"wb\"))"
   ]
  }
 ],
 "metadata": {
  "kernelspec": {
   "display_name": "Heatlearn",
   "language": "python",
   "name": "heatlearn"
  },
  "orig_nbformat": 4
 },
 "nbformat": 4,
 "nbformat_minor": 2
}
