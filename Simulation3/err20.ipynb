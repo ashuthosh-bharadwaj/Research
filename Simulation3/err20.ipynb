{
 "cells": [
  {
   "cell_type": "code",
   "execution_count": 4,
   "metadata": {},
   "outputs": [
    {
     "name": "stdout",
     "output_type": "stream",
     "text": [
      "%pylab is deprecated, use %matplotlib inline and import the required libraries.\n",
      "Populating the interactive namespace from numpy and matplotlib\n"
     ]
    }
   ],
   "source": [
    "from Heat_atom_Lap import *\n",
    "%pylab inline\n",
    "from tqdm import tqdm"
   ]
  },
  {
   "cell_type": "code",
   "execution_count": 5,
   "metadata": {},
   "outputs": [],
   "source": [
    "def errget(N,s1,s2):\n",
    "    L,L_gt,s0,D = Setup2(N,s1,s2)\n",
    "    U,V = Combine([250]*20,5,L,0.001,10)\n",
    "    Lap, Cond = Learn(U,V)\n",
    "    err = (error(Lap,L_gt))[2]\n",
    "    return err "
   ]
  },
  {
   "cell_type": "code",
   "execution_count": 6,
   "metadata": {},
   "outputs": [
    {
     "name": "stderr",
     "output_type": "stream",
     "text": [
      "100%|██████████| 200/200 [01:08<00:00,  2.93it/s]\n",
      "100%|██████████| 200/200 [01:26<00:00,  2.30it/s]\n",
      "100%|██████████| 200/200 [01:52<00:00,  1.78it/s]\n",
      "100%|██████████| 200/200 [02:25<00:00,  1.37it/s]\n",
      "100%|██████████| 200/200 [03:17<00:00,  1.01it/s]\n",
      "100%|██████████| 200/200 [04:06<00:00,  1.23s/it]\n",
      "100%|██████████| 200/200 [05:11<00:00,  1.56s/it]\n",
      "100%|██████████| 200/200 [06:59<00:00,  2.10s/it]\n",
      "100%|██████████| 200/200 [08:31<00:00,  2.56s/it]\n",
      "100%|██████████| 200/200 [10:28<00:00,  3.14s/it]\n",
      "100%|██████████| 200/200 [12:52<00:00,  3.86s/it]]\n",
      "100%|██████████| 200/200 [17:05<00:00,  5.13s/it]]\n",
      "100%|██████████| 200/200 [22:09<00:00,  6.65s/it]it]\n",
      "100%|██████████| 200/200 [27:26<00:00,  8.23s/it]it]\n",
      "100%|██████████| 200/200 [32:42<00:00,  9.81s/it]/it]\n",
      "100%|██████████| 200/200 [40:37<00:00, 12.19s/it]/it]\n",
      "100%|██████████| 200/200 [49:29<00:00, 14.85s/it]/it]\n",
      "100%|██████████| 200/200 [1:00:47<00:00, 18.24s/it]t]\n",
      "100%|██████████| 200/200 [1:14:35<00:00, 22.38s/it]t]\n",
      " 86%|████████▋ | 173/200 [1:18:13<12:12, 27.13s/it]t]\n",
      " 79%|███████▉  | 19/24 [7:41:27<2:01:26, 1457.23s/it]\n"
     ]
    },
    {
     "ename": "KeyboardInterrupt",
     "evalue": "",
     "output_type": "error",
     "traceback": [
      "\u001b[0;31m---------------------------------------------------------------------------\u001b[0m",
      "\u001b[0;31mKeyboardInterrupt\u001b[0m                         Traceback (most recent call last)",
      "\u001b[1;32m/home2/ashu_bharadwaj/Research/Simulation3/err20.ipynb Cell 3\u001b[0m in \u001b[0;36m<cell line: 3>\u001b[0;34m()\u001b[0m\n\u001b[1;32m      <a href='vscode-notebook-cell://ssh-remote%2Bgnode032/home2/ashu_bharadwaj/Research/Simulation3/err20.ipynb#W3sdnNjb2RlLXJlbW90ZQ%3D%3D?line=4'>5</a>\u001b[0m \u001b[39mfor\u001b[39;00m l \u001b[39min\u001b[39;00m tqdm(\u001b[39mrange\u001b[39m(\u001b[39m200\u001b[39m)):\n\u001b[1;32m      <a href='vscode-notebook-cell://ssh-remote%2Bgnode032/home2/ashu_bharadwaj/Research/Simulation3/err20.ipynb#W3sdnNjb2RlLXJlbW90ZQ%3D%3D?line=5'>6</a>\u001b[0m     s1,s2 \u001b[39m=\u001b[39m \u001b[39mtuple\u001b[39m(random\u001b[39m.\u001b[39mrandint(\u001b[39m0\u001b[39m,\u001b[39m100\u001b[39m,\u001b[39m2\u001b[39m))\n\u001b[0;32m----> <a href='vscode-notebook-cell://ssh-remote%2Bgnode032/home2/ashu_bharadwaj/Research/Simulation3/err20.ipynb#W3sdnNjb2RlLXJlbW90ZQ%3D%3D?line=6'>7</a>\u001b[0m     r \u001b[39m+\u001b[39m\u001b[39m=\u001b[39m errget(N,s1,s2)\n\u001b[1;32m      <a href='vscode-notebook-cell://ssh-remote%2Bgnode032/home2/ashu_bharadwaj/Research/Simulation3/err20.ipynb#W3sdnNjb2RlLXJlbW90ZQ%3D%3D?line=7'>8</a>\u001b[0m erro20\u001b[39m.\u001b[39mappend(r\u001b[39m/\u001b[39m\u001b[39m200\u001b[39m)\n",
      "\u001b[1;32m/home2/ashu_bharadwaj/Research/Simulation3/err20.ipynb Cell 3\u001b[0m in \u001b[0;36merrget\u001b[0;34m(N, s1, s2)\u001b[0m\n\u001b[1;32m      <a href='vscode-notebook-cell://ssh-remote%2Bgnode032/home2/ashu_bharadwaj/Research/Simulation3/err20.ipynb#W3sdnNjb2RlLXJlbW90ZQ%3D%3D?line=1'>2</a>\u001b[0m L,L_gt,s0,D \u001b[39m=\u001b[39m Setup2(N,s1,s2)\n\u001b[1;32m      <a href='vscode-notebook-cell://ssh-remote%2Bgnode032/home2/ashu_bharadwaj/Research/Simulation3/err20.ipynb#W3sdnNjb2RlLXJlbW90ZQ%3D%3D?line=2'>3</a>\u001b[0m U,V \u001b[39m=\u001b[39m Combine([\u001b[39m250\u001b[39m]\u001b[39m*\u001b[39m\u001b[39m20\u001b[39m,\u001b[39m5\u001b[39m,L,\u001b[39m0.001\u001b[39m,\u001b[39m10\u001b[39m)\n\u001b[0;32m----> <a href='vscode-notebook-cell://ssh-remote%2Bgnode032/home2/ashu_bharadwaj/Research/Simulation3/err20.ipynb#W3sdnNjb2RlLXJlbW90ZQ%3D%3D?line=3'>4</a>\u001b[0m Lap, Cond \u001b[39m=\u001b[39m Learn(U,V)\n\u001b[1;32m      <a href='vscode-notebook-cell://ssh-remote%2Bgnode032/home2/ashu_bharadwaj/Research/Simulation3/err20.ipynb#W3sdnNjb2RlLXJlbW90ZQ%3D%3D?line=4'>5</a>\u001b[0m err \u001b[39m=\u001b[39m (error(Lap,L_gt))[\u001b[39m2\u001b[39m]\n\u001b[1;32m      <a href='vscode-notebook-cell://ssh-remote%2Bgnode032/home2/ashu_bharadwaj/Research/Simulation3/err20.ipynb#W3sdnNjb2RlLXJlbW90ZQ%3D%3D?line=5'>6</a>\u001b[0m \u001b[39mreturn\u001b[39;00m err\n",
      "File \u001b[0;32m~/Research/Simulation3/Heat_atom_Lap.py:92\u001b[0m, in \u001b[0;36mLearn\u001b[0;34m(U, V)\u001b[0m\n\u001b[1;32m     90\u001b[0m     Uu \u001b[39m=\u001b[39m U_synth2(reshape(U[:,j], (N,\u001b[39m1\u001b[39m)))\n\u001b[1;32m     91\u001b[0m     Bigu \u001b[39m=\u001b[39m append(Bigu, Uu, axis\u001b[39m=\u001b[39m\u001b[39m0\u001b[39m)\n\u001b[0;32m---> 92\u001b[0m     ranks\u001b[39m.\u001b[39mappend(linalg\u001b[39m.\u001b[39;49mmatrix_rank(Bigu))\n\u001b[1;32m     93\u001b[0m     vV \u001b[39m=\u001b[39m append(vV, V[:,j], axis\u001b[39m=\u001b[39m\u001b[39m0\u001b[39m)\n\u001b[1;32m     95\u001b[0m Lap_Learned \u001b[39m=\u001b[39m matricizer2(dot(pinv(Bigu), vV))\n",
      "File \u001b[0;32m<__array_function__ internals>:180\u001b[0m, in \u001b[0;36mmatrix_rank\u001b[0;34m(*args, **kwargs)\u001b[0m\n",
      "File \u001b[0;32m~/miniconda3/envs/Heatlearn/lib/python3.10/site-packages/numpy/linalg/linalg.py:1898\u001b[0m, in \u001b[0;36mmatrix_rank\u001b[0;34m(A, tol, hermitian)\u001b[0m\n\u001b[1;32m   1896\u001b[0m \u001b[39mif\u001b[39;00m A\u001b[39m.\u001b[39mndim \u001b[39m<\u001b[39m \u001b[39m2\u001b[39m:\n\u001b[1;32m   1897\u001b[0m     \u001b[39mreturn\u001b[39;00m \u001b[39mint\u001b[39m(\u001b[39mnot\u001b[39;00m \u001b[39mall\u001b[39m(A\u001b[39m==\u001b[39m\u001b[39m0\u001b[39m))\n\u001b[0;32m-> 1898\u001b[0m S \u001b[39m=\u001b[39m svd(A, compute_uv\u001b[39m=\u001b[39;49m\u001b[39mFalse\u001b[39;49;00m, hermitian\u001b[39m=\u001b[39;49mhermitian)\n\u001b[1;32m   1899\u001b[0m \u001b[39mif\u001b[39;00m tol \u001b[39mis\u001b[39;00m \u001b[39mNone\u001b[39;00m:\n\u001b[1;32m   1900\u001b[0m     tol \u001b[39m=\u001b[39m S\u001b[39m.\u001b[39mmax(axis\u001b[39m=\u001b[39m\u001b[39m-\u001b[39m\u001b[39m1\u001b[39m, keepdims\u001b[39m=\u001b[39m\u001b[39mTrue\u001b[39;00m) \u001b[39m*\u001b[39m \u001b[39mmax\u001b[39m(A\u001b[39m.\u001b[39mshape[\u001b[39m-\u001b[39m\u001b[39m2\u001b[39m:]) \u001b[39m*\u001b[39m finfo(S\u001b[39m.\u001b[39mdtype)\u001b[39m.\u001b[39meps\n",
      "File \u001b[0;32m<__array_function__ internals>:180\u001b[0m, in \u001b[0;36msvd\u001b[0;34m(*args, **kwargs)\u001b[0m\n",
      "File \u001b[0;32m~/miniconda3/envs/Heatlearn/lib/python3.10/site-packages/numpy/linalg/linalg.py:1669\u001b[0m, in \u001b[0;36msvd\u001b[0;34m(a, full_matrices, compute_uv, hermitian)\u001b[0m\n\u001b[1;32m   1666\u001b[0m     gufunc \u001b[39m=\u001b[39m _umath_linalg\u001b[39m.\u001b[39msvd_n\n\u001b[1;32m   1668\u001b[0m signature \u001b[39m=\u001b[39m \u001b[39m'\u001b[39m\u001b[39mD->d\u001b[39m\u001b[39m'\u001b[39m \u001b[39mif\u001b[39;00m isComplexType(t) \u001b[39melse\u001b[39;00m \u001b[39m'\u001b[39m\u001b[39md->d\u001b[39m\u001b[39m'\u001b[39m\n\u001b[0;32m-> 1669\u001b[0m s \u001b[39m=\u001b[39m gufunc(a, signature\u001b[39m=\u001b[39;49msignature, extobj\u001b[39m=\u001b[39;49mextobj)\n\u001b[1;32m   1670\u001b[0m s \u001b[39m=\u001b[39m s\u001b[39m.\u001b[39mastype(_realType(result_t), copy\u001b[39m=\u001b[39m\u001b[39mFalse\u001b[39;00m)\n\u001b[1;32m   1671\u001b[0m \u001b[39mreturn\u001b[39;00m s\n",
      "\u001b[0;31mKeyboardInterrupt\u001b[0m: "
     ]
    }
   ],
   "source": [
    "erro20 = []\n",
    " \n",
    "for N in tqdm(range(2,26)):\n",
    "    r = 0\n",
    "    for l in tqdm(range(200)):\n",
    "        s1,s2 = tuple(random.randint(0,100,2))\n",
    "        r += errget(N,s1,s2)\n",
    "    erro20.append(r/200) "
   ]
  },
  {
   "cell_type": "code",
   "execution_count": 8,
   "metadata": {},
   "outputs": [
    {
     "data": {
      "text/plain": [
       "19"
      ]
     },
     "execution_count": 8,
     "metadata": {},
     "output_type": "execute_result"
    }
   ],
   "source": [
    "len(erro20)"
   ]
  },
  {
   "cell_type": "code",
   "execution_count": 9,
   "metadata": {},
   "outputs": [],
   "source": [
    "pkl.dump(array(erro20),open(\"./Data/E20.pkl\", \"wb\"))"
   ]
  },
  {
   "cell_type": "code",
   "execution_count": 10,
   "metadata": {},
   "outputs": [
    {
     "data": {
      "text/plain": [
       "[0.002195586554183593,\n",
       " 0.0075151388602454385,\n",
       " 0.009421624384172928,\n",
       " 0.012336689127346891,\n",
       " 0.013888527585386654,\n",
       " 0.015148235156920136,\n",
       " 0.017919434506010256,\n",
       " 0.018824624685695575,\n",
       " 0.022725864694916987,\n",
       " 0.024275968763139536,\n",
       " 0.02530918698800546,\n",
       " 0.027418999188626943,\n",
       " 0.029260917890420655,\n",
       " 0.031579143515659075,\n",
       " 0.03341173002520693,\n",
       " 0.0350955868566185,\n",
       " 0.037221005388551325,\n",
       " 0.03715443371590385,\n",
       " 0.04292939605216259]"
      ]
     },
     "execution_count": 10,
     "metadata": {},
     "output_type": "execute_result"
    }
   ],
   "source": [
    "erro20"
   ]
  }
 ],
 "metadata": {
  "kernelspec": {
   "display_name": "Heatlearn",
   "language": "python",
   "name": "heatlearn"
  },
  "language_info": {
   "codemirror_mode": {
    "name": "ipython",
    "version": 3
   },
   "file_extension": ".py",
   "mimetype": "text/x-python",
   "name": "python",
   "nbconvert_exporter": "python",
   "pygments_lexer": "ipython3",
   "version": "3.10.6"
  },
  "orig_nbformat": 4
 },
 "nbformat": 4,
 "nbformat_minor": 2
}
