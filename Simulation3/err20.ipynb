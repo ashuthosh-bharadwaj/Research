{
 "cells": [
  {
   "cell_type": "code",
   "execution_count": 1,
   "metadata": {},
   "outputs": [
    {
     "name": "stdout",
     "output_type": "stream",
     "text": [
      "%pylab is deprecated, use %matplotlib inline and import the required libraries.\n",
      "Populating the interactive namespace from numpy and matplotlib\n"
     ]
    }
   ],
   "source": [
    "from Heat_atom_Lap import *\n",
    "%pylab inline\n",
    "from tqdm import tqdm"
   ]
  },
  {
   "cell_type": "code",
   "execution_count": 21,
   "metadata": {},
   "outputs": [],
   "source": [
    "def errget(N,s1,s2):\n",
    "    L,L_gt,s0,D = Setup2(N,s1,s2)\n",
    "    U,V = Combine(s2,[250]*10,5,L,0.001,10)\n",
    "    Lap, Cond = Learn(U,V)\n",
    "    err = (error(Lap,L_gt))[2]\n",
    "    return err "
   ]
  },
  {
   "cell_type": "code",
   "execution_count": 22,
   "metadata": {},
   "outputs": [
    {
     "name": "stderr",
     "output_type": "stream",
     "text": [
      "100%|██████████| 50/50 [00:09<00:00,  5.26it/s]\n",
      "100%|██████████| 50/50 [00:11<00:00,  4.52it/s]\n",
      "100%|██████████| 50/50 [00:13<00:00,  3.57it/s]\n",
      "100%|██████████| 50/50 [00:18<00:00,  2.72it/s]\n",
      "100%|██████████| 50/50 [00:23<00:00,  2.15it/s]\n",
      "100%|██████████| 50/50 [00:34<00:00,  1.44it/s]\n",
      "100%|██████████| 50/50 [00:35<00:00,  1.40it/s]\n",
      "100%|██████████| 50/50 [00:47<00:00,  1.05it/s]\n",
      "100%|██████████| 50/50 [01:00<00:00,  1.21s/it]\n",
      "100%|██████████| 50/50 [01:13<00:00,  1.46s/it]\n",
      "100%|██████████| 50/50 [01:20<00:00,  1.60s/it]\n",
      "100%|██████████| 50/50 [01:49<00:00,  2.19s/it]\n",
      "100%|██████████| 50/50 [02:15<00:00,  2.70s/it]\n",
      "100%|██████████| 50/50 [02:33<00:00,  3.07s/it]\n",
      "100%|██████████| 50/50 [03:08<00:00,  3.76s/it]]\n",
      "100%|██████████| 50/50 [04:06<00:00,  4.93s/it]]\n",
      "100%|██████████| 50/50 [04:56<00:00,  5.94s/it]]\n",
      "100%|██████████| 50/50 [05:45<00:00,  6.90s/it]]\n",
      "100%|██████████| 50/50 [06:56<00:00,  8.33s/it]]\n",
      "100%|██████████| 19/19 [38:19<00:00, 121.01s/it]\n"
     ]
    }
   ],
   "source": [
    "erro10= []\n",
    " \n",
    "for N in tqdm(range(2,21)):\n",
    "    r = 0\n",
    "    for l in tqdm(range(50)):\n",
    "        s1,s2 = l, l+200\n",
    "        r += errget(N,s1,s2)\n",
    "    erro10.append(r/50) "
   ]
  },
  {
   "cell_type": "code",
   "execution_count": 23,
   "metadata": {},
   "outputs": [
    {
     "data": {
      "text/plain": [
       "[0.004090655338838427,\n",
       " 0.007119168736381301,\n",
       " 0.009608825321351265,\n",
       " 0.01168999160309288,\n",
       " 0.013935231619623673,\n",
       " 0.01572990417065251,\n",
       " 0.01784534545973882,\n",
       " 0.019991173802901736,\n",
       " 0.02206356814444232,\n",
       " 0.023813729828716212,\n",
       " 0.025898520719090344,\n",
       " 0.027706896417613563,\n",
       " 0.029632840230256904,\n",
       " 0.031387051843541874,\n",
       " 0.03331427560401836,\n",
       " 0.03527040775542121,\n",
       " 0.03712381111791443,\n",
       " 0.03893074094789621,\n",
       " 0.04099401652879117]"
      ]
     },
     "execution_count": 23,
     "metadata": {},
     "output_type": "execute_result"
    }
   ],
   "source": [
    "erro10"
   ]
  },
  {
   "cell_type": "code",
   "execution_count": 19,
   "metadata": {},
   "outputs": [],
   "source": [
    "pkl.dump(array(erro10),open(\"./Data/E10_1.pkl\", \"wb\"))"
   ]
  }
 ],
 "metadata": {
  "kernelspec": {
   "display_name": "Heatlearn",
   "language": "python",
   "name": "heatlearn"
  },
  "language_info": {
   "codemirror_mode": {
    "name": "ipython",
    "version": 3
   },
   "file_extension": ".py",
   "mimetype": "text/x-python",
   "name": "python",
   "nbconvert_exporter": "python",
   "pygments_lexer": "ipython3",
   "version": "3.10.6"
  },
  "orig_nbformat": 4
 },
 "nbformat": 4,
 "nbformat_minor": 2
}
