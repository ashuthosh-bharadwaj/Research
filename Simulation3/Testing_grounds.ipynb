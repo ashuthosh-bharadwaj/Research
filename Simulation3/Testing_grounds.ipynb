{
 "cells": [
  {
   "cell_type": "code",
   "execution_count": 1,
   "metadata": {},
   "outputs": [
    {
     "name": "stdout",
     "output_type": "stream",
     "text": [
      "Populating the interactive namespace from numpy and matplotlib\n"
     ]
    }
   ],
   "source": [
    "from Heat_atom_Lap import *\n",
    "%pylab inline"
   ]
  },
  {
   "cell_type": "code",
   "execution_count": 2,
   "metadata": {},
   "outputs": [
    {
     "data": {
      "text/plain": [
       "0.0037611481676624436"
      ]
     },
     "execution_count": 2,
     "metadata": {},
     "output_type": "execute_result"
    },
    {
     "data": {
      "image/png": "[encoded data removed]",
      "text/plain": [
       "<Figure size 288x288 with 1 Axes>"
      ]
     },
     "metadata": {
      "needs_background": "light"
     },
     "output_type": "display_data"
    },
    {
     "data": {
      "image/png": "[encoded data removed]",
      "text/plain": [
       "<Figure size 288x288 with 1 Axes>"
      ]
     },
     "metadata": {
      "needs_background": "light"
     },
     "output_type": "display_data"
    }
   ],
   "source": [
    "L,L_gt,s0,D = Setup(4)\n",
    "U,V = Combine([250]*10,3,L,0.001,10)\n",
    "Lap, Cond = Learn(U,V)\n",
    "err = (ErrCheck(Lap,L_gt))[2]\n",
    "err"
   ]
  },
  {
   "cell_type": "code",
   "execution_count": 3,
   "metadata": {},
   "outputs": [],
   "source": [
    "# condlist = []\n",
    "# AdjList = []\n",
    "# for i in range(2,15):\n",
    "#     L, A_gt, s0,D = Setup(i)\n",
    "#     Samples, T = CreateNoisySamples(L,s0,0.001,1e-5,10)\n",
    "#     sk, dk = Resample(3,Samples,0.001)\n",
    "#     U,V = UVmatrix(T,sk,dk,3,D)\n",
    "#     Adj, Cond = Learn(U,V)\n",
    "#     Adj_le, A_gt, err = ErrCheck(Adj, A_gt)\n",
    "#     err\n",
    "#     AdjList.append([Adj_le,A_gt])\n",
    "#     condlist.append(Cond)"
   ]
  },
  {
   "cell_type": "code",
   "execution_count": null,
   "metadata": {},
   "outputs": [],
   "source": [
    "# for k in range():\n",
    "#     subplot(14,2,k+1)\n",
    "#     matshow((AdjList[k])[0])"
   ]
  },
  {
   "cell_type": "code",
   "execution_count": 12,
   "metadata": {},
   "outputs": [
    {
     "data": {
      "text/plain": [
       "[<matplotlib.lines.Line2D at 0x272fca33460>]"
      ]
     },
     "execution_count": 12,
     "metadata": {},
     "output_type": "execute_result"
    },
    {
     "data": {
      "image/png": "[encoded data removed]",
      "text/plain": [
       "<Figure size 432x288 with 1 Axes>"
      ]
     },
     "metadata": {
      "needs_background": "light"
     },
     "output_type": "display_data"
    }
   ],
   "source": [
    "# plot(condlist)"
   ]
  },
  {
   "cell_type": "code",
   "execution_count": 3,
   "metadata": {},
   "outputs": [],
   "source": [
    "# L, A_gt, s0,D = Setup(10)\n",
    "# Samples, T = CreateNoisySamples(L,s0,0.001,1e-5,10)\n",
    "# sk, dk = Resample(3,Samples,0.001)\n",
    "# U,V = UVmatrix(T,sk,dk,3,D)\n",
    "# Adj, Cond = Learn(U,V)\n",
    "# Adj_le, A_gt, err = ErrCheck(Adj, A_gt)\n",
    "# err"
   ]
  },
  {
   "cell_type": "code",
   "execution_count": null,
   "metadata": {},
   "outputs": [],
   "source": [
    "# L, A_gt, s0,D = Setup(10)\n",
    "# Samples = Combine([250]*5,L,0.001,10)\n",
    "# T = sum(1250)\n",
    "# sk, dk = Resample(3,Samples,0.001)\n",
    "# U,V = UVmatrix(T,sk,dk,3,D)\n",
    "# Adj, Cond = Learn(U,V)\n",
    "# Adj_le, A_gt, err = ErrCheck(Adj, A_gt)\n",
    "# err"
   ]
  },
  {
   "cell_type": "code",
   "execution_count": null,
   "metadata": {},
   "outputs": [],
   "source": [
    "# L, A_gt, s0,D = Setup(10)\n",
    "# Samples, T = CreateNoisySamples(L,s0,0.001,1e-5,10)\n",
    "# sk, dk = Resample(3,Samples,0.001)\n",
    "# U,V = UVmatrix(T,sk,dk,3,D)\n",
    "# Adj, Cond = Learn(U,V)\n",
    "# Adj_le, A_gt, err = ErrCheck(Adj, A_gt)\n",
    "# err"
   ]
  },
  {
   "cell_type": "code",
   "execution_count": 3,
   "metadata": {},
   "outputs": [],
   "source": [
    "# class Some_Matrices():\n",
    "    \n",
    "#     def vec(A):\n",
    "#         return A.flatten('F')\n",
    "\n",
    "#     def E_Matrices(n):\n",
    "#         I = eye(n)\n",
    "#         E = {(i,j):dot(I[:,i].reshape(n,1),I[:,j].T.reshape(1,n)) for i in range(n) for j in range(n)}\n",
    "#         return E\n",
    "\n",
    "#     def T_Matrices(n):\n",
    "#         E_inst = Some_Matrices.E_Matrices(n)\n",
    "#         T = {(i,j): (E_inst[(i,j)] if i == j else E_inst[(i,j)] + E_inst[(j,i)]) for i in range(n) for j in range(n)}\n",
    "#         return T \n",
    "    \n",
    "#     def u_vecs(n):\n",
    "#         I_nh = eye(n*(n+1)//2)\n",
    "#         u = {(i,j): I_nh[:, int((j)*n + (i+1) - 0.5*(j+1)*j -1)] for i in range(n) for j in range(n)}\n",
    "#         return u \n",
    "    \n",
    "#     def D_Matrix(n):\n",
    "#         num = n*(n+1)//2\n",
    "#         DT = zeros((num,n**2))\n",
    "#         T_inst = Some_Matrices.T_Matrices(n)\n",
    "#         u_inst = Some_Matrices.u_vecs(n)\n",
    "\n",
    "#         for j in range(n):\n",
    "#             for i in range(j,n):\n",
    "#                 DT = DT + ((u_inst[(i,j)]).reshape(num,1)).dot(((Some_Matrices.vec(T_inst[(i,j)])).T).reshape(1,n**2))\n",
    "#         D = DT.T\n",
    "#         return D\n",
    "    \n",
    "#     def make_mat(c,n):\n",
    "#         fullc = zeros((n,n))\n",
    "#         for i in range(n):\n",
    "#             fullc[:,i] = c[i:i+n]\n",
    "#         return fullc"
   ]
  },
  {
   "cell_type": "code",
   "execution_count": 13,
   "metadata": {},
   "outputs": [],
   "source": [
    "# Dy = Some_Matrices.D_Matrix(4)\n",
    "# hL = pinv((kron(U.T,eye(4))).dot(Dy)).dot(Some_Matrices.vec(V))\n",
    "# LL = Some_Matrices.vec(L_gt)\n",
    "# fullL = Dy.dot(hL)\n",
    "# LLL = Some_Matrices.make_mat(fullL,4)"
   ]
  },
  {
   "cell_type": "code",
   "execution_count": 9,
   "metadata": {},
   "outputs": [],
   "source": [
    "import numpy as np\n",
    "\n",
    "def Elim(n):\n",
    "    '''\n",
    "    Arguments:\n",
    "    n: integer >=2\n",
    "    Returns:\n",
    "    Numpy array of dimensions n(n+1)/2 x n**2\n",
    "    '''\n",
    "    if type(n) != int:\n",
    "        print('Incorrect type')\n",
    "        sys.exit()\n",
    "    if n <=2 :\n",
    "        print('n is less than 2')\n",
    "\n",
    "    k, I = u_vectors(n)\n",
    "\n",
    "    E =  E_matrices(n)\n",
    "    p = n*(n+1)//2\n",
    "    nsquare = n**2\n",
    "    \n",
    "    L = np.zeros((p,nsquare))\n",
    "    for j in range(0,n):\n",
    "        for i in range(j,n):\n",
    "            L = L + np.matmul(I[np.ix_(np.arange(0,len(I)),[int(k[i][j])])],\n",
    "                              E[i][j].reshape((-1,1),order='F').transpose())\n",
    "\n",
    "    return L\n",
    "\n",
    "\n",
    "def DD(n):\n",
    "    '''\n",
    "    Arguments:\n",
    "    n: integer >=2\n",
    "    Returns:\n",
    "    Numpy array of dimensions n**2 x n(n+1)/2\n",
    "    '''\n",
    "    if type(n) != int:\n",
    "        print('Incorrect type')\n",
    "        sys.exit()\n",
    "    if n <=2 :\n",
    "        print('n is less than 2')\n",
    "    \n",
    "    p = n*(n+1)//2\n",
    "    nsquare = n**2\n",
    "    Dt = np.zeros((p,nsquare))\n",
    "    k, I = u_vectors(n)\n",
    "    T = T_matrices(n)\n",
    "    for j in range(0,n):\n",
    "        for i in range(j,n):\n",
    "            Dt = Dt + np.matmul(I[np.ix_(np.arange(0,len(I)),[int(k[i][j])])],\n",
    "                              T[i][j].reshape((-1,1),order='F').transpose())\n",
    "    D = Dt.transpose()\n",
    "    return D\n",
    "\n",
    "def T_matrices(n):\n",
    "    E = E_matrices(n)\n",
    "    T = list()\n",
    "    for i in range(0,n):\n",
    "        T.append(list())\n",
    "        for j in range(0,n):\n",
    "            if i==j:\n",
    "                T[-1].append(E[i][j])\n",
    "            else:\n",
    "                T[-1].append(E[i][j] + E[j][i])\n",
    "    return T\n",
    "                \n",
    "def u_vectors(n):\n",
    "    p = n*(n+1)//2\n",
    "    I = np.eye(p)\n",
    "    k = np.zeros((n,n))\n",
    "    \n",
    "    for j in range(1,n+1):\n",
    "        for i in range(j,n+1):\n",
    "            k[i-1][j-1] = int((j-1)*n + i -0.5*(j)*(j-1)) -1\n",
    "    return k, I\n",
    "\n",
    "\n",
    "def E_matrices(n):\n",
    "    I = np.eye(n)\n",
    "    #print(I)\n",
    "    E = list()\n",
    "    for i in range(0,n):\n",
    "        E.append(list())\n",
    "        for j in range(0,n):\n",
    "            E[-1].append(np.outer(I[i],I[j]))\n",
    "    return E\n",
    "\n",
    "def vec(A):\n",
    "    return A.flatten('F')"
   ]
  },
  {
   "cell_type": "code",
   "execution_count": 11,
   "metadata": {},
   "outputs": [],
   "source": [
    "Dup = DD(4)\n",
    "hL = pinv((np.kron(U.T,np.eye(4))).dot(Dup)).dot(vec(V))\n",
    "Ldone = matricizer2(hL)"
   ]
  }
 ],
 "metadata": {
  "kernelspec": {
   "display_name": "Python 3.9.9 64-bit",
   "language": "python",
   "name": "python3"
  },
  "language_info": {
   "codemirror_mode": {
    "name": "ipython",
    "version": 3
   },
   "file_extension": ".py",
   "mimetype": "text/x-python",
   "name": "python",
   "nbconvert_exporter": "python",
   "pygments_lexer": "ipython3",
   "version": "3.9.9"
  },
  "orig_nbformat": 4,
  "vscode": {
   "interpreter": {
    "hash": "d28cfe9b801dc90300b9fc0f66b03165a7e2df121cf51f00b207dbb24586521e"
   }
  }
 },
 "nbformat": 4,
 "nbformat_minor": 2
}
