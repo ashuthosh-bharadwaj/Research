{
 "cells": [
  {
   "cell_type": "code",
   "execution_count": 1,
   "metadata": {},
   "outputs": [
    {
     "name": "stdout",
     "output_type": "stream",
     "text": [
      "%pylab is deprecated, use %matplotlib inline and import the required libraries.\n",
      "Populating the interactive namespace from numpy and matplotlib\n"
     ]
    }
   ],
   "source": [
    "from Heat_atom_Lap import *\n",
    "from Closedform import *\n",
    "%pylab inline"
   ]
  },
  {
   "cell_type": "code",
   "execution_count": 2,
   "metadata": {},
   "outputs": [],
   "source": [
    "def errget(N,s1,s2):\n",
    "    L,L_gt,s0,D = Setup2(N,s1,s2)\n",
    "    U,V = Combine([250]*10,5,L,0.001,10)\n",
    "    Lap, Cond = Learn(U,V)\n",
    "    err = (error(Lap,L_gt))[2]\n",
    "    return err "
   ]
  },
  {
   "cell_type": "code",
   "execution_count": 3,
   "metadata": {},
   "outputs": [],
   "source": [
    "errors = []\n",
    " \n",
    "for N in range(2,26):\n",
    "    r = 0\n",
    "    for l in range(50):\n",
    "        s1,s2 = tuple(random.randint(0,100,2))\n",
    "        r += errget(N,s1,s2)\n",
    "    errors.append(r/50) "
   ]
  },
  {
   "cell_type": "code",
   "execution_count": 5,
   "metadata": {},
   "outputs": [
    {
     "data": {
      "text/plain": [
       "[0.0033061465826087154,\n",
       " 0.008263934096030236,\n",
       " 0.00948654794180987,\n",
       " 0.01232096379419847,\n",
       " 0.013590427408926426,\n",
       " 0.01597354301292628,\n",
       " 0.018099559370287923,\n",
       " 0.01951182970447477,\n",
       " 0.022197096079234365,\n",
       " 0.023718083055364367,\n",
       " 0.024769773113352156,\n",
       " 0.02776534736362741,\n",
       " 0.029687854471689513,\n",
       " 0.034097254180741984,\n",
       " 0.03286455657227798,\n",
       " 0.03507134777602035,\n",
       " 0.03800434424596615,\n",
       " 0.03995683934644398,\n",
       " 0.04124498076123485,\n",
       " 0.04267628701376273,\n",
       " 0.0444975685924154,\n",
       " 0.045687360591396865,\n",
       " 0.0480128014273367,\n",
       " 0.049862130100816325]"
      ]
     },
     "execution_count": 5,
     "metadata": {},
     "output_type": "execute_result"
    }
   ],
   "source": [
    "errors"
   ]
  },
  {
   "cell_type": "code",
   "execution_count": null,
   "metadata": {},
   "outputs": [],
   "source": [
    "# Dup = DD(4)\n",
    "# hL = pinv((np.kron(U.T,np.eye(4))).dot(Dup)).dot(vec(V))\n",
    "# Ldone = matricizer2(hL)"
   ]
  },
  {
   "cell_type": "code",
   "execution_count": 6,
   "metadata": {},
   "outputs": [],
   "source": [
    "pkl.dump(array(errors), open(\"./Data/EvN.pkl\", \"wb\"))"
   ]
  },
  {
   "cell_type": "code",
   "execution_count": 3,
   "metadata": {},
   "outputs": [],
   "source": [
    "# condlist = []\n",
    "# AdjList = []\n",
    "# for i in range(2,15):\n",
    "#     L, A_gt, s0,D = Setup(i)\n",
    "#     Samples, T = CreateNoisySamples(L,s0,0.001,1e-5,10)\n",
    "#     sk, dk = Resample(3,Samples,0.001)\n",
    "#     U,V = UVmatrix(T,sk,dk,3,D)\n",
    "#     Adj, Cond = Learn(U,V)\n",
    "#     Adj_le, A_gt, err = ErrCheck(Adj, A_gt)\n",
    "#     err\n",
    "#     AdjList.append([Adj_le,A_gt])\n",
    "#     condlist.append(Cond)"
   ]
  },
  {
   "cell_type": "code",
   "execution_count": null,
   "metadata": {},
   "outputs": [],
   "source": [
    "# for k in range():\n",
    "#     subplot(14,2,k+1)\n",
    "#     matshow((AdjList[k])[0])"
   ]
  },
  {
   "cell_type": "code",
   "execution_count": 12,
   "metadata": {},
   "outputs": [
    {
     "data": {
      "text/plain": [
       "[<matplotlib.lines.Line2D at 0x272fca33460>]"
      ]
     },
     "execution_count": 12,
     "metadata": {},
     "output_type": "execute_result"
    },
    {
     "data": {
      "image/png": "[encoded data removed]",
      "text/plain": [
       "<Figure size 432x288 with 1 Axes>"
      ]
     },
     "metadata": {
      "needs_background": "light"
     },
     "output_type": "display_data"
    }
   ],
   "source": [
    "# plot(condlist)"
   ]
  },
  {
   "cell_type": "code",
   "execution_count": 3,
   "metadata": {},
   "outputs": [],
   "source": [
    "# L, A_gt, s0,D = Setup(10)\n",
    "# Samples, T = CreateNoisySamples(L,s0,0.001,1e-5,10)\n",
    "# sk, dk = Resample(3,Samples,0.001)\n",
    "# U,V = UVmatrix(T,sk,dk,3,D)\n",
    "# Adj, Cond = Learn(U,V)\n",
    "# Adj_le, A_gt, err = ErrCheck(Adj, A_gt)\n",
    "# err"
   ]
  },
  {
   "cell_type": "code",
   "execution_count": null,
   "metadata": {},
   "outputs": [],
   "source": [
    "# L, A_gt, s0,D = Setup(10)\n",
    "# Samples = Combine([250]*5,L,0.001,10)\n",
    "# T = sum(1250)\n",
    "# sk, dk = Resample(3,Samples,0.001)\n",
    "# U,V = UVmatrix(T,sk,dk,3,D)\n",
    "# Adj, Cond = Learn(U,V)\n",
    "# Adj_le, A_gt, err = ErrCheck(Adj, A_gt)\n",
    "# err"
   ]
  },
  {
   "cell_type": "code",
   "execution_count": null,
   "metadata": {},
   "outputs": [],
   "source": [
    "# L, A_gt, s0,D = Setup(10)\n",
    "# Samples, T = CreateNoisySamples(L,s0,0.001,1e-5,10)\n",
    "# sk, dk = Resample(3,Samples,0.001)\n",
    "# U,V = UVmatrix(T,sk,dk,3,D)\n",
    "# Adj, Cond = Learn(U,V)\n",
    "# Adj_le, A_gt, err = ErrCheck(Adj, A_gt)\n",
    "# err"
   ]
  },
  {
   "cell_type": "code",
   "execution_count": 3,
   "metadata": {},
   "outputs": [],
   "source": [
    "# class Some_Matrices():\n",
    "    \n",
    "#     def vec(A):\n",
    "#         return A.flatten('F')\n",
    "\n",
    "#     def E_Matrices(n):\n",
    "#         I = eye(n)\n",
    "#         E = {(i,j):dot(I[:,i].reshape(n,1),I[:,j].T.reshape(1,n)) for i in range(n) for j in range(n)}\n",
    "#         return E\n",
    "\n",
    "#     def T_Matrices(n):\n",
    "#         E_inst = Some_Matrices.E_Matrices(n)\n",
    "#         T = {(i,j): (E_inst[(i,j)] if i == j else E_inst[(i,j)] + E_inst[(j,i)]) for i in range(n) for j in range(n)}\n",
    "#         return T \n",
    "    \n",
    "#     def u_vecs(n):\n",
    "#         I_nh = eye(n*(n+1)//2)\n",
    "#         u = {(i,j): I_nh[:, int((j)*n + (i+1) - 0.5*(j+1)*j -1)] for i in range(n) for j in range(n)}\n",
    "#         return u \n",
    "    \n",
    "#     def D_Matrix(n):\n",
    "#         num = n*(n+1)//2\n",
    "#         DT = zeros((num,n**2))\n",
    "#         T_inst = Some_Matrices.T_Matrices(n)\n",
    "#         u_inst = Some_Matrices.u_vecs(n)\n",
    "\n",
    "#         for j in range(n):\n",
    "#             for i in range(j,n):\n",
    "#                 DT = DT + ((u_inst[(i,j)]).reshape(num,1)).dot(((Some_Matrices.vec(T_inst[(i,j)])).T).reshape(1,n**2))\n",
    "#         D = DT.T\n",
    "#         return D\n",
    "    \n",
    "#     def make_mat(c,n):\n",
    "#         fullc = zeros((n,n))\n",
    "#         for i in range(n):\n",
    "#             fullc[:,i] = c[i:i+n]\n",
    "#         return fullc"
   ]
  },
  {
   "cell_type": "code",
   "execution_count": 13,
   "metadata": {},
   "outputs": [],
   "source": [
    "# Dy = Some_Matrices.D_Matrix(4)\n",
    "# hL = pinv((kron(U.T,eye(4))).dot(Dy)).dot(Some_Matrices.vec(V))\n",
    "# LL = Some_Matrices.vec(L_gt)\n",
    "# fullL = Dy.dot(hL)\n",
    "# LLL = Some_Matrices.make_mat(fullL,4)"
   ]
  }
 ],
 "metadata": {
  "kernelspec": {
   "display_name": "Heatlearn",
   "language": "python",
   "name": "heatlearn"
  },
  "orig_nbformat": 4,
  "vscode": {
   "interpreter": {
    "hash": "d28cfe9b801dc90300b9fc0f66b03165a7e2df121cf51f00b207dbb24586521e"
   }
  }
 },
 "nbformat": 4,
 "nbformat_minor": 2
}
