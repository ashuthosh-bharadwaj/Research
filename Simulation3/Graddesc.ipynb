{
 "cells": [
  {
   "cell_type": "code",
   "execution_count": 1,
   "metadata": {},
   "outputs": [
    {
     "name": "stdout",
     "output_type": "stream",
     "text": [
      "%pylab is deprecated, use %matplotlib inline and import the required libraries.\n",
      "Populating the interactive namespace from numpy and matplotlib\n"
     ]
    }
   ],
   "source": [
    "from Heat_atom_Lap import *\n",
    "%pylab inline"
   ]
  },
  {
   "cell_type": "code",
   "execution_count": 2,
   "metadata": {},
   "outputs": [],
   "source": [
    "from tqdm import tqdm"
   ]
  },
  {
   "cell_type": "code",
   "execution_count": 3,
   "metadata": {},
   "outputs": [],
   "source": [
    "def errget(N,s1,s2):\n",
    "    L,L_gt,s0,D = Setup2(N,s1,s2)\n",
    "    U,V = Combine([250]*5,5,L,0.001,10)\n",
    "    Lap, Cond = Learn(U,V)\n",
    "    err = (error(Lap,L_gt))[2]\n",
    "    return err"
   ]
  },
  {
   "cell_type": "code",
   "execution_count": 4,
   "metadata": {},
   "outputs": [
    {
     "name": "stderr",
     "output_type": "stream",
     "text": [
      "100%|██████████| 50/50 [00:05<00:00,  9.60it/s]\n",
      "100%|██████████| 50/50 [00:05<00:00,  8.49it/s]\n",
      "100%|██████████| 50/50 [00:06<00:00,  7.19it/s]\n",
      "100%|██████████| 50/50 [00:08<00:00,  5.95it/s]\n",
      "100%|██████████| 50/50 [00:10<00:00,  4.91it/s]\n",
      "100%|██████████| 50/50 [00:12<00:00,  4.01it/s]\n",
      "100%|██████████| 50/50 [00:14<00:00,  3.41it/s]\n",
      "100%|██████████| 50/50 [00:17<00:00,  2.82it/s]\n",
      "100%|██████████| 50/50 [00:21<00:00,  2.35it/s]\n",
      "100%|██████████| 50/50 [00:26<00:00,  1.91it/s]\n",
      "100%|██████████| 50/50 [00:30<00:00,  1.64it/s]\n",
      "100%|██████████| 50/50 [00:36<00:00,  1.37it/s]\n",
      "100%|██████████| 50/50 [00:43<00:00,  1.16it/s]\n",
      "100%|██████████| 50/50 [00:52<00:00,  1.04s/it]\n",
      "100%|██████████| 50/50 [01:01<00:00,  1.22s/it]\n",
      "100%|██████████| 50/50 [01:17<00:00,  1.55s/it]\n",
      "100%|██████████| 50/50 [01:32<00:00,  1.84s/it]\n",
      "100%|██████████| 50/50 [01:48<00:00,  2.18s/it]\n",
      "100%|██████████| 50/50 [02:13<00:00,  2.67s/it]\n",
      "100%|██████████| 50/50 [12:50<00:00, 15.41s/it]\n",
      "100%|██████████| 50/50 [27:06<00:00, 32.53s/it]]\n",
      "100%|██████████| 50/50 [15:52<00:00, 19.04s/it]]\n",
      "100%|██████████| 50/50 [04:32<00:00,  5.46s/it]it]\n",
      "100%|██████████| 50/50 [05:22<00:00,  6.45s/it]it]\n",
      "100%|██████████| 24/24 [1:18:28<00:00, 196.20s/it]\n"
     ]
    }
   ],
   "source": [
    "erro5 = []\n",
    " \n",
    "for N in tqdm(range(2,26)):\n",
    "    r = 0\n",
    "    for l in tqdm(range(50)):\n",
    "        s1,s2 = tuple(random.randint(0,100,2))\n",
    "        r += errget(N,s1,s2)\n",
    "    erro5.append(r/50)"
   ]
  },
  {
   "cell_type": "code",
   "execution_count": 5,
   "metadata": {},
   "outputs": [
    {
     "data": {
      "text/plain": [
       "[0.004403502427959441,\n",
       " 0.0073617272020740495,\n",
       " 0.009521383309536063,\n",
       " 0.012833382913309477,\n",
       " 0.012853092406637408,\n",
       " 0.013055535359966942,\n",
       " 0.017752016838079213,\n",
       " 0.018118168234417826,\n",
       " 0.021774208065537,\n",
       " 0.02347448932112619,\n",
       " 0.024906905070644234,\n",
       " 0.02728078353439802,\n",
       " 0.029167215847157896,\n",
       " 0.031354262672465,\n",
       " 0.03385531387955605,\n",
       " 0.05399497893599471,\n",
       " 0.12070281470849614,\n",
       " 0.0954097378650458,\n",
       " 1.0815841341548544,\n",
       " 1.1764594468443663,\n",
       " 1.6856591515712862,\n",
       " 2.2647511207251227,\n",
       " 2.4628066096621932,\n",
       " 2.7356869639810126]"
      ]
     },
     "execution_count": 5,
     "metadata": {},
     "output_type": "execute_result"
    }
   ],
   "source": [
    "erro5"
   ]
  },
  {
   "cell_type": "code",
   "execution_count": null,
   "metadata": {},
   "outputs": [],
   "source": [
    "pkl.dump(array(erro5),open(\"./Data/EVN_n5.pkl\", \"wb\"))"
   ]
  }
 ],
 "metadata": {
  "kernelspec": {
   "display_name": "Heatlearn",
   "language": "python",
   "name": "heatlearn"
  },
  "orig_nbformat": 4,
  "vscode": {
   "interpreter": {
    "hash": "d28cfe9b801dc90300b9fc0f66b03165a7e2df121cf51f00b207dbb24586521e"
   }
  }
 },
 "nbformat": 4,
 "nbformat_minor": 2
}
