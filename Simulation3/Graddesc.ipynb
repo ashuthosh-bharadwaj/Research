{
 "cells": [
  {
   "cell_type": "code",
   "execution_count": 1,
   "metadata": {},
   "outputs": [
    {
     "name": "stdout",
     "output_type": "stream",
     "text": [
      "%pylab is deprecated, use %matplotlib inline and import the required libraries.\n",
      "Populating the interactive namespace from numpy and matplotlib\n"
     ]
    }
   ],
   "source": [
    "from Heat_atom_Lap import *\n",
    "%pylab inline"
   ]
  },
  {
   "cell_type": "code",
   "execution_count": 12,
   "metadata": {},
   "outputs": [],
   "source": [
    "def errget(N,s1,s2):\n",
    "    L,L_gt,s0,D = Setup2(N,s1,s2)\n",
    "    U,V = Combine([250]*10,5,L,0.001,10)\n",
    "    Lap, Cond = Learn(U,V)\n",
    "    err = (error(Lap,L_gt))[2]\n",
    "    return err"
   ]
  },
  {
   "cell_type": "code",
   "execution_count": 16,
   "metadata": {},
   "outputs": [
    {
     "ename": "ModuleNotFoundError",
     "evalue": "No module named 'tqdm'",
     "output_type": "error",
     "traceback": [
      "\u001b[0;31m---------------------------------------------------------------------------\u001b[0m",
      "\u001b[0;31mModuleNotFoundError\u001b[0m                       Traceback (most recent call last)",
      "\u001b[1;32m/home2/ashu_bharadwaj/Research/Simulation3/Graddesc.ipynb Cell 3\u001b[0m in \u001b[0;36m<cell line: 1>\u001b[0;34m()\u001b[0m\n\u001b[0;32m----> <a href='vscode-notebook-cell://ssh-remote%2Bgnode042/home2/ashu_bharadwaj/Research/Simulation3/Graddesc.ipynb#W4sdnNjb2RlLXJlbW90ZQ%3D%3D?line=0'>1</a>\u001b[0m \u001b[39mimport\u001b[39;00m \u001b[39mtqdm\u001b[39;00m\n",
      "\u001b[0;31mModuleNotFoundError\u001b[0m: No module named 'tqdm'"
     ]
    }
   ],
   "source": [
    "import tqdm"
   ]
  },
  {
   "cell_type": "code",
   "execution_count": 14,
   "metadata": {},
   "outputs": [
    {
     "ename": "NameError",
     "evalue": "name 'errget' is not defined",
     "output_type": "error",
     "traceback": [
      "\u001b[0;31m---------------------------------------------------------------------------\u001b[0m",
      "\u001b[0;31mNameError\u001b[0m                                 Traceback (most recent call last)",
      "\u001b[1;32m/home2/ashu_bharadwaj/Research/Simulation3/Graddesc.ipynb Cell 4\u001b[0m in \u001b[0;36m<cell line: 1>\u001b[0;34m()\u001b[0m\n\u001b[0;32m----> <a href='vscode-notebook-cell://ssh-remote%2Bgnode042/home2/ashu_bharadwaj/Research/Simulation3/Graddesc.ipynb#W5sdnNjb2RlLXJlbW90ZQ%3D%3D?line=0'>1</a>\u001b[0m timeit\u001b[39m.\u001b[39;49mtimeit(\u001b[39m'\u001b[39;49m\u001b[39m\"\u001b[39;49m\u001b[39m-\u001b[39;49m\u001b[39m\"\u001b[39;49m\u001b[39m.join(errget(24,10,100))\u001b[39;49m\u001b[39m'\u001b[39;49m, number\u001b[39m=\u001b[39;49m\u001b[39m50\u001b[39;49m)\n",
      "File \u001b[0;32m~/miniconda3/envs/Heatlearn/lib/python3.10/timeit.py:234\u001b[0m, in \u001b[0;36mtimeit\u001b[0;34m(stmt, setup, timer, number, globals)\u001b[0m\n\u001b[1;32m    231\u001b[0m \u001b[39mdef\u001b[39;00m \u001b[39mtimeit\u001b[39m(stmt\u001b[39m=\u001b[39m\u001b[39m\"\u001b[39m\u001b[39mpass\u001b[39m\u001b[39m\"\u001b[39m, setup\u001b[39m=\u001b[39m\u001b[39m\"\u001b[39m\u001b[39mpass\u001b[39m\u001b[39m\"\u001b[39m, timer\u001b[39m=\u001b[39mdefault_timer,\n\u001b[1;32m    232\u001b[0m            number\u001b[39m=\u001b[39mdefault_number, \u001b[39mglobals\u001b[39m\u001b[39m=\u001b[39m\u001b[39mNone\u001b[39;00m):\n\u001b[1;32m    233\u001b[0m     \u001b[39m\"\"\"Convenience function to create Timer object and call timeit method.\"\"\"\u001b[39;00m\n\u001b[0;32m--> 234\u001b[0m     \u001b[39mreturn\u001b[39;00m Timer(stmt, setup, timer, \u001b[39mglobals\u001b[39;49m)\u001b[39m.\u001b[39;49mtimeit(number)\n",
      "File \u001b[0;32m~/miniconda3/envs/Heatlearn/lib/python3.10/timeit.py:178\u001b[0m, in \u001b[0;36mTimer.timeit\u001b[0;34m(self, number)\u001b[0m\n\u001b[1;32m    176\u001b[0m gc\u001b[39m.\u001b[39mdisable()\n\u001b[1;32m    177\u001b[0m \u001b[39mtry\u001b[39;00m:\n\u001b[0;32m--> 178\u001b[0m     timing \u001b[39m=\u001b[39m \u001b[39mself\u001b[39;49m\u001b[39m.\u001b[39;49minner(it, \u001b[39mself\u001b[39;49m\u001b[39m.\u001b[39;49mtimer)\n\u001b[1;32m    179\u001b[0m \u001b[39mfinally\u001b[39;00m:\n\u001b[1;32m    180\u001b[0m     \u001b[39mif\u001b[39;00m gcold:\n",
      "File \u001b[0;32m<timeit-src>:6\u001b[0m, in \u001b[0;36minner\u001b[0;34m(_it, _timer)\u001b[0m\n",
      "\u001b[0;31mNameError\u001b[0m: name 'errget' is not defined"
     ]
    }
   ],
   "source": [
    "t = time.time"
   ]
  }
 ],
 "metadata": {
  "kernelspec": {
   "display_name": "Heatlearn",
   "language": "python",
   "name": "heatlearn"
  },
  "language_info": {
   "codemirror_mode": {
    "name": "ipython",
    "version": 3
   },
   "file_extension": ".py",
   "mimetype": "text/x-python",
   "name": "python",
   "nbconvert_exporter": "python",
   "pygments_lexer": "ipython3",
   "version": "3.10.6"
  },
  "orig_nbformat": 4,
  "vscode": {
   "interpreter": {
    "hash": "d28cfe9b801dc90300b9fc0f66b03165a7e2df121cf51f00b207dbb24586521e"
   }
  }
 },
 "nbformat": 4,
 "nbformat_minor": 2
}
