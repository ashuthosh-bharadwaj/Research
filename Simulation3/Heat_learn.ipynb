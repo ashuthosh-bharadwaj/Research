{
 "cells": [
  {
   "cell_type": "markdown",
   "metadata": {},
   "source": [
    "This notebook will contain similar code from ```Deriv.ipynb``` and ```Main.ipynb``` to learn from a solved process."
   ]
  },
  {
   "cell_type": "markdown",
   "metadata": {},
   "source": [
    "# Heat Diffusion on a Graph\n",
    "\n",
    "Heat on regular surfaces diffuses in this manner:\n",
    "\n",
    "$$\n",
    "    \\frac{\\partial H}{\\partial t} = k \\frac{\\partial^2 H}{\\partial x ^2 } \n",
    "$$\n",
    "\n",
    "and on a graph, the Laplacian operator on the surface changes to the Laplacian Matrix, which mirrors the averaging of immediate neighbour nodes of any given node.\n",
    "\n",
    "Thus, the normalised \"Heat\" vector $\\vec{s}$ has the dynamics:\n",
    "\n",
    "$$\n",
    "    \\frac{d \\vec{s}}{d t} =  - L \\vec{s}(t)\n",
    "$$\n",
    "\n",
    "Which gives us the unique solution \n",
    "\n",
    "$$\n",
    "    \\vec{s}(t) = e^{-Lt} \\vec{s}(0) \n",
    "$$\n",
    "\n",
    "where \n",
    "$$\n",
    "e^{-Lt} = \\sum_{n=0}^{\\infty} \\frac{(-Lt)^n}{n!}\n",
    "$$\n",
    "\n",
    "which can be calculated better using:\n",
    "\n",
    "$$\n",
    "    L = V \\Lambda_{l} V ^{-1} \\\\\n",
    "\n",
    "$$\n",
    "\n",
    "\n",
    "$$\n",
    "    e^{-Lt} = \\sum_{n=0}^{\\infty} \\frac{(-Lt)^n}{n!} = V  \\sum_{n=0}^{\\infty} \\frac{(-\\Lambda_l t)^n}{n!} V^{-1}\n",
    "$$\n",
    "\n",
    "\n",
    "$$\n",
    "    e^{-Lt} = V  e^{- \\Lambda_{l} t } V^{-1}\n",
    "$$\n"
   ]
  },
  {
   "cell_type": "code",
   "execution_count": 1,
   "metadata": {},
   "outputs": [
    {
     "name": "stdout",
     "output_type": "stream",
     "text": [
      "Populating the interactive namespace from numpy and matplotlib\n"
     ]
    }
   ],
   "source": [
    "#  importing required libraries\n",
    "%pylab inline\n",
    "import pandas as pd\n",
    "import time\n",
    "import matlab\n",
    "import matlab.engine\n",
    "import pickle as pkl \n",
    "MATLAB = matlab.engine.start_matlab()"
   ]
  },
  {
   "cell_type": "code",
   "execution_count": 2,
   "metadata": {},
   "outputs": [],
   "source": [
    "from utils3 import *\n",
    "from tqdm import tqdm"
   ]
  },
  {
   "cell_type": "markdown",
   "metadata": {},
   "source": [
    "### Forward simulation\n",
    "There is no *forward* simulation in this particular dynamic because it is a completely analytically determined system. This would just require us to sample the values at different points and recalculate the Laplacian that has been used.\n",
    "\n",
    "Scheme:\n",
    "\n",
    "- $\\vec{s}(0)$ is generated randomly. The $e^{-Lt}$ is calculated at different times using the relation $e^{-Lt} = V e^{- \\Lambda_l t} V^{-1}$  \n"
   ]
  },
  {
   "cell_type": "code",
   "execution_count": 3,
   "metadata": {},
   "outputs": [],
   "source": [
    "N = 10\n",
    "# T = 1000\n",
    "d, a = Store(N)\n",
    "# d, a  = \"./Deg.pkl\", \"./Adj.pkl\"\n",
    "D, A = pkl.load(open(d,\"rb\")), pkl.load(open(a,\"rb\"))\n",
    "L = D - A\n",
    "ewL, eVL = linalg.eig(L)\n",
    "\n",
    "np.random.seed(100)\n",
    "s0 = randn(N,)\n",
    "dt = 0.001"
   ]
  },
  {
   "cell_type": "code",
   "execution_count": 4,
   "metadata": {},
   "outputs": [],
   "source": [
    "M0 = lambda x: dot(-1*D, x)\n",
    "M1 = lambda x: ones(len(x))\n",
    "M2 = lambda x: dot(A, x)"
   ]
  },
  {
   "cell_type": "code",
   "execution_count": 5,
   "metadata": {},
   "outputs": [],
   "source": [
    "SampleswoN = []\n",
    "Samples = []\n",
    "# Samples.append(SNR_adder(s0,6))\n",
    "SampleswoN.append(s0)\n",
    "\n",
    "j = 0\n",
    "temp = ones(N,)\n",
    "\n",
    "while norm(SampleswoN[j]-temp) > 1e-5:\n",
    "    j = j+1\n",
    "    temp = dot(dot(dot(eVL, diag(exp(-ewL*dt*j))), eVL.T), s0)\n",
    "    SampleswoN.append(temp)\n",
    "    temp = SampleswoN[j-1]\n",
    "\n",
    "del temp\n",
    "T = len(SampleswoN) "
   ]
  },
  {
   "cell_type": "code",
   "execution_count": 6,
   "metadata": {},
   "outputs": [],
   "source": [
    "TRAJ = s0.reshape(N,1)\n",
    "SNR = 10\n",
    "\n",
    "for i in range(1,T):\n",
    "    TRAJ = np.append(TRAJ,SampleswoN[i].reshape(N,1),axis=1)"
   ]
  },
  {
   "cell_type": "code",
   "execution_count": 7,
   "metadata": {},
   "outputs": [],
   "source": [
    "Noisy_Traj = SNR_adder(TRAJ[0,:],SNR).reshape(1,len(SampleswoN))\n",
    "\n",
    "for i in range(1,N):\n",
    "    Noisy_Traj = np.append(Noisy_Traj, SNR_adder(TRAJ[i,:],SNR).reshape(1,len(SampleswoN)), axis =0)\n",
    "\n",
    "for i in range(len(SampleswoN)):\n",
    "    Samples.append(Noisy_Traj[:,i])"
   ]
  },
  {
   "cell_type": "code",
   "execution_count": 8,
   "metadata": {},
   "outputs": [
    {
     "data": {
      "text/plain": [
       "1243"
      ]
     },
     "execution_count": 8,
     "metadata": {},
     "output_type": "execute_result"
    },
    {
     "data": {
      "image/png": "[encoded data removed]",
      "text/plain": [
       "<Figure size 432x288 with 1 Axes>"
      ]
     },
     "metadata": {
      "needs_background": "light"
     },
     "output_type": "display_data"
    }
   ],
   "source": [
    "X0 = [(Samples[i])[4] for i in range(len(Samples))]\n",
    "plot(X0,'*')\n",
    "len(X0)"
   ]
  },
  {
   "cell_type": "code",
   "execution_count": 9,
   "metadata": {},
   "outputs": [
    {
     "data": {
      "image/png": "[encoded data removed]",
      "text/plain": [
       "<Figure size 432x288 with 1 Axes>"
      ]
     },
     "metadata": {
      "needs_background": "light"
     },
     "output_type": "display_data"
    }
   ],
   "source": [
    "for j in range(N):\n",
    "    plot([(Samples[i])[j] for i in range(len(SampleswoN))])"
   ]
  },
  {
   "cell_type": "code",
   "execution_count": 29,
   "metadata": {},
   "outputs": [
    {
     "data": {
      "text/plain": [
       "<matlab.object at 0x292920ff7b0>"
      ]
     },
     "execution_count": 29,
     "metadata": {},
     "output_type": "execute_result"
    }
   ],
   "source": [
    "MATLAB.workspace['t'] = matlab.int32([T])\n",
    "for j in range(N):\n",
    "    ee = matlab.double([(Samples[i])[j] for i in range(len(SampleswoN))])\n",
    "    MATLAB.workspace['ee'] = ee\n",
    "    MATLAB.eval(\"plot(0:0.001:1.242,ee,linewidth=1); hold on; grid on;\", nargout=0)\n",
    "\n",
    "MATLAB.xlabel(\"Time (t)\")\n",
    "MATLAB.ylabel(\"Heat value\")\n"
   ]
  },
  {
   "cell_type": "code",
   "execution_count": 26,
   "metadata": {},
   "outputs": [],
   "source": [
    "k = 1\n",
    "samples = [Samples[k*i] for i in range(T//k)]\n",
    "derivs = [(samples[i+1] - samples[i])/(k*dt) for i in range(T//k - 1)]\n",
    "\n",
    "# samples = [Samples[k*i] for i in range(T-k)]\n",
    "# derivs = [(samples[i+1] - samples[i])/(k*dt) for i in range(T-k-1)]"
   ]
  },
  {
   "cell_type": "code",
   "execution_count": 27,
   "metadata": {},
   "outputs": [],
   "source": [
    "# plot([(derivs[i])[1] for i in range(T-k-1)])\n",
    "# plot([(samples[i])[1] for i in range(T-k)])"
   ]
  },
  {
   "cell_type": "code",
   "execution_count": 28,
   "metadata": {},
   "outputs": [],
   "source": [
    "# M = T-k-1\n",
    "M = T//k -1\n",
    "V = zeros((N,M))\n",
    "U = zeros((N,M))\n",
    "\n",
    "for ind in range(M):\n",
    "    V[:,ind] = derivs[ind] + dot(D,samples[ind])\n",
    "    U[:,ind] = samples[ind] "
   ]
  },
  {
   "cell_type": "code",
   "execution_count": 29,
   "metadata": {},
   "outputs": [
    {
     "name": "stderr",
     "output_type": "stream",
     "text": [
      "100%|██████████| 1148/1148 [00:16<00:00, 69.76it/s]\n"
     ]
    }
   ],
   "source": [
    "Bigu = U_synth(reshape(U[:,0], (N,1)))\n",
    "vV  = V[:,0]\n",
    "j = 1\n",
    "ranks = []\n",
    "\n",
    "for j in tqdm(range(1,M)):\n",
    "    Uu = U_synth(reshape(U[:,j], (N,1)))\n",
    "    Bigu = append(Bigu, Uu, axis=0)\n",
    "    ranks.append(linalg.matrix_rank(Bigu))\n",
    "    vV = append(vV, V[:,j], axis = 0)\n",
    "\n",
    "# while linalg.matrix_rank(Bigu) < int(N*(N-1)//2):\n",
    "#     Uu = U_synth(reshape(U[:,j], (N,1)))\n",
    "#     Bigu = append(Bigu, Uu, axis=0)\n",
    "#     ranks.append(linalg.matrix_rank(Bigu))\n",
    "#     vV = append(vV, V[:,j], axis = 0)\n",
    "#     j += 1"
   ]
  },
  {
   "cell_type": "code",
   "execution_count": 30,
   "metadata": {},
   "outputs": [
    {
     "data": {
      "text/plain": [
       "[<matplotlib.lines.Line2D at 0x254443ea340>]"
      ]
     },
     "execution_count": 30,
     "metadata": {},
     "output_type": "execute_result"
    },
    {
     "data": {
      "image/png": "[encoded data removed]",
      "text/plain": [
       "<Figure size 432x288 with 1 Axes>"
      ]
     },
     "metadata": {
      "needs_background": "light"
     },
     "output_type": "display_data"
    }
   ],
   "source": [
    "plot(ranks)"
   ]
  },
  {
   "cell_type": "code",
   "execution_count": 31,
   "metadata": {},
   "outputs": [
    {
     "data": {
      "text/plain": [
       "45"
      ]
     },
     "execution_count": 31,
     "metadata": {},
     "output_type": "execute_result"
    }
   ],
   "source": [
    "linalg.matrix_rank(Bigu)"
   ]
  },
  {
   "cell_type": "code",
   "execution_count": 32,
   "metadata": {},
   "outputs": [],
   "source": [
    "Adj_Le = matricizer(dot(pinv(Bigu), vV))"
   ]
  },
  {
   "cell_type": "code",
   "execution_count": 33,
   "metadata": {},
   "outputs": [
    {
     "data": {
      "text/plain": [
       "<matplotlib.colorbar.Colorbar at 0x254444932e0>"
      ]
     },
     "execution_count": 33,
     "metadata": {},
     "output_type": "execute_result"
    },
    {
     "data": {
      "image/png": "[encoded data removed]",
      "text/plain": [
       "<Figure size 288x288 with 2 Axes>"
      ]
     },
     "metadata": {
      "needs_background": "light"
     },
     "output_type": "display_data"
    },
    {
     "data": {
      "image/png": "[encoded data removed]",
      "text/plain": [
       "<Figure size 288x288 with 2 Axes>"
      ]
     },
     "metadata": {
      "needs_background": "light"
     },
     "output_type": "display_data"
    }
   ],
   "source": [
    "matshow(A)\n",
    "colorbar()\n",
    "matshow(Adj_Le)\n",
    "colorbar()"
   ]
  },
  {
   "cell_type": "code",
   "execution_count": 34,
   "metadata": {},
   "outputs": [
    {
     "data": {
      "text/plain": [
       "390324.36224814"
      ]
     },
     "execution_count": 34,
     "metadata": {},
     "output_type": "execute_result"
    }
   ],
   "source": [
    "linalg.cond(Bigu)"
   ]
  },
  {
   "cell_type": "code",
   "execution_count": 41,
   "metadata": {},
   "outputs": [
    {
     "data": {
      "text/plain": [
       "4.790107648760799"
      ]
     },
     "execution_count": 41,
     "metadata": {},
     "output_type": "execute_result"
    }
   ],
   "source": [
    "norm(vectorizer(A) - vectorizer(Adj_Le))/(norm(vectorizer(A)))"
   ]
  },
  {
   "cell_type": "markdown",
   "metadata": {},
   "source": [
    "1) Add seed to make every process reproducible\n",
    "2) https://ieeexplore.ieee.org/stamp/stamp.jsp?tp=&arnumber=8439913\n",
    "3) https://web.media.mit.edu/~xdong/paper/tsipn17.pdf"
   ]
  },
  {
   "cell_type": "markdown",
   "metadata": {},
   "source": [
    "### Tikhonov regularization"
   ]
  },
  {
   "cell_type": "code",
   "execution_count": 36,
   "metadata": {},
   "outputs": [],
   "source": [
    "A_TR = matricizer((inv(dot(Bigu.T, Bigu) + 0.11*eye((N*(N-1))//2)).dot(Bigu.T)).dot(vV))"
   ]
  },
  {
   "cell_type": "code",
   "execution_count": 37,
   "metadata": {},
   "outputs": [
    {
     "data": {
      "text/plain": [
       "<matplotlib.colorbar.Colorbar at 0x2544440d9a0>"
      ]
     },
     "execution_count": 37,
     "metadata": {},
     "output_type": "execute_result"
    },
    {
     "data": {
      "image/png": "[encoded data removed]",
      "text/plain": [
       "<Figure size 288x288 with 2 Axes>"
      ]
     },
     "metadata": {
      "needs_background": "light"
     },
     "output_type": "display_data"
    },
    {
     "data": {
      "image/png": "[encoded data removed]",
      "text/plain": [
       "<Figure size 288x288 with 2 Axes>"
      ]
     },
     "metadata": {
      "needs_background": "light"
     },
     "output_type": "display_data"
    }
   ],
   "source": [
    "matshow(A)\n",
    "colorbar()\n",
    "matshow(A_TR)\n",
    "colorbar()"
   ]
  },
  {
   "cell_type": "code",
   "execution_count": 38,
   "metadata": {},
   "outputs": [
    {
     "data": {
      "text/plain": [
       "0.2852302761461072"
      ]
     },
     "execution_count": 38,
     "metadata": {},
     "output_type": "execute_result"
    }
   ],
   "source": [
    "norm(vectorizer(A) - vectorizer(A_TR))/(norm(vectorizer(A)))"
   ]
  },
  {
   "cell_type": "code",
   "execution_count": 39,
   "metadata": {},
   "outputs": [],
   "source": [
    "def Thiko(lm):\n",
    "    A_lm = matricizer((inv(dot(Bigu.T, Bigu) + lm*eye((N*(N-1))//2)).dot(Bigu.T)).dot(vV))\n",
    "    return A_lm "
   ]
  },
  {
   "cell_type": "code",
   "execution_count": 40,
   "metadata": {},
   "outputs": [
    {
     "data": {
      "text/plain": [
       "[<matplotlib.lines.Line2D at 0x254447288e0>]"
      ]
     },
     "execution_count": 40,
     "metadata": {},
     "output_type": "execute_result"
    },
    {
     "data": {
      "image/png": "[encoded data removed]",
      "text/plain": [
       "<Figure size 432x288 with 1 Axes>"
      ]
     },
     "metadata": {
      "needs_background": "light"
     },
     "output_type": "display_data"
    }
   ],
   "source": [
    "j = np.linspace(0.01,1,100)\n",
    "YY = [norm(vectorizer(A) - vectorizer(Thiko(lm))) for lm in np.linspace(0.01,1,100)]\n",
    "min(YY)\n",
    "plot(j,YY)"
   ]
  }
 ],
 "metadata": {
  "kernelspec": {
   "display_name": "Python 3.9.9 64-bit",
   "language": "python",
   "name": "python3"
  },
  "language_info": {
   "codemirror_mode": {
    "name": "ipython",
    "version": 3
   },
   "file_extension": ".py",
   "mimetype": "text/x-python",
   "name": "python",
   "nbconvert_exporter": "python",
   "pygments_lexer": "ipython3",
   "version": "3.9.9"
  },
  "orig_nbformat": 4,
  "vscode": {
   "interpreter": {
    "hash": "d28cfe9b801dc90300b9fc0f66b03165a7e2df121cf51f00b207dbb24586521e"
   }
  }
 },
 "nbformat": 4,
 "nbformat_minor": 2
}
