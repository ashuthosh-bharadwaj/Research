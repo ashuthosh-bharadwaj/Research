{
 "cells": [
  {
   "cell_type": "markdown",
   "metadata": {},
   "source": [
    "This notebook will contain similar code from ```Deriv.ipynb``` and ```Main.ipynb``` to learn from a solved process."
   ]
  },
  {
   "cell_type": "markdown",
   "metadata": {},
   "source": [
    "# Heat Diffusion on a Graph\n",
    "\n",
    "Heat on regular surfaces diffuses in this manner:\n",
    "\n",
    "$$\n",
    "    \\frac{\\partial H}{\\partial t} = k \\frac{\\partial^2 H}{\\partial ^2 x} \n",
    "$$\n",
    "\n",
    "and on a graph, the Laplacian operator on the surface changes to the Laplacian Matrix, which mirrors the averaging of immediate neighbour nodes of any given node.\n",
    "\n",
    "Thus, the normalised \"Heat\" vector $\\vec{s}$ has the dynamics:\n",
    "\n",
    "$$\n",
    "    \\frac{d \\vec{s}}{d t} =  - L \\vec{s}(t)\n",
    "$$\n",
    "\n",
    "Which gives us the unique solution \n",
    "\n",
    "$$\n",
    "    \\vec{s}(t) = e^{-Lt} \\vec{s}(0) \n",
    "$$\n",
    "\n",
    "where \n",
    "$$\n",
    "e^{-Lt} = \\sum_{n=0}^{\\infty} \\frac{(-Lt)^n}{n!}\n",
    "$$\n",
    "\n",
    "which can be calculated better using:\n",
    "\n",
    "$$\n",
    "    L = V \\Lambda_{l} V ^{-1} \\\\\n",
    "\n",
    "$$\n",
    "\n",
    "\n",
    "$$\n",
    "    e^{-Lt} = \\sum_{n=0}^{\\infty} \\frac{(-Lt)^n}{n!} = V  \\sum_{n=0}^{\\infty} \\frac{(-\\Lambda_l t)^n}{n!} V^{-1}\n",
    "$$\n",
    "\n",
    "\n",
    "$$\n",
    "    e^{-Lt} = V  e^{- \\Lambda_{l} t } V^{-1}\n",
    "$$\n"
   ]
  },
  {
   "cell_type": "code",
   "execution_count": 94,
   "metadata": {},
   "outputs": [
    {
     "name": "stdout",
     "output_type": "stream",
     "text": [
      "%pylab is deprecated, use %matplotlib inline and import the required libraries.\n",
      "Populating the interactive namespace from numpy and matplotlib\n"
     ]
    }
   ],
   "source": [
    "#  importing required libraries\n",
    "%pylab inline\n",
    "import pandas as pd\n",
    "import matlab\n",
    "import matlab.engine\n",
    "import pickle as pkl\n",
    "MATLAB = matlab.engine.start_matlab()"
   ]
  },
  {
   "cell_type": "code",
   "execution_count": 95,
   "metadata": {},
   "outputs": [
    {
     "ename": "ImportError",
     "evalue": "cannot import name 'U_synth' from 'Make_Lap' (/home/ashunix2/Work/Research/Simulation3/Make_Lap.py)",
     "output_type": "error",
     "traceback": [
      "\u001b[0;31m---------------------------------------------------------------------------\u001b[0m",
      "\u001b[0;31mImportError\u001b[0m                               Traceback (most recent call last)",
      "\u001b[1;32m/home/ashunix2/Work/Research/Simulation3/Heat_learn.ipynb Cell 4'\u001b[0m in \u001b[0;36m<cell line: 1>\u001b[0;34m()\u001b[0m\n\u001b[0;32m----> <a href='vscode-notebook-cell:/home/ashunix2/Work/Research/Simulation3/Heat_learn.ipynb#ch0000019?line=0'>1</a>\u001b[0m \u001b[39mfrom\u001b[39;00m \u001b[39mMake_Lap\u001b[39;00m \u001b[39mimport\u001b[39;00m Make, Store, U_synth\n",
      "\u001b[0;31mImportError\u001b[0m: cannot import name 'U_synth' from 'Make_Lap' (/home/ashunix2/Work/Research/Simulation3/Make_Lap.py)"
     ]
    }
   ],
   "source": [
    "from Make_Lap import Make, Store, U_synth"
   ]
  },
  {
   "cell_type": "markdown",
   "metadata": {},
   "source": [
    "### Forward simulation\n",
    "There is no *forward* simulation in this particular dynamic because it is a completely analytically determined system. This would just require us to sample the values at different points and recalculate the Laplacian that has been used.\n",
    "\n",
    "Scheme:\n",
    "\n",
    "- $\\vec{s}(0)$ is generated randomly. The $e^{-Lt}$ is calculated at different times using the relation $e^{-Lt} = V e^{- \\Lambda_l t} V^{-1}$  \n"
   ]
  },
  {
   "cell_type": "code",
   "execution_count": 26,
   "metadata": {},
   "outputs": [],
   "source": [
    "N = 10\n",
    "d, a = \"Deg.pkl\",\"Adj.pkl\"\n",
    "D, A = pkl.load(open(d,\"rb\")), pkl.load(open(a,\"rb\"))\n",
    "\n",
    "L = D - A\n",
    "ewL, eVL = linalg.eig(L)\n",
    "s0 = abs(randn(N,))\n",
    "dt = 0.001"
   ]
  },
  {
   "cell_type": "code",
   "execution_count": 27,
   "metadata": {},
   "outputs": [],
   "source": [
    "M0 = lambda x: dot(-1*D, x)\n",
    "M1 = lambda x: ones(len(x))\n",
    "M2 = lambda x: dot(A, x)"
   ]
  },
  {
   "cell_type": "code",
   "execution_count": 46,
   "metadata": {},
   "outputs": [],
   "source": [
    "Samples = []\n",
    "Samples.append(s0)\n",
    "\n",
    "for i in range(1,10000):\n",
    "    Samples.append(dot(dot(dot(eVL, diag(exp(-ewL*dt*i))), eVL.T), s0))"
   ]
  },
  {
   "cell_type": "code",
   "execution_count": 67,
   "metadata": {},
   "outputs": [],
   "source": [
    "Test = []\n",
    "Test.append(s0)\n",
    "x = s0\n",
    "for k in range(1,10000):  \n",
    "    x = x + (M0(x) + M2(x))*dt\n",
    "    Test.append(x)"
   ]
  },
  {
   "cell_type": "code",
   "execution_count": 51,
   "metadata": {},
   "outputs": [
    {
     "data": {
      "text/plain": [
       "[<matplotlib.lines.Line2D at 0x7f3094dde280>]"
      ]
     },
     "execution_count": 51,
     "metadata": {},
     "output_type": "execute_result"
    },
    {
     "data": {
      "image/png": "[encoded data removed]",
      "text/plain": [
       "<Figure size 432x288 with 1 Axes>"
      ]
     },
     "metadata": {
      "needs_background": "light"
     },
     "output_type": "display_data"
    }
   ],
   "source": [
    "X0 = [(Samples[i])[0] for i in range(len(Samples))]\n",
    "plot(X0)"
   ]
  }
 ],
 "metadata": {
  "kernelspec": {
   "display_name": "Python 3.9.12 ('graph')",
   "language": "python",
   "name": "python3"
  },
  "language_info": {
   "codemirror_mode": {
    "name": "ipython",
    "version": 3
   },
   "file_extension": ".py",
   "mimetype": "text/x-python",
   "name": "python",
   "nbconvert_exporter": "python",
   "pygments_lexer": "ipython3",
   "version": "3.9.12"
  },
  "orig_nbformat": 4,
  "vscode": {
   "interpreter": {
    "hash": "8c28d57c2d97abfad27937787db55774051a84c0e262ee8da8e617f587280746"
   }
  }
 },
 "nbformat": 4,
 "nbformat_minor": 2
}
