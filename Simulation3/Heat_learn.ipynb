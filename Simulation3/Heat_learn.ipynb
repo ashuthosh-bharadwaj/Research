{
 "cells": [
  {
   "cell_type": "markdown",
   "metadata": {},
   "source": [
    "This notebook will contain similar code from ```Deriv.ipynb``` and ```Main.ipynb``` to learn from a solved process."
   ]
  },
  {
   "cell_type": "markdown",
   "metadata": {},
   "source": [
    "# Heat Diffusion on a Graph\n",
    "\n",
    "Heat on regular surfaces diffuses in this manner:\n",
    "\n",
    "$$\n",
    "    \\frac{\\partial H}{\\partial t} = k \\frac{\\partial^2 H}{\\partial x ^2 } \n",
    "$$\n",
    "\n",
    "and on a graph, the Laplacian operator on the surface changes to the Laplacian Matrix, which mirrors the averaging of immediate neighbour nodes of any given node.\n",
    "\n",
    "Thus, the normalised \"Heat\" vector $\\vec{s}$ has the dynamics:\n",
    "\n",
    "$$\n",
    "    \\frac{d \\vec{s}}{d t} =  - L \\vec{s}(t)\n",
    "$$\n",
    "\n",
    "Which gives us the unique solution \n",
    "\n",
    "$$\n",
    "    \\vec{s}(t) = e^{-Lt} \\vec{s}(0) \n",
    "$$\n",
    "\n",
    "where \n",
    "$$\n",
    "e^{-Lt} = \\sum_{n=0}^{\\infty} \\frac{(-Lt)^n}{n!}\n",
    "$$\n",
    "\n",
    "which can be calculated better using:\n",
    "\n",
    "$$\n",
    "    L = V \\Lambda_{l} V ^{-1} \\\\\n",
    "\n",
    "$$\n",
    "\n",
    "\n",
    "$$\n",
    "    e^{-Lt} = \\sum_{n=0}^{\\infty} \\frac{(-Lt)^n}{n!} = V  \\sum_{n=0}^{\\infty} \\frac{(-\\Lambda_l t)^n}{n!} V^{-1}\n",
    "$$\n",
    "\n",
    "\n",
    "$$\n",
    "    e^{-Lt} = V  e^{- \\Lambda_{l} t } V^{-1}\n",
    "$$\n"
   ]
  },
  {
   "cell_type": "code",
   "execution_count": 126,
   "metadata": {},
   "outputs": [
    {
     "name": "stdout",
     "output_type": "stream",
     "text": [
      "Populating the interactive namespace from numpy and matplotlib\n"
     ]
    }
   ],
   "source": [
    "#  importing required libraries\n",
    "%pylab inline\n",
    "import pandas as pd\n",
    "import time\n",
    "import matlab\n",
    "import matlab.engine\n",
    "import pickle as pkl \n",
    "MATLAB = matlab.engine.start_matlab()"
   ]
  },
  {
   "cell_type": "code",
   "execution_count": 127,
   "metadata": {},
   "outputs": [],
   "source": [
    "from utils3 import *\n",
    "from tqdm import tqdm"
   ]
  },
  {
   "cell_type": "code",
   "execution_count": 128,
   "metadata": {},
   "outputs": [],
   "source": [
    "np.random.seed(1000)"
   ]
  },
  {
   "cell_type": "markdown",
   "metadata": {},
   "source": [
    "### Forward simulation\n",
    "There is no *forward* simulation in this particular dynamic because it is a completely analytically determined system. This would just require us to sample the values at different points and recalculate the Laplacian that has been used.\n",
    "\n",
    "Scheme:\n",
    "\n",
    "- $\\vec{s}(0)$ is generated randomly. The $e^{-Lt}$ is calculated at different times using the relation $e^{-Lt} = V e^{- \\Lambda_l t} V^{-1}$  \n"
   ]
  },
  {
   "cell_type": "code",
   "execution_count": 129,
   "metadata": {},
   "outputs": [],
   "source": [
    "N = 10\n",
    "# T = 1000\n",
    "d, a = Store(N)\n",
    "# d, a  = \"./Deg.pkl\", \"Adj.pkl\"\n",
    "D, A = pkl.load(open(d,\"rb\")), pkl.load(open(a,\"rb\"))\n",
    "\n",
    "L = D - A\n",
    "ewL, eVL = linalg.eig(L)\n",
    "s0 = randn(N,)\n",
    "dt = 0.001"
   ]
  },
  {
   "cell_type": "code",
   "execution_count": 130,
   "metadata": {},
   "outputs": [],
   "source": [
    "M0 = lambda x: dot(-1*D, x)\n",
    "M1 = lambda x: ones(len(x))\n",
    "M2 = lambda x: dot(A, x)"
   ]
  },
  {
   "cell_type": "code",
   "execution_count": 131,
   "metadata": {},
   "outputs": [],
   "source": [
    "SampleswoN = []\n",
    "Samples = []\n",
    "# Samples.append(SNR_adder(s0,6))\n",
    "SampleswoN.append(s0)\n",
    "\n",
    "j = 0\n",
    "temp = ones(N,)\n",
    "\n",
    "while norm(SampleswoN[j]-temp) > 1e-5:\n",
    "    j = j+1\n",
    "    temp = dot(dot(dot(eVL, diag(exp(-ewL*dt*j))), eVL.T), s0)\n",
    "    # Samples.append(SNR_adder(temp,SNR))\n",
    "    SampleswoN.append(temp)\n",
    "    temp = SampleswoN[j-1]\n",
    "\n",
    "del temp\n",
    "T = len(SampleswoN) "
   ]
  },
  {
   "cell_type": "code",
   "execution_count": 132,
   "metadata": {},
   "outputs": [],
   "source": [
    "TRAJ = s0.reshape(N,1)\n",
    "SNR = 10\n",
    "\n",
    "for i in range(1,len(SampleswoN)):\n",
    "    TRAJ = np.append(TRAJ,SampleswoN[i].reshape(N,1),axis=1)"
   ]
  },
  {
   "cell_type": "code",
   "execution_count": 133,
   "metadata": {},
   "outputs": [],
   "source": [
    "Noisy_Traj = SNR_adder(TRAJ[0,:],SNR).reshape(1,len(SampleswoN))\n",
    "\n",
    "for i in range(1,N):\n",
    "    Noisy_Traj = np.append(Noisy_Traj, SNR_adder(TRAJ[i,:],SNR).reshape(1,len(SampleswoN)), axis =0)\n",
    "\n",
    "for i in range(len(SampleswoN)):\n",
    "    Samples.append(Noisy_Traj[:,i])"
   ]
  },
  {
   "cell_type": "code",
   "execution_count": 134,
   "metadata": {},
   "outputs": [
    {
     "data": {
      "text/plain": [
       "[<matplotlib.lines.Line2D at 0x189c6d2fc70>]"
      ]
     },
     "execution_count": 134,
     "metadata": {},
     "output_type": "execute_result"
    },
    {
     "data": {
      "image/png": "[encoded data removed]",
      "text/plain": [
       "<Figure size 432x288 with 1 Axes>"
      ]
     },
     "metadata": {
      "needs_background": "light"
     },
     "output_type": "display_data"
    }
   ],
   "source": [
    "X0 = [(Samples[i])[0] for i in range(len(Samples))]\n",
    "plot(X0)"
   ]
  },
  {
   "cell_type": "code",
   "execution_count": 135,
   "metadata": {},
   "outputs": [
    {
     "data": {
      "image/png": "[encoded data removed]",
      "text/plain": [
       "<Figure size 432x288 with 1 Axes>"
      ]
     },
     "metadata": {
      "needs_background": "light"
     },
     "output_type": "display_data"
    }
   ],
   "source": [
    "for j in range(N):\n",
    "    plot([(Samples[i])[j] for i in range(len(SampleswoN))])"
   ]
  },
  {
   "cell_type": "code",
   "execution_count": 136,
   "metadata": {},
   "outputs": [],
   "source": [
    "k = 1\n",
    "samples = [Samples[k*i] for i in range(T//k)]\n",
    "derivs = [(samples[i+1] - samples[i])/(k*dt) for i in range(T//k - 1)]\n",
    "\n",
    "# samples = [Samples[k*i] for i in range(T-k)]\n",
    "# derivs = [(samples[i+1] - samples[i])/(k*dt) for i in range(T-k-1)]"
   ]
  },
  {
   "cell_type": "code",
   "execution_count": 104,
   "metadata": {},
   "outputs": [],
   "source": [
    "# plot([(derivs[i])[1] for i in range(T-k-1)])\n",
    "# plot([(samples[i])[1] for i in range(T-k)])"
   ]
  },
  {
   "cell_type": "code",
   "execution_count": 137,
   "metadata": {},
   "outputs": [],
   "source": [
    "# M = T-k-1\n",
    "M = T//k -1\n",
    "V = zeros((N,M))\n",
    "U = zeros((N,M))\n",
    "\n",
    "for ind in range(M):\n",
    "    V[:,ind] = derivs[ind] + dot(D,samples[ind])\n",
    "    U[:,ind] = samples[ind] "
   ]
  },
  {
   "cell_type": "code",
   "execution_count": 138,
   "metadata": {},
   "outputs": [
    {
     "name": "stderr",
     "output_type": "stream",
     "text": [
      "100%|██████████| 1028/1028 [00:28<00:00, 36.02it/s]\n"
     ]
    }
   ],
   "source": [
    "Bigu = U_synth(reshape(U[:,0], (N,1)))\n",
    "vV  = V[:,0]\n",
    "j = 1\n",
    "ranks = []\n",
    "\n",
    "# for j in tqdm(range(1,M)):\n",
    "#     Uu = U_synth(reshape(U[:,j], (N,1)))\n",
    "#     Bigu = append(Bigu, Uu, axis=0)\n",
    "#     ranks.append(linalg.matrix_rank(Bigu))\n",
    "#     vV = append(vV, V[:,j], axis = 0)\n",
    "\n",
    "while linalg.matrix_rank(Bigu) < :\n",
    "    Uu = U_synth(reshape(U[:,j], (N,1)))\n",
    "    Bigu = append(Bigu, Uu, axis=0)\n",
    "    ranks.append(linalg.matrix_rank(Bigu))\n",
    "    vV = append(vV, V[:,j], axis = 0)\n",
    "    j += 1"
   ]
  },
  {
   "cell_type": "code",
   "execution_count": 116,
   "metadata": {},
   "outputs": [
    {
     "data": {
      "text/plain": [
       "[<matplotlib.lines.Line2D at 0x189c69eaf40>]"
      ]
     },
     "execution_count": 116,
     "metadata": {},
     "output_type": "execute_result"
    },
    {
     "data": {
      "image/png": "[encoded data removed]",
      "text/plain": [
       "<Figure size 432x288 with 1 Axes>"
      ]
     },
     "metadata": {
      "needs_background": "light"
     },
     "output_type": "display_data"
    }
   ],
   "source": [
    "plot(ranks)"
   ]
  },
  {
   "cell_type": "code",
   "execution_count": 117,
   "metadata": {},
   "outputs": [
    {
     "data": {
      "text/plain": [
       "45"
      ]
     },
     "execution_count": 117,
     "metadata": {},
     "output_type": "execute_result"
    }
   ],
   "source": [
    "linalg.matrix_rank(Bigu)"
   ]
  },
  {
   "cell_type": "code",
   "execution_count": 118,
   "metadata": {},
   "outputs": [],
   "source": [
    "Adj_Le = matricizer(dot(pinv(Bigu), vV))"
   ]
  },
  {
   "cell_type": "code",
   "execution_count": 119,
   "metadata": {},
   "outputs": [
    {
     "data": {
      "text/plain": [
       "<matplotlib.colorbar.Colorbar at 0x189c6a9f910>"
      ]
     },
     "execution_count": 119,
     "metadata": {},
     "output_type": "execute_result"
    },
    {
     "data": {
      "image/png": "[encoded data removed]",
      "text/plain": [
       "<Figure size 288x288 with 2 Axes>"
      ]
     },
     "metadata": {
      "needs_background": "light"
     },
     "output_type": "display_data"
    },
    {
     "data": {
      "image/png": "[encoded data removed]",
      "text/plain": [
       "<Figure size 288x288 with 2 Axes>"
      ]
     },
     "metadata": {
      "needs_background": "light"
     },
     "output_type": "display_data"
    }
   ],
   "source": [
    "matshow(A)\n",
    "colorbar()\n",
    "matshow(Adj_Le)\n",
    "colorbar()"
   ]
  },
  {
   "cell_type": "code",
   "execution_count": 120,
   "metadata": {},
   "outputs": [
    {
     "data": {
      "text/plain": [
       "211655.3705951737"
      ]
     },
     "execution_count": 120,
     "metadata": {},
     "output_type": "execute_result"
    }
   ],
   "source": [
    "linalg.cond(Bigu)"
   ]
  },
  {
   "cell_type": "code",
   "execution_count": 122,
   "metadata": {},
   "outputs": [
    {
     "data": {
      "text/plain": [
       "13.433360942851333"
      ]
     },
     "execution_count": 122,
     "metadata": {},
     "output_type": "execute_result"
    }
   ],
   "source": [
    "norm(vectorizer(A) - vectorizer(Adj_Le))"
   ]
  },
  {
   "cell_type": "markdown",
   "metadata": {},
   "source": [
    "1) Add seed to make every process reproducible\n",
    "2) https://ieeexplore.ieee.org/stamp/stamp.jsp?tp=&arnumber=8439913\n",
    "3) https://web.media.mit.edu/~xdong/paper/tsipn17.pdf"
   ]
  }
 ],
 "metadata": {
  "kernelspec": {
   "display_name": "Python 3.9.9 64-bit",
   "language": "python",
   "name": "python3"
  },
  "language_info": {
   "codemirror_mode": {
    "name": "ipython",
    "version": 3
   },
   "file_extension": ".py",
   "mimetype": "text/x-python",
   "name": "python",
   "nbconvert_exporter": "python",
   "pygments_lexer": "ipython3",
   "version": "3.9.9"
  },
  "orig_nbformat": 4,
  "vscode": {
   "interpreter": {
    "hash": "d28cfe9b801dc90300b9fc0f66b03165a7e2df121cf51f00b207dbb24586521e"
   }
  }
 },
 "nbformat": 4,
 "nbformat_minor": 2
}
