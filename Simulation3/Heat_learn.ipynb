{
 "cells": [
  {
   "cell_type": "markdown",
   "metadata": {},
   "source": [
    "This notebook will contain similar code from ```Deriv.ipynb``` and ```Main.ipynb``` to learn from a solved process."
   ]
  },
  {
   "cell_type": "markdown",
   "metadata": {},
   "source": [
    "# Heat Diffusion on a Graph\n",
    "\n",
    "Heat on regular surfaces diffuses in this manner:\n",
    "\n",
    "$$\n",
    "    \\frac{\\partial H}{\\partial t} = k \\frac{\\partial^2 H}{\\partial ^2 x} \n",
    "$$\n",
    "\n",
    "and on a graph, the Laplacian operator on the surface changes to the Laplacian Matrix, which mirrors the averaging of immediate neighbour nodes of any given node.\n",
    "\n",
    "Thus, the normalised \"Heat\" vector $\\vec{s}$ has the dynamics:\n",
    "\n",
    "$$\n",
    "    \\frac{d \\vec{s}}{d t} =  - L \\vec{s}(t)\n",
    "$$\n",
    "\n",
    "Which gives us the unique solution \n",
    "\n",
    "$$\n",
    "    \\vec{s}(t) = \\vec{s}(0) e^{-Lt}\n",
    "$$\n",
    "\n",
    "where \n",
    "$$\n",
    "e^{-Lt} = \\sum_{n=0}^{\\infty} \\frac{(-Lt)^n}{n!}\n",
    "$$\n",
    "\n",
    "which can be calculated better using:\n",
    "\n",
    "$$\n",
    "    L = V \\Lambda_{l} V ^{-1} \\\\\n",
    "\n",
    "$$\n",
    "\n",
    "\n",
    "$$\n",
    "    e^{-Lt} = \\sum_{n=0}^{\\infty} \\frac{(-Lt)^n}{n!} = V  \\sum_{n=0}^{\\infty} \\frac{(-\\Lambda_l t)^n}{n!} V^{-1}\n",
    "$$\n",
    "\n",
    "\n",
    "$$\n",
    "    e^{-Lt} = V  e^{- \\Lambda_{l} t } V^{-1}\n",
    "$$\n"
   ]
  },
  {
   "cell_type": "code",
   "execution_count": 2,
   "metadata": {},
   "outputs": [
    {
     "name": "stdout",
     "output_type": "stream",
     "text": [
      "%pylab is deprecated, use %matplotlib inline and import the required libraries.\n",
      "Populating the interactive namespace from numpy and matplotlib\n"
     ]
    }
   ],
   "source": [
    "#  importing required libraries\n",
    "%pylab inline\n",
    "import pandas as pd\n",
    "import matlab\n",
    "import matlab.engine\n",
    "MATLAB = matlab.engine.start_matlab()"
   ]
  },
  {
   "cell_type": "markdown",
   "metadata": {},
   "source": [
    "### Forward simulation\n",
    "There is no *forward* simulation in this particular dynamic because it is a completely analytically determined system. This would just require us to sample the values at different points and recalculate the Laplacian that has been used.\n",
    "\n",
    "Scheme:\n",
    "\n",
    "- $\\vec{s}(0)$ is generated randomly. The $e^{-Lt}$ is calculated at different times using the relation $e^{-Lt} = V e^{- \\Lambda_l t} V^{-1}$  \n"
   ]
  },
  {
   "cell_type": "code",
   "execution_count": null,
   "metadata": {},
   "outputs": [],
   "source": []
  }
 ],
 "metadata": {
  "kernelspec": {
   "display_name": "Python 3.9.12 ('graph')",
   "language": "python",
   "name": "python3"
  },
  "language_info": {
   "codemirror_mode": {
    "name": "ipython",
    "version": 3
   },
   "file_extension": ".py",
   "mimetype": "text/x-python",
   "name": "python",
   "nbconvert_exporter": "python",
   "pygments_lexer": "ipython3",
   "version": "3.9.12"
  },
  "orig_nbformat": 4,
  "vscode": {
   "interpreter": {
    "hash": "8c28d57c2d97abfad27937787db55774051a84c0e262ee8da8e617f587280746"
   }
  }
 },
 "nbformat": 4,
 "nbformat_minor": 2
}
