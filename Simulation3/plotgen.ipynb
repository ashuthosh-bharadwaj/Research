{
 "cells": [
  {
   "cell_type": "code",
   "execution_count": 3,
   "metadata": {},
   "outputs": [
    {
     "name": "stdout",
     "output_type": "stream",
     "text": [
      "%pylab is deprecated, use %matplotlib inline and import the required libraries.\n",
      "Populating the interactive namespace from numpy and matplotlib\n"
     ]
    }
   ],
   "source": [
    "from Heat_atom_Lap import *\n",
    "%pylab inline"
   ]
  },
  {
   "cell_type": "code",
   "execution_count": 4,
   "metadata": {},
   "outputs": [],
   "source": [
    "def errget(k,L):\n",
    "    U,V = Combine([250]*10,k,L,0.001,10)\n",
    "    Lap, Cond = Learn(U,V)\n",
    "    err = (error(Lap,L))[2]\n",
    "    return err"
   ]
  },
  {
   "cell_type": "code",
   "execution_count": 5,
   "metadata": {},
   "outputs": [],
   "source": [
    "er = []\n",
    "L,L_gt,s0,D = Setup(10)\n",
    "\n",
    "for i in range(1,26,2):\n",
    "    r = 0\n",
    "    for h in range(50):\n",
    "        s = errget(i,L)\n",
    "        r += s\n",
    "    er.append(r/50)"
   ]
  },
  {
   "cell_type": "code",
   "execution_count": 6,
   "metadata": {},
   "outputs": [
    {
     "data": {
      "text/plain": [
       "[0.004152867400160887,\n",
       " 0.012384894989887762,\n",
       " 0.020524712534086748,\n",
       " 0.028572974938156546,\n",
       " 0.03652638658423241,\n",
       " 0.04439039284643956,\n",
       " 0.0521642038166903,\n",
       " 0.05984900764556196,\n",
       " 0.06744942533872483,\n",
       " 0.07496405044657876,\n",
       " 0.08239239831359756,\n",
       " 0.08973858662159301,\n",
       " 0.09699987594929765]"
      ]
     },
     "execution_count": 6,
     "metadata": {},
     "output_type": "execute_result"
    }
   ],
   "source": [
    "er"
   ]
  },
  {
   "cell_type": "code",
   "execution_count": 4,
   "metadata": {},
   "outputs": [
    {
     "data": {
      "text/plain": [
       "0.03337741682564974"
      ]
     },
     "execution_count": 4,
     "metadata": {},
     "output_type": "execute_result"
    },
    {
     "data": {
      "image/png": "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",
      "text/plain": [
       "<Figure size 288x288 with 1 Axes>"
      ]
     },
     "metadata": {
      "needs_background": "light"
     },
     "output_type": "display_data"
    },
    {
     "data": {
      "image/png": "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",
      "text/plain": [
       "<Figure size 288x288 with 1 Axes>"
      ]
     },
     "metadata": {
      "needs_background": "light"
     },
     "output_type": "display_data"
    }
   ],
   "source": [
    "L,A,s0,D = Setup(15)\n",
    "U,V = Combine([250]*15,5,L,0.001,10)\n",
    "Lap_Learned, Cond = Learn(U,V)\n",
    "err = (ErrCheck(L,Lap_Learned))[2]\n",
    "err"
   ]
  },
  {
   "cell_type": "code",
   "execution_count": 8,
   "metadata": {},
   "outputs": [
    {
     "data": {
      "image/png": "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",
      "text/plain": [
       "<Figure size 288x288 with 2 Axes>"
      ]
     },
     "metadata": {
      "needs_background": "light"
     },
     "output_type": "display_data"
    },
    {
     "data": {
      "image/png": "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",
      "text/plain": [
       "<Figure size 288x288 with 2 Axes>"
      ]
     },
     "metadata": {
      "needs_background": "light"
     },
     "output_type": "display_data"
    }
   ],
   "source": [
    "for i in [L, Lap_Learned]:\n",
    "    matshow(adja(i))\n",
    "    colorbar()"
   ]
  },
  {
   "cell_type": "code",
   "execution_count": null,
   "metadata": {},
   "outputs": [],
<<<<<<< HEAD
   "source": [
    "def errget(k,L):\n",
    "    U,V = Combine([250]*10,k,L,0.001,10)\n",
    "    Lap, Cond = Learn(U,V)\n",
    "    err = (error(Lap,L))[2]\n",
    "    return err"
   ]
  },
  {
   "cell_type": "code",
   "execution_count": 5,
   "metadata": {},
   "outputs": [],
   "source": [
    "er = []\n",
    "L,L_gt,s0,D = Setup(15)\n",
    "\n",
    "for i in range(1,16,2):\n",
    "    er.append(errget(i,L))"
   ]
  },
  {
   "cell_type": "code",
   "execution_count": 6,
   "metadata": {},
   "outputs": [
    {
     "data": {
      "text/plain": [
       "[0.0065873298776152256,\n",
       " 0.019568873251842513,\n",
       " 0.032302012180050556,\n",
       " 0.044837459783584846,\n",
       " 0.05710819567009844,\n",
       " 0.06919473537739053,\n",
       " 0.08105599671689846,\n",
       " 0.09270277204627742]"
      ]
     },
     "execution_count": 6,
     "metadata": {},
     "output_type": "execute_result"
    }
   ],
   "source": []
  },
  {
   "cell_type": "markdown",
   "metadata": {},
   "source": [
    "- Binary that is Regular/Bipartite"
   ]
=======
   "source": []
>>>>>>> 23332591c86f03b8e8f2afd90f972e3ccb760921
  }
 ],
 "metadata": {
  "kernelspec": {
   "display_name": "Python 3.9.9 64-bit",
   "language": "python",
   "name": "python3"
  },
<<<<<<< HEAD
  "language_info": {
   "codemirror_mode": {
    "name": "ipython",
    "version": 3
   },
   "file_extension": ".py",
   "mimetype": "text/x-python",
   "name": "python",
   "nbconvert_exporter": "python",
   "pygments_lexer": "ipython3",
   "version": "3.9.9"
  },
  "orig_nbformat": 4,
  "vscode": {
   "interpreter": {
    "hash": "d28cfe9b801dc90300b9fc0f66b03165a7e2df121cf51f00b207dbb24586521e"
   }
  }
=======
  "orig_nbformat": 4
>>>>>>> 23332591c86f03b8e8f2afd90f972e3ccb760921
 },
 "nbformat": 4,
 "nbformat_minor": 2
}
