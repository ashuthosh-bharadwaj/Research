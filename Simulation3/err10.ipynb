{
 "cells": [
  {
   "cell_type": "code",
   "execution_count": 1,
   "metadata": {},
   "outputs": [
    {
     "name": "stdout",
     "output_type": "stream",
     "text": [
      "%pylab is deprecated, use %matplotlib inline and import the required libraries.\n",
      "Populating the interactive namespace from numpy and matplotlib\n"
     ]
    }
   ],
   "source": [
    "from Heat_atom_Lap import *\n",
    "%pylab inline\n",
    "from tqdm import tqdm"
   ]
  },
  {
   "cell_type": "code",
   "execution_count": 2,
   "metadata": {},
   "outputs": [],
   "source": [
    "def errget(N,s1,s2):\n",
    "    L,L_gt,s0,D = Setup2(N,s1,s2)\n",
    "    U,V = Combine([250]*10,5,L,0.001,10)\n",
    "    Lap, Cond = Learn(U,V)\n",
    "    err = (error(Lap,L_gt))[2]\n",
    "    return err "
   ]
  },
  {
   "cell_type": "code",
   "execution_count": 3,
   "metadata": {},
   "outputs": [
    {
     "name": "stderr",
     "output_type": "stream",
     "text": [
      "100%|██████████| 200/200 [00:36<00:00,  5.44it/s]\n",
      "100%|██████████| 200/200 [00:42<00:00,  4.68it/s]\n",
      "100%|██████████| 200/200 [00:52<00:00,  3.79it/s]\n",
      "100%|██████████| 200/200 [01:05<00:00,  3.04it/s]\n",
      "100%|██████████| 200/200 [01:30<00:00,  2.21it/s]\n",
      "100%|██████████| 200/200 [01:53<00:00,  1.76it/s]\n",
      "100%|██████████| 200/200 [02:09<00:00,  1.54it/s]\n",
      "100%|██████████| 200/200 [02:43<00:00,  1.22it/s]\n",
      "100%|██████████| 200/200 [03:22<00:00,  1.01s/it]\n",
      "100%|██████████| 200/200 [04:12<00:00,  1.26s/it]\n",
      "100%|██████████| 200/200 [05:08<00:00,  1.54s/it]\n",
      "100%|██████████| 200/200 [06:16<00:00,  1.88s/it]\n",
      "100%|██████████| 200/200 [07:40<00:00,  2.30s/it]\n",
      "100%|██████████| 200/200 [09:09<00:00,  2.75s/it]\n",
      "100%|██████████| 200/200 [11:07<00:00,  3.34s/it]\n",
      "100%|██████████| 200/200 [13:14<00:00,  3.97s/it]\n",
      "100%|██████████| 200/200 [16:26<00:00,  4.93s/it]]\n",
      "100%|██████████| 200/200 [20:21<00:00,  6.11s/it]]\n",
      "100%|██████████| 200/200 [24:54<00:00,  7.47s/it]]\n",
      "100%|██████████| 19/19 [2:13:30<00:00, 421.62s/it] \n"
     ]
    }
   ],
   "source": [
    "erro10 = []\n",
    " \n",
    "for N in tqdm(range(2,21)):\n",
    "    r = 0\n",
    "    for l in tqdm(range(200)):\n",
    "        s1,s2 = tuple(random.randint(0,100,2))\n",
    "        r += errget(N,s1,s2)\n",
    "    erro10.append(r/200) "
   ]
  },
  {
   "cell_type": "code",
   "execution_count": 5,
   "metadata": {},
   "outputs": [
    {
     "data": {
      "text/plain": [
       "[0.0031336257018620976,\n",
       " 0.008263903363232766,\n",
       " 0.009637660074386746,\n",
       " 0.012366907697962748,\n",
       " 0.01342737842921441,\n",
       " 0.015346203517595955,\n",
       " 0.017275979610044633,\n",
       " 0.019480491400268106,\n",
       " 0.022520273220237415,\n",
       " 0.023713664485997942,\n",
       " 0.02473481928564639,\n",
       " 0.02769909275450804,\n",
       " 0.029817042355494584,\n",
       " 0.031813675709450456,\n",
       " 0.03288758815608245,\n",
       " 0.03512109029189405,\n",
       " 0.038102031790622624,\n",
       " 0.03994336391880824,\n",
       " 0.04123360673470937]"
      ]
     },
     "execution_count": 5,
     "metadata": {},
     "output_type": "execute_result"
    }
   ],
   "source": [
    "erro10"
   ]
  },
  {
   "cell_type": "code",
   "execution_count": null,
   "metadata": {},
   "outputs": [],
   "source": [
    "pkl.dump(array(erro10),open(\"./Data/E10.pkl\", \"wb\"))"
   ]
  }
 ],
 "metadata": {
  "kernelspec": {
   "display_name": "Heatlearn",
   "language": "python",
   "name": "heatlearn"
  },
  "orig_nbformat": 4
 },
 "nbformat": 4,
 "nbformat_minor": 2
}
