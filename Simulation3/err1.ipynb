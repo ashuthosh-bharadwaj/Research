{
 "cells": [
  {
   "cell_type": "code",
   "execution_count": 1,
   "metadata": {},
   "outputs": [
    {
     "name": "stdout",
     "output_type": "stream",
     "text": [
      "%pylab is deprecated, use %matplotlib inline and import the required libraries.\n",
      "Populating the interactive namespace from numpy and matplotlib\n"
     ]
    }
   ],
   "source": [
    "from Heat_atom_Lap import *\n",
    "%pylab inline\n",
    "from tqdm import tqdm"
   ]
  },
  {
   "cell_type": "code",
   "execution_count": 2,
   "metadata": {},
   "outputs": [],
   "source": [
    "def errget(N,s1,s2):\n",
    "    L,L_gt,s0,D = Setup2(N,s1,s2)\n",
    "    U,V = Combine([250]*1,5,L,0.001,10)\n",
    "    Lap, Cond = Learn(U,V)\n",
    "    err = (error(Lap,L_gt))[2]\n",
    "    return err "
   ]
  },
  {
   "cell_type": "code",
   "execution_count": 3,
   "metadata": {},
   "outputs": [
    {
     "name": "stderr",
     "output_type": "stream",
     "text": [
      "100%|██████████| 200/200 [00:04<00:00, 47.26it/s]\n",
      "100%|██████████| 200/200 [00:04<00:00, 41.13it/s]\n",
      "100%|██████████| 200/200 [00:05<00:00, 36.03it/s]\n",
      "100%|██████████| 200/200 [00:06<00:00, 31.58it/s]\n",
      "100%|██████████| 200/200 [00:07<00:00, 27.32it/s]\n",
      "100%|██████████| 200/200 [00:08<00:00, 24.25it/s]\n",
      "100%|██████████| 200/200 [00:09<00:00, 20.71it/s]\n",
      "100%|██████████| 200/200 [00:11<00:00, 17.63it/s]\n",
      "100%|██████████| 200/200 [00:13<00:00, 15.12it/s]\n",
      "100%|██████████| 200/200 [00:15<00:00, 13.09it/s]\n",
      "100%|██████████| 200/200 [00:17<00:00, 11.17it/s]\n",
      "100%|██████████| 200/200 [00:21<00:00,  9.10it/s]\n",
      "100%|██████████| 200/200 [00:25<00:00,  7.83it/s]\n",
      "100%|██████████| 200/200 [00:30<00:00,  6.63it/s]\n",
      "100%|██████████| 200/200 [00:35<00:00,  5.64it/s]\n",
      "100%|██████████| 200/200 [00:41<00:00,  4.82it/s]\n",
      "100%|██████████| 200/200 [00:47<00:00,  4.18it/s]\n",
      "100%|██████████| 200/200 [00:56<00:00,  3.56it/s]\n",
      "100%|██████████| 200/200 [01:07<00:00,  2.98it/s]\n",
      "100%|██████████| 19/19 [07:09<00:00, 22.62s/it]\n"
     ]
    }
   ],
   "source": [
    "erro1 = []\n",
    " \n",
    "for N in tqdm(range(2,21)):\n",
    "    r = 0\n",
    "    for l in tqdm(range(200)):\n",
    "        s1,s2 = tuple(random.randint(0,100,2))\n",
    "        r += errget(N,s1,s2)\n",
    "    erro1.append(r/200) "
   ]
  },
  {
   "cell_type": "code",
   "execution_count": 4,
   "metadata": {},
   "outputs": [
    {
     "data": {
      "text/plain": [
       "[0.0038475725086021674,\n",
       " 0.007237982729916331,\n",
       " 0.683364369458738,\n",
       " 12.987223582414797,\n",
       " 17.600724314840356,\n",
       " 16.81270401793919,\n",
       " 18.685776997540952,\n",
       " 18.404213163501247,\n",
       " 17.707880790321127,\n",
       " 15.799154104140785,\n",
       " 14.860956162246932,\n",
       " 15.312262022592495,\n",
       " 13.709696615408042,\n",
       " 14.054707435498388,\n",
       " 12.329259399951889,\n",
       " 14.201176361351227,\n",
       " 11.269473345181357,\n",
       " 11.517695368202391,\n",
       " 10.512982590315941]"
      ]
     },
     "execution_count": 4,
     "metadata": {},
     "output_type": "execute_result"
    }
   ],
   "source": [
    "erro1"
   ]
  },
  {
   "cell_type": "code",
   "execution_count": null,
   "metadata": {},
   "outputs": [],
   "source": [
    "pkl.dump(array(erro1),open(\"./Data/E1.pkl\", \"wb\"))"
   ]
  }
 ],
 "metadata": {
  "kernelspec": {
   "display_name": "Heatlearn",
   "language": "python",
   "name": "heatlearn"
  },
  "language_info": {
   "codemirror_mode": {
    "name": "ipython",
    "version": 3
   },
   "file_extension": ".py",
   "mimetype": "text/x-python",
   "name": "python",
   "nbconvert_exporter": "python",
   "pygments_lexer": "ipython3",
   "version": "3.10.6"
  },
  "orig_nbformat": 4
 },
 "nbformat": 4,
 "nbformat_minor": 2
}
