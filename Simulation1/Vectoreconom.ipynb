{
 "cells": [
  {
   "cell_type": "markdown",
   "metadata": {},
   "source": [
    "# Vectorizarion of a matrix\n"
   ]
  },
  {
   "cell_type": "markdown",
   "metadata": {},
   "source": [
    "There exists an operation to convert the above equation to a more solvable form \n",
    "\n",
    "$$\n",
    "V = AU \\\\\n",
    "$$\n",
    "\n",
    "Following the procedure in the paper, we get:\n",
    "\n",
    "$$\n",
    "\\operatorname{vech}(A) = ((U^\\mathrm{T} \\otimes I_{N\\times N}) D_{N})^{\\dagger} \\operatorname{vec}(V) \\\\\n",
    "\\implies \\operatorname{vec}(A) = D_{N}* \\operatorname{vech}(A) \n",
    "$$"
   ]
  },
  {
   "cell_type": "code",
   "execution_count": null,
   "metadata": {},
   "outputs": [],
   "source": [
    "class Some_Matrices():\n",
    "    \n",
    "    def vec(A):\n",
    "        return A.flatten('F')\n",
    "\n",
    "    def E_Matrices(n):\n",
    "        I = eye(n)\n",
    "        E = {(i,j):dot(I[:,i].reshape(n,1),I[:,j].T.reshape(1,n)) for i in range(n) for j in range(n)}\n",
    "        return E\n",
    "\n",
    "    def T_Matrices(n):\n",
    "        E_inst = Some_Matrices.E_Matrices(n)\n",
    "        T = {(i,j): (E_inst[(i,j)] if i == j else E_inst[(i,j)] + E_inst[(j,i)]) for i in range(n) for j in range(n)}\n",
    "        return T \n",
    "    \n",
    "    def u_vecs(n):\n",
    "        I_nh = eye(n*(n+1)//2)\n",
    "        u = {(i,j): I_nh[:, int((j)*n + (i+1) - 0.5*(j+1)*j -1)] for i in range(n) for j in range(n)}\n",
    "        return u \n",
    "    \n",
    "    def D_Matrix(n):\n",
    "        num = n*(n+1)//2\n",
    "        DT = zeros((num,n**2))\n",
    "        T_inst = Some_Matrices.T_Matrices(n)\n",
    "        u_inst = Some_Matrices.u_vecs(n)\n",
    "\n",
    "        for j in range(n):\n",
    "            for i in range(j,n):\n",
    "                DT = DT + ((u_inst[(i,j)]).reshape(num,1)).dot(((Some_Matrices.vec(T_inst[(i,j)])).T).reshape(1,n**2))\n",
    "        D = DT.T\n",
    "        return D\n",
    "    \n",
    "    def make_mat(c,n):\n",
    "        fullc = zeros((n,n))\n",
    "        for i in range(n):\n",
    "            fullc[:,i] = c[i:i+n]\n",
    "        return fullc"
   ]
  },
  {
   "cell_type": "code",
   "execution_count": null,
   "metadata": {},
   "outputs": [],
   "source": [
    "v = V.flatten('F')"
   ]
  },
  {
   "cell_type": "code",
   "execution_count": null,
   "metadata": {},
   "outputs": [],
   "source": [
    "D = Some_Matrices.D_Matrix(N)\n",
    "hA = pinv((kron(U.T,eye(N))).dot(D)).dot(v)\n",
    "vec_A_gt = Some_Matrices.vec(A_gt)\n",
    "fullA = D.dot(hA)"
   ]
  },
  {
   "cell_type": "code",
   "execution_count": null,
   "metadata": {},
   "outputs": [],
   "source": [
    "ff = Some_Matrices.make_mat(fullA,N)"
   ]
  },
  {
   "cell_type": "code",
   "execution_count": null,
   "metadata": {},
   "outputs": [
    {
     "data": {
      "text/plain": [
       "<matplotlib.image.AxesImage at 0x1ac3f6d9ac0>"
      ]
     },
     "metadata": {},
     "output_type": "display_data"
    },
    {
     "data": {
      "image/png": "[encoded data removed]",
      "text/plain": [
       "<Figure size 288x288 with 1 Axes>"
      ]
     },
     "metadata": {},
     "output_type": "display_data"
    }
   ],
   "source": [
    "matshow(ff)"
   ]
  }
 ],
 "metadata": {
  "language_info": {
   "name": "python"
  },
  "orig_nbformat": 4
 },
 "nbformat": 4,
 "nbformat_minor": 2
}
