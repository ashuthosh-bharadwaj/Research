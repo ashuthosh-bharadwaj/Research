{
 "cells": [
  {
   "cell_type": "markdown",
   "metadata": {},
   "source": [
    "## Derivative based graph learning in P-regime "
   ]
  },
  {
   "cell_type": "code",
   "execution_count": 405,
   "metadata": {},
   "outputs": [
    {
     "name": "stdout",
     "output_type": "stream",
     "text": [
      "Populating the interactive namespace from numpy and matplotlib\n"
     ]
    }
   ],
   "source": [
    "%pylab inline\n",
    "import pandas as pd\n",
    "import matlab\n",
    "import matlab.engine\n",
    "MATLAB = matlab.engine.start_matlab()"
   ]
  },
  {
   "cell_type": "markdown",
   "metadata": {},
   "source": [
    "### P regime, N=50 Nodes\n",
    "The set of functions $M$ for P-regime of networks:\n",
    "$$\n",
    "    M = (M_0, M_1,M_2) = (-(\\cdot)^{0.5} , 1, (\\cdot)^{0.2})\n",
    "$$\n",
    "\n",
    "Central equation for node $i$:\n",
    "$$\n",
    "\\frac{dx_{i}}{dt} = - x_{i}^{0.5} + \\sum_{j=1}^{N} A_{ij} x_{j}^{0.2}\n",
    "$$\n",
    "\n",
    "Vectorized and using power notation:\n",
    "\n",
    "$$\n",
    "\\frac{d \\vec{x}}{dt} = - \\vec{x}^{0.5} + I_{N \\times N} A \\vec{x}^{0.2}\n",
    "$$\n",
    "\n",
    "We will evolve the system as per the above equation with the following adjacency matrix:"
   ]
  },
  {
   "cell_type": "code",
   "execution_count": 406,
   "metadata": {},
   "outputs": [],
   "source": [
    "N = 21\n",
    "T =10000\n",
    "A_gt = abs(rand(N,N))\n",
    "for i in range(N): A_gt[i,i] = 0\n",
    "A_gt = (A_gt + A_gt.T)/2"
   ]
  },
  {
   "cell_type": "code",
   "execution_count": 407,
   "metadata": {},
   "outputs": [
    {
     "data": {
      "text/plain": [
       "(array([[0.        , 0.46453198, 0.24316103, 0.64293831, 0.35079585,\n",
       "         0.42252302, 0.42600678, 0.58232754, 0.25034074, 0.06866327,\n",
       "         0.91403488, 0.30639533, 0.47252978, 0.21988266, 0.50390611,\n",
       "         0.27658813, 0.38665242, 0.76112045, 0.96957443, 0.40677859,\n",
       "         0.2124801 ],\n",
       "        [0.46453198, 0.        , 0.45033752, 0.77224295, 0.39406408,\n",
       "         0.77635916, 0.3767907 , 0.57442586, 0.55760206, 0.18029984,\n",
       "         0.57783387, 0.67593956, 0.85965039, 0.32008027, 0.6997347 ,\n",
       "         0.77038828, 0.03538503, 0.53272095, 0.04880026, 0.33412032,\n",
       "         0.47667496],\n",
       "        [0.24316103, 0.45033752, 0.        , 0.49376989, 0.18770852,\n",
       "         0.58046039, 0.28850912, 0.66029567, 0.18144689, 0.38660722,\n",
       "         0.51550665, 0.19577271, 0.66536157, 0.47438944, 0.44132407,\n",
       "         0.61147282, 0.43899016, 0.66935442, 0.8261329 , 0.77462877,\n",
       "         0.22427611],\n",
       "        [0.64293831, 0.77224295, 0.49376989, 0.        , 0.630318  ,\n",
       "         0.4880121 , 0.36202421, 0.38549795, 0.46294809, 0.71443884,\n",
       "         0.2044302 , 0.633743  , 0.57000713, 0.19717969, 0.83804289,\n",
       "         0.62770973, 0.43384826, 0.42338623, 0.46751238, 0.25449221,\n",
       "         0.49014325],\n",
       "        [0.35079585, 0.39406408, 0.18770852, 0.630318  , 0.        ,\n",
       "         0.46511983, 0.60803193, 0.10694017, 0.26008386, 0.34077532,\n",
       "         0.75992076, 0.22550047, 0.73345622, 0.79941131, 0.81744643,\n",
       "         0.68806608, 0.57501043, 0.31699443, 0.71469651, 0.29018341,\n",
       "         0.35029424],\n",
       "        [0.42252302, 0.77635916, 0.58046039, 0.4880121 , 0.46511983,\n",
       "         0.        , 0.39113986, 0.49114926, 0.50794412, 0.95528343,\n",
       "         0.63265944, 0.53122497, 0.70916266, 0.54277973, 0.72928158,\n",
       "         0.62507685, 0.33681371, 0.33446205, 0.58903647, 0.63985063,\n",
       "         0.49985158],\n",
       "        [0.42600678, 0.3767907 , 0.28850912, 0.36202421, 0.60803193,\n",
       "         0.39113986, 0.        , 0.55758151, 0.71765443, 0.57101985,\n",
       "         0.50015123, 0.53825616, 0.79788811, 0.91151773, 0.77475265,\n",
       "         0.45603731, 0.39779975, 0.43548248, 0.91189967, 0.5081293 ,\n",
       "         0.45024096],\n",
       "        [0.58232754, 0.57442586, 0.66029567, 0.38549795, 0.10694017,\n",
       "         0.49114926, 0.55758151, 0.        , 0.35275063, 0.48205955,\n",
       "         0.38330946, 0.41732816, 0.31896141, 0.22016968, 0.56685519,\n",
       "         0.1074104 , 0.63241436, 0.67375053, 0.67704373, 0.50395364,\n",
       "         0.47632716],\n",
       "        [0.25034074, 0.55760206, 0.18144689, 0.46294809, 0.26008386,\n",
       "         0.50794412, 0.71765443, 0.35275063, 0.        , 0.77220397,\n",
       "         0.62126637, 0.62974088, 0.86285859, 0.22982696, 0.674796  ,\n",
       "         0.39407905, 0.45787685, 0.13624816, 0.78502293, 0.08518854,\n",
       "         0.27282526],\n",
       "        [0.06866327, 0.18029984, 0.38660722, 0.71443884, 0.34077532,\n",
       "         0.95528343, 0.57101985, 0.48205955, 0.77220397, 0.        ,\n",
       "         0.70958005, 0.5045985 , 0.28938395, 0.4991979 , 0.25703172,\n",
       "         0.75549714, 0.57923435, 0.47455228, 0.59538703, 0.30751541,\n",
       "         0.88679347],\n",
       "        [0.91403488, 0.57783387, 0.51550665, 0.2044302 , 0.75992076,\n",
       "         0.63265944, 0.50015123, 0.38330946, 0.62126637, 0.70958005,\n",
       "         0.        , 0.72896774, 0.40198957, 0.76285852, 0.40731817,\n",
       "         0.52782197, 0.73090593, 0.46916816, 0.63381297, 0.65395026,\n",
       "         0.47752501],\n",
       "        [0.30639533, 0.67593956, 0.19577271, 0.633743  , 0.22550047,\n",
       "         0.53122497, 0.53825616, 0.41732816, 0.62974088, 0.5045985 ,\n",
       "         0.72896774, 0.        , 0.57623895, 0.47433009, 0.21864552,\n",
       "         0.35014892, 0.19851331, 0.33677014, 0.43435728, 0.60664007,\n",
       "         0.41368935],\n",
       "        [0.47252978, 0.85965039, 0.66536157, 0.57000713, 0.73345622,\n",
       "         0.70916266, 0.79788811, 0.31896141, 0.86285859, 0.28938395,\n",
       "         0.40198957, 0.57623895, 0.        , 0.26707869, 0.7339741 ,\n",
       "         0.5093223 , 0.54629904, 0.89413519, 0.44504818, 0.23270646,\n",
       "         0.47785782],\n",
       "        [0.21988266, 0.32008027, 0.47438944, 0.19717969, 0.79941131,\n",
       "         0.54277973, 0.91151773, 0.22016968, 0.22982696, 0.4991979 ,\n",
       "         0.76285852, 0.47433009, 0.26707869, 0.        , 0.76132257,\n",
       "         0.20721455, 0.25755355, 0.59519877, 0.88613949, 0.60664033,\n",
       "         0.9015403 ],\n",
       "        [0.50390611, 0.6997347 , 0.44132407, 0.83804289, 0.81744643,\n",
       "         0.72928158, 0.77475265, 0.56685519, 0.674796  , 0.25703172,\n",
       "         0.40731817, 0.21864552, 0.7339741 , 0.76132257, 0.        ,\n",
       "         0.61359263, 0.40456838, 0.35786511, 0.94030827, 0.4108943 ,\n",
       "         0.38876975],\n",
       "        [0.27658813, 0.77038828, 0.61147282, 0.62770973, 0.68806608,\n",
       "         0.62507685, 0.45603731, 0.1074104 , 0.39407905, 0.75549714,\n",
       "         0.52782197, 0.35014892, 0.5093223 , 0.20721455, 0.61359263,\n",
       "         0.        , 0.82182386, 0.12471508, 0.39077084, 0.39249581,\n",
       "         0.48698878],\n",
       "        [0.38665242, 0.03538503, 0.43899016, 0.43384826, 0.57501043,\n",
       "         0.33681371, 0.39779975, 0.63241436, 0.45787685, 0.57923435,\n",
       "         0.73090593, 0.19851331, 0.54629904, 0.25755355, 0.40456838,\n",
       "         0.82182386, 0.        , 0.07699352, 0.30525069, 0.48713202,\n",
       "         0.4126568 ],\n",
       "        [0.76112045, 0.53272095, 0.66935442, 0.42338623, 0.31699443,\n",
       "         0.33446205, 0.43548248, 0.67375053, 0.13624816, 0.47455228,\n",
       "         0.46916816, 0.33677014, 0.89413519, 0.59519877, 0.35786511,\n",
       "         0.12471508, 0.07699352, 0.        , 0.07662042, 0.32563501,\n",
       "         0.36787947],\n",
       "        [0.96957443, 0.04880026, 0.8261329 , 0.46751238, 0.71469651,\n",
       "         0.58903647, 0.91189967, 0.67704373, 0.78502293, 0.59538703,\n",
       "         0.63381297, 0.43435728, 0.44504818, 0.88613949, 0.94030827,\n",
       "         0.39077084, 0.30525069, 0.07662042, 0.        , 0.53498434,\n",
       "         0.87391383],\n",
       "        [0.40677859, 0.33412032, 0.77462877, 0.25449221, 0.29018341,\n",
       "         0.63985063, 0.5081293 , 0.50395364, 0.08518854, 0.30751541,\n",
       "         0.65395026, 0.60664007, 0.23270646, 0.60664033, 0.4108943 ,\n",
       "         0.39249581, 0.48713202, 0.32563501, 0.53498434, 0.        ,\n",
       "         0.69454197],\n",
       "        [0.2124801 , 0.47667496, 0.22427611, 0.49014325, 0.35029424,\n",
       "         0.49985158, 0.45024096, 0.47632716, 0.27282526, 0.88679347,\n",
       "         0.47752501, 0.41368935, 0.47785782, 0.9015403 , 0.38876975,\n",
       "         0.48698878, 0.4126568 , 0.36787947, 0.87391383, 0.69454197,\n",
       "         0.        ]]),\n",
       " array([[0., 0., 0., 0., 0., 0., 0., 0., 0., 0., 0., 0., 0., 0., 0., 0.,\n",
       "         0., 0., 0., 0., 0.],\n",
       "        [0., 0., 0., 0., 0., 0., 0., 0., 0., 0., 0., 0., 0., 0., 0., 0.,\n",
       "         0., 0., 0., 0., 0.],\n",
       "        [0., 0., 0., 0., 0., 0., 0., 0., 0., 0., 0., 0., 0., 0., 0., 0.,\n",
       "         0., 0., 0., 0., 0.],\n",
       "        [0., 0., 0., 0., 0., 0., 0., 0., 0., 0., 0., 0., 0., 0., 0., 0.,\n",
       "         0., 0., 0., 0., 0.],\n",
       "        [0., 0., 0., 0., 0., 0., 0., 0., 0., 0., 0., 0., 0., 0., 0., 0.,\n",
       "         0., 0., 0., 0., 0.],\n",
       "        [0., 0., 0., 0., 0., 0., 0., 0., 0., 0., 0., 0., 0., 0., 0., 0.,\n",
       "         0., 0., 0., 0., 0.],\n",
       "        [0., 0., 0., 0., 0., 0., 0., 0., 0., 0., 0., 0., 0., 0., 0., 0.,\n",
       "         0., 0., 0., 0., 0.],\n",
       "        [0., 0., 0., 0., 0., 0., 0., 0., 0., 0., 0., 0., 0., 0., 0., 0.,\n",
       "         0., 0., 0., 0., 0.],\n",
       "        [0., 0., 0., 0., 0., 0., 0., 0., 0., 0., 0., 0., 0., 0., 0., 0.,\n",
       "         0., 0., 0., 0., 0.],\n",
       "        [0., 0., 0., 0., 0., 0., 0., 0., 0., 0., 0., 0., 0., 0., 0., 0.,\n",
       "         0., 0., 0., 0., 0.],\n",
       "        [0., 0., 0., 0., 0., 0., 0., 0., 0., 0., 0., 0., 0., 0., 0., 0.,\n",
       "         0., 0., 0., 0., 0.],\n",
       "        [0., 0., 0., 0., 0., 0., 0., 0., 0., 0., 0., 0., 0., 0., 0., 0.,\n",
       "         0., 0., 0., 0., 0.],\n",
       "        [0., 0., 0., 0., 0., 0., 0., 0., 0., 0., 0., 0., 0., 0., 0., 0.,\n",
       "         0., 0., 0., 0., 0.],\n",
       "        [0., 0., 0., 0., 0., 0., 0., 0., 0., 0., 0., 0., 0., 0., 0., 0.,\n",
       "         0., 0., 0., 0., 0.],\n",
       "        [0., 0., 0., 0., 0., 0., 0., 0., 0., 0., 0., 0., 0., 0., 0., 0.,\n",
       "         0., 0., 0., 0., 0.],\n",
       "        [0., 0., 0., 0., 0., 0., 0., 0., 0., 0., 0., 0., 0., 0., 0., 0.,\n",
       "         0., 0., 0., 0., 0.],\n",
       "        [0., 0., 0., 0., 0., 0., 0., 0., 0., 0., 0., 0., 0., 0., 0., 0.,\n",
       "         0., 0., 0., 0., 0.],\n",
       "        [0., 0., 0., 0., 0., 0., 0., 0., 0., 0., 0., 0., 0., 0., 0., 0.,\n",
       "         0., 0., 0., 0., 0.],\n",
       "        [0., 0., 0., 0., 0., 0., 0., 0., 0., 0., 0., 0., 0., 0., 0., 0.,\n",
       "         0., 0., 0., 0., 0.],\n",
       "        [0., 0., 0., 0., 0., 0., 0., 0., 0., 0., 0., 0., 0., 0., 0., 0.,\n",
       "         0., 0., 0., 0., 0.],\n",
       "        [0., 0., 0., 0., 0., 0., 0., 0., 0., 0., 0., 0., 0., 0., 0., 0.,\n",
       "         0., 0., 0., 0., 0.]]))"
      ]
     },
     "execution_count": 407,
     "metadata": {},
     "output_type": "execute_result"
    }
   ],
   "source": [
    "A_gt, A_gt - A_gt.T\n",
    "# checking if the ground truth matrix is symmetric"
   ]
  },
  {
   "cell_type": "code",
   "execution_count": 408,
   "metadata": {},
   "outputs": [
    {
     "data": {
      "text/plain": [
       "array([0.25080621, 3.00725037, 0.86395785, 0.5608887 , 1.18748169,\n",
       "       0.06880622, 0.68944797, 0.12178194, 0.54248311, 0.60079719,\n",
       "       1.15236624, 1.28844417, 0.71754959, 0.17651954, 0.71305308,\n",
       "       0.59722044, 0.37831581, 0.02714496, 1.62164471, 0.92098874,\n",
       "       1.43565127])"
      ]
     },
     "execution_count": 408,
     "metadata": {},
     "output_type": "execute_result"
    }
   ],
   "source": [
    "dt = 0.002\n",
    "x0 = abs(randn(N,))\n",
    "x0\n",
    "#  setting up initial conditions and the time resolution"
   ]
  },
  {
   "cell_type": "code",
   "execution_count": 409,
   "metadata": {},
   "outputs": [],
   "source": [
    "x = x0\n",
    "Traj = []\n",
    "\n",
    "for i in range(T):\n",
    "    Traj.append(x)\n",
    "    x = x + (-(x)+ dot(A_gt,(x)/(1+x)))*dt"
   ]
  },
  {
   "cell_type": "markdown",
   "metadata": {},
   "source": [
    "### Issue\n",
    "The value of the graph signal depends on the previous update, and the 'how' is dictated by the differential equation\n",
    "But the first term, $\\vec{x}^{0.5}$ will throw some errors in our simulation if any of the components of $\\vec{x}$ are negative. \n",
    "\n",
    "A quick fix was to take the absolute value before applying the square root."
   ]
  },
  {
   "cell_type": "code",
   "execution_count": 410,
   "metadata": {},
   "outputs": [
    {
     "data": {
      "text/plain": [
       "[<matplotlib.lines.Line2D at 0x19a2765ccd0>]"
      ]
     },
     "execution_count": 410,
     "metadata": {},
     "output_type": "execute_result"
    },
    {
     "data": {
      "image/png": "[encoded data removed]",
      "text/plain": [
       "<Figure size 432x288 with 1 Axes>"
      ]
     },
     "metadata": {
      "needs_background": "light"
     },
     "output_type": "display_data"
    }
   ],
   "source": [
    "plot([(Traj[i])[0] for i in range(T)])"
   ]
  },
  {
   "cell_type": "code",
   "execution_count": 411,
   "metadata": {},
   "outputs": [
    {
     "data": {
      "text/plain": [
       "<matlab.object at 0x19a12fa5e10>"
      ]
     },
     "execution_count": 411,
     "metadata": {},
     "output_type": "execute_result"
    }
   ],
   "source": [
    "xp = [Traj[i][0] for i in range(T)]\n",
    "x_0 = matlab.double(xp)\n",
    "MATLAB.plot(x_0)"
   ]
  },
  {
   "cell_type": "code",
   "execution_count": 412,
   "metadata": {},
   "outputs": [],
   "source": [
    "x1 =  [Traj[i][1] for i in range(T)]\n",
    "x_1 = matlab.double(x1)\n",
    "\n",
    "x2 =  [Traj[i][2] for i in range(T)]\n",
    "x_2 = matlab.double(x2)\n",
    "\n",
    "x3 =  [Traj[i][3] for i in range(T)]\n",
    "x_3 = matlab.double(x3)\n",
    "\n",
    "x4 =  [Traj[i][4] for i in range(T)]\n",
    "x_4 = matlab.double(x4)"
   ]
  },
  {
   "cell_type": "code",
   "execution_count": 413,
   "metadata": {},
   "outputs": [],
   "source": [
    "MATLAB.workspace['ex0'] = x_0\n",
    "MATLAB.workspace['ex1'] = x_1\n",
    "MATLAB.workspace['ex2'] = x_2\n",
    "MATLAB.workspace['ex3'] = x_3\n",
    "MATLAB.workspace['ex4'] = x_4"
   ]
  },
  {
   "cell_type": "code",
   "execution_count": 414,
   "metadata": {},
   "outputs": [],
   "source": [
    "MATLAB.eval(\"var1 = [ex0; ex1; ex2; ex3; ex4];\",nargout = 0)\n",
    "MATLAB.eval(\"for k = 1:5 subplot(3,2,k); plot(var1(k,:)); end\",nargout = 0)"
   ]
  },
  {
   "cell_type": "markdown",
   "metadata": {},
   "source": [
    "We will now try to learn back the coefficients of A using some Matrix inversion;\n",
    "\n",
    "For different samples in `Traj` which track the movement of the signal at all nodes, we will take N such samples and compute the finite difference based derivative and set it equal to the affine  RHS of the central equation evaluated at that point in time (we will use left hand derivative)"
   ]
  },
  {
   "cell_type": "code",
   "execution_count": 439,
   "metadata": {},
   "outputs": [],
   "source": [
    "k = 4\n",
    "samples = [Traj[k*i] for i in range(T//k)]\n",
    "derivs = [(samples[i+1] - samples[i])/(k*dt) for i in range(T//k - 1)]\n",
    "# larger timescale used"
   ]
  },
  {
   "cell_type": "code",
   "execution_count": 440,
   "metadata": {},
   "outputs": [
    {
     "data": {
      "text/plain": [
       "[<matplotlib.lines.Line2D at 0x19a1a4dd430>]"
      ]
     },
     "execution_count": 440,
     "metadata": {},
     "output_type": "execute_result"
    },
    {
     "data": {
      "image/png": "[encoded data removed]",
      "text/plain": [
       "<Figure size 432x288 with 1 Axes>"
      ]
     },
     "metadata": {
      "needs_background": "light"
     },
     "output_type": "display_data"
    }
   ],
   "source": [
    "plot(array(samples)[:,0],\"*\")\n",
    "plot([i for i in range(T//k - 1)], array(derivs)[:,0],\"*\")"
   ]
  },
  {
   "cell_type": "markdown",
   "metadata": {},
   "source": [
    "We have many equations of the form \n",
    "$$\n",
    "\\frac{\\vec{x}_{i+1} - \\vec{x}_{i}}{t_{i+1} - t_{i}} = -\\sqrt{\\vec{x}_{i}} + A \\sqrt[5]{\\vec{x}_{i}} \\\\\n",
    "$$\n",
    "\n",
    "$$\n",
    "\\frac{\\vec{x}_{i+1} - \\vec{x}_{i}}{t_{i+1} - t_{i}} + \\sqrt{\\vec{x}_{i}} =  A \\sqrt[5]{\\vec{x}_{i}} \\\\\n",
    "$$\n",
    "$$\n",
    "\\vec{v}_{i} = A \\vec{u}_{i}\n",
    "$$\n",
    "\n",
    "To solve this, we can simply adjoin different instances of the above so that it forms:\n",
    "\n",
    "$$\n",
    " V = AU\n",
    "$$\n",
    "\n",
    "\n",
    "where U, V are both NxN matrices (columns of U,V follow the first equation)\n",
    "This means, using N instances of first eq we can try to get back the Matrix A.\n",
    "\n",
    "$$\n",
    "U = [\\vec{u}_1 \\vec{u}_2 \\dots \\vec{u}_N]\n",
    "$$\n",
    "\n",
    "$$\n",
    "V = [\\vec{v}_1 \\vec{v}_2 \\dots \\vec{v}_N]\n",
    "$$"
   ]
  },
  {
   "cell_type": "code",
   "execution_count": 441,
   "metadata": {},
   "outputs": [],
   "source": [
    "M = 2*(N**2)\n",
    "V = zeros((N,M))\n",
    "U = zeros((N,M))\n",
    "\n",
    "for ind, i in enumerate(randint(0,T/k, M)):\n",
    "    V[:,ind] =  derivs[i] + samples[i]\n",
    "    U[:,ind] = (samples[i])/(1+(samples[i]))"
   ]
  },
  {
   "cell_type": "markdown",
   "metadata": {},
   "source": [
    "### Trying with NC2 equations instead"
   ]
  },
  {
   "cell_type": "markdown",
   "metadata": {},
   "source": [
    "Trying to unravel Adjacency matrix into a vector instead: "
   ]
  },
  {
   "cell_type": "markdown",
   "metadata": {},
   "source": [
    "Adjacency has symmetric structure, which means the equations would look like so:\n",
    "\n",
    "$$\n",
    "A \\vec{u} = \n",
    "\\begin{bmatrix}\n",
    "0 \\quad w_{12} \\quad w_{13} \\dots w_{1N} \\\\\n",
    "w_{21}  \\quad 0  \\quad w_{23}  \\dots w_{2N}\\\\\n",
    "\\vdots \\quad \\vdots \\quad \\ddots \\quad \\dots \\quad \\vdots \\\\\n",
    "w_{N1} \\quad w_{N2} \\quad w_{N3}  \\dots 0\\\\\n",
    "\\end{bmatrix}  \n",
    "\\begin{bmatrix} \n",
    "u_1 \\\\\n",
    "u_2 \\\\\n",
    "u_3 \\\\\n",
    "\\vdots\n",
    "\\end{bmatrix}  \n",
    "= u_1 \\cdot\n",
    "\\begin{bmatrix} \n",
    "0 \\\\\n",
    "w_{21} \\\\\n",
    "w_{31} \\\\\n",
    "\\vdots \n",
    "\\end{bmatrix}  \n",
    "+\n",
    "u_2 \\cdot\n",
    "\\begin{bmatrix} \n",
    "w_{12} \\\\\n",
    "0 \\\\\n",
    "w_{32} \\\\\n",
    "\\vdots \n",
    "\\end{bmatrix} \n",
    "\\dots \n",
    "+\n",
    "u_N \\cdot\n",
    "\\begin{bmatrix} \n",
    "w_{1N} \\\\\n",
    "\\vdots  \\\\\n",
    "w_{N-1 N} \\\\\n",
    "0 \n",
    "\\end{bmatrix} \n",
    "$$\n",
    "\n",
    "A is of order $N \\times N$, but imformation it stores is captured in $\\frac{N^2 - N}{2}$"
   ]
  },
  {
   "cell_type": "markdown",
   "metadata": {},
   "source": [
    "Unraveling the Adjacency matrix mean we only keep track of each pair of nodes, and what the weight of connecting edge is:\n",
    "\n",
    "If we pre-index;\n",
    "-   1 -> 1,2\n",
    "-   1 -> 1,3\n",
    "-   ...\n",
    "-   1 -> 1,N\n",
    "-   2 -> 2,3\n",
    "-   2 -> 2,4\n",
    "and so on till \n",
    "-   N-1 -> N"
   ]
  },
  {
   "cell_type": "markdown",
   "metadata": {},
   "source": [
    "How would $\\vec{u}$ change accordingly?\n",
    "We can notice that $w_{ij} = w_{ji}$ and they only show up in the linear combination of i, jth columns, which means they are scaled by $u_{i} + u_{j}$ Thus, we can simply convert $\\vec{u}_{N\\times 1} \\to \\vec{\\tilde{u}}_{\\frac{N^2 - N}{2}\\times 1} $ where each entry of $\\vec{\\tilde{u}}$ follows the indexing shown above; This transformation can help us compute back the Adjacency because now we just have to produce $\\vec{\\tilde{u}}^{T} \\vec{\\tilde{A}}$\n",
    "\n",
    "Where $\\vec{\\tilde{A}}$ = weights in indexing mentioned above;\n",
    " "
   ]
  },
  {
   "cell_type": "markdown",
   "metadata": {},
   "source": [
    "## Getting the structure of U\n",
    "Consider :\n",
    "$$\n",
    "    A \\vec{u} = \\vec{v}\n",
    "$$\n",
    "where A is of the form \n",
    "$$\n",
    "A = \n",
    "\\begin{bmatrix}\n",
    "0      &  \\quad a_{12}  & \\quad a_{13}  &  \\dots  & a_{1 N-1} &  \\quad a_{1N}    \\\\\n",
    "a_{12} &  \\quad 0       & \\quad a_{23}  &  \\dots & a_{2 N-1} & \\quad a_{2N}    \\\\\n",
    "a_{13} &  \\quad a_{23}  & \\quad 0       &  \\dots & a_{3 N-1} & \\quad a_{3N}    \\\\\n",
    "\\vdots &  \\quad \\vdots & \\quad \\vdots   & \\ddots &\\vdots    & \\quad \\vdots    \\\\\n",
    "a_{1N-1} & \\quad a_{2N-1}&\\quad a_{3N-1}&  \\dots & 0        & \\quad a_{N-1 N} \\\\ \n",
    "a_{1N}  & \\quad a_{2N} & \\quad a_{3N}   & \\dots & a_{N-1 N} & \\quad 0         \\\\\n",
    "\\end{bmatrix}  \n",
    "$$\n",
    "\n",
    "and hence,\n",
    "\n",
    "$$\n",
    "\\begin{bmatrix}\n",
    "0      &  \\quad a_{12}  & \\quad a_{13}  &  \\dots  & a_{1 N-1} &  \\quad a_{1N}    \\\\\n",
    "a_{12} &  \\quad 0       & \\quad a_{23}  &  \\dots & a_{2 N-1} & \\quad a_{2N}    \\\\\n",
    "a_{13} &  \\quad a_{23}  & \\quad 0       &  \\dots & a_{3 N-1} & \\quad a_{3N}    \\\\\n",
    "\\vdots &  \\quad \\vdots & \\quad \\vdots   & \\ddots &\\vdots    & \\quad \\vdots    \\\\\n",
    "a_{1N-1} & \\quad a_{2N-1}&\\quad a_{3N-1}&  \\dots & 0        & \\quad a_{N-1 N} \\\\ \n",
    "a_{1N}  & \\quad a_{2N} & \\quad a_{3N}   & \\dots & a_{N-1 N} & \\quad 0         \\\\\n",
    "\\end{bmatrix}   \n",
    "\\begin{bmatrix} \n",
    "u_1 \\\\\n",
    "u_2 \\\\\n",
    "u_3 \\\\\n",
    "\\vdots \\\\\n",
    "u_{N-1} \\\\\n",
    "u_{N}\n",
    "\\end{bmatrix}  \n",
    "=\n",
    "\\begin{bmatrix} \n",
    "v_1 \\\\\n",
    "v_2 \\\\\n",
    "v_3 \\\\\n",
    "\\vdots \\\\\n",
    "v_{N-1} \\\\\n",
    "v_{N}\n",
    "\\end{bmatrix}  \\\\ \n",
    "\\implies\n",
    "u_1 \n",
    "\\begin{bmatrix}\n",
    "0      \\\\\n",
    "a_{12} \\\\\n",
    "a_{13} \\\\\n",
    "\\vdots \\\\\n",
    "a_{1N-1}\\\\\n",
    "a_{1N} \\\\\n",
    "\\end{bmatrix}\n",
    "+\n",
    "u_2\n",
    "\\begin{bmatrix}\n",
    "a_{12} \\\\\n",
    "0       \\\\\n",
    "a_{23}  \\\\\n",
    "\\vdots \\\\\n",
    "a_{2N-1}\\\\\n",
    "a_{2N}    \\\\\n",
    "\\end{bmatrix}\n",
    "+\n",
    "\\dots \n",
    "+\n",
    "u_N\n",
    "\\begin{bmatrix}\n",
    " a_{1N}    \\\\\n",
    "a_{2N}    \\\\\n",
    "a_{3N}    \\\\\n",
    "\\vdots    \\\\\n",
    "a_{N-1 N} \\\\ \n",
    "0         \\\\\n",
    "\\end{bmatrix}\n",
    "=\n",
    "\\begin{bmatrix} \n",
    "v_1 \\\\\n",
    "v_2 \\\\\n",
    "v_3 \\\\\n",
    "\\vdots \\\\\n",
    "v_{N-1} \\\\\n",
    "v_{N}\n",
    "\\end{bmatrix} \\\\\n",
    "$$\n",
    "Let us vectorize A as follows:\n",
    "$$\n",
    "\\vec{A} = \n",
    "\\begin{bmatrix}\n",
    "a_{12} \\\\\n",
    "a_{13} \\\\\n",
    "\\vdots \\\\\n",
    "a_{1N} \\\\\n",
    "a_{23} \\\\\n",
    "a_{24} \\\\\n",
    "\\vdots \\\\\n",
    "a_{2N} \\\\\n",
    "a_{34} \\\\ \n",
    "\\vdots \\\\\n",
    "\\vdots \\\\\n",
    "a_{N-2 N-1} \\\\\n",
    "a_{N-2 N} \\\\\n",
    "a_{N-1 N}\n",
    "\\end{bmatrix} \n",
    "_{\\frac{N(N-1)}{2} \\times 1}\n",
    "$$\n",
    "\n",
    "Now, for Au = v, we have to write u as a matrix such that\n",
    "$$\n",
    "U_{N \\times {\\frac{N(N-1)}{2}}} \\vec{A} = \\vec{v}\n",
    "$$\n"
   ]
  },
  {
   "cell_type": "markdown",
   "metadata": {},
   "source": [
    "We can see that the matrix follows a structure according to the previous equations (ui, uj only appear as coefficient of aij terms), thus, U can be realised as a matrix in a recursive block manner as follows"
   ]
  },
  {
   "cell_type": "markdown",
   "metadata": {},
   "source": [
    "<!-- $$\n",
    "U = \n",
    "\\begin{bmatrix}\n",
    "\\textbf{0}_{i-1 \\times N-i} & | \\\\  \n",
    "u((i+1:N)) & |\\\\\n",
    "u_{i} I_{N-i} & |\n",
    "\\end{bmatrix}_{i = 1}^{N-1}\n",
    "$$ -->\n",
    "\n",
    "$$\n",
    "U  = \n",
    "\\begin{bmatrix}\n",
    "\\textbf{0}_{i-1 \\times N-i}  & \\rule[-1mm]{0.4mm}{0.5cm} &^{N-1}  \\\\   \n",
    "\\rule{2.5cm}{0.4pt} & \\rule[-1mm]{0.4mm}{0.5cm} &\\\\  \n",
    "u((i+1:N))  &\\rule[-1mm]{0.4mm}{0.5cm} & \\\\\n",
    "\\rule{2.5cm}{0.4pt} & \\rule[-1mm]{0.4mm}{0.5cm} & \\\\\n",
    "u_{i} I_{N-i} & \\rule[-1mm]{0.4mm}{0.5cm} &_{i = 1}\\\\\n",
    "\\end{bmatrix}\n",
    "$$\n"
   ]
  },
  {
   "cell_type": "code",
   "execution_count": 442,
   "metadata": {},
   "outputs": [],
   "source": [
    "def U_synth(u):\n",
    "    N = u.shape[0]\n",
    "    for i in range(1,N):\n",
    "\n",
    "        if i == 1:\n",
    "            uL = u[i:,:].T\n",
    "            I = u[i-1,:]*eye(N-i)\n",
    "            t = append(uL,I,axis=0)\n",
    "            U = t\n",
    "        \n",
    "        else:\n",
    "            Z = zeros((i-1,N-i))\n",
    "            uL = u[i:,:].T\n",
    "            I = u[i-1,:]*eye(N-i)\n",
    "            t = append(Z,uL,axis=0)\n",
    "            t = append(t,I,axis=0)    \n",
    "            U = append(U,t, axis=1)\n",
    "    return U"
   ]
  },
  {
   "cell_type": "code",
   "execution_count": 443,
   "metadata": {},
   "outputs": [],
   "source": [
    "num_sample = N-1//2\n",
    "u = reshape(U[:,0], (N,1))\n",
    "v = V[:,0]\n",
    "Bigu = U_synth(u)\n",
    "vV = v\n",
    "\n",
    "Bigu1 = U_synth(u)\n",
    "vV1 = v\n",
    "\n",
    "for k in range(M):\n",
    "    Bigu = append(Bigu, U_synth(reshape(U[:,k], (N,1))), axis=0)\n",
    "    vV = append(vV, V[:,k], axis = 0)\n",
    "\n",
    "\n",
    "for k in random.permutation(M):\n",
    "    Bigu1 = append(Bigu1, U_synth(reshape(U[:,k], (N,1))), axis=0)\n",
    "    vV1 = append(vV1, V[:,k], axis = 0)\n"
   ]
  },
  {
   "cell_type": "code",
   "execution_count": 444,
   "metadata": {},
   "outputs": [],
   "source": [
    "A_vec_try = dot(pinv(Bigu), vV)\n",
    "A_vec_try_1 = dot(pinv(Bigu1), vV1)"
   ]
  },
  {
   "cell_type": "code",
   "execution_count": 445,
   "metadata": {},
   "outputs": [],
   "source": [
    "def vectorizer(M):\n",
    "    N = M.shape[0]\n",
    "    vec = M[1:,0]\n",
    "    for i in range(1,N):  \n",
    "        vec = append(vec, M[i+1:,i], axis = 0)\n",
    "    return vec\n",
    "\n",
    "def matricizer(vec):\n",
    "    N = vec.shape[0]\n",
    "    N = int((1+np.sqrt(1+8*N))//2)\n",
    "    M = zeros((N,N))\n",
    "    k1 = 0\n",
    "    k2 = N-1\n",
    "    for i in range(N):\n",
    "        s = N - i-2\n",
    "        M[i+1:,i] = vec[k1:k2]\n",
    "        k1 = k2 \n",
    "        k2 += s\n",
    "    return M + M.T"
   ]
  },
  {
   "cell_type": "code",
   "execution_count": 446,
   "metadata": {},
   "outputs": [
    {
     "data": {
      "text/plain": [
       "17.0"
      ]
     },
     "execution_count": 446,
     "metadata": {},
     "output_type": "execute_result"
    }
   ],
   "source": [
    "A = matlab.double(Bigu.tolist())\n",
    "MATLAB.workspace['ww'] = A\n",
    "MATLAB.workspace['U'] = matlab.double(U.tolist())\n",
    "MATLAB.eval(\"rank(U)\")"
   ]
  },
  {
   "cell_type": "code",
   "execution_count": 447,
   "metadata": {},
   "outputs": [
    {
     "data": {
      "text/plain": [
       "200.0"
      ]
     },
     "execution_count": 447,
     "metadata": {},
     "output_type": "execute_result"
    }
   ],
   "source": [
    "MATLAB.eval(\"rank(ww)\")"
   ]
  },
  {
   "cell_type": "code",
   "execution_count": 448,
   "metadata": {},
   "outputs": [
    {
     "data": {
      "text/plain": [
       "(18543, 210)"
      ]
     },
     "execution_count": 448,
     "metadata": {},
     "output_type": "execute_result"
    }
   ],
   "source": [
    "AAAA = matricizer(A_vec_try)\n",
    "AAAA_1 = matricizer(A_vec_try_1)\n",
    "Bigu.shape"
   ]
  },
  {
   "cell_type": "code",
   "execution_count": 449,
   "metadata": {},
   "outputs": [
    {
     "data": {
      "text/plain": [
       "589109.2301765358"
      ]
     },
     "execution_count": 449,
     "metadata": {},
     "output_type": "execute_result"
    },
    {
     "data": {
      "image/png": "[encoded data removed]",
      "text/plain": [
       "<Figure size 288x288 with 2 Axes>"
      ]
     },
     "metadata": {
      "needs_background": "light"
     },
     "output_type": "display_data"
    },
    {
     "data": {
      "image/png": "[encoded data removed]",
      "text/plain": [
       "<Figure size 288x288 with 2 Axes>"
      ]
     },
     "metadata": {
      "needs_background": "light"
     },
     "output_type": "display_data"
    }
   ],
   "source": [
    "matshow(A_gt) \n",
    "colorbar()\n",
    "matshow(AAAA) \n",
    "colorbar()\n",
    "average((A_gt-AAAA)**2)\n",
    "# colorbar()"
   ]
  },
  {
   "cell_type": "code",
   "execution_count": 450,
   "metadata": {},
   "outputs": [
    {
     "data": {
      "text/plain": [
       "<matplotlib.colorbar.Colorbar at 0x19a297afca0>"
      ]
     },
     "execution_count": 450,
     "metadata": {},
     "output_type": "execute_result"
    },
    {
     "data": {
      "image/png": "[encoded data removed]",
      "text/plain": [
       "<Figure size 288x288 with 2 Axes>"
      ]
     },
     "metadata": {
      "needs_background": "light"
     },
     "output_type": "display_data"
    },
    {
     "data": {
      "image/png": "[encoded data removed]",
      "text/plain": [
       "<Figure size 288x288 with 2 Axes>"
      ]
     },
     "metadata": {
      "needs_background": "light"
     },
     "output_type": "display_data"
    }
   ],
   "source": [
    "A_new = (dot(V[:2*N], pinv(U[:2*N])))\n",
    "matshow(A_new)\n",
    "colorbar()\n",
    "matshow(A_gt)\n",
    "colorbar()\n",
    "# norm()"
   ]
  },
  {
   "cell_type": "code",
   "execution_count": 451,
   "metadata": {},
   "outputs": [
    {
     "data": {
      "text/html": [
       "<div>\n",
       "<style scoped>\n",
       "    .dataframe tbody tr th:only-of-type {\n",
       "        vertical-align: middle;\n",
       "    }\n",
       "\n",
       "    .dataframe tbody tr th {\n",
       "        vertical-align: top;\n",
       "    }\n",
       "\n",
       "    .dataframe thead th {\n",
       "        text-align: right;\n",
       "    }\n",
       "</style>\n",
       "<table border=\"1\" class=\"dataframe\">\n",
       "  <thead>\n",
       "    <tr style=\"text-align: right;\">\n",
       "      <th></th>\n",
       "      <th>0</th>\n",
       "      <th>1</th>\n",
       "      <th>2</th>\n",
       "      <th>3</th>\n",
       "      <th>4</th>\n",
       "      <th>5</th>\n",
       "      <th>6</th>\n",
       "      <th>7</th>\n",
       "      <th>8</th>\n",
       "      <th>9</th>\n",
       "      <th>...</th>\n",
       "      <th>11</th>\n",
       "      <th>12</th>\n",
       "      <th>13</th>\n",
       "      <th>14</th>\n",
       "      <th>15</th>\n",
       "      <th>16</th>\n",
       "      <th>17</th>\n",
       "      <th>18</th>\n",
       "      <th>19</th>\n",
       "      <th>20</th>\n",
       "    </tr>\n",
       "  </thead>\n",
       "  <tbody>\n",
       "    <tr>\n",
       "      <th>0</th>\n",
       "      <td>0.000000</td>\n",
       "      <td>-3.079303</td>\n",
       "      <td>668.795946</td>\n",
       "      <td>300.693518</td>\n",
       "      <td>50.526862</td>\n",
       "      <td>-16.259967</td>\n",
       "      <td>52.125522</td>\n",
       "      <td>-185.029982</td>\n",
       "      <td>-130.754997</td>\n",
       "      <td>-1472.413536</td>\n",
       "      <td>...</td>\n",
       "      <td>44.916308</td>\n",
       "      <td>990.992488</td>\n",
       "      <td>11.512804</td>\n",
       "      <td>464.151921</td>\n",
       "      <td>-617.672139</td>\n",
       "      <td>309.050671</td>\n",
       "      <td>189.840452</td>\n",
       "      <td>70.270282</td>\n",
       "      <td>-168.261254</td>\n",
       "      <td>-43.673153</td>\n",
       "    </tr>\n",
       "    <tr>\n",
       "      <th>1</th>\n",
       "      <td>-3.079303</td>\n",
       "      <td>0.000000</td>\n",
       "      <td>-8.568755</td>\n",
       "      <td>-7.909485</td>\n",
       "      <td>-3.013555</td>\n",
       "      <td>1.149998</td>\n",
       "      <td>-6.447396</td>\n",
       "      <td>3.618363</td>\n",
       "      <td>3.101448</td>\n",
       "      <td>19.951150</td>\n",
       "      <td>...</td>\n",
       "      <td>-2.397321</td>\n",
       "      <td>-11.947593</td>\n",
       "      <td>0.478987</td>\n",
       "      <td>3.263302</td>\n",
       "      <td>9.938242</td>\n",
       "      <td>-2.172715</td>\n",
       "      <td>-1.792056</td>\n",
       "      <td>-2.261502</td>\n",
       "      <td>7.555474</td>\n",
       "      <td>3.825930</td>\n",
       "    </tr>\n",
       "    <tr>\n",
       "      <th>2</th>\n",
       "      <td>668.795946</td>\n",
       "      <td>-8.568755</td>\n",
       "      <td>0.000000</td>\n",
       "      <td>1030.572257</td>\n",
       "      <td>383.943095</td>\n",
       "      <td>-11.688192</td>\n",
       "      <td>954.803021</td>\n",
       "      <td>-202.550266</td>\n",
       "      <td>50.871405</td>\n",
       "      <td>-426.244229</td>\n",
       "      <td>...</td>\n",
       "      <td>593.893978</td>\n",
       "      <td>514.203178</td>\n",
       "      <td>-150.636256</td>\n",
       "      <td>-1813.015371</td>\n",
       "      <td>-404.314506</td>\n",
       "      <td>-72.309488</td>\n",
       "      <td>47.961381</td>\n",
       "      <td>647.868882</td>\n",
       "      <td>-1141.220935</td>\n",
       "      <td>-628.777757</td>\n",
       "    </tr>\n",
       "    <tr>\n",
       "      <th>3</th>\n",
       "      <td>300.693518</td>\n",
       "      <td>-7.909485</td>\n",
       "      <td>1030.572257</td>\n",
       "      <td>0.000000</td>\n",
       "      <td>217.311488</td>\n",
       "      <td>-40.082135</td>\n",
       "      <td>137.170118</td>\n",
       "      <td>-775.564082</td>\n",
       "      <td>-636.533164</td>\n",
       "      <td>-3709.682117</td>\n",
       "      <td>...</td>\n",
       "      <td>285.360640</td>\n",
       "      <td>2875.020090</td>\n",
       "      <td>12.029260</td>\n",
       "      <td>773.300460</td>\n",
       "      <td>-699.657281</td>\n",
       "      <td>1216.289124</td>\n",
       "      <td>551.025869</td>\n",
       "      <td>376.165218</td>\n",
       "      <td>-523.404697</td>\n",
       "      <td>-340.745565</td>\n",
       "    </tr>\n",
       "    <tr>\n",
       "      <th>4</th>\n",
       "      <td>50.526862</td>\n",
       "      <td>-3.013555</td>\n",
       "      <td>383.943095</td>\n",
       "      <td>217.311488</td>\n",
       "      <td>0.000000</td>\n",
       "      <td>-16.607142</td>\n",
       "      <td>104.851754</td>\n",
       "      <td>-260.486734</td>\n",
       "      <td>-87.376501</td>\n",
       "      <td>-1419.907550</td>\n",
       "      <td>...</td>\n",
       "      <td>124.624241</td>\n",
       "      <td>969.639933</td>\n",
       "      <td>12.268146</td>\n",
       "      <td>328.923815</td>\n",
       "      <td>-564.000466</td>\n",
       "      <td>390.924955</td>\n",
       "      <td>213.403077</td>\n",
       "      <td>138.514816</td>\n",
       "      <td>-66.012708</td>\n",
       "      <td>-151.420505</td>\n",
       "    </tr>\n",
       "    <tr>\n",
       "      <th>5</th>\n",
       "      <td>-16.259967</td>\n",
       "      <td>1.149998</td>\n",
       "      <td>-11.688192</td>\n",
       "      <td>-40.082135</td>\n",
       "      <td>-16.607142</td>\n",
       "      <td>0.000000</td>\n",
       "      <td>-15.239646</td>\n",
       "      <td>0.875708</td>\n",
       "      <td>-5.973431</td>\n",
       "      <td>-17.988463</td>\n",
       "      <td>...</td>\n",
       "      <td>-15.729654</td>\n",
       "      <td>-9.431078</td>\n",
       "      <td>5.685524</td>\n",
       "      <td>70.609804</td>\n",
       "      <td>8.714495</td>\n",
       "      <td>15.944293</td>\n",
       "      <td>1.674141</td>\n",
       "      <td>-19.851676</td>\n",
       "      <td>55.019798</td>\n",
       "      <td>14.347057</td>\n",
       "    </tr>\n",
       "    <tr>\n",
       "      <th>6</th>\n",
       "      <td>52.125522</td>\n",
       "      <td>-6.447396</td>\n",
       "      <td>954.803021</td>\n",
       "      <td>137.170118</td>\n",
       "      <td>104.851754</td>\n",
       "      <td>-15.239646</td>\n",
       "      <td>0.000000</td>\n",
       "      <td>-436.397956</td>\n",
       "      <td>133.686598</td>\n",
       "      <td>-881.910951</td>\n",
       "      <td>...</td>\n",
       "      <td>277.830075</td>\n",
       "      <td>1970.247623</td>\n",
       "      <td>30.146215</td>\n",
       "      <td>-849.873374</td>\n",
       "      <td>-424.381952</td>\n",
       "      <td>42.481824</td>\n",
       "      <td>395.058088</td>\n",
       "      <td>485.673886</td>\n",
       "      <td>-871.759483</td>\n",
       "      <td>-221.778773</td>\n",
       "    </tr>\n",
       "    <tr>\n",
       "      <th>7</th>\n",
       "      <td>-185.029982</td>\n",
       "      <td>3.618363</td>\n",
       "      <td>-202.550266</td>\n",
       "      <td>-775.564082</td>\n",
       "      <td>-260.486734</td>\n",
       "      <td>0.875708</td>\n",
       "      <td>-436.397956</td>\n",
       "      <td>0.000000</td>\n",
       "      <td>-236.130842</td>\n",
       "      <td>-627.791069</td>\n",
       "      <td>...</td>\n",
       "      <td>-174.660222</td>\n",
       "      <td>-3.300612</td>\n",
       "      <td>55.595619</td>\n",
       "      <td>1384.850487</td>\n",
       "      <td>239.947137</td>\n",
       "      <td>500.812470</td>\n",
       "      <td>-10.399362</td>\n",
       "      <td>-259.575638</td>\n",
       "      <td>775.695052</td>\n",
       "      <td>143.944895</td>\n",
       "    </tr>\n",
       "    <tr>\n",
       "      <th>8</th>\n",
       "      <td>-130.754997</td>\n",
       "      <td>3.101448</td>\n",
       "      <td>50.871405</td>\n",
       "      <td>-636.533164</td>\n",
       "      <td>-87.376501</td>\n",
       "      <td>-5.973431</td>\n",
       "      <td>133.686598</td>\n",
       "      <td>-236.130842</td>\n",
       "      <td>0.000000</td>\n",
       "      <td>178.708588</td>\n",
       "      <td>...</td>\n",
       "      <td>-167.531662</td>\n",
       "      <td>415.605172</td>\n",
       "      <td>130.097889</td>\n",
       "      <td>-140.127047</td>\n",
       "      <td>230.916241</td>\n",
       "      <td>-158.535998</td>\n",
       "      <td>201.950830</td>\n",
       "      <td>-181.360914</td>\n",
       "      <td>340.280291</td>\n",
       "      <td>157.339316</td>\n",
       "    </tr>\n",
       "    <tr>\n",
       "      <th>9</th>\n",
       "      <td>-1472.413536</td>\n",
       "      <td>19.951150</td>\n",
       "      <td>-426.244229</td>\n",
       "      <td>-3709.682117</td>\n",
       "      <td>-1419.907550</td>\n",
       "      <td>-17.988463</td>\n",
       "      <td>-881.910951</td>\n",
       "      <td>-627.791069</td>\n",
       "      <td>178.708588</td>\n",
       "      <td>0.000000</td>\n",
       "      <td>...</td>\n",
       "      <td>-1128.984587</td>\n",
       "      <td>695.900082</td>\n",
       "      <td>693.916151</td>\n",
       "      <td>3172.844233</td>\n",
       "      <td>575.620298</td>\n",
       "      <td>172.008605</td>\n",
       "      <td>690.145645</td>\n",
       "      <td>-1433.298405</td>\n",
       "      <td>3871.487011</td>\n",
       "      <td>1024.142832</td>\n",
       "    </tr>\n",
       "    <tr>\n",
       "      <th>10</th>\n",
       "      <td>-506.851994</td>\n",
       "      <td>6.577463</td>\n",
       "      <td>-24.280376</td>\n",
       "      <td>-1031.266918</td>\n",
       "      <td>-356.493597</td>\n",
       "      <td>6.079960</td>\n",
       "      <td>-865.301294</td>\n",
       "      <td>75.715252</td>\n",
       "      <td>-89.022445</td>\n",
       "      <td>33.825668</td>\n",
       "      <td>...</td>\n",
       "      <td>-405.065424</td>\n",
       "      <td>-134.136509</td>\n",
       "      <td>142.061800</td>\n",
       "      <td>1645.002180</td>\n",
       "      <td>327.826318</td>\n",
       "      <td>242.845448</td>\n",
       "      <td>7.840197</td>\n",
       "      <td>-478.063382</td>\n",
       "      <td>997.910478</td>\n",
       "      <td>416.414284</td>\n",
       "    </tr>\n",
       "    <tr>\n",
       "      <th>11</th>\n",
       "      <td>44.916308</td>\n",
       "      <td>-2.397321</td>\n",
       "      <td>593.893978</td>\n",
       "      <td>285.360640</td>\n",
       "      <td>124.624241</td>\n",
       "      <td>-15.729654</td>\n",
       "      <td>277.830075</td>\n",
       "      <td>-174.660222</td>\n",
       "      <td>-167.531662</td>\n",
       "      <td>-1128.984587</td>\n",
       "      <td>...</td>\n",
       "      <td>0.000000</td>\n",
       "      <td>745.202824</td>\n",
       "      <td>24.194878</td>\n",
       "      <td>182.307575</td>\n",
       "      <td>-469.398643</td>\n",
       "      <td>119.182882</td>\n",
       "      <td>169.742454</td>\n",
       "      <td>-12.227502</td>\n",
       "      <td>-176.436574</td>\n",
       "      <td>-5.827928</td>\n",
       "    </tr>\n",
       "    <tr>\n",
       "      <th>12</th>\n",
       "      <td>990.992488</td>\n",
       "      <td>-11.947593</td>\n",
       "      <td>514.203178</td>\n",
       "      <td>2875.020090</td>\n",
       "      <td>969.639933</td>\n",
       "      <td>-9.431078</td>\n",
       "      <td>1970.247623</td>\n",
       "      <td>-3.300612</td>\n",
       "      <td>415.605172</td>\n",
       "      <td>695.900082</td>\n",
       "      <td>...</td>\n",
       "      <td>745.202824</td>\n",
       "      <td>0.000000</td>\n",
       "      <td>-293.630044</td>\n",
       "      <td>-4167.910315</td>\n",
       "      <td>-1011.994235</td>\n",
       "      <td>-1146.058993</td>\n",
       "      <td>-49.046898</td>\n",
       "      <td>936.736335</td>\n",
       "      <td>-2569.673192</td>\n",
       "      <td>-705.052184</td>\n",
       "    </tr>\n",
       "    <tr>\n",
       "      <th>13</th>\n",
       "      <td>11.512804</td>\n",
       "      <td>0.478987</td>\n",
       "      <td>-150.636256</td>\n",
       "      <td>12.029260</td>\n",
       "      <td>12.268146</td>\n",
       "      <td>5.685524</td>\n",
       "      <td>30.146215</td>\n",
       "      <td>55.595619</td>\n",
       "      <td>130.097889</td>\n",
       "      <td>693.916151</td>\n",
       "      <td>...</td>\n",
       "      <td>24.194878</td>\n",
       "      <td>-293.630044</td>\n",
       "      <td>0.000000</td>\n",
       "      <td>-450.190087</td>\n",
       "      <td>147.082828</td>\n",
       "      <td>-242.722969</td>\n",
       "      <td>-47.656439</td>\n",
       "      <td>26.193162</td>\n",
       "      <td>-85.787795</td>\n",
       "      <td>-10.505622</td>\n",
       "    </tr>\n",
       "    <tr>\n",
       "      <th>14</th>\n",
       "      <td>464.151921</td>\n",
       "      <td>3.263302</td>\n",
       "      <td>-1813.015371</td>\n",
       "      <td>773.300460</td>\n",
       "      <td>328.923815</td>\n",
       "      <td>70.609804</td>\n",
       "      <td>-849.873374</td>\n",
       "      <td>1384.850487</td>\n",
       "      <td>-140.127047</td>\n",
       "      <td>3172.844233</td>\n",
       "      <td>...</td>\n",
       "      <td>182.307575</td>\n",
       "      <td>-4167.910315</td>\n",
       "      <td>-450.190087</td>\n",
       "      <td>0.000000</td>\n",
       "      <td>1475.646671</td>\n",
       "      <td>-111.654222</td>\n",
       "      <td>-1293.306547</td>\n",
       "      <td>99.985384</td>\n",
       "      <td>-634.580785</td>\n",
       "      <td>-128.683977</td>\n",
       "    </tr>\n",
       "    <tr>\n",
       "      <th>15</th>\n",
       "      <td>-617.672139</td>\n",
       "      <td>9.938242</td>\n",
       "      <td>-404.314506</td>\n",
       "      <td>-699.657281</td>\n",
       "      <td>-564.000466</td>\n",
       "      <td>8.714495</td>\n",
       "      <td>-424.381952</td>\n",
       "      <td>239.947137</td>\n",
       "      <td>230.916241</td>\n",
       "      <td>575.620298</td>\n",
       "      <td>...</td>\n",
       "      <td>-469.398643</td>\n",
       "      <td>-1011.994235</td>\n",
       "      <td>147.082828</td>\n",
       "      <td>1475.646671</td>\n",
       "      <td>0.000000</td>\n",
       "      <td>-105.726603</td>\n",
       "      <td>-75.477903</td>\n",
       "      <td>-601.696568</td>\n",
       "      <td>1517.894913</td>\n",
       "      <td>450.468803</td>\n",
       "    </tr>\n",
       "    <tr>\n",
       "      <th>16</th>\n",
       "      <td>309.050671</td>\n",
       "      <td>-2.172715</td>\n",
       "      <td>-72.309488</td>\n",
       "      <td>1216.289124</td>\n",
       "      <td>390.924955</td>\n",
       "      <td>15.944293</td>\n",
       "      <td>42.481824</td>\n",
       "      <td>500.812470</td>\n",
       "      <td>-158.535998</td>\n",
       "      <td>172.008605</td>\n",
       "      <td>...</td>\n",
       "      <td>119.182882</td>\n",
       "      <td>-1146.058993</td>\n",
       "      <td>-242.722969</td>\n",
       "      <td>-111.654222</td>\n",
       "      <td>-105.726603</td>\n",
       "      <td>0.000000</td>\n",
       "      <td>-432.276683</td>\n",
       "      <td>147.186327</td>\n",
       "      <td>-790.465903</td>\n",
       "      <td>-86.289064</td>\n",
       "    </tr>\n",
       "    <tr>\n",
       "      <th>17</th>\n",
       "      <td>189.840452</td>\n",
       "      <td>-1.792056</td>\n",
       "      <td>47.961381</td>\n",
       "      <td>551.025869</td>\n",
       "      <td>213.403077</td>\n",
       "      <td>1.674141</td>\n",
       "      <td>395.058088</td>\n",
       "      <td>-10.399362</td>\n",
       "      <td>201.950830</td>\n",
       "      <td>690.145645</td>\n",
       "      <td>...</td>\n",
       "      <td>169.742454</td>\n",
       "      <td>-49.046898</td>\n",
       "      <td>-47.656439</td>\n",
       "      <td>-1293.306547</td>\n",
       "      <td>-75.477903</td>\n",
       "      <td>-432.276683</td>\n",
       "      <td>0.000000</td>\n",
       "      <td>240.512389</td>\n",
       "      <td>-641.985496</td>\n",
       "      <td>-148.833532</td>\n",
       "    </tr>\n",
       "    <tr>\n",
       "      <th>18</th>\n",
       "      <td>70.270282</td>\n",
       "      <td>-2.261502</td>\n",
       "      <td>647.868882</td>\n",
       "      <td>376.165218</td>\n",
       "      <td>138.514816</td>\n",
       "      <td>-19.851676</td>\n",
       "      <td>485.673886</td>\n",
       "      <td>-259.575638</td>\n",
       "      <td>-181.360914</td>\n",
       "      <td>-1433.298405</td>\n",
       "      <td>...</td>\n",
       "      <td>-12.227502</td>\n",
       "      <td>936.736335</td>\n",
       "      <td>26.193162</td>\n",
       "      <td>99.985384</td>\n",
       "      <td>-601.696568</td>\n",
       "      <td>147.186327</td>\n",
       "      <td>240.512389</td>\n",
       "      <td>0.000000</td>\n",
       "      <td>-163.401770</td>\n",
       "      <td>-5.259642</td>\n",
       "    </tr>\n",
       "    <tr>\n",
       "      <th>19</th>\n",
       "      <td>-168.261254</td>\n",
       "      <td>7.555474</td>\n",
       "      <td>-1141.220935</td>\n",
       "      <td>-523.404697</td>\n",
       "      <td>-66.012708</td>\n",
       "      <td>55.019798</td>\n",
       "      <td>-871.759483</td>\n",
       "      <td>775.695052</td>\n",
       "      <td>340.280291</td>\n",
       "      <td>3871.487011</td>\n",
       "      <td>...</td>\n",
       "      <td>-176.436574</td>\n",
       "      <td>-2569.673192</td>\n",
       "      <td>-85.787795</td>\n",
       "      <td>-634.580785</td>\n",
       "      <td>1517.894913</td>\n",
       "      <td>-790.465903</td>\n",
       "      <td>-641.985496</td>\n",
       "      <td>-163.401770</td>\n",
       "      <td>0.000000</td>\n",
       "      <td>276.195981</td>\n",
       "    </tr>\n",
       "    <tr>\n",
       "      <th>20</th>\n",
       "      <td>-43.673153</td>\n",
       "      <td>3.825930</td>\n",
       "      <td>-628.777757</td>\n",
       "      <td>-340.745565</td>\n",
       "      <td>-151.420505</td>\n",
       "      <td>14.347057</td>\n",
       "      <td>-221.778773</td>\n",
       "      <td>143.944895</td>\n",
       "      <td>157.339316</td>\n",
       "      <td>1024.142832</td>\n",
       "      <td>...</td>\n",
       "      <td>-5.827928</td>\n",
       "      <td>-705.052184</td>\n",
       "      <td>-10.505622</td>\n",
       "      <td>-128.683977</td>\n",
       "      <td>450.468803</td>\n",
       "      <td>-86.289064</td>\n",
       "      <td>-148.833532</td>\n",
       "      <td>-5.259642</td>\n",
       "      <td>276.195981</td>\n",
       "      <td>0.000000</td>\n",
       "    </tr>\n",
       "  </tbody>\n",
       "</table>\n",
       "<p>21 rows × 21 columns</p>\n",
       "</div>"
      ],
      "text/plain": [
       "             0          1            2            3            4          5   \\\n",
       "0      0.000000  -3.079303   668.795946   300.693518    50.526862 -16.259967   \n",
       "1     -3.079303   0.000000    -8.568755    -7.909485    -3.013555   1.149998   \n",
       "2    668.795946  -8.568755     0.000000  1030.572257   383.943095 -11.688192   \n",
       "3    300.693518  -7.909485  1030.572257     0.000000   217.311488 -40.082135   \n",
       "4     50.526862  -3.013555   383.943095   217.311488     0.000000 -16.607142   \n",
       "5    -16.259967   1.149998   -11.688192   -40.082135   -16.607142   0.000000   \n",
       "6     52.125522  -6.447396   954.803021   137.170118   104.851754 -15.239646   \n",
       "7   -185.029982   3.618363  -202.550266  -775.564082  -260.486734   0.875708   \n",
       "8   -130.754997   3.101448    50.871405  -636.533164   -87.376501  -5.973431   \n",
       "9  -1472.413536  19.951150  -426.244229 -3709.682117 -1419.907550 -17.988463   \n",
       "10  -506.851994   6.577463   -24.280376 -1031.266918  -356.493597   6.079960   \n",
       "11    44.916308  -2.397321   593.893978   285.360640   124.624241 -15.729654   \n",
       "12   990.992488 -11.947593   514.203178  2875.020090   969.639933  -9.431078   \n",
       "13    11.512804   0.478987  -150.636256    12.029260    12.268146   5.685524   \n",
       "14   464.151921   3.263302 -1813.015371   773.300460   328.923815  70.609804   \n",
       "15  -617.672139   9.938242  -404.314506  -699.657281  -564.000466   8.714495   \n",
       "16   309.050671  -2.172715   -72.309488  1216.289124   390.924955  15.944293   \n",
       "17   189.840452  -1.792056    47.961381   551.025869   213.403077   1.674141   \n",
       "18    70.270282  -2.261502   647.868882   376.165218   138.514816 -19.851676   \n",
       "19  -168.261254   7.555474 -1141.220935  -523.404697   -66.012708  55.019798   \n",
       "20   -43.673153   3.825930  -628.777757  -340.745565  -151.420505  14.347057   \n",
       "\n",
       "             6            7           8            9   ...           11  \\\n",
       "0     52.125522  -185.029982 -130.754997 -1472.413536  ...    44.916308   \n",
       "1     -6.447396     3.618363    3.101448    19.951150  ...    -2.397321   \n",
       "2    954.803021  -202.550266   50.871405  -426.244229  ...   593.893978   \n",
       "3    137.170118  -775.564082 -636.533164 -3709.682117  ...   285.360640   \n",
       "4    104.851754  -260.486734  -87.376501 -1419.907550  ...   124.624241   \n",
       "5    -15.239646     0.875708   -5.973431   -17.988463  ...   -15.729654   \n",
       "6      0.000000  -436.397956  133.686598  -881.910951  ...   277.830075   \n",
       "7   -436.397956     0.000000 -236.130842  -627.791069  ...  -174.660222   \n",
       "8    133.686598  -236.130842    0.000000   178.708588  ...  -167.531662   \n",
       "9   -881.910951  -627.791069  178.708588     0.000000  ... -1128.984587   \n",
       "10  -865.301294    75.715252  -89.022445    33.825668  ...  -405.065424   \n",
       "11   277.830075  -174.660222 -167.531662 -1128.984587  ...     0.000000   \n",
       "12  1970.247623    -3.300612  415.605172   695.900082  ...   745.202824   \n",
       "13    30.146215    55.595619  130.097889   693.916151  ...    24.194878   \n",
       "14  -849.873374  1384.850487 -140.127047  3172.844233  ...   182.307575   \n",
       "15  -424.381952   239.947137  230.916241   575.620298  ...  -469.398643   \n",
       "16    42.481824   500.812470 -158.535998   172.008605  ...   119.182882   \n",
       "17   395.058088   -10.399362  201.950830   690.145645  ...   169.742454   \n",
       "18   485.673886  -259.575638 -181.360914 -1433.298405  ...   -12.227502   \n",
       "19  -871.759483   775.695052  340.280291  3871.487011  ...  -176.436574   \n",
       "20  -221.778773   143.944895  157.339316  1024.142832  ...    -5.827928   \n",
       "\n",
       "             12          13           14           15           16  \\\n",
       "0    990.992488   11.512804   464.151921  -617.672139   309.050671   \n",
       "1    -11.947593    0.478987     3.263302     9.938242    -2.172715   \n",
       "2    514.203178 -150.636256 -1813.015371  -404.314506   -72.309488   \n",
       "3   2875.020090   12.029260   773.300460  -699.657281  1216.289124   \n",
       "4    969.639933   12.268146   328.923815  -564.000466   390.924955   \n",
       "5     -9.431078    5.685524    70.609804     8.714495    15.944293   \n",
       "6   1970.247623   30.146215  -849.873374  -424.381952    42.481824   \n",
       "7     -3.300612   55.595619  1384.850487   239.947137   500.812470   \n",
       "8    415.605172  130.097889  -140.127047   230.916241  -158.535998   \n",
       "9    695.900082  693.916151  3172.844233   575.620298   172.008605   \n",
       "10  -134.136509  142.061800  1645.002180   327.826318   242.845448   \n",
       "11   745.202824   24.194878   182.307575  -469.398643   119.182882   \n",
       "12     0.000000 -293.630044 -4167.910315 -1011.994235 -1146.058993   \n",
       "13  -293.630044    0.000000  -450.190087   147.082828  -242.722969   \n",
       "14 -4167.910315 -450.190087     0.000000  1475.646671  -111.654222   \n",
       "15 -1011.994235  147.082828  1475.646671     0.000000  -105.726603   \n",
       "16 -1146.058993 -242.722969  -111.654222  -105.726603     0.000000   \n",
       "17   -49.046898  -47.656439 -1293.306547   -75.477903  -432.276683   \n",
       "18   936.736335   26.193162    99.985384  -601.696568   147.186327   \n",
       "19 -2569.673192  -85.787795  -634.580785  1517.894913  -790.465903   \n",
       "20  -705.052184  -10.505622  -128.683977   450.468803   -86.289064   \n",
       "\n",
       "             17           18           19           20  \n",
       "0    189.840452    70.270282  -168.261254   -43.673153  \n",
       "1     -1.792056    -2.261502     7.555474     3.825930  \n",
       "2     47.961381   647.868882 -1141.220935  -628.777757  \n",
       "3    551.025869   376.165218  -523.404697  -340.745565  \n",
       "4    213.403077   138.514816   -66.012708  -151.420505  \n",
       "5      1.674141   -19.851676    55.019798    14.347057  \n",
       "6    395.058088   485.673886  -871.759483  -221.778773  \n",
       "7    -10.399362  -259.575638   775.695052   143.944895  \n",
       "8    201.950830  -181.360914   340.280291   157.339316  \n",
       "9    690.145645 -1433.298405  3871.487011  1024.142832  \n",
       "10     7.840197  -478.063382   997.910478   416.414284  \n",
       "11   169.742454   -12.227502  -176.436574    -5.827928  \n",
       "12   -49.046898   936.736335 -2569.673192  -705.052184  \n",
       "13   -47.656439    26.193162   -85.787795   -10.505622  \n",
       "14 -1293.306547    99.985384  -634.580785  -128.683977  \n",
       "15   -75.477903  -601.696568  1517.894913   450.468803  \n",
       "16  -432.276683   147.186327  -790.465903   -86.289064  \n",
       "17     0.000000   240.512389  -641.985496  -148.833532  \n",
       "18   240.512389     0.000000  -163.401770    -5.259642  \n",
       "19  -641.985496  -163.401770     0.000000   276.195981  \n",
       "20  -148.833532    -5.259642   276.195981     0.000000  \n",
       "\n",
       "[21 rows x 21 columns]"
      ]
     },
     "execution_count": 451,
     "metadata": {},
     "output_type": "execute_result"
    }
   ],
   "source": [
    "pd.DataFrame(AAAA)"
   ]
  },
  {
   "cell_type": "code",
   "execution_count": 452,
   "metadata": {},
   "outputs": [
    {
     "data": {
      "text/plain": [
       "(0.4080600666035719,\n",
       " 1215.1341930444607,\n",
       " 1215.1305655522926,\n",
       " 0.42249076134597535)"
      ]
     },
     "execution_count": 452,
     "metadata": {},
     "output_type": "execute_result"
    },
    {
     "data": {
      "image/png": "[encoded data removed]",
      "text/plain": [
       "<Figure size 1152x144 with 2 Axes>"
      ]
     },
     "metadata": {
      "needs_background": "light"
     },
     "output_type": "display_data"
    },
    {
     "data": {
      "image/png": "[encoded data removed]",
      "text/plain": [
       "<Figure size 1152x144 with 2 Axes>"
      ]
     },
     "metadata": {
      "needs_background": "light"
     },
     "output_type": "display_data"
    },
    {
     "data": {
      "image/png": "[encoded data removed]",
      "text/plain": [
       "<Figure size 1152x144 with 2 Axes>"
      ]
     },
     "metadata": {
      "needs_background": "light"
     },
     "output_type": "display_data"
    },
    {
     "data": {
      "image/png": "[encoded data removed]",
      "text/plain": [
       "<Figure size 1152x144 with 2 Axes>"
      ]
     },
     "metadata": {
      "needs_background": "light"
     },
     "output_type": "display_data"
    }
   ],
   "source": [
    "# norm(matricizer(A_vec_try).dot(U) - V)\n",
    "matshow(dot(AAAA,U))\n",
    "colorbar()\n",
    "matshow(V)\n",
    "colorbar()\n",
    "matshow(dot(A_gt,U))\n",
    "colorbar()\n",
    "matshow(dot(AAAA_1,U))\n",
    "colorbar()\n",
    "norm(dot(AAAA,U)-V), norm(dot(AAAA,U)), norm(V), norm(dot(A_gt,U)-V)"
   ]
  },
  {
   "cell_type": "code",
   "execution_count": 453,
   "metadata": {},
   "outputs": [
    {
     "data": {
      "text/plain": [
       "21.0"
      ]
     },
     "execution_count": 453,
     "metadata": {},
     "output_type": "execute_result"
    }
   ],
   "source": [
    "A_gt_mat = matlab.double(A_gt.tolist())\n",
    "MATLAB.workspace[\"aa\"] = A_gt_mat\n",
    "MATLAB.eval(\"rank(aa)\")"
   ]
  },
  {
   "cell_type": "code",
   "execution_count": 454,
   "metadata": {},
   "outputs": [
    {
     "data": {
      "text/plain": [
       "[<matplotlib.lines.Line2D at 0x19a29b89550>]"
      ]
     },
     "execution_count": 454,
     "metadata": {},
     "output_type": "execute_result"
    },
    {
     "data": {
      "image/png": "[encoded data removed]",
      "text/plain": [
       "<Figure size 432x288 with 1 Axes>"
      ]
     },
     "metadata": {
      "needs_background": "light"
     },
     "output_type": "display_data"
    }
   ],
   "source": [
    "plot((dot(AAAA,U) -V).flatten())\n",
    "# colorbar()"
   ]
  },
  {
   "cell_type": "code",
   "execution_count": 455,
   "metadata": {},
   "outputs": [
    {
     "data": {
      "text/plain": [
       "(12206.425011807667, 17262.49179978857)"
      ]
     },
     "execution_count": 455,
     "metadata": {},
     "output_type": "execute_result"
    }
   ],
   "source": [
    "norm(A_vec_try - A_vec_try_1), norm(AAAA - AAAA_1)"
   ]
  },
  {
   "cell_type": "code",
   "execution_count": 456,
   "metadata": {},
   "outputs": [
    {
     "data": {
      "text/plain": [
       "<matplotlib.colorbar.Colorbar at 0x19a29c3b280>"
      ]
     },
     "execution_count": 456,
     "metadata": {},
     "output_type": "execute_result"
    },
    {
     "data": {
      "image/png": "[encoded data removed]",
      "text/plain": [
       "<Figure size 288x1152 with 2 Axes>"
      ]
     },
     "metadata": {
      "needs_background": "light"
     },
     "output_type": "display_data"
    },
    {
     "data": {
      "image/png": "[encoded data removed]",
      "text/plain": [
       "<Figure size 288x1152 with 2 Axes>"
      ]
     },
     "metadata": {
      "needs_background": "light"
     },
     "output_type": "display_data"
    }
   ],
   "source": [
    "matshow(Bigu)\n",
    "colorbar()\n",
    "matshow(Bigu1)\n",
    "colorbar()"
   ]
  },
  {
   "cell_type": "code",
   "execution_count": 457,
   "metadata": {},
   "outputs": [
    {
     "data": {
      "text/plain": [
       "(200, (18543, 210))"
      ]
     },
     "execution_count": 457,
     "metadata": {},
     "output_type": "execute_result"
    }
   ],
   "source": [
    "linalg.matrix_rank(Bigu), shape(Bigu)"
   ]
  },
  {
   "cell_type": "code",
   "execution_count": 458,
   "metadata": {},
   "outputs": [
    {
     "data": {
      "text/plain": [
       "(200, (18543, 210))"
      ]
     },
     "execution_count": 458,
     "metadata": {},
     "output_type": "execute_result"
    }
   ],
   "source": [
    "linalg.matrix_rank(Bigu1), shape(Bigu1)"
   ]
  },
  {
   "cell_type": "code",
   "execution_count": 459,
   "metadata": {},
   "outputs": [
    {
     "data": {
      "text/plain": [
       "4.699798436761765e-15"
      ]
     },
     "execution_count": 459,
     "metadata": {},
     "output_type": "execute_result"
    },
    {
     "data": {
      "image/png": "[encoded data removed]",
      "text/plain": [
       "<Figure size 288x1152 with 1 Axes>"
      ]
     },
     "metadata": {
      "needs_background": "light"
     },
     "output_type": "display_data"
    }
   ],
   "source": [
    "q = (dot(A_gt,u))\n",
    "p = (dot(U_synth(u),vectorizer(A_gt))).reshape((21,1))\n",
    "# matshow(hstack((q,p)))\n",
    "\n",
    "Q = append(q,zeros((21,1)),axis=1)\n",
    "Q = append(Q,p,axis=1)\n",
    "\n",
    "matshow(Q)\n",
    "norm(q-p)"
   ]
  },
  {
   "cell_type": "code",
   "execution_count": 460,
   "metadata": {},
   "outputs": [
    {
     "data": {
      "text/plain": [
       "(21, 10, 11)"
      ]
     },
     "execution_count": 460,
     "metadata": {},
     "output_type": "execute_result"
    }
   ],
   "source": [
    "r = linalg.matrix_rank \n",
    "r(A_gt) , r(U[:,:N]), r(V[:,:2*N])"
   ]
  },
  {
   "cell_type": "code",
   "execution_count": 461,
   "metadata": {},
   "outputs": [
    {
     "data": {
      "text/plain": [
       "<matplotlib.image.AxesImage at 0x19a29d1f1f0>"
      ]
     },
     "execution_count": 461,
     "metadata": {},
     "output_type": "execute_result"
    },
    {
     "data": {
      "image/png": "[encoded data removed]",
      "text/plain": [
       "<Figure size 685.714x288 with 1 Axes>"
      ]
     },
     "metadata": {
      "needs_background": "light"
     },
     "output_type": "display_data"
    }
   ],
   "source": [
    "matshow(U[:,:50])"
   ]
  }
 ],
 "metadata": {
  "interpreter": {
   "hash": "d28cfe9b801dc90300b9fc0f66b03165a7e2df121cf51f00b207dbb24586521e"
  },
  "kernelspec": {
   "display_name": "Python 3 (ipykernel)",
   "language": "python",
   "name": "python3"
  },
  "language_info": {
   "codemirror_mode": {
    "name": "ipython",
    "version": 3
   },
   "file_extension": ".py",
   "mimetype": "text/x-python",
   "name": "python",
   "nbconvert_exporter": "python",
   "pygments_lexer": "ipython3",
   "version": "3.9.9"
  }
 },
 "nbformat": 4,
 "nbformat_minor": 2
}
