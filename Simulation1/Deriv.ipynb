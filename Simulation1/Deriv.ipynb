{
 "cells": [
  {
   "cell_type": "markdown",
   "metadata": {},
   "source": [
    "## Derivative based graph learning in P-regime "
   ]
  },
  {
   "cell_type": "code",
   "execution_count": 2,
   "metadata": {},
   "outputs": [
    {
     "name": "stdout",
     "output_type": "stream",
     "text": [
      "%pylab is deprecated, use %matplotlib inline and import the required libraries.\n",
      "Populating the interactive namespace from numpy and matplotlib\n"
     ]
    }
   ],
   "source": [
    "%pylab inline\n",
    "import pandas as pd\n",
    "import matlab\n",
    "import matlab.engine\n",
    "MATLAB = matlab.engine.start_matlab()"
   ]
  },
  {
   "cell_type": "markdown",
   "metadata": {},
   "source": [
    "### P regime, N=50 Nodes\n",
    "The set of functions $M$ for P-regime of networks:\n",
    "$$\n",
    "    M = (M_0, M_1,M_2) = (-(\\cdot)^{0.5} , 1, (\\cdot)^{0.2})\n",
    "$$\n",
    "\n",
    "Central equation for node $i$:\n",
    "$$\n",
    "\\frac{dx_{i}}{dt} = - x_{i}^{0.5} + \\sum_{j=1}^{N} A_{ij} x_{j}^{0.2}\n",
    "$$\n",
    "\n",
    "Vectorized and using power notation:\n",
    "\n",
    "$$\n",
    "\\frac{d \\vec{x}}{dt} = - \\vec{x}^{0.5} + I_{N \\times N} A \\vec{x}^{0.2}\n",
    "$$\n",
    "\n",
    "We will evolve the system as per the above equation with the following adjacency matrix:"
   ]
  },
  {
   "cell_type": "code",
   "execution_count": 3,
   "metadata": {},
   "outputs": [],
   "source": [
    "N = 21\n",
    "T =10000\n",
    "A_gt = abs(rand(N,N))\n",
    "for i in range(N): A_gt[i,i] = 0\n",
    "A_gt = (A_gt + A_gt.T)/2"
   ]
  },
  {
   "cell_type": "code",
   "execution_count": 4,
   "metadata": {},
   "outputs": [
    {
     "data": {
      "text/plain": [
       "(array([[0.        , 0.38084512, 0.86718107, 0.37224868, 0.25796675,\n",
       "         0.10449749, 0.34084194, 0.59413951, 0.10423829, 0.55516365,\n",
       "         0.82679494, 0.70715274, 0.48371882, 0.68702227, 0.82541649,\n",
       "         0.02894699, 0.60735182, 0.25574291, 0.41224824, 0.55349582,\n",
       "         0.93655845],\n",
       "        [0.38084512, 0.        , 0.58009582, 0.60919837, 0.8542557 ,\n",
       "         0.73137861, 0.53198172, 0.65011378, 0.67572481, 0.75400345,\n",
       "         0.61168355, 0.36911568, 0.34393513, 0.26758712, 0.2870202 ,\n",
       "         0.72574643, 0.64722636, 0.27747281, 0.61954431, 0.2379748 ,\n",
       "         0.55097311],\n",
       "        [0.86718107, 0.58009582, 0.        , 0.53411225, 0.56045736,\n",
       "         0.36880733, 0.33027355, 0.79562575, 0.73253068, 0.21297578,\n",
       "         0.56816675, 0.40320156, 0.53912555, 0.28429825, 0.08483523,\n",
       "         0.75460298, 0.68897233, 0.0343112 , 0.34036491, 0.35367763,\n",
       "         0.47206969],\n",
       "        [0.37224868, 0.60919837, 0.53411225, 0.        , 0.07503311,\n",
       "         0.17721532, 0.25637562, 0.32931493, 0.88407038, 0.20565666,\n",
       "         0.36262271, 0.47226823, 0.55903688, 0.15702993, 0.4672386 ,\n",
       "         0.69697881, 0.08062708, 0.89611269, 0.52352731, 0.28445636,\n",
       "         0.36820015],\n",
       "        [0.25796675, 0.8542557 , 0.56045736, 0.07503311, 0.        ,\n",
       "         0.55766879, 0.18966715, 0.29279135, 0.54668196, 0.36451574,\n",
       "         0.4612527 , 0.55232863, 0.62276601, 0.78136292, 0.5868926 ,\n",
       "         0.79306175, 0.65951495, 0.57410535, 0.64456531, 0.27449844,\n",
       "         0.29012621],\n",
       "        [0.10449749, 0.73137861, 0.36880733, 0.17721532, 0.55766879,\n",
       "         0.        , 0.27348366, 0.8253546 , 0.2537251 , 0.64699685,\n",
       "         0.56310231, 0.64995317, 0.63512051, 0.68799373, 0.17491055,\n",
       "         0.69505551, 0.68619421, 0.18416957, 0.73121576, 0.08280554,\n",
       "         0.80691217],\n",
       "        [0.34084194, 0.53198172, 0.33027355, 0.25637562, 0.18966715,\n",
       "         0.27348366, 0.        , 0.40771682, 0.60535297, 0.65618197,\n",
       "         0.22205126, 0.76779314, 0.66035586, 0.1827948 , 0.31622831,\n",
       "         0.71198052, 0.33006695, 0.65378464, 0.62697678, 0.37537738,\n",
       "         0.33439207],\n",
       "        [0.59413951, 0.65011378, 0.79562575, 0.32931493, 0.29279135,\n",
       "         0.8253546 , 0.40771682, 0.        , 0.3400282 , 0.51576664,\n",
       "         0.61428287, 0.65870862, 0.53919076, 0.792592  , 0.09093214,\n",
       "         0.5844696 , 0.80634396, 0.27632925, 0.14173721, 0.88363681,\n",
       "         0.59962783],\n",
       "        [0.10423829, 0.67572481, 0.73253068, 0.88407038, 0.54668196,\n",
       "         0.2537251 , 0.60535297, 0.3400282 , 0.        , 0.10273073,\n",
       "         0.43353779, 0.58534615, 0.30723812, 0.34901031, 0.55531184,\n",
       "         0.74473184, 0.78373354, 0.57690676, 0.53225073, 0.25117383,\n",
       "         0.35711288],\n",
       "        [0.55516365, 0.75400345, 0.21297578, 0.20565666, 0.36451574,\n",
       "         0.64699685, 0.65618197, 0.51576664, 0.10273073, 0.        ,\n",
       "         0.46800176, 0.71439337, 0.80543101, 0.12860912, 0.7328204 ,\n",
       "         0.40005539, 0.64185561, 0.7486213 , 0.20051502, 0.77458092,\n",
       "         0.75489581],\n",
       "        [0.82679494, 0.61168355, 0.56816675, 0.36262271, 0.4612527 ,\n",
       "         0.56310231, 0.22205126, 0.61428287, 0.43353779, 0.46800176,\n",
       "         0.        , 0.61692869, 0.3773496 , 0.49880417, 0.59576342,\n",
       "         0.66295435, 0.67633667, 0.38744023, 0.18411368, 0.51607635,\n",
       "         0.48077053],\n",
       "        [0.70715274, 0.36911568, 0.40320156, 0.47226823, 0.55232863,\n",
       "         0.64995317, 0.76779314, 0.65870862, 0.58534615, 0.71439337,\n",
       "         0.61692869, 0.        , 0.0733907 , 0.7707496 , 0.53923839,\n",
       "         0.42283127, 0.24175596, 0.58036279, 0.36441969, 0.74731046,\n",
       "         0.53805324],\n",
       "        [0.48371882, 0.34393513, 0.53912555, 0.55903688, 0.62276601,\n",
       "         0.63512051, 0.66035586, 0.53919076, 0.30723812, 0.80543101,\n",
       "         0.3773496 , 0.0733907 , 0.        , 0.40264242, 0.440368  ,\n",
       "         0.54827074, 0.29432664, 0.80889642, 0.56726686, 0.5871732 ,\n",
       "         0.42120646],\n",
       "        [0.68702227, 0.26758712, 0.28429825, 0.15702993, 0.78136292,\n",
       "         0.68799373, 0.1827948 , 0.792592  , 0.34901031, 0.12860912,\n",
       "         0.49880417, 0.7707496 , 0.40264242, 0.        , 0.45684717,\n",
       "         0.85773747, 0.13666559, 0.57247056, 0.43879655, 0.09720899,\n",
       "         0.32887757],\n",
       "        [0.82541649, 0.2870202 , 0.08483523, 0.4672386 , 0.5868926 ,\n",
       "         0.17491055, 0.31622831, 0.09093214, 0.55531184, 0.7328204 ,\n",
       "         0.59576342, 0.53923839, 0.440368  , 0.45684717, 0.        ,\n",
       "         0.6583851 , 0.35233334, 0.44340734, 0.59045698, 0.49850974,\n",
       "         0.1878603 ],\n",
       "        [0.02894699, 0.72574643, 0.75460298, 0.69697881, 0.79306175,\n",
       "         0.69505551, 0.71198052, 0.5844696 , 0.74473184, 0.40005539,\n",
       "         0.66295435, 0.42283127, 0.54827074, 0.85773747, 0.6583851 ,\n",
       "         0.        , 0.33487845, 0.71969309, 0.29574953, 0.74510485,\n",
       "         0.54164893],\n",
       "        [0.60735182, 0.64722636, 0.68897233, 0.08062708, 0.65951495,\n",
       "         0.68619421, 0.33006695, 0.80634396, 0.78373354, 0.64185561,\n",
       "         0.67633667, 0.24175596, 0.29432664, 0.13666559, 0.35233334,\n",
       "         0.33487845, 0.        , 0.92450851, 0.60860659, 0.69103749,\n",
       "         0.72285273],\n",
       "        [0.25574291, 0.27747281, 0.0343112 , 0.89611269, 0.57410535,\n",
       "         0.18416957, 0.65378464, 0.27632925, 0.57690676, 0.7486213 ,\n",
       "         0.38744023, 0.58036279, 0.80889642, 0.57247056, 0.44340734,\n",
       "         0.71969309, 0.92450851, 0.        , 0.31286125, 0.41720283,\n",
       "         0.71669933],\n",
       "        [0.41224824, 0.61954431, 0.34036491, 0.52352731, 0.64456531,\n",
       "         0.73121576, 0.62697678, 0.14173721, 0.53225073, 0.20051502,\n",
       "         0.18411368, 0.36441969, 0.56726686, 0.43879655, 0.59045698,\n",
       "         0.29574953, 0.60860659, 0.31286125, 0.        , 0.61466072,\n",
       "         0.94226196],\n",
       "        [0.55349582, 0.2379748 , 0.35367763, 0.28445636, 0.27449844,\n",
       "         0.08280554, 0.37537738, 0.88363681, 0.25117383, 0.77458092,\n",
       "         0.51607635, 0.74731046, 0.5871732 , 0.09720899, 0.49850974,\n",
       "         0.74510485, 0.69103749, 0.41720283, 0.61466072, 0.        ,\n",
       "         0.79603746],\n",
       "        [0.93655845, 0.55097311, 0.47206969, 0.36820015, 0.29012621,\n",
       "         0.80691217, 0.33439207, 0.59962783, 0.35711288, 0.75489581,\n",
       "         0.48077053, 0.53805324, 0.42120646, 0.32887757, 0.1878603 ,\n",
       "         0.54164893, 0.72285273, 0.71669933, 0.94226196, 0.79603746,\n",
       "         0.        ]]),\n",
       " array([[0., 0., 0., 0., 0., 0., 0., 0., 0., 0., 0., 0., 0., 0., 0., 0.,\n",
       "         0., 0., 0., 0., 0.],\n",
       "        [0., 0., 0., 0., 0., 0., 0., 0., 0., 0., 0., 0., 0., 0., 0., 0.,\n",
       "         0., 0., 0., 0., 0.],\n",
       "        [0., 0., 0., 0., 0., 0., 0., 0., 0., 0., 0., 0., 0., 0., 0., 0.,\n",
       "         0., 0., 0., 0., 0.],\n",
       "        [0., 0., 0., 0., 0., 0., 0., 0., 0., 0., 0., 0., 0., 0., 0., 0.,\n",
       "         0., 0., 0., 0., 0.],\n",
       "        [0., 0., 0., 0., 0., 0., 0., 0., 0., 0., 0., 0., 0., 0., 0., 0.,\n",
       "         0., 0., 0., 0., 0.],\n",
       "        [0., 0., 0., 0., 0., 0., 0., 0., 0., 0., 0., 0., 0., 0., 0., 0.,\n",
       "         0., 0., 0., 0., 0.],\n",
       "        [0., 0., 0., 0., 0., 0., 0., 0., 0., 0., 0., 0., 0., 0., 0., 0.,\n",
       "         0., 0., 0., 0., 0.],\n",
       "        [0., 0., 0., 0., 0., 0., 0., 0., 0., 0., 0., 0., 0., 0., 0., 0.,\n",
       "         0., 0., 0., 0., 0.],\n",
       "        [0., 0., 0., 0., 0., 0., 0., 0., 0., 0., 0., 0., 0., 0., 0., 0.,\n",
       "         0., 0., 0., 0., 0.],\n",
       "        [0., 0., 0., 0., 0., 0., 0., 0., 0., 0., 0., 0., 0., 0., 0., 0.,\n",
       "         0., 0., 0., 0., 0.],\n",
       "        [0., 0., 0., 0., 0., 0., 0., 0., 0., 0., 0., 0., 0., 0., 0., 0.,\n",
       "         0., 0., 0., 0., 0.],\n",
       "        [0., 0., 0., 0., 0., 0., 0., 0., 0., 0., 0., 0., 0., 0., 0., 0.,\n",
       "         0., 0., 0., 0., 0.],\n",
       "        [0., 0., 0., 0., 0., 0., 0., 0., 0., 0., 0., 0., 0., 0., 0., 0.,\n",
       "         0., 0., 0., 0., 0.],\n",
       "        [0., 0., 0., 0., 0., 0., 0., 0., 0., 0., 0., 0., 0., 0., 0., 0.,\n",
       "         0., 0., 0., 0., 0.],\n",
       "        [0., 0., 0., 0., 0., 0., 0., 0., 0., 0., 0., 0., 0., 0., 0., 0.,\n",
       "         0., 0., 0., 0., 0.],\n",
       "        [0., 0., 0., 0., 0., 0., 0., 0., 0., 0., 0., 0., 0., 0., 0., 0.,\n",
       "         0., 0., 0., 0., 0.],\n",
       "        [0., 0., 0., 0., 0., 0., 0., 0., 0., 0., 0., 0., 0., 0., 0., 0.,\n",
       "         0., 0., 0., 0., 0.],\n",
       "        [0., 0., 0., 0., 0., 0., 0., 0., 0., 0., 0., 0., 0., 0., 0., 0.,\n",
       "         0., 0., 0., 0., 0.],\n",
       "        [0., 0., 0., 0., 0., 0., 0., 0., 0., 0., 0., 0., 0., 0., 0., 0.,\n",
       "         0., 0., 0., 0., 0.],\n",
       "        [0., 0., 0., 0., 0., 0., 0., 0., 0., 0., 0., 0., 0., 0., 0., 0.,\n",
       "         0., 0., 0., 0., 0.],\n",
       "        [0., 0., 0., 0., 0., 0., 0., 0., 0., 0., 0., 0., 0., 0., 0., 0.,\n",
       "         0., 0., 0., 0., 0.]]))"
      ]
     },
     "execution_count": 4,
     "metadata": {},
     "output_type": "execute_result"
    }
   ],
   "source": [
    "A_gt, A_gt - A_gt.T\n",
    "# checking if the ground truth matrix is symmetric"
   ]
  },
  {
   "cell_type": "code",
   "execution_count": 5,
   "metadata": {},
   "outputs": [
    {
     "data": {
      "text/plain": [
       "array([1.16772582, 0.39757913, 0.66459298, 0.0601471 , 1.471091  ,\n",
       "       0.98040353, 0.16206257, 0.95789907, 0.47455535, 0.55714724,\n",
       "       0.94930723, 0.48470885, 1.41045588, 0.04198504, 1.21036434,\n",
       "       0.75908886, 0.73606657, 0.84114719, 0.13701515, 1.14226779,\n",
       "       0.46010253])"
      ]
     },
     "execution_count": 5,
     "metadata": {},
     "output_type": "execute_result"
    }
   ],
   "source": [
    "dt = 0.001\n",
    "x0 = abs(randn(N,))\n",
    "x0\n",
    "#  setting up initial conditions and the time resolution"
   ]
  },
  {
   "cell_type": "code",
   "execution_count": 6,
   "metadata": {},
   "outputs": [],
   "source": [
    "x = x0\n",
    "Traj = []\n",
    "\n",
    "for i in range(T):\n",
    "    Traj.append(x)\n",
    "    x = x + (-(x)+ dot(A_gt,(x)/(1+x)))*dt"
   ]
  },
  {
   "cell_type": "markdown",
   "metadata": {},
   "source": [
    "### Issue\n",
    "The value of the graph signal depends on the previous update, and the 'how' is dictated by the differential equation\n",
    "But the first term, $\\vec{x}^{0.5}$ will throw some errors in our simulation if any of the components of $\\vec{x}$ are negative. \n",
    "\n",
    "A quick fix was to take the absolute value before applying the square root."
   ]
  },
  {
   "cell_type": "code",
   "execution_count": 7,
   "metadata": {},
   "outputs": [
    {
     "data": {
      "text/plain": [
       "[<matplotlib.lines.Line2D at 0x7fc838a448e0>]"
      ]
     },
     "execution_count": 7,
     "metadata": {},
     "output_type": "execute_result"
    },
    {
     "data": {
      "image/png": "[encoded data removed]",
      "text/plain": [
       "<Figure size 432x288 with 1 Axes>"
      ]
     },
     "metadata": {
      "needs_background": "light"
     },
     "output_type": "display_data"
    }
   ],
   "source": [
    "plot([(Traj[i])[0] for i in range(T)])"
   ]
  },
  {
   "cell_type": "code",
   "execution_count": 8,
   "metadata": {},
   "outputs": [
    {
     "data": {
      "text/plain": [
       "<matlab.object at 0x7fc85c542c30>"
      ]
     },
     "execution_count": 8,
     "metadata": {},
     "output_type": "execute_result"
    }
   ],
   "source": [
    "xp = [Traj[i][0] for i in range(T)]\n",
    "x_0 = matlab.double(xp)\n",
    "MATLAB.plot(x_0)"
   ]
  },
  {
   "cell_type": "code",
   "execution_count": 9,
   "metadata": {},
   "outputs": [],
   "source": [
    "x1 =  [Traj[i][1] for i in range(T)]\n",
    "x_1 = matlab.double(x1)\n",
    "\n",
    "x2 =  [Traj[i][2] for i in range(T)]\n",
    "x_2 = matlab.double(x2)\n",
    "\n",
    "x3 =  [Traj[i][3] for i in range(T)]\n",
    "x_3 = matlab.double(x3)\n",
    "\n",
    "x4 =  [Traj[i][4] for i in range(T)]\n",
    "x_4 = matlab.double(x4)"
   ]
  },
  {
   "cell_type": "code",
   "execution_count": 10,
   "metadata": {},
   "outputs": [],
   "source": [
    "MATLAB.workspace['ex0'] = x_0\n",
    "MATLAB.workspace['ex1'] = x_1\n",
    "MATLAB.workspace['ex2'] = x_2\n",
    "MATLAB.workspace['ex3'] = x_3\n",
    "MATLAB.workspace['ex4'] = x_4"
   ]
  },
  {
   "cell_type": "code",
   "execution_count": 11,
   "metadata": {},
   "outputs": [],
   "source": [
    "MATLAB.eval(\"var1 = [ex0; ex1; ex2; ex3; ex4];\",nargout = 0)\n",
    "MATLAB.eval(\"for k = 1:5 subplot(3,2,k); plot(var1(k,:)); end\",nargout = 0)"
   ]
  },
  {
   "cell_type": "markdown",
   "metadata": {},
   "source": [
    "We will now try to learn back the coefficients of A using some Matrix inversion;\n",
    "\n",
    "For different samples in `Traj` which track the movement of the signal at all nodes, we will take N such samples and compute the finite difference based derivative and set it equal to the affine  RHS of the central equation evaluated at that point in time (we will use left hand derivative)"
   ]
  },
  {
   "cell_type": "code",
   "execution_count": 12,
   "metadata": {},
   "outputs": [],
   "source": [
    "k = 2\n",
    "samples = [Traj[k*i] for i in range(T//k)]\n",
    "derivs = [(samples[i+1] - samples[i])/(k*dt) for i in range(T//k - 1)]\n",
    "# larger timescale used"
   ]
  },
  {
   "cell_type": "code",
   "execution_count": 13,
   "metadata": {},
   "outputs": [
    {
     "data": {
      "text/plain": [
       "[<matplotlib.lines.Line2D at 0x7fc838789340>]"
      ]
     },
     "execution_count": 13,
     "metadata": {},
     "output_type": "execute_result"
    },
    {
     "data": {
      "image/png": "[encoded data removed]",
      "text/plain": [
       "<Figure size 432x288 with 1 Axes>"
      ]
     },
     "metadata": {
      "needs_background": "light"
     },
     "output_type": "display_data"
    }
   ],
   "source": [
    "plot(array(samples)[:,0],\"*\")\n",
    "plot([i for i in range(T//k - 1)], array(derivs)[:,0],\"*\")"
   ]
  },
  {
   "cell_type": "markdown",
   "metadata": {},
   "source": [
    "We have many equations of the form \n",
    "$$\n",
    "\\frac{\\vec{x}_{i+1} - \\vec{x}_{i}}{t_{i+1} - t_{i}} = -\\sqrt{\\vec{x}_{i}} + A \\sqrt[5]{\\vec{x}_{i}} \\\\\n",
    "$$\n",
    "\n",
    "$$\n",
    "\\frac{\\vec{x}_{i+1} - \\vec{x}_{i}}{t_{i+1} - t_{i}} + \\sqrt{\\vec{x}_{i}} =  A \\sqrt[5]{\\vec{x}_{i}} \\\\\n",
    "$$\n",
    "$$\n",
    "\\vec{v}_{i} = A \\vec{u}_{i}\n",
    "$$\n",
    "\n",
    "To solve this, we can simply adjoin different instances of the above so that it forms:\n",
    "\n",
    "$$\n",
    " V = AU\n",
    "$$\n",
    "\n",
    "\n",
    "where U, V are both NxN matrices (columns of U,V follow the first equation)\n",
    "This means, using N instances of first eq we can try to get back the Matrix A.\n",
    "\n",
    "$$\n",
    "U = [\\vec{u}_1 \\vec{u}_2 \\dots \\vec{u}_N]\n",
    "$$\n",
    "\n",
    "$$\n",
    "V = [\\vec{v}_1 \\vec{v}_2 \\dots \\vec{v}_N]\n",
    "$$"
   ]
  },
  {
   "cell_type": "code",
   "execution_count": 35,
   "metadata": {},
   "outputs": [],
   "source": [
    "M = N\n",
    "V = zeros((N,M))\n",
    "U = zeros((N,M))\n",
    "\n",
    "for ind, i in enumerate(randint(0,T/k, M)):\n",
    "    V[:,ind] =  derivs[i] + samples[i]\n",
    "    U[:,ind] = (samples[i])/(1+(samples[i]))"
   ]
  },
  {
   "cell_type": "markdown",
   "metadata": {},
   "source": [
    "### Trying with NC2 equations instead"
   ]
  },
  {
   "cell_type": "markdown",
   "metadata": {},
   "source": [
    "Trying to unravel Adjacency matrix into a vector instead: "
   ]
  },
  {
   "cell_type": "markdown",
   "metadata": {},
   "source": [
    "Adjacency has symmetric structure, which means the equations would look like so:\n",
    "\n",
    "$$\n",
    "A \\vec{u} = \n",
    "\\begin{bmatrix}\n",
    "0 \\quad w_{12} \\quad w_{13} \\dots w_{1N} \\\\\n",
    "w_{21}  \\quad 0  \\quad w_{23}  \\dots w_{2N}\\\\\n",
    "\\vdots \\quad \\vdots \\quad \\ddots \\quad \\dots \\quad \\vdots \\\\\n",
    "w_{N1} \\quad w_{N2} \\quad w_{N3}  \\dots 0\\\\\n",
    "\\end{bmatrix}  \n",
    "\\begin{bmatrix} \n",
    "u_1 \\\\\n",
    "u_2 \\\\\n",
    "u_3 \\\\\n",
    "\\vdots\n",
    "\\end{bmatrix}  \n",
    "= u_1 \\cdot\n",
    "\\begin{bmatrix} \n",
    "0 \\\\\n",
    "w_{21} \\\\\n",
    "w_{31} \\\\\n",
    "\\vdots \n",
    "\\end{bmatrix}  \n",
    "+\n",
    "u_2 \\cdot\n",
    "\\begin{bmatrix} \n",
    "w_{12} \\\\\n",
    "0 \\\\\n",
    "w_{32} \\\\\n",
    "\\vdots \n",
    "\\end{bmatrix} \n",
    "\\dots \n",
    "+\n",
    "u_N \\cdot\n",
    "\\begin{bmatrix} \n",
    "w_{1N} \\\\\n",
    "\\vdots  \\\\\n",
    "w_{N-1 N} \\\\\n",
    "0 \n",
    "\\end{bmatrix} \n",
    "$$\n",
    "\n",
    "A is of order $N \\times N$, but imformation it stores is captured in $\\frac{N^2 - N}{2}$"
   ]
  },
  {
   "cell_type": "markdown",
   "metadata": {},
   "source": [
    "Unraveling the Adjacency matrix mean we only keep track of each pair of nodes, and what the weight of connecting edge is:\n",
    "\n",
    "If we pre-index;\n",
    "-   1 -> 1,2\n",
    "-   1 -> 1,3\n",
    "-   ...\n",
    "-   1 -> 1,N\n",
    "-   2 -> 2,3\n",
    "-   2 -> 2,4\n",
    "and so on till \n",
    "-   N-1 -> N"
   ]
  },
  {
   "cell_type": "markdown",
   "metadata": {},
   "source": [
    "How would $\\vec{u}$ change accordingly?\n",
    "We can notice that $w_{ij} = w_{ji}$ and they only show up in the linear combination of i, jth columns, which means they are scaled by $u_{i} + u_{j}$ Thus, we can simply convert $\\vec{u}_{N\\times 1} \\to \\vec{\\tilde{u}}_{\\frac{N^2 - N}{2}\\times 1} $ where each entry of $\\vec{\\tilde{u}}$ follows the indexing shown above; This transformation can help us compute back the Adjacency because now we just have to produce $\\vec{\\tilde{u}}^{T} \\vec{\\tilde{A}}$\n",
    "\n",
    "Where $\\vec{\\tilde{A}}$ = weights in indexing mentioned above;\n",
    " "
   ]
  },
  {
   "cell_type": "markdown",
   "metadata": {},
   "source": [
    "## Getting the structure of U\n",
    "Consider :\n",
    "$$\n",
    "    A \\vec{u} = \\vec{v}\n",
    "$$\n",
    "where A is of the form \n",
    "$$\n",
    "A = \n",
    "\\begin{bmatrix}\n",
    "0      &  \\quad a_{12}  & \\quad a_{13}  &  \\dots  & a_{1 N-1} &  \\quad a_{1N}    \\\\\n",
    "a_{12} &  \\quad 0       & \\quad a_{23}  &  \\dots & a_{2 N-1} & \\quad a_{2N}    \\\\\n",
    "a_{13} &  \\quad a_{23}  & \\quad 0       &  \\dots & a_{3 N-1} & \\quad a_{3N}    \\\\\n",
    "\\vdots &  \\quad \\vdots & \\quad \\vdots   & \\ddots &\\vdots    & \\quad \\vdots    \\\\\n",
    "a_{1N-1} & \\quad a_{2N-1}&\\quad a_{3N-1}&  \\dots & 0        & \\quad a_{N-1 N} \\\\ \n",
    "a_{1N}  & \\quad a_{2N} & \\quad a_{3N}   & \\dots & a_{N-1 N} & \\quad 0         \\\\\n",
    "\\end{bmatrix}  \n",
    "$$\n",
    "\n",
    "and hence,\n",
    "\n",
    "$$\n",
    "\\begin{bmatrix}\n",
    "0      &  \\quad a_{12}  & \\quad a_{13}  &  \\dots  & a_{1 N-1} &  \\quad a_{1N}    \\\\\n",
    "a_{12} &  \\quad 0       & \\quad a_{23}  &  \\dots & a_{2 N-1} & \\quad a_{2N}    \\\\\n",
    "a_{13} &  \\quad a_{23}  & \\quad 0       &  \\dots & a_{3 N-1} & \\quad a_{3N}    \\\\\n",
    "\\vdots &  \\quad \\vdots & \\quad \\vdots   & \\ddots &\\vdots    & \\quad \\vdots    \\\\\n",
    "a_{1N-1} & \\quad a_{2N-1}&\\quad a_{3N-1}&  \\dots & 0        & \\quad a_{N-1 N} \\\\ \n",
    "a_{1N}  & \\quad a_{2N} & \\quad a_{3N}   & \\dots & a_{N-1 N} & \\quad 0         \\\\\n",
    "\\end{bmatrix}   \n",
    "\\begin{bmatrix} \n",
    "u_1 \\\\\n",
    "u_2 \\\\\n",
    "u_3 \\\\\n",
    "\\vdots \\\\\n",
    "u_{N-1} \\\\\n",
    "u_{N}\n",
    "\\end{bmatrix}  \n",
    "=\n",
    "\\begin{bmatrix} \n",
    "v_1 \\\\\n",
    "v_2 \\\\\n",
    "v_3 \\\\\n",
    "\\vdots \\\\\n",
    "v_{N-1} \\\\\n",
    "v_{N}\n",
    "\\end{bmatrix}  \\\\ \n",
    "\\implies\n",
    "u_1 \n",
    "\\begin{bmatrix}\n",
    "0      \\\\\n",
    "a_{12} \\\\\n",
    "a_{13} \\\\\n",
    "\\vdots \\\\\n",
    "a_{1N-1}\\\\\n",
    "a_{1N} \\\\\n",
    "\\end{bmatrix}\n",
    "+\n",
    "u_2\n",
    "\\begin{bmatrix}\n",
    "a_{12} \\\\\n",
    "0       \\\\\n",
    "a_{23}  \\\\\n",
    "\\vdots \\\\\n",
    "a_{2N-1}\\\\\n",
    "a_{2N}    \\\\\n",
    "\\end{bmatrix}\n",
    "+\n",
    "\\dots \n",
    "+\n",
    "u_N\n",
    "\\begin{bmatrix}\n",
    " a_{1N}    \\\\\n",
    "a_{2N}    \\\\\n",
    "a_{3N}    \\\\\n",
    "\\vdots    \\\\\n",
    "a_{N-1 N} \\\\ \n",
    "0         \\\\\n",
    "\\end{bmatrix}\n",
    "=\n",
    "\\begin{bmatrix} \n",
    "v_1 \\\\\n",
    "v_2 \\\\\n",
    "v_3 \\\\\n",
    "\\vdots \\\\\n",
    "v_{N-1} \\\\\n",
    "v_{N}\n",
    "\\end{bmatrix} \\\\\n",
    "$$\n",
    "Let us vectorize A as follows:\n",
    "$$\n",
    "\\vec{A} = \n",
    "\\begin{bmatrix}\n",
    "a_{12} \\\\\n",
    "a_{13} \\\\\n",
    "\\vdots \\\\\n",
    "a_{1N} \\\\\n",
    "a_{23} \\\\\n",
    "a_{24} \\\\\n",
    "\\vdots \\\\\n",
    "a_{2N} \\\\\n",
    "a_{34} \\\\ \n",
    "\\vdots \\\\\n",
    "\\vdots \\\\\n",
    "a_{N-2 N-1} \\\\\n",
    "a_{N-2 N} \\\\\n",
    "a_{N-1 N}\n",
    "\\end{bmatrix} \n",
    "_{\\frac{N(N-1)}{2} \\times 1}\n",
    "$$\n",
    "\n",
    "Now, for Au = v, we have to write u as a matrix such that\n",
    "$$\n",
    "U_{N \\times {\\frac{N(N-1)}{2}}} \\vec{A} = \\vec{v}\n",
    "$$\n"
   ]
  },
  {
   "cell_type": "markdown",
   "metadata": {},
   "source": [
    "We can see that the matrix follows a structure according to the previous equations (ui, uj only appear as coefficient of aij terms), thus, U can be realised as a matrix in a recursive block manner as follows"
   ]
  },
  {
   "cell_type": "markdown",
   "metadata": {},
   "source": [
    "<!-- $$\n",
    "U = \n",
    "\\begin{bmatrix}\n",
    "\\textbf{0}_{i-1 \\times N-i} & | \\\\  \n",
    "u((i+1:N)) & |\\\\\n",
    "u_{i} I_{N-i} & |\n",
    "\\end{bmatrix}_{i = 1}^{N-1}\n",
    "$$ -->\n",
    "\n",
    "$$\n",
    "U  = \n",
    "\\begin{bmatrix}\n",
    "\\textbf{0}_{i-1 \\times N-i}  & \\rule[-1mm]{0.4mm}{0.5cm} &^{N-1}  \\\\   \n",
    "\\rule{2.5cm}{0.4pt} & \\rule[-1mm]{0.4mm}{0.5cm} &\\\\  \n",
    "u((i+1:N))  &\\rule[-1mm]{0.4mm}{0.5cm} & \\\\\n",
    "\\rule{2.5cm}{0.4pt} & \\rule[-1mm]{0.4mm}{0.5cm} & \\\\\n",
    "u_{i} I_{N-i} & \\rule[-1mm]{0.4mm}{0.5cm} &_{i = 1}\\\\\n",
    "\\end{bmatrix}\n",
    "$$\n"
   ]
  },
  {
   "cell_type": "code",
   "execution_count": 36,
   "metadata": {},
   "outputs": [],
   "source": [
    "def U_synth(u):\n",
    "    N = u.shape[0]\n",
    "    for i in range(1,N):\n",
    "\n",
    "        if i == 1:\n",
    "            uL = u[i:,:].T\n",
    "            I = u[i-1,:]*eye(N-i)\n",
    "            t = append(uL,I,axis=0)\n",
    "            U = t\n",
    "        \n",
    "        else:\n",
    "            Z = zeros((i-1,N-i))\n",
    "            uL = u[i:,:].T\n",
    "            I = u[i-1,:]*eye(N-i)\n",
    "            t = append(Z,uL,axis=0)\n",
    "            t = append(t,I,axis=0)    \n",
    "            U = append(U,t, axis=1)\n",
    "    return U"
   ]
  },
  {
   "cell_type": "code",
   "execution_count": 37,
   "metadata": {},
   "outputs": [],
   "source": [
    "num_sample = (N-1)//2\n",
    "u = reshape(U[:,0], (N,1))\n",
    "v = V[:,0]\n",
    "Bigu = U_synth(u)\n",
    "vV = v\n",
    "\n",
    "Bigu1 = U_synth(u)\n",
    "vV1 = v\n",
    "\n",
    "for k in range(1,M):\n",
    "    Bigu = append(Bigu, U_synth(reshape(U[:,k], (N,1))), axis=0)\n",
    "    vV = append(vV, V[:,k], axis = 0)\n",
    "\n",
    "\n",
    "for k in random.permutation(M):\n",
    "    Bigu1 = append(Bigu1, U_synth(reshape(U[:,k], (N,1))), axis=0)\n",
    "    vV1 = append(vV1, V[:,k], axis = 0)\n"
   ]
  },
  {
   "cell_type": "code",
   "execution_count": 38,
   "metadata": {},
   "outputs": [],
   "source": [
    "A_vec_try = dot(pinv(Bigu), vV)\n",
    "A_vec_try_1 = dot(pinv(Bigu1), vV1)"
   ]
  },
  {
   "cell_type": "code",
   "execution_count": 39,
   "metadata": {},
   "outputs": [],
   "source": [
    "def vectorizer(M):\n",
    "    N = M.shape[0]\n",
    "    vec = M[1:,0]\n",
    "    for i in range(1,N):  \n",
    "        vec = append(vec, M[i+1:,i], axis = 0)\n",
    "    return vec\n",
    "\n",
    "def matricizer(vec):\n",
    "    N = vec.shape[0]\n",
    "    N = int((1+np.sqrt(1+8*N))//2)\n",
    "    M = zeros((N,N))\n",
    "    k1 = 0\n",
    "    k2 = N-1\n",
    "    for i in range(N):\n",
    "        s = N - i-2\n",
    "        M[i+1:,i] = vec[k1:k2]\n",
    "        k1 = k2 \n",
    "        k2 += s\n",
    "    return M + M.T"
   ]
  },
  {
   "cell_type": "code",
   "execution_count": 40,
   "metadata": {},
   "outputs": [
    {
     "data": {
      "text/plain": [
       "126.0"
      ]
     },
     "execution_count": 40,
     "metadata": {},
     "output_type": "execute_result"
    }
   ],
   "source": [
    "A = matlab.double(Bigu.tolist())\n",
    "MATLAB.workspace['ww'] = A\n",
    "MATLAB.eval(\"rank(ww)\")"
   ]
  },
  {
   "cell_type": "code",
   "execution_count": 41,
   "metadata": {},
   "outputs": [
    {
     "data": {
      "text/plain": [
       "(441, 210)"
      ]
     },
     "execution_count": 41,
     "metadata": {},
     "output_type": "execute_result"
    }
   ],
   "source": [
    "AAAA = matricizer(A_vec_try)\n",
    "AAAA_1 = matricizer(A_vec_try_1)\n",
    "Bigu.shape"
   ]
  },
  {
   "cell_type": "code",
   "execution_count": 42,
   "metadata": {},
   "outputs": [
    {
     "data": {
      "text/plain": [
       "2.2730755938971696e+16"
      ]
     },
     "execution_count": 42,
     "metadata": {},
     "output_type": "execute_result"
    },
    {
     "data": {
      "image/png": "[encoded data removed]",
      "text/plain": [
       "<Figure size 288x288 with 2 Axes>"
      ]
     },
     "metadata": {
      "needs_background": "light"
     },
     "output_type": "display_data"
    },
    {
     "data": {
      "image/png": "[encoded data removed]",
      "text/plain": [
       "<Figure size 288x288 with 2 Axes>"
      ]
     },
     "metadata": {
      "needs_background": "light"
     },
     "output_type": "display_data"
    }
   ],
   "source": [
    "matshow(A_gt) \n",
    "colorbar()\n",
    "matshow(AAAA) \n",
    "colorbar()\n",
    "average((A_gt-AAAA)**2)\n",
    "# colorbar()"
   ]
  },
  {
   "cell_type": "code",
   "execution_count": 43,
   "metadata": {},
   "outputs": [
    {
     "data": {
      "text/plain": [
       "<matplotlib.colorbar.Colorbar at 0x7fc7d3b5fd60>"
      ]
     },
     "execution_count": 43,
     "metadata": {},
     "output_type": "execute_result"
    },
    {
     "data": {
      "image/png": "[encoded data removed]",
      "text/plain": [
       "<Figure size 288x288 with 2 Axes>"
      ]
     },
     "metadata": {
      "needs_background": "light"
     },
     "output_type": "display_data"
    },
    {
     "data": {
      "image/png": "[encoded data removed]",
      "text/plain": [
       "<Figure size 288x288 with 2 Axes>"
      ]
     },
     "metadata": {
      "needs_background": "light"
     },
     "output_type": "display_data"
    }
   ],
   "source": [
    "A_new = (dot(V[:2*N], pinv(U[:2*N])))\n",
    "matshow(A_new)\n",
    "colorbar()\n",
    "matshow(A_gt)\n",
    "colorbar()\n",
    "# norm()"
   ]
  },
  {
   "cell_type": "code",
   "execution_count": 44,
   "metadata": {},
   "outputs": [
    {
     "data": {
      "text/plain": [
       "(0.7615722713659191, 85.8221916801609, 85.55039844853799, 0.10348422400809887)"
      ]
     },
     "execution_count": 44,
     "metadata": {},
     "output_type": "execute_result"
    },
    {
     "data": {
      "image/png": "[encoded data removed]",
      "text/plain": [
       "<Figure size 288x288 with 2 Axes>"
      ]
     },
     "metadata": {
      "needs_background": "light"
     },
     "output_type": "display_data"
    },
    {
     "data": {
      "image/png": "[encoded data removed]",
      "text/plain": [
       "<Figure size 288x288 with 2 Axes>"
      ]
     },
     "metadata": {
      "needs_background": "light"
     },
     "output_type": "display_data"
    },
    {
     "data": {
      "image/png": "[encoded data removed]",
      "text/plain": [
       "<Figure size 288x288 with 2 Axes>"
      ]
     },
     "metadata": {
      "needs_background": "light"
     },
     "output_type": "display_data"
    },
    {
     "data": {
      "image/png": "[encoded data removed]",
      "text/plain": [
       "<Figure size 288x288 with 2 Axes>"
      ]
     },
     "metadata": {
      "needs_background": "light"
     },
     "output_type": "display_data"
    }
   ],
   "source": [
    "# norm(matricizer(A_vec_try).dot(U) - V)\n",
    "matshow(dot(AAAA,U))\n",
    "colorbar()\n",
    "matshow(V)\n",
    "colorbar()\n",
    "matshow(dot(A_gt,U))\n",
    "colorbar()\n",
    "matshow(dot(AAAA_1,U))\n",
    "colorbar()\n",
    "norm(dot(AAAA,U)-V), norm(dot(AAAA,U)), norm(V), norm(dot(A_gt,U)-V)"
   ]
  },
  {
   "cell_type": "code",
   "execution_count": 45,
   "metadata": {},
   "outputs": [
    {
     "data": {
      "text/plain": [
       "21.0"
      ]
     },
     "execution_count": 45,
     "metadata": {},
     "output_type": "execute_result"
    }
   ],
   "source": [
    "A_gt_mat = matlab.double(A_gt.tolist())\n",
    "MATLAB.workspace[\"aa\"] = A_gt_mat\n",
    "MATLAB.eval(\"rank(aa)\")"
   ]
  },
  {
   "cell_type": "code",
   "execution_count": 46,
   "metadata": {},
   "outputs": [
    {
     "data": {
      "text/plain": [
       "[<matplotlib.lines.Line2D at 0x7fc7c99d5940>]"
      ]
     },
     "execution_count": 46,
     "metadata": {},
     "output_type": "execute_result"
    },
    {
     "data": {
      "image/png": "[encoded data removed]",
      "text/plain": [
       "<Figure size 432x288 with 1 Axes>"
      ]
     },
     "metadata": {
      "needs_background": "light"
     },
     "output_type": "display_data"
    }
   ],
   "source": [
    "plot((dot(AAAA,U) -V).flatten())\n",
    "# colorbar()"
   ]
  },
  {
   "cell_type": "code",
   "execution_count": 47,
   "metadata": {},
   "outputs": [
    {
     "data": {
      "text/plain": [
       "(5174228109.28517, 7317463566.963183)"
      ]
     },
     "execution_count": 47,
     "metadata": {},
     "output_type": "execute_result"
    }
   ],
   "source": [
    "norm(A_vec_try - A_vec_try_1), norm(AAAA - AAAA_1)"
   ]
  },
  {
   "cell_type": "code",
   "execution_count": 48,
   "metadata": {},
   "outputs": [
    {
     "data": {
      "text/plain": [
       "<matplotlib.colorbar.Colorbar at 0x7fc7c98d0910>"
      ]
     },
     "execution_count": 48,
     "metadata": {},
     "output_type": "execute_result"
    },
    {
     "data": {
      "image/png": "[encoded data removed]",
      "text/plain": [
       "<Figure size 288x604.8 with 2 Axes>"
      ]
     },
     "metadata": {
      "needs_background": "light"
     },
     "output_type": "display_data"
    },
    {
     "data": {
      "image/png": "[encoded data removed]",
      "text/plain": [
       "<Figure size 288x633.6 with 2 Axes>"
      ]
     },
     "metadata": {
      "needs_background": "light"
     },
     "output_type": "display_data"
    }
   ],
   "source": [
    "matshow(Bigu)\n",
    "colorbar()\n",
    "matshow(Bigu1)\n",
    "colorbar()"
   ]
  },
  {
   "cell_type": "code",
   "execution_count": 49,
   "metadata": {},
   "outputs": [
    {
     "data": {
      "text/plain": [
       "(125, (441, 210))"
      ]
     },
     "execution_count": 49,
     "metadata": {},
     "output_type": "execute_result"
    }
   ],
   "source": [
    "linalg.matrix_rank(Bigu), shape(Bigu)"
   ]
  },
  {
   "cell_type": "code",
   "execution_count": 50,
   "metadata": {},
   "outputs": [
    {
     "data": {
      "text/plain": [
       "(125, (462, 210))"
      ]
     },
     "execution_count": 50,
     "metadata": {},
     "output_type": "execute_result"
    }
   ],
   "source": [
    "linalg.matrix_rank(Bigu1), shape(Bigu1)"
   ]
  },
  {
   "cell_type": "code",
   "execution_count": 51,
   "metadata": {},
   "outputs": [
    {
     "data": {
      "text/plain": [
       "2.432376777795247e-15"
      ]
     },
     "execution_count": 51,
     "metadata": {},
     "output_type": "execute_result"
    },
    {
     "data": {
      "image/png": "[encoded data removed]",
      "text/plain": [
       "<Figure size 288x1152 with 1 Axes>"
      ]
     },
     "metadata": {
      "needs_background": "light"
     },
     "output_type": "display_data"
    }
   ],
   "source": [
    "q = (dot(A_gt,u))\n",
    "p = (dot(U_synth(u),vectorizer(A_gt))).reshape((21,1))\n",
    "# matshow(hstack((q,p)))\n",
    "\n",
    "Q = append(q,zeros((21,1)),axis=1)\n",
    "Q = append(Q,p,axis=1)\n",
    "\n",
    "matshow(Q)\n",
    "norm(q-p)"
   ]
  },
  {
   "cell_type": "code",
   "execution_count": 52,
   "metadata": {},
   "outputs": [
    {
     "data": {
      "text/plain": [
       "(21, 7, 7)"
      ]
     },
     "execution_count": 52,
     "metadata": {},
     "output_type": "execute_result"
    }
   ],
   "source": [
    "r = linalg.matrix_rank \n",
    "r(A_gt) , r(U[:,:N]), r(V[:,:2*N])"
   ]
  },
  {
   "cell_type": "code",
   "execution_count": 53,
   "metadata": {},
   "outputs": [
    {
     "data": {
      "text/plain": [
       "<matplotlib.image.AxesImage at 0x7fc7c9711430>"
      ]
     },
     "execution_count": 53,
     "metadata": {},
     "output_type": "execute_result"
    },
    {
     "data": {
      "image/png": "[encoded data removed]",
      "text/plain": [
       "<Figure size 288x288 with 1 Axes>"
      ]
     },
     "metadata": {
      "needs_background": "light"
     },
     "output_type": "display_data"
    }
   ],
   "source": [
    "matshow(U[:,:50])"
   ]
  }
 ],
 "metadata": {
  "kernelspec": {
   "display_name": "Python 3.9.12 ('graph')",
   "language": "python",
   "name": "python3"
  },
  "language_info": {
   "codemirror_mode": {
    "name": "ipython",
    "version": 3
   },
   "file_extension": ".py",
   "mimetype": "text/x-python",
   "name": "python",
   "nbconvert_exporter": "python",
   "pygments_lexer": "ipython3",
   "version": "3.9.12"
  },
  "vscode": {
   "interpreter": {
    "hash": "8c28d57c2d97abfad27937787db55774051a84c0e262ee8da8e617f587280746"
   }
  }
 },
 "nbformat": 4,
 "nbformat_minor": 2
}
