{
 "cells": [
  {
   "cell_type": "markdown",
   "metadata": {},
   "source": [
    "## Derivative based graph learning in P-regime "
   ]
  },
  {
   "cell_type": "code",
   "execution_count": 1,
   "metadata": {},
   "outputs": [
    {
     "name": "stdout",
     "output_type": "stream",
     "text": [
      "Populating the interactive namespace from numpy and matplotlib\n"
     ]
    }
   ],
   "source": [
    "%pylab inline\n",
    "import pandas as pd\n",
    "import pickle as pkl\n",
    "import matlab\n",
    "import matlab.engine\n",
    "MATLAB = matlab.engine.start_matlab()"
   ]
  },
  {
   "cell_type": "code",
   "execution_count": 2,
   "metadata": {},
   "outputs": [],
   "source": [
    "files = [\"../Simulation3/Data/EVN_n1.pkl\", \"../Simulation3/Data/EVN_n2.pkl\", \"../Simulation3/Data/EVN_n5.pkl\",  \"../Simulation3/Data/EvN.pkl\",  \"../Simulation3/Data/EVN_n20.pkl\"]\n",
    "curv = []\n",
    "eem  = []\n",
    "for i in range(5): curv.append(pkl.load(open(files[i],\"rb\"))) \n",
    "for i in range(5): eem.append(matlab.double((curv[i]*100).tolist()))\n",
    "# ee = matlab.double((e*100).tolist())"
   ]
  },
  {
   "cell_type": "code",
   "execution_count": 3,
   "metadata": {},
   "outputs": [
    {
     "data": {
      "text/plain": [
       "<matlab.object at 0x1e1606898b0>"
      ]
     },
     "execution_count": 3,
     "metadata": {},
     "output_type": "execute_result"
    }
   ],
   "source": [
    "for i in range(5):\n",
    "    MATLAB.workspace['ee'] = eem[i]\n",
    "    MATLAB.eval(\"loglog(2:25,ee,linewidth=1); grid on; hold on;\", nargout = 0)\n",
    "\n",
    "\n",
    "# MATLAB.eval(\"plot(2:25,ee); grid on; hold on;\", nargout = 0)\n",
    "MATLAB.xlabel(\"Number of Nodes (N)\")\n",
    "MATLAB.ylabel(\"Relative Error (%)\")\n",
    "MATLAB.legend(\"n=1\",\"n=2\",\"n=5\",\"n=10\",\"n=20\")\n",
    "\n",
    "# for i in range(4):\n",
    "#     MATLAB.workspace['ee'] = eem[i]\n",
    "#     MATLAB.eval(\"loglog(2:25,ee,'*')\")\n",
    "# MATLAB.eval(\"legend\")\n",
    "# MATLAB.xticks(matlab.double([i for i in range(2,20)]))"
   ]
  },
  {
   "cell_type": "markdown",
   "metadata": {},
   "source": [
    "### P regime, N=50 Nodes\n",
    "The set of functions $M$ for P-regime of networks:\n",
    "$$\n",
    "    M = (M_0, M_1,M_2) = (-(\\cdot)^{0.5} , 1, (\\cdot)^{0.2})\n",
    "$$\n",
    "\n",
    "Central equation for node $i$:\n",
    "$$\n",
    "\\frac{dx_{i}}{dt} = - x_{i}^{0.5} + \\sum_{j=1}^{N} A_{ij} x_{j}^{0.2}\n",
    "$$\n",
    "\n",
    "Vectorized and using power notation:\n",
    "\n",
    "$$\n",
    "\\frac{d \\vec{x}}{dt} = - \\vec{x}^{0.5} + I_{N \\times N} A \\vec{x}^{0.2}\n",
    "$$\n",
    "\n",
    "We will evolve the system as per the above equation with the following adjacency matrix:"
   ]
  },
  {
   "cell_type": "code",
   "execution_count": 4,
   "metadata": {},
   "outputs": [],
   "source": [
    "N = 21\n",
    "T =10000\n",
    "A_gt = abs(rand(N,N))\n",
    "for i in range(N): A_gt[i,i] = 0\n",
    "A_gt = (A_gt + A_gt.T)/2"
   ]
  },
  {
   "cell_type": "code",
   "execution_count": 5,
   "metadata": {},
   "outputs": [
    {
     "data": {
      "text/plain": [
       "(array([[0.        , 0.38347999, 0.37433746, 0.58436344, 0.24055856,\n",
       "         0.56335212, 0.51786842, 0.53623585, 0.34629255, 0.2512835 ,\n",
       "         0.50673926, 0.71018689, 0.55842586, 0.10697603, 0.81867315,\n",
       "         0.70446706, 0.1920124 , 0.45613992, 0.67735396, 0.46148184,\n",
       "         0.66097239],\n",
       "        [0.38347999, 0.        , 0.50429499, 0.30576817, 0.55542997,\n",
       "         0.70363225, 0.29007659, 0.8162121 , 0.54134497, 0.56220053,\n",
       "         0.30147591, 0.85673898, 0.68484219, 0.5166998 , 0.45446261,\n",
       "         0.27749991, 0.57776731, 0.60647141, 0.31567988, 0.45948213,\n",
       "         0.60036253],\n",
       "        [0.37433746, 0.50429499, 0.        , 0.18395226, 0.77596655,\n",
       "         0.39946531, 0.59620728, 0.68359807, 0.37964282, 0.49646648,\n",
       "         0.87726683, 0.54776166, 0.65257622, 0.51278177, 0.22780822,\n",
       "         0.48048893, 0.58392797, 0.19172257, 0.4675414 , 0.41512275,\n",
       "         0.61404672],\n",
       "        [0.58436344, 0.30576817, 0.18395226, 0.        , 0.49651718,\n",
       "         0.50348627, 0.7253285 , 0.39543343, 0.57599687, 0.82524858,\n",
       "         0.52442877, 0.28459376, 0.45084977, 0.53873988, 0.13756358,\n",
       "         0.89448589, 0.43474983, 0.44730398, 0.80479495, 0.90333274,\n",
       "         0.30495405],\n",
       "        [0.24055856, 0.55542997, 0.77596655, 0.49651718, 0.        ,\n",
       "         0.60108811, 0.77376662, 0.04825406, 0.61730839, 0.36785265,\n",
       "         0.68969268, 0.80236197, 0.69391359, 0.25215814, 0.45953341,\n",
       "         0.53502584, 0.53582286, 0.44799852, 0.40653272, 0.91127219,\n",
       "         0.38796772],\n",
       "        [0.56335212, 0.70363225, 0.39946531, 0.50348627, 0.60108811,\n",
       "         0.        , 0.33631887, 0.68154083, 0.49705745, 0.68299012,\n",
       "         0.56751275, 0.42930246, 0.19654806, 0.33572832, 0.7974457 ,\n",
       "         0.47767271, 0.44183531, 0.28928276, 0.12137178, 0.57519903,\n",
       "         0.8666874 ],\n",
       "        [0.51786842, 0.29007659, 0.59620728, 0.7253285 , 0.77376662,\n",
       "         0.33631887, 0.        , 0.40168162, 0.20511161, 0.32843478,\n",
       "         0.49754911, 0.37912532, 0.37404927, 0.33544229, 0.70440413,\n",
       "         0.32492813, 0.52737911, 0.7187046 , 0.90684908, 0.54255101,\n",
       "         0.24238986],\n",
       "        [0.53623585, 0.8162121 , 0.68359807, 0.39543343, 0.04825406,\n",
       "         0.68154083, 0.40168162, 0.        , 0.77465259, 0.51637166,\n",
       "         0.65419524, 0.80619762, 0.39082902, 0.76583648, 0.62483448,\n",
       "         0.18312044, 0.53766862, 0.63747628, 0.59194425, 0.58224835,\n",
       "         0.49949531],\n",
       "        [0.34629255, 0.54134497, 0.37964282, 0.57599687, 0.61730839,\n",
       "         0.49705745, 0.20511161, 0.77465259, 0.        , 0.5569243 ,\n",
       "         0.69628249, 0.39065351, 0.60094239, 0.29654158, 0.43177427,\n",
       "         0.5280275 , 0.5536478 , 0.54909387, 0.52998845, 0.32389113,\n",
       "         0.83253918],\n",
       "        [0.2512835 , 0.56220053, 0.49646648, 0.82524858, 0.36785265,\n",
       "         0.68299012, 0.32843478, 0.51637166, 0.5569243 , 0.        ,\n",
       "         0.51074845, 0.61192149, 0.69473482, 0.39247462, 0.07037015,\n",
       "         0.5123006 , 0.14226065, 0.74365493, 0.43605049, 0.25109653,\n",
       "         0.55191045],\n",
       "        [0.50673926, 0.30147591, 0.87726683, 0.52442877, 0.68969268,\n",
       "         0.56751275, 0.49754911, 0.65419524, 0.69628249, 0.51074845,\n",
       "         0.        , 0.91085322, 0.38875566, 0.1873395 , 0.45908466,\n",
       "         0.50063942, 0.55793553, 0.60709828, 0.55385827, 0.60529421,\n",
       "         0.73406634],\n",
       "        [0.71018689, 0.85673898, 0.54776166, 0.28459376, 0.80236197,\n",
       "         0.42930246, 0.37912532, 0.80619762, 0.39065351, 0.61192149,\n",
       "         0.91085322, 0.        , 0.35108236, 0.44285132, 0.47103926,\n",
       "         0.29844068, 0.66121583, 0.21386427, 0.53782808, 0.42129099,\n",
       "         0.73094052],\n",
       "        [0.55842586, 0.68484219, 0.65257622, 0.45084977, 0.69391359,\n",
       "         0.19654806, 0.37404927, 0.39082902, 0.60094239, 0.69473482,\n",
       "         0.38875566, 0.35108236, 0.        , 0.39331098, 0.08895715,\n",
       "         0.45111103, 0.48612952, 0.61826856, 0.61458838, 0.74231368,\n",
       "         0.48435014],\n",
       "        [0.10697603, 0.5166998 , 0.51278177, 0.53873988, 0.25215814,\n",
       "         0.33572832, 0.33544229, 0.76583648, 0.29654158, 0.39247462,\n",
       "         0.1873395 , 0.44285132, 0.39331098, 0.        , 0.55232264,\n",
       "         0.36195541, 0.63073022, 0.65828523, 0.78235555, 0.87884089,\n",
       "         0.90095705],\n",
       "        [0.81867315, 0.45446261, 0.22780822, 0.13756358, 0.45953341,\n",
       "         0.7974457 , 0.70440413, 0.62483448, 0.43177427, 0.07037015,\n",
       "         0.45908466, 0.47103926, 0.08895715, 0.55232264, 0.        ,\n",
       "         0.12070337, 0.69961849, 0.49665045, 0.6425414 , 0.16139104,\n",
       "         0.22502153],\n",
       "        [0.70446706, 0.27749991, 0.48048893, 0.89448589, 0.53502584,\n",
       "         0.47767271, 0.32492813, 0.18312044, 0.5280275 , 0.5123006 ,\n",
       "         0.50063942, 0.29844068, 0.45111103, 0.36195541, 0.12070337,\n",
       "         0.        , 0.41769286, 0.21843629, 0.26567533, 0.32586065,\n",
       "         0.52383877],\n",
       "        [0.1920124 , 0.57776731, 0.58392797, 0.43474983, 0.53582286,\n",
       "         0.44183531, 0.52737911, 0.53766862, 0.5536478 , 0.14226065,\n",
       "         0.55793553, 0.66121583, 0.48612952, 0.63073022, 0.69961849,\n",
       "         0.41769286, 0.        , 0.49245566, 0.30865218, 0.46110474,\n",
       "         0.45192828],\n",
       "        [0.45613992, 0.60647141, 0.19172257, 0.44730398, 0.44799852,\n",
       "         0.28928276, 0.7187046 , 0.63747628, 0.54909387, 0.74365493,\n",
       "         0.60709828, 0.21386427, 0.61826856, 0.65828523, 0.49665045,\n",
       "         0.21843629, 0.49245566, 0.        , 0.69652881, 0.55822147,\n",
       "         0.92974356],\n",
       "        [0.67735396, 0.31567988, 0.4675414 , 0.80479495, 0.40653272,\n",
       "         0.12137178, 0.90684908, 0.59194425, 0.52998845, 0.43605049,\n",
       "         0.55385827, 0.53782808, 0.61458838, 0.78235555, 0.6425414 ,\n",
       "         0.26567533, 0.30865218, 0.69652881, 0.        , 0.1927179 ,\n",
       "         0.66763707],\n",
       "        [0.46148184, 0.45948213, 0.41512275, 0.90333274, 0.91127219,\n",
       "         0.57519903, 0.54255101, 0.58224835, 0.32389113, 0.25109653,\n",
       "         0.60529421, 0.42129099, 0.74231368, 0.87884089, 0.16139104,\n",
       "         0.32586065, 0.46110474, 0.55822147, 0.1927179 , 0.        ,\n",
       "         0.56497027],\n",
       "        [0.66097239, 0.60036253, 0.61404672, 0.30495405, 0.38796772,\n",
       "         0.8666874 , 0.24238986, 0.49949531, 0.83253918, 0.55191045,\n",
       "         0.73406634, 0.73094052, 0.48435014, 0.90095705, 0.22502153,\n",
       "         0.52383877, 0.45192828, 0.92974356, 0.66763707, 0.56497027,\n",
       "         0.        ]]),\n",
       " array([[0., 0., 0., 0., 0., 0., 0., 0., 0., 0., 0., 0., 0., 0., 0., 0.,\n",
       "         0., 0., 0., 0., 0.],\n",
       "        [0., 0., 0., 0., 0., 0., 0., 0., 0., 0., 0., 0., 0., 0., 0., 0.,\n",
       "         0., 0., 0., 0., 0.],\n",
       "        [0., 0., 0., 0., 0., 0., 0., 0., 0., 0., 0., 0., 0., 0., 0., 0.,\n",
       "         0., 0., 0., 0., 0.],\n",
       "        [0., 0., 0., 0., 0., 0., 0., 0., 0., 0., 0., 0., 0., 0., 0., 0.,\n",
       "         0., 0., 0., 0., 0.],\n",
       "        [0., 0., 0., 0., 0., 0., 0., 0., 0., 0., 0., 0., 0., 0., 0., 0.,\n",
       "         0., 0., 0., 0., 0.],\n",
       "        [0., 0., 0., 0., 0., 0., 0., 0., 0., 0., 0., 0., 0., 0., 0., 0.,\n",
       "         0., 0., 0., 0., 0.],\n",
       "        [0., 0., 0., 0., 0., 0., 0., 0., 0., 0., 0., 0., 0., 0., 0., 0.,\n",
       "         0., 0., 0., 0., 0.],\n",
       "        [0., 0., 0., 0., 0., 0., 0., 0., 0., 0., 0., 0., 0., 0., 0., 0.,\n",
       "         0., 0., 0., 0., 0.],\n",
       "        [0., 0., 0., 0., 0., 0., 0., 0., 0., 0., 0., 0., 0., 0., 0., 0.,\n",
       "         0., 0., 0., 0., 0.],\n",
       "        [0., 0., 0., 0., 0., 0., 0., 0., 0., 0., 0., 0., 0., 0., 0., 0.,\n",
       "         0., 0., 0., 0., 0.],\n",
       "        [0., 0., 0., 0., 0., 0., 0., 0., 0., 0., 0., 0., 0., 0., 0., 0.,\n",
       "         0., 0., 0., 0., 0.],\n",
       "        [0., 0., 0., 0., 0., 0., 0., 0., 0., 0., 0., 0., 0., 0., 0., 0.,\n",
       "         0., 0., 0., 0., 0.],\n",
       "        [0., 0., 0., 0., 0., 0., 0., 0., 0., 0., 0., 0., 0., 0., 0., 0.,\n",
       "         0., 0., 0., 0., 0.],\n",
       "        [0., 0., 0., 0., 0., 0., 0., 0., 0., 0., 0., 0., 0., 0., 0., 0.,\n",
       "         0., 0., 0., 0., 0.],\n",
       "        [0., 0., 0., 0., 0., 0., 0., 0., 0., 0., 0., 0., 0., 0., 0., 0.,\n",
       "         0., 0., 0., 0., 0.],\n",
       "        [0., 0., 0., 0., 0., 0., 0., 0., 0., 0., 0., 0., 0., 0., 0., 0.,\n",
       "         0., 0., 0., 0., 0.],\n",
       "        [0., 0., 0., 0., 0., 0., 0., 0., 0., 0., 0., 0., 0., 0., 0., 0.,\n",
       "         0., 0., 0., 0., 0.],\n",
       "        [0., 0., 0., 0., 0., 0., 0., 0., 0., 0., 0., 0., 0., 0., 0., 0.,\n",
       "         0., 0., 0., 0., 0.],\n",
       "        [0., 0., 0., 0., 0., 0., 0., 0., 0., 0., 0., 0., 0., 0., 0., 0.,\n",
       "         0., 0., 0., 0., 0.],\n",
       "        [0., 0., 0., 0., 0., 0., 0., 0., 0., 0., 0., 0., 0., 0., 0., 0.,\n",
       "         0., 0., 0., 0., 0.],\n",
       "        [0., 0., 0., 0., 0., 0., 0., 0., 0., 0., 0., 0., 0., 0., 0., 0.,\n",
       "         0., 0., 0., 0., 0.]]))"
      ]
     },
     "execution_count": 5,
     "metadata": {},
     "output_type": "execute_result"
    }
   ],
   "source": [
    "A_gt, A_gt - A_gt.T\n",
    "# checking if the ground truth matrix is symmetric"
   ]
  },
  {
   "cell_type": "code",
   "execution_count": 6,
   "metadata": {},
   "outputs": [
    {
     "data": {
      "text/plain": [
       "array([0.05683626, 1.2021729 , 0.68131124, 0.17231728, 1.02602415,\n",
       "       0.00990044, 0.15104248, 2.01641031, 1.89464505, 1.54957751,\n",
       "       0.95117316, 1.66145645, 0.08592866, 0.79483689, 0.86987433,\n",
       "       0.76315644, 1.29009671, 0.39115884, 0.54041417, 1.14345706,\n",
       "       0.60639947])"
      ]
     },
     "execution_count": 6,
     "metadata": {},
     "output_type": "execute_result"
    }
   ],
   "source": [
    "dt = 0.001\n",
    "x0 = abs(randn(N,))\n",
    "x0\n",
    "#  setting up initial conditions and the time resolution"
   ]
  },
  {
   "cell_type": "code",
   "execution_count": 7,
   "metadata": {},
   "outputs": [],
   "source": [
    "x = x0\n",
    "Traj = []\n",
    "\n",
    "for i in range(T):\n",
    "    Traj.append(x)\n",
    "    x = x + (-(x)+ dot(A_gt,(x)/(1+x)))*dt"
   ]
  },
  {
   "cell_type": "markdown",
   "metadata": {},
   "source": [
    "### Issue\n",
    "The value of the graph signal depends on the previous update, and the 'how' is dictated by the differential equation\n",
    "But the first term, $\\vec{x}^{0.5}$ will throw some errors in our simulation if any of the components of $\\vec{x}$ are negative. \n",
    "\n",
    "A quick fix was to take the absolute value before applying the square root."
   ]
  },
  {
   "cell_type": "code",
   "execution_count": 8,
   "metadata": {},
   "outputs": [
    {
     "data": {
      "text/plain": [
       "[<matplotlib.lines.Line2D at 0x1e1627f1ee0>]"
      ]
     },
     "execution_count": 8,
     "metadata": {},
     "output_type": "execute_result"
    },
    {
     "data": {
      "image/png": "[encoded data removed]",
      "text/plain": [
       "<Figure size 432x288 with 1 Axes>"
      ]
     },
     "metadata": {
      "needs_background": "light"
     },
     "output_type": "display_data"
    }
   ],
   "source": [
    "plot([(Traj[i])[0] for i in range(T)])"
   ]
  },
  {
   "cell_type": "code",
   "execution_count": 9,
   "metadata": {},
   "outputs": [
    {
     "data": {
      "text/plain": [
       "<matlab.object at 0x1e1627fb550>"
      ]
     },
     "execution_count": 9,
     "metadata": {},
     "output_type": "execute_result"
    }
   ],
   "source": [
    "xp = [Traj[i][0] for i in range(T)]\n",
    "x_0 = matlab.double(xp)\n",
    "MATLAB.plot(x_0)"
   ]
  },
  {
   "cell_type": "code",
   "execution_count": 10,
   "metadata": {},
   "outputs": [],
   "source": [
    "x1 =  [Traj[i][1] for i in range(T)]\n",
    "x_1 = matlab.double(x1)\n",
    "\n",
    "x2 =  [Traj[i][2] for i in range(T)]\n",
    "x_2 = matlab.double(x2)\n",
    "\n",
    "x3 =  [Traj[i][3] for i in range(T)]\n",
    "x_3 = matlab.double(x3)\n",
    "\n",
    "x4 =  [Traj[i][4] for i in range(T)]\n",
    "x_4 = matlab.double(x4)"
   ]
  },
  {
   "cell_type": "code",
   "execution_count": 11,
   "metadata": {},
   "outputs": [],
   "source": [
    "MATLAB.workspace['ex0'] = x_0\n",
    "MATLAB.workspace['ex1'] = x_1\n",
    "MATLAB.workspace['ex2'] = x_2\n",
    "MATLAB.workspace['ex3'] = x_3\n",
    "MATLAB.workspace['ex4'] = x_4"
   ]
  },
  {
   "cell_type": "code",
   "execution_count": 12,
   "metadata": {},
   "outputs": [],
   "source": [
    "MATLAB.eval(\"var1 = [ex0; ex1; ex2; ex3; ex4];\",nargout = 0)\n",
    "MATLAB.eval(\"for k = 1:5 subplot(3,2,k); plot(var1(k,:)); end\",nargout = 0)"
   ]
  },
  {
   "cell_type": "markdown",
   "metadata": {},
   "source": [
    "We will now try to learn back the coefficients of A using some Matrix inversion;\n",
    "\n",
    "For different samples in `Traj` which track the movement of the signal at all nodes, we will take N such samples and compute the finite difference based derivative and set it equal to the affine  RHS of the central equation evaluated at that point in time (we will use left hand derivative)"
   ]
  },
  {
   "cell_type": "code",
   "execution_count": 13,
   "metadata": {},
   "outputs": [],
   "source": [
    "k = 1\n",
    "samples = [Traj[k*i] for i in range(T//k)]\n",
    "derivs = [(samples[i+1] - samples[i])/(k*dt) for i in range(T//k - 1)]\n",
    "# larger timescale used"
   ]
  },
  {
   "cell_type": "code",
   "execution_count": 14,
   "metadata": {},
   "outputs": [
    {
     "data": {
      "text/plain": [
       "[<matplotlib.lines.Line2D at 0x1e163acccd0>]"
      ]
     },
     "execution_count": 14,
     "metadata": {},
     "output_type": "execute_result"
    },
    {
     "data": {
      "image/png": "[encoded data removed]",
      "text/plain": [
       "<Figure size 432x288 with 1 Axes>"
      ]
     },
     "metadata": {
      "needs_background": "light"
     },
     "output_type": "display_data"
    }
   ],
   "source": [
    "plot(array(samples)[:,0],\"*\")\n",
    "plot([i for i in range(T//k - 1)], array(derivs)[:,0],\"*\")"
   ]
  },
  {
   "cell_type": "markdown",
   "metadata": {},
   "source": [
    "We have many equations of the form \n",
    "$$\n",
    "\\frac{\\vec{x}_{i+1} - \\vec{x}_{i}}{t_{i+1} - t_{i}} = -\\sqrt{\\vec{x}_{i}} + A \\sqrt[5]{\\vec{x}_{i}} \\\\\n",
    "$$\n",
    "\n",
    "$$\n",
    "\\frac{\\vec{x}_{i+1} - \\vec{x}_{i}}{t_{i+1} - t_{i}} + \\sqrt{\\vec{x}_{i}} =  A \\sqrt[5]{\\vec{x}_{i}} \\\\\n",
    "$$\n",
    "$$\n",
    "\\vec{v}_{i} = A \\vec{u}_{i}\n",
    "$$\n",
    "\n",
    "To solve this, we can simply adjoin different instances of the above so that it forms:\n",
    "\n",
    "$$\n",
    " V = AU\n",
    "$$\n",
    "\n",
    "\n",
    "where U, V are both NxN matrices (columns of U,V follow the first equation)\n",
    "This means, using N instances of first eq we can try to get back the Matrix A.\n",
    "\n",
    "$$\n",
    "U = [\\vec{u}_1 \\vec{u}_2 \\dots \\vec{u}_N]\n",
    "$$\n",
    "\n",
    "$$\n",
    "V = [\\vec{v}_1 \\vec{v}_2 \\dots \\vec{v}_N]\n",
    "$$"
   ]
  },
  {
   "cell_type": "code",
   "execution_count": 15,
   "metadata": {},
   "outputs": [],
   "source": [
    "M = N\n",
    "V = zeros((N,M))\n",
    "U = zeros((N,M))\n",
    "\n",
    "for ind, i in enumerate(randint(0,T/k, M)):\n",
    "    V[:,ind] =  derivs[i] + samples[i]\n",
    "    U[:,ind] = (samples[i])/(1+(samples[i]))"
   ]
  },
  {
   "cell_type": "markdown",
   "metadata": {},
   "source": [
    "### Trying with NC2 equations instead"
   ]
  },
  {
   "cell_type": "markdown",
   "metadata": {},
   "source": [
    "Trying to unravel Adjacency matrix into a vector instead: "
   ]
  },
  {
   "cell_type": "markdown",
   "metadata": {},
   "source": [
    "Adjacency has symmetric structure, which means the equations would look like so:\n",
    "\n",
    "$$\n",
    "A \\vec{u} = \n",
    "\\begin{bmatrix}\n",
    "0 \\quad w_{12} \\quad w_{13} \\dots w_{1N} \\\\\n",
    "w_{21}  \\quad 0  \\quad w_{23}  \\dots w_{2N}\\\\\n",
    "\\vdots \\quad \\vdots \\quad \\ddots \\quad \\dots \\quad \\vdots \\\\\n",
    "w_{N1} \\quad w_{N2} \\quad w_{N3}  \\dots 0\\\\\n",
    "\\end{bmatrix}  \n",
    "\\begin{bmatrix} \n",
    "u_1 \\\\\n",
    "u_2 \\\\\n",
    "u_3 \\\\\n",
    "\\vdots\n",
    "\\end{bmatrix}  \n",
    "= u_1 \\cdot\n",
    "\\begin{bmatrix} \n",
    "0 \\\\\n",
    "w_{21} \\\\\n",
    "w_{31} \\\\\n",
    "\\vdots \n",
    "\\end{bmatrix}  \n",
    "+\n",
    "u_2 \\cdot\n",
    "\\begin{bmatrix} \n",
    "w_{12} \\\\\n",
    "0 \\\\\n",
    "w_{32} \\\\\n",
    "\\vdots \n",
    "\\end{bmatrix} \n",
    "\\dots \n",
    "+\n",
    "u_N \\cdot\n",
    "\\begin{bmatrix} \n",
    "w_{1N} \\\\\n",
    "\\vdots  \\\\\n",
    "w_{N-1 N} \\\\\n",
    "0 \n",
    "\\end{bmatrix} \n",
    "$$\n",
    "\n",
    "A is of order $N \\times N$, but imformation it stores is captured in $\\frac{N^2 - N}{2}$"
   ]
  },
  {
   "cell_type": "markdown",
   "metadata": {},
   "source": [
    "Unraveling the Adjacency matrix mean we only keep track of each pair of nodes, and what the weight of connecting edge is:\n",
    "\n",
    "If we pre-index;\n",
    "-   1 -> 1,2\n",
    "-   1 -> 1,3\n",
    "-   ...\n",
    "-   1 -> 1,N\n",
    "-   2 -> 2,3\n",
    "-   2 -> 2,4\n",
    "and so on till \n",
    "-   N-1 -> N"
   ]
  },
  {
   "cell_type": "markdown",
   "metadata": {},
   "source": [
    "How would $\\vec{u}$ change accordingly?\n",
    "We can notice that $w_{ij} = w_{ji}$ and they only show up in the linear combination of i, jth columns, which means they are scaled by $u_{i} + u_{j}$ Thus, we can simply convert $\\vec{u}_{N\\times 1} \\to \\vec{\\tilde{u}}_{\\frac{N^2 - N}{2}\\times 1} $ where each entry of $\\vec{\\tilde{u}}$ follows the indexing shown above; This transformation can help us compute back the Adjacency because now we just have to produce $\\vec{\\tilde{u}}^{T} \\vec{\\tilde{A}}$\n",
    "\n",
    "Where $\\vec{\\tilde{A}}$ = weights in indexing mentioned above;\n",
    " "
   ]
  },
  {
   "cell_type": "markdown",
   "metadata": {},
   "source": [
    "## Getting the structure of U\n",
    "Consider :\n",
    "$$\n",
    "    A \\vec{u} = \\vec{v}\n",
    "$$\n",
    "where A is of the form \n",
    "$$\n",
    "A = \n",
    "\\begin{bmatrix}\n",
    "0      &  \\quad a_{12}  & \\quad a_{13}  &  \\dots  & a_{1 N-1} &  \\quad a_{1N}    \\\\\n",
    "a_{12} &  \\quad 0       & \\quad a_{23}  &  \\dots & a_{2 N-1} & \\quad a_{2N}    \\\\\n",
    "a_{13} &  \\quad a_{23}  & \\quad 0       &  \\dots & a_{3 N-1} & \\quad a_{3N}    \\\\\n",
    "\\vdots &  \\quad \\vdots & \\quad \\vdots   & \\ddots &\\vdots    & \\quad \\vdots    \\\\\n",
    "a_{1N-1} & \\quad a_{2N-1}&\\quad a_{3N-1}&  \\dots & 0        & \\quad a_{N-1 N} \\\\ \n",
    "a_{1N}  & \\quad a_{2N} & \\quad a_{3N}   & \\dots & a_{N-1 N} & \\quad 0         \\\\\n",
    "\\end{bmatrix}  \n",
    "$$\n",
    "\n",
    "and hence,\n",
    "\n",
    "$$\n",
    "\\begin{bmatrix}\n",
    "0      &  \\quad a_{12}  & \\quad a_{13}  &  \\dots  & a_{1 N-1} &  \\quad a_{1N}    \\\\\n",
    "a_{12} &  \\quad 0       & \\quad a_{23}  &  \\dots & a_{2 N-1} & \\quad a_{2N}    \\\\\n",
    "a_{13} &  \\quad a_{23}  & \\quad 0       &  \\dots & a_{3 N-1} & \\quad a_{3N}    \\\\\n",
    "\\vdots &  \\quad \\vdots & \\quad \\vdots   & \\ddots &\\vdots    & \\quad \\vdots    \\\\\n",
    "a_{1N-1} & \\quad a_{2N-1}&\\quad a_{3N-1}&  \\dots & 0        & \\quad a_{N-1 N} \\\\ \n",
    "a_{1N}  & \\quad a_{2N} & \\quad a_{3N}   & \\dots & a_{N-1 N} & \\quad 0         \\\\\n",
    "\\end{bmatrix}   \n",
    "\\begin{bmatrix} \n",
    "u_1 \\\\\n",
    "u_2 \\\\\n",
    "u_3 \\\\\n",
    "\\vdots \\\\\n",
    "u_{N-1} \\\\\n",
    "u_{N}\n",
    "\\end{bmatrix}  \n",
    "=\n",
    "\\begin{bmatrix} \n",
    "v_1 \\\\\n",
    "v_2 \\\\\n",
    "v_3 \\\\\n",
    "\\vdots \\\\\n",
    "v_{N-1} \\\\\n",
    "v_{N}\n",
    "\\end{bmatrix}  \\\\ \n",
    "\\implies\n",
    "u_1 \n",
    "\\begin{bmatrix}\n",
    "0      \\\\\n",
    "a_{12} \\\\\n",
    "a_{13} \\\\\n",
    "\\vdots \\\\\n",
    "a_{1N-1}\\\\\n",
    "a_{1N} \\\\\n",
    "\\end{bmatrix}\n",
    "+\n",
    "u_2\n",
    "\\begin{bmatrix}\n",
    "a_{12} \\\\\n",
    "0       \\\\\n",
    "a_{23}  \\\\\n",
    "\\vdots \\\\\n",
    "a_{2N-1}\\\\\n",
    "a_{2N}    \\\\\n",
    "\\end{bmatrix}\n",
    "+\n",
    "\\dots \n",
    "+\n",
    "u_N\n",
    "\\begin{bmatrix}\n",
    " a_{1N}    \\\\\n",
    "a_{2N}    \\\\\n",
    "a_{3N}    \\\\\n",
    "\\vdots    \\\\\n",
    "a_{N-1 N} \\\\ \n",
    "0         \\\\\n",
    "\\end{bmatrix}\n",
    "=\n",
    "\\begin{bmatrix} \n",
    "v_1 \\\\\n",
    "v_2 \\\\\n",
    "v_3 \\\\\n",
    "\\vdots \\\\\n",
    "v_{N-1} \\\\\n",
    "v_{N}\n",
    "\\end{bmatrix} \\\\\n",
    "$$\n",
    "Let us vectorize A as follows:\n",
    "$$\n",
    "\\vec{A} = \n",
    "\\begin{bmatrix}\n",
    "a_{12} \\\\\n",
    "a_{13} \\\\\n",
    "\\vdots \\\\\n",
    "a_{1N} \\\\\n",
    "a_{23} \\\\\n",
    "a_{24} \\\\\n",
    "\\vdots \\\\\n",
    "a_{2N} \\\\\n",
    "a_{34} \\\\ \n",
    "\\vdots \\\\\n",
    "\\vdots \\\\\n",
    "a_{N-2 N-1} \\\\\n",
    "a_{N-2 N} \\\\\n",
    "a_{N-1 N}\n",
    "\\end{bmatrix} \n",
    "_{\\frac{N(N-1)}{2} \\times 1}\n",
    "$$\n",
    "\n",
    "Now, for Au = v, we have to write u as a matrix such that\n",
    "$$\n",
    "U_{N \\times {\\frac{N(N-1)}{2}}} \\vec{A} = \\vec{v}\n",
    "$$\n"
   ]
  },
  {
   "cell_type": "markdown",
   "metadata": {},
   "source": [
    "We can see that the matrix follows a structure according to the previous equations (ui, uj only appear as coefficient of aij terms), thus, U can be realised as a matrix in a recursive block manner as follows"
   ]
  },
  {
   "cell_type": "markdown",
   "metadata": {},
   "source": [
    "<!-- $$\n",
    "U = \n",
    "\\begin{bmatrix}\n",
    "\\textbf{0}_{i-1 \\times N-i} & | \\\\  \n",
    "u((i+1:N)) & |\\\\\n",
    "u_{i} I_{N-i} & |\n",
    "\\end{bmatrix}_{i = 1}^{N-1}\n",
    "$$ -->\n",
    "\n",
    "$$\n",
    "U  = \n",
    "\\begin{bmatrix}\n",
    "\\textbf{0}_{i-1 \\times N-i}  & \\rule[-1mm]{0.4mm}{0.5cm} &^{N-1}  \\\\   \n",
    "\\rule{2.5cm}{0.4pt} & \\rule[-1mm]{0.4mm}{0.5cm} &\\\\  \n",
    "u((i+1:N))  &\\rule[-1mm]{0.4mm}{0.5cm} & \\\\\n",
    "\\rule{2.5cm}{0.4pt} & \\rule[-1mm]{0.4mm}{0.5cm} & \\\\\n",
    "u_{i} I_{N-i} & \\rule[-1mm]{0.4mm}{0.5cm} &_{i = 1}\\\\\n",
    "\\end{bmatrix}\n",
    "$$\n"
   ]
  },
  {
   "cell_type": "code",
   "execution_count": 16,
   "metadata": {},
   "outputs": [],
   "source": [
    "def U_synth(u):\n",
    "    N = u.shape[0]\n",
    "    for i in range(1,N):\n",
    "\n",
    "        if i == 1:\n",
    "            uL = u[i:,:].T\n",
    "            I = u[i-1,:]*eye(N-i)\n",
    "            t = append(uL,I,axis=0)\n",
    "            U = t\n",
    "        \n",
    "        else:\n",
    "            Z = zeros((i-1,N-i))\n",
    "            uL = u[i:,:].T\n",
    "            I = u[i-1,:]*eye(N-i)\n",
    "            t = append(Z,uL,axis=0)\n",
    "            t = append(t,I,axis=0)    \n",
    "            U = append(U,t, axis=1)\n",
    "    return U"
   ]
  },
  {
   "cell_type": "code",
   "execution_count": 17,
   "metadata": {},
   "outputs": [],
   "source": [
    "num_sample = (N-1)//2\n",
    "u = reshape(U[:,0], (N,1))\n",
    "v = V[:,0]\n",
    "Bigu = U_synth(u)\n",
    "vV = v\n",
    "\n",
    "Bigu1 = U_synth(u)\n",
    "vV1 = v\n",
    "\n",
    "for k in range(1,M):\n",
    "    Bigu = append(Bigu, U_synth(reshape(U[:,k], (N,1))), axis=0)\n",
    "    vV = append(vV, V[:,k], axis = 0)\n",
    "\n",
    "\n",
    "for k in random.permutation(M):\n",
    "    Bigu1 = append(Bigu1, U_synth(reshape(U[:,k], (N,1))), axis=0)\n",
    "    vV1 = append(vV1, V[:,k], axis = 0)\n"
   ]
  },
  {
   "cell_type": "code",
   "execution_count": 18,
   "metadata": {},
   "outputs": [],
   "source": [
    "A_vec_try = dot(pinv(Bigu), vV)\n",
    "A_vec_try_1 = dot(pinv(Bigu1), vV1)"
   ]
  },
  {
   "cell_type": "code",
   "execution_count": 19,
   "metadata": {},
   "outputs": [],
   "source": [
    "def vectorizer(M):\n",
    "    N = M.shape[0]\n",
    "    vec = M[1:,0]\n",
    "    for i in range(1,N):  \n",
    "        vec = append(vec, M[i+1:,i], axis = 0)\n",
    "    return vec\n",
    "\n",
    "def matricizer(vec):\n",
    "    N = vec.shape[0]\n",
    "    N = int((1+np.sqrt(1+8*N))//2)\n",
    "    M = zeros((N,N))\n",
    "    k1 = 0\n",
    "    k2 = N-1\n",
    "    for i in range(N):\n",
    "        s = N - i-2\n",
    "        M[i+1:,i] = vec[k1:k2]\n",
    "        k1 = k2 \n",
    "        k2 += s\n",
    "    return M + M.T"
   ]
  },
  {
   "cell_type": "code",
   "execution_count": 20,
   "metadata": {},
   "outputs": [
    {
     "data": {
      "text/plain": [
       "185.0"
      ]
     },
     "execution_count": 20,
     "metadata": {},
     "output_type": "execute_result"
    }
   ],
   "source": [
    "A = matlab.double(Bigu.tolist())\n",
    "MATLAB.workspace['ww'] = A\n",
    "MATLAB.eval(\"rank(ww)\")"
   ]
  },
  {
   "cell_type": "code",
   "execution_count": 21,
   "metadata": {},
   "outputs": [
    {
     "data": {
      "text/plain": [
       "(441, 210)"
      ]
     },
     "execution_count": 21,
     "metadata": {},
     "output_type": "execute_result"
    }
   ],
   "source": [
    "AAAA = matricizer(A_vec_try)\n",
    "AAAA_1 = matricizer(A_vec_try_1)\n",
    "Bigu.shape"
   ]
  },
  {
   "cell_type": "code",
   "execution_count": 22,
   "metadata": {},
   "outputs": [
    {
     "data": {
      "text/plain": [
       "1.2944285227512793"
      ]
     },
     "execution_count": 22,
     "metadata": {},
     "output_type": "execute_result"
    },
    {
     "data": {
      "image/png": "[encoded data removed]",
      "text/plain": [
       "<Figure size 288x288 with 2 Axes>"
      ]
     },
     "metadata": {
      "needs_background": "light"
     },
     "output_type": "display_data"
    },
    {
     "data": {
      "image/png": "[encoded data removed]",
      "text/plain": [
       "<Figure size 288x288 with 2 Axes>"
      ]
     },
     "metadata": {
      "needs_background": "light"
     },
     "output_type": "display_data"
    }
   ],
   "source": [
    "matshow(A_gt) \n",
    "colorbar()\n",
    "matshow(AAAA) \n",
    "colorbar()\n",
    "average((A_gt-AAAA)**2)\n",
    "# colorbar()"
   ]
  },
  {
   "cell_type": "code",
   "execution_count": 23,
   "metadata": {},
   "outputs": [
    {
     "data": {
      "text/plain": [
       "<matplotlib.colorbar.Colorbar at 0x1e163fdc4f0>"
      ]
     },
     "execution_count": 23,
     "metadata": {},
     "output_type": "execute_result"
    },
    {
     "data": {
      "image/png": "[encoded data removed]",
      "text/plain": [
       "<Figure size 288x288 with 2 Axes>"
      ]
     },
     "metadata": {
      "needs_background": "light"
     },
     "output_type": "display_data"
    },
    {
     "data": {
      "image/png": "[encoded data removed]",
      "text/plain": [
       "<Figure size 288x288 with 2 Axes>"
      ]
     },
     "metadata": {
      "needs_background": "light"
     },
     "output_type": "display_data"
    }
   ],
   "source": [
    "A_new = (dot(V[:2*N], pinv(U[:2*N])))\n",
    "matshow(A_new)\n",
    "colorbar()\n",
    "matshow(A_gt)\n",
    "colorbar()\n",
    "# norm()"
   ]
  },
  {
   "cell_type": "code",
   "execution_count": 24,
   "metadata": {},
   "outputs": [
    {
     "data": {
      "text/plain": [
       "(0.5896818251195738,\n",
       " 184.97660362221916,\n",
       " 185.04716939726097,\n",
       " 9.092504285775318e-12)"
      ]
     },
     "execution_count": 24,
     "metadata": {},
     "output_type": "execute_result"
    },
    {
     "data": {
      "image/png": "[encoded data removed]",
      "text/plain": [
       "<Figure size 288x288 with 2 Axes>"
      ]
     },
     "metadata": {
      "needs_background": "light"
     },
     "output_type": "display_data"
    },
    {
     "data": {
      "image/png": "[encoded data removed]",
      "text/plain": [
       "<Figure size 288x288 with 2 Axes>"
      ]
     },
     "metadata": {
      "needs_background": "light"
     },
     "output_type": "display_data"
    },
    {
     "data": {
      "image/png": "[encoded data removed]",
      "text/plain": [
       "<Figure size 288x288 with 2 Axes>"
      ]
     },
     "metadata": {
      "needs_background": "light"
     },
     "output_type": "display_data"
    },
    {
     "data": {
      "image/png": "[encoded data removed]",
      "text/plain": [
       "<Figure size 288x288 with 2 Axes>"
      ]
     },
     "metadata": {
      "needs_background": "light"
     },
     "output_type": "display_data"
    }
   ],
   "source": [
    "# norm(matricizer(A_vec_try).dot(U) - V)\n",
    "matshow(dot(AAAA,U))\n",
    "colorbar()\n",
    "matshow(V)\n",
    "colorbar()\n",
    "matshow(dot(A_gt,U))\n",
    "colorbar()\n",
    "matshow(dot(AAAA_1,U))\n",
    "colorbar()\n",
    "norm(dot(AAAA,U)-V), norm(dot(AAAA,U)), norm(V), norm(dot(A_gt,U)-V)"
   ]
  },
  {
   "cell_type": "code",
   "execution_count": 25,
   "metadata": {},
   "outputs": [
    {
     "data": {
      "text/plain": [
       "21.0"
      ]
     },
     "execution_count": 25,
     "metadata": {},
     "output_type": "execute_result"
    }
   ],
   "source": [
    "A_gt_mat = matlab.double(A_gt.tolist())\n",
    "MATLAB.workspace[\"aa\"] = A_gt_mat\n",
    "MATLAB.eval(\"rank(aa)\")"
   ]
  },
  {
   "cell_type": "code",
   "execution_count": 26,
   "metadata": {},
   "outputs": [
    {
     "data": {
      "text/plain": [
       "[<matplotlib.lines.Line2D at 0x1e165418340>]"
      ]
     },
     "execution_count": 26,
     "metadata": {},
     "output_type": "execute_result"
    },
    {
     "data": {
      "image/png": "[encoded data removed]",
      "text/plain": [
       "<Figure size 432x288 with 1 Axes>"
      ]
     },
     "metadata": {
      "needs_background": "light"
     },
     "output_type": "display_data"
    }
   ],
   "source": [
    "plot((dot(AAAA,U) -V).flatten())\n",
    "# colorbar()"
   ]
  },
  {
   "cell_type": "code",
   "execution_count": 27,
   "metadata": {},
   "outputs": [
    {
     "data": {
      "text/plain": [
       "(0.471259533833871, 0.6664616241454829)"
      ]
     },
     "execution_count": 27,
     "metadata": {},
     "output_type": "execute_result"
    }
   ],
   "source": [
    "norm(A_vec_try - A_vec_try_1), norm(AAAA - AAAA_1)"
   ]
  },
  {
   "cell_type": "code",
   "execution_count": 28,
   "metadata": {},
   "outputs": [
    {
     "data": {
      "text/plain": [
       "<matplotlib.colorbar.Colorbar at 0x1e1654b6b50>"
      ]
     },
     "execution_count": 28,
     "metadata": {},
     "output_type": "execute_result"
    },
    {
     "data": {
      "image/png": "[encoded data removed]",
      "text/plain": [
       "<Figure size 288x604.8 with 2 Axes>"
      ]
     },
     "metadata": {
      "needs_background": "light"
     },
     "output_type": "display_data"
    },
    {
     "data": {
      "image/png": "[encoded data removed]",
      "text/plain": [
       "<Figure size 288x633.6 with 2 Axes>"
      ]
     },
     "metadata": {
      "needs_background": "light"
     },
     "output_type": "display_data"
    }
   ],
   "source": [
    "matshow(Bigu)\n",
    "colorbar()\n",
    "matshow(Bigu1)\n",
    "colorbar()"
   ]
  },
  {
   "cell_type": "code",
   "execution_count": 29,
   "metadata": {},
   "outputs": [
    {
     "data": {
      "text/plain": [
       "(185, (441, 210))"
      ]
     },
     "execution_count": 29,
     "metadata": {},
     "output_type": "execute_result"
    }
   ],
   "source": [
    "linalg.matrix_rank(Bigu), shape(Bigu)"
   ]
  },
  {
   "cell_type": "code",
   "execution_count": 30,
   "metadata": {},
   "outputs": [
    {
     "data": {
      "text/plain": [
       "(185, (462, 210))"
      ]
     },
     "execution_count": 30,
     "metadata": {},
     "output_type": "execute_result"
    }
   ],
   "source": [
    "linalg.matrix_rank(Bigu1), shape(Bigu1)"
   ]
  },
  {
   "cell_type": "code",
   "execution_count": 31,
   "metadata": {},
   "outputs": [
    {
     "data": {
      "text/plain": [
       "3.2023728339893768e-15"
      ]
     },
     "execution_count": 31,
     "metadata": {},
     "output_type": "execute_result"
    },
    {
     "data": {
      "image/png": "[encoded data removed]",
      "text/plain": [
       "<Figure size 288x1152 with 1 Axes>"
      ]
     },
     "metadata": {
      "needs_background": "light"
     },
     "output_type": "display_data"
    }
   ],
   "source": [
    "q = (dot(A_gt,u))\n",
    "p = (dot(U_synth(u),vectorizer(A_gt))).reshape((21,1))\n",
    "# matshow(hstack((q,p)))\n",
    "\n",
    "Q = append(q,zeros((21,1)),axis=1)\n",
    "Q = append(Q,p,axis=1)\n",
    "\n",
    "matshow(Q)\n",
    "norm(q-p)"
   ]
  },
  {
   "cell_type": "code",
   "execution_count": 32,
   "metadata": {},
   "outputs": [
    {
     "data": {
      "text/plain": [
       "(21, 13, 18)"
      ]
     },
     "execution_count": 32,
     "metadata": {},
     "output_type": "execute_result"
    }
   ],
   "source": [
    "r = linalg.matrix_rank \n",
    "r(A_gt) , r(U[:,:N]), r(V[:,:2*N])"
   ]
  },
  {
   "cell_type": "code",
   "execution_count": 33,
   "metadata": {},
   "outputs": [
    {
     "data": {
      "text/plain": [
       "<matplotlib.image.AxesImage at 0x1e16578bf10>"
      ]
     },
     "execution_count": 33,
     "metadata": {},
     "output_type": "execute_result"
    },
    {
     "data": {
      "image/png": "[encoded data removed]",
      "text/plain": [
       "<Figure size 288x288 with 1 Axes>"
      ]
     },
     "metadata": {
      "needs_background": "light"
     },
     "output_type": "display_data"
    }
   ],
   "source": [
    "matshow(U[:,:50])"
   ]
  }
 ],
 "metadata": {
  "kernelspec": {
   "display_name": "Python 3.9.9 64-bit",
   "language": "python",
   "name": "python3"
  },
  "language_info": {
   "codemirror_mode": {
    "name": "ipython",
    "version": 3
   },
   "file_extension": ".py",
   "mimetype": "text/x-python",
   "name": "python",
   "nbconvert_exporter": "python",
   "pygments_lexer": "ipython3",
   "version": "3.9.9 (tags/v3.9.9:ccb0e6a, Nov 15 2021, 18:08:50) [MSC v.1929 64 bit (AMD64)]"
  },
  "vscode": {
   "interpreter": {
    "hash": "d28cfe9b801dc90300b9fc0f66b03165a7e2df121cf51f00b207dbb24586521e"
   }
  }
 },
 "nbformat": 4,
 "nbformat_minor": 2
}
