{
 "cells": [
  {
   "cell_type": "markdown",
   "metadata": {},
   "source": [
    "## Derivative based graph learning in P-regime "
   ]
  },
  {
   "cell_type": "code",
   "execution_count": 2,
   "metadata": {},
   "outputs": [
    {
     "name": "stdout",
     "output_type": "stream",
     "text": [
      "%pylab is deprecated, use %matplotlib inline and import the required libraries.\n",
      "Populating the interactive namespace from numpy and matplotlib\n"
     ]
    }
   ],
   "source": [
    "%pylab inline\n",
    "import pandas as pd\n",
    "import matlab\n",
    "import matlab.engine\n",
    "MATLAB = matlab.engine.start_matlab()"
   ]
  },
  {
   "cell_type": "markdown",
   "metadata": {},
   "source": [
    "### P regime, N=50 Nodes\n",
    "The set of functions $M$ for P-regime of networks:\n",
    "$$\n",
    "    M = (M_0, M_1,M_2) = (-(\\cdot)^{0.5} , 1, (\\cdot)^{0.2})\n",
    "$$\n",
    "\n",
    "Central equation for node $i$:\n",
    "$$\n",
    "\\frac{dx_{i}}{dt} = - x_{i}^{0.5} + \\sum_{j=1}^{N} A_{ij} x_{j}^{0.2}\n",
    "$$\n",
    "\n",
    "Vectorized and using power notation:\n",
    "\n",
    "$$\n",
    "\\frac{d \\vec{x}}{dt} = - \\vec{x}^{0.5} + I_{N \\times N} A \\vec{x}^{0.2}\n",
    "$$\n",
    "\n",
    "We will evolve the system as per the above equation with the following adjacency matrix:"
   ]
  },
  {
   "cell_type": "code",
   "execution_count": 3,
   "metadata": {},
   "outputs": [],
   "source": [
    "N = 21\n",
    "T =10000\n",
    "A_gt = abs(rand(N,N))\n",
    "for i in range(N): A_gt[i,i] = 0\n",
    "A_gt = (A_gt + A_gt.T)/2"
   ]
  },
  {
   "cell_type": "code",
   "execution_count": 4,
   "metadata": {},
   "outputs": [
    {
     "data": {
      "text/plain": [
       "(array([[0.        , 0.93035893, 0.335405  , 0.48762267, 0.60638184,\n",
       "         0.37890075, 0.4758826 , 0.28575136, 0.9380284 , 0.53917125,\n",
       "         0.81980332, 0.24480127, 0.47251592, 0.52699259, 0.54890125,\n",
       "         0.21187401, 0.61068459, 0.66538161, 0.52236451, 0.28240598,\n",
       "         0.74820446],\n",
       "        [0.93035893, 0.        , 0.57987991, 0.69778029, 0.57705958,\n",
       "         0.29729852, 0.50766058, 0.60982357, 0.1067676 , 0.24433672,\n",
       "         0.34302141, 0.46693057, 0.60793937, 0.49492795, 0.4841773 ,\n",
       "         0.88229613, 0.60774596, 0.58922489, 0.41965909, 0.48728258,\n",
       "         0.36663232],\n",
       "        [0.335405  , 0.57987991, 0.        , 0.60432528, 0.57063975,\n",
       "         0.3879625 , 0.84078569, 0.41598283, 0.7129973 , 0.35261051,\n",
       "         0.58670882, 0.96236396, 0.72829336, 0.44096167, 0.39262245,\n",
       "         0.58721232, 0.6343273 , 0.21129516, 0.55118473, 0.31535018,\n",
       "         0.3509631 ],\n",
       "        [0.48762267, 0.69778029, 0.60432528, 0.        , 0.71412245,\n",
       "         0.24592424, 0.64633067, 0.29153225, 0.18974168, 0.20356338,\n",
       "         0.76228192, 0.4876442 , 0.41218396, 0.56662193, 0.59721678,\n",
       "         0.29078393, 0.31842683, 0.48472254, 0.51273286, 0.54573197,\n",
       "         0.7754583 ],\n",
       "        [0.60638184, 0.57705958, 0.57063975, 0.71412245, 0.        ,\n",
       "         0.81170286, 0.36983321, 0.67361781, 0.12152086, 0.60786948,\n",
       "         0.66840347, 0.6413487 , 0.61634874, 0.47928961, 0.17214671,\n",
       "         0.61402795, 0.61560146, 0.63823406, 0.62245107, 0.14522958,\n",
       "         0.01625033],\n",
       "        [0.37890075, 0.29729852, 0.3879625 , 0.24592424, 0.81170286,\n",
       "         0.        , 0.44592783, 0.6009383 , 0.70520585, 0.52757108,\n",
       "         0.70338075, 0.21542543, 0.36201254, 0.39477141, 0.83623143,\n",
       "         0.35752935, 0.26070921, 0.41671042, 0.20908515, 0.47429385,\n",
       "         0.59264725],\n",
       "        [0.4758826 , 0.50766058, 0.84078569, 0.64633067, 0.36983321,\n",
       "         0.44592783, 0.        , 0.68038213, 0.54575426, 0.34170328,\n",
       "         0.88795488, 0.52804614, 0.50442252, 0.65785098, 0.58734348,\n",
       "         0.58831573, 0.33011496, 0.82991706, 0.49295186, 0.86940534,\n",
       "         0.53876099],\n",
       "        [0.28575136, 0.60982357, 0.41598283, 0.29153225, 0.67361781,\n",
       "         0.6009383 , 0.68038213, 0.        , 0.7012291 , 0.57099607,\n",
       "         0.3259668 , 0.71072017, 0.2937773 , 0.39694273, 0.21276401,\n",
       "         0.32863235, 0.18997676, 0.42592472, 0.76589155, 0.24479849,\n",
       "         0.46018362],\n",
       "        [0.9380284 , 0.1067676 , 0.7129973 , 0.18974168, 0.12152086,\n",
       "         0.70520585, 0.54575426, 0.7012291 , 0.        , 0.64317271,\n",
       "         0.12617729, 0.45866211, 0.38361768, 0.59510181, 0.52397843,\n",
       "         0.20944473, 0.26466047, 0.48062803, 0.62969804, 0.60706225,\n",
       "         0.42063178],\n",
       "        [0.53917125, 0.24433672, 0.35261051, 0.20356338, 0.60786948,\n",
       "         0.52757108, 0.34170328, 0.57099607, 0.64317271, 0.        ,\n",
       "         0.19865308, 0.45080004, 0.88913381, 0.56694848, 0.73901435,\n",
       "         0.83951643, 0.93123702, 0.74220711, 0.46038296, 0.38122924,\n",
       "         0.4091874 ],\n",
       "        [0.81980332, 0.34302141, 0.58670882, 0.76228192, 0.66840347,\n",
       "         0.70338075, 0.88795488, 0.3259668 , 0.12617729, 0.19865308,\n",
       "         0.        , 0.50004401, 0.57682336, 0.54703138, 0.21329598,\n",
       "         0.42862807, 0.53558455, 0.30884184, 0.79994253, 0.38324438,\n",
       "         0.54358507],\n",
       "        [0.24480127, 0.46693057, 0.96236396, 0.4876442 , 0.6413487 ,\n",
       "         0.21542543, 0.52804614, 0.71072017, 0.45866211, 0.45080004,\n",
       "         0.50004401, 0.        , 0.59675237, 0.7369309 , 0.71061956,\n",
       "         0.54263685, 0.38360223, 0.01271573, 0.54891304, 0.63028754,\n",
       "         0.49198629],\n",
       "        [0.47251592, 0.60793937, 0.72829336, 0.41218396, 0.61634874,\n",
       "         0.36201254, 0.50442252, 0.2937773 , 0.38361768, 0.88913381,\n",
       "         0.57682336, 0.59675237, 0.        , 0.65255903, 0.19867913,\n",
       "         0.7457962 , 0.30610939, 0.50981008, 0.64553268, 0.61362995,\n",
       "         0.69442133],\n",
       "        [0.52699259, 0.49492795, 0.44096167, 0.56662193, 0.47928961,\n",
       "         0.39477141, 0.65785098, 0.39694273, 0.59510181, 0.56694848,\n",
       "         0.54703138, 0.7369309 , 0.65255903, 0.        , 0.49857715,\n",
       "         0.50595029, 0.47976083, 0.65970053, 0.14989557, 0.36221804,\n",
       "         0.62049313],\n",
       "        [0.54890125, 0.4841773 , 0.39262245, 0.59721678, 0.17214671,\n",
       "         0.83623143, 0.58734348, 0.21276401, 0.52397843, 0.73901435,\n",
       "         0.21329598, 0.71061956, 0.19867913, 0.49857715, 0.        ,\n",
       "         0.67683466, 0.38975256, 0.48980567, 0.69014496, 0.58510025,\n",
       "         0.13673682],\n",
       "        [0.21187401, 0.88229613, 0.58721232, 0.29078393, 0.61402795,\n",
       "         0.35752935, 0.58831573, 0.32863235, 0.20944473, 0.83951643,\n",
       "         0.42862807, 0.54263685, 0.7457962 , 0.50595029, 0.67683466,\n",
       "         0.        , 0.9173259 , 0.48991694, 0.91384545, 0.39223557,\n",
       "         0.41953403],\n",
       "        [0.61068459, 0.60774596, 0.6343273 , 0.31842683, 0.61560146,\n",
       "         0.26070921, 0.33011496, 0.18997676, 0.26466047, 0.93123702,\n",
       "         0.53558455, 0.38360223, 0.30610939, 0.47976083, 0.38975256,\n",
       "         0.9173259 , 0.        , 0.27518706, 0.28590771, 0.8476197 ,\n",
       "         0.18816633],\n",
       "        [0.66538161, 0.58922489, 0.21129516, 0.48472254, 0.63823406,\n",
       "         0.41671042, 0.82991706, 0.42592472, 0.48062803, 0.74220711,\n",
       "         0.30884184, 0.01271573, 0.50981008, 0.65970053, 0.48980567,\n",
       "         0.48991694, 0.27518706, 0.        , 0.19885716, 0.15638059,\n",
       "         0.27244   ],\n",
       "        [0.52236451, 0.41965909, 0.55118473, 0.51273286, 0.62245107,\n",
       "         0.20908515, 0.49295186, 0.76589155, 0.62969804, 0.46038296,\n",
       "         0.79994253, 0.54891304, 0.64553268, 0.14989557, 0.69014496,\n",
       "         0.91384545, 0.28590771, 0.19885716, 0.        , 0.38854556,\n",
       "         0.63770974],\n",
       "        [0.28240598, 0.48728258, 0.31535018, 0.54573197, 0.14522958,\n",
       "         0.47429385, 0.86940534, 0.24479849, 0.60706225, 0.38122924,\n",
       "         0.38324438, 0.63028754, 0.61362995, 0.36221804, 0.58510025,\n",
       "         0.39223557, 0.8476197 , 0.15638059, 0.38854556, 0.        ,\n",
       "         0.11487328],\n",
       "        [0.74820446, 0.36663232, 0.3509631 , 0.7754583 , 0.01625033,\n",
       "         0.59264725, 0.53876099, 0.46018362, 0.42063178, 0.4091874 ,\n",
       "         0.54358507, 0.49198629, 0.69442133, 0.62049313, 0.13673682,\n",
       "         0.41953403, 0.18816633, 0.27244   , 0.63770974, 0.11487328,\n",
       "         0.        ]]),\n",
       " array([[0., 0., 0., 0., 0., 0., 0., 0., 0., 0., 0., 0., 0., 0., 0., 0.,\n",
       "         0., 0., 0., 0., 0.],\n",
       "        [0., 0., 0., 0., 0., 0., 0., 0., 0., 0., 0., 0., 0., 0., 0., 0.,\n",
       "         0., 0., 0., 0., 0.],\n",
       "        [0., 0., 0., 0., 0., 0., 0., 0., 0., 0., 0., 0., 0., 0., 0., 0.,\n",
       "         0., 0., 0., 0., 0.],\n",
       "        [0., 0., 0., 0., 0., 0., 0., 0., 0., 0., 0., 0., 0., 0., 0., 0.,\n",
       "         0., 0., 0., 0., 0.],\n",
       "        [0., 0., 0., 0., 0., 0., 0., 0., 0., 0., 0., 0., 0., 0., 0., 0.,\n",
       "         0., 0., 0., 0., 0.],\n",
       "        [0., 0., 0., 0., 0., 0., 0., 0., 0., 0., 0., 0., 0., 0., 0., 0.,\n",
       "         0., 0., 0., 0., 0.],\n",
       "        [0., 0., 0., 0., 0., 0., 0., 0., 0., 0., 0., 0., 0., 0., 0., 0.,\n",
       "         0., 0., 0., 0., 0.],\n",
       "        [0., 0., 0., 0., 0., 0., 0., 0., 0., 0., 0., 0., 0., 0., 0., 0.,\n",
       "         0., 0., 0., 0., 0.],\n",
       "        [0., 0., 0., 0., 0., 0., 0., 0., 0., 0., 0., 0., 0., 0., 0., 0.,\n",
       "         0., 0., 0., 0., 0.],\n",
       "        [0., 0., 0., 0., 0., 0., 0., 0., 0., 0., 0., 0., 0., 0., 0., 0.,\n",
       "         0., 0., 0., 0., 0.],\n",
       "        [0., 0., 0., 0., 0., 0., 0., 0., 0., 0., 0., 0., 0., 0., 0., 0.,\n",
       "         0., 0., 0., 0., 0.],\n",
       "        [0., 0., 0., 0., 0., 0., 0., 0., 0., 0., 0., 0., 0., 0., 0., 0.,\n",
       "         0., 0., 0., 0., 0.],\n",
       "        [0., 0., 0., 0., 0., 0., 0., 0., 0., 0., 0., 0., 0., 0., 0., 0.,\n",
       "         0., 0., 0., 0., 0.],\n",
       "        [0., 0., 0., 0., 0., 0., 0., 0., 0., 0., 0., 0., 0., 0., 0., 0.,\n",
       "         0., 0., 0., 0., 0.],\n",
       "        [0., 0., 0., 0., 0., 0., 0., 0., 0., 0., 0., 0., 0., 0., 0., 0.,\n",
       "         0., 0., 0., 0., 0.],\n",
       "        [0., 0., 0., 0., 0., 0., 0., 0., 0., 0., 0., 0., 0., 0., 0., 0.,\n",
       "         0., 0., 0., 0., 0.],\n",
       "        [0., 0., 0., 0., 0., 0., 0., 0., 0., 0., 0., 0., 0., 0., 0., 0.,\n",
       "         0., 0., 0., 0., 0.],\n",
       "        [0., 0., 0., 0., 0., 0., 0., 0., 0., 0., 0., 0., 0., 0., 0., 0.,\n",
       "         0., 0., 0., 0., 0.],\n",
       "        [0., 0., 0., 0., 0., 0., 0., 0., 0., 0., 0., 0., 0., 0., 0., 0.,\n",
       "         0., 0., 0., 0., 0.],\n",
       "        [0., 0., 0., 0., 0., 0., 0., 0., 0., 0., 0., 0., 0., 0., 0., 0.,\n",
       "         0., 0., 0., 0., 0.],\n",
       "        [0., 0., 0., 0., 0., 0., 0., 0., 0., 0., 0., 0., 0., 0., 0., 0.,\n",
       "         0., 0., 0., 0., 0.]]))"
      ]
     },
     "execution_count": 4,
     "metadata": {},
     "output_type": "execute_result"
    }
   ],
   "source": [
    "A_gt, A_gt - A_gt.T\n",
    "# checking if the ground truth matrix is symmetric"
   ]
  },
  {
   "cell_type": "code",
   "execution_count": 35,
   "metadata": {},
   "outputs": [
    {
     "data": {
      "text/plain": [
       "array([0.02175461, 0.06366009, 0.31395696, 0.0293988 , 0.33627754,\n",
       "       0.26023276, 0.05410688, 0.15690531, 0.12362962, 0.08654627,\n",
       "       1.10438007, 0.44845142, 0.04740105, 1.07507895, 0.00215753,\n",
       "       0.94892974, 0.10944628, 1.54929399, 2.05679949, 0.52536964,\n",
       "       0.70759751])"
      ]
     },
     "execution_count": 35,
     "metadata": {},
     "output_type": "execute_result"
    }
   ],
   "source": [
    "dt = 0.001\n",
    "x0 = abs(randn(N,))\n",
    "x0\n",
    "#  setting up initial conditions and the time resolution"
   ]
  },
  {
   "cell_type": "code",
   "execution_count": 36,
   "metadata": {},
   "outputs": [],
   "source": [
    "x = x0\n",
    "Traj = []\n",
    "\n",
    "for i in range(T):\n",
    "    Traj.append(x)\n",
    "    x = x + (-(x)+ dot(A_gt,(x)/(1+x)))*dt"
   ]
  },
  {
   "cell_type": "markdown",
   "metadata": {},
   "source": [
    "### Issue\n",
    "The value of the graph signal depends on the previous update, and the 'how' is dictated by the differential equation\n",
    "But the first term, $\\vec{x}^{0.5}$ will throw some errors in our simulation if any of the components of $\\vec{x}$ are negative. \n",
    "\n",
    "A quick fix was to take the absolute value before applying the square root."
   ]
  },
  {
   "cell_type": "code",
   "execution_count": 37,
   "metadata": {},
   "outputs": [
    {
     "data": {
      "text/plain": [
       "[<matplotlib.lines.Line2D at 0x7f7559427970>]"
      ]
     },
     "execution_count": 37,
     "metadata": {},
     "output_type": "execute_result"
    },
    {
     "data": {
      "image/png": "[encoded data removed]",
      "text/plain": [
       "<Figure size 432x288 with 1 Axes>"
      ]
     },
     "metadata": {
      "needs_background": "light"
     },
     "output_type": "display_data"
    }
   ],
   "source": [
    "plot([(Traj[i])[0] for i in range(T)])"
   ]
  },
  {
   "cell_type": "code",
   "execution_count": 38,
   "metadata": {},
   "outputs": [
    {
     "data": {
      "text/plain": [
       "<matlab.object at 0x7f755950f470>"
      ]
     },
     "execution_count": 38,
     "metadata": {},
     "output_type": "execute_result"
    }
   ],
   "source": [
    "xp = [Traj[i][0] for i in range(T)]\n",
    "x_0 = matlab.double(xp)\n",
    "MATLAB.plot(x_0)"
   ]
  },
  {
   "cell_type": "code",
   "execution_count": 39,
   "metadata": {},
   "outputs": [],
   "source": [
    "x1 =  [Traj[i][1] for i in range(T)]\n",
    "x_1 = matlab.double(x1)\n",
    "\n",
    "x2 =  [Traj[i][2] for i in range(T)]\n",
    "x_2 = matlab.double(x2)\n",
    "\n",
    "x3 =  [Traj[i][3] for i in range(T)]\n",
    "x_3 = matlab.double(x3)\n",
    "\n",
    "x4 =  [Traj[i][4] for i in range(T)]\n",
    "x_4 = matlab.double(x4)"
   ]
  },
  {
   "cell_type": "code",
   "execution_count": 40,
   "metadata": {},
   "outputs": [],
   "source": [
    "MATLAB.workspace['ex0'] = x_0\n",
    "MATLAB.workspace['ex1'] = x_1\n",
    "MATLAB.workspace['ex2'] = x_2\n",
    "MATLAB.workspace['ex3'] = x_3\n",
    "MATLAB.workspace['ex4'] = x_4"
   ]
  },
  {
   "cell_type": "code",
   "execution_count": 41,
   "metadata": {},
   "outputs": [],
   "source": [
    "MATLAB.eval(\"var1 = [ex0; ex1; ex2; ex3; ex4];\",nargout = 0)\n",
    "MATLAB.eval(\"for k = 1:5 subplot(3,2,k); plot(var1(k,:)); end\",nargout = 0)"
   ]
  },
  {
   "cell_type": "markdown",
   "metadata": {},
   "source": [
    "We will now try to learn back the coefficients of A using some Matrix inversion;\n",
    "\n",
    "For different samples in `Traj` which track the movement of the signal at all nodes, we will take N such samples and compute the finite difference based derivative and set it equal to the affine  RHS of the central equation evaluated at that point in time (we will use left hand derivative)"
   ]
  },
  {
   "cell_type": "code",
   "execution_count": 67,
   "metadata": {},
   "outputs": [],
   "source": [
    "k = 2\n",
    "samples = [Traj[k*i] for i in range(T//k)]\n",
    "derivs = [(samples[i+1] - samples[i])/(k*dt) for i in range(T//k - 1)]\n",
    "# larger timescale used"
   ]
  },
  {
   "cell_type": "code",
   "execution_count": 68,
   "metadata": {},
   "outputs": [
    {
     "data": {
      "text/plain": [
       "[<matplotlib.lines.Line2D at 0x7f75532511f0>]"
      ]
     },
     "execution_count": 68,
     "metadata": {},
     "output_type": "execute_result"
    },
    {
     "data": {
      "image/png": "[encoded data removed]",
      "text/plain": [
       "<Figure size 432x288 with 1 Axes>"
      ]
     },
     "metadata": {
      "needs_background": "light"
     },
     "output_type": "display_data"
    }
   ],
   "source": [
    "plot(array(samples)[:,0],\"*\")\n",
    "plot([i for i in range(T//k - 1)], array(derivs)[:,0],\"*\")"
   ]
  },
  {
   "cell_type": "markdown",
   "metadata": {},
   "source": [
    "We have many equations of the form \n",
    "$$\n",
    "\\frac{\\vec{x}_{i+1} - \\vec{x}_{i}}{t_{i+1} - t_{i}} = -\\sqrt{\\vec{x}_{i}} + A \\sqrt[5]{\\vec{x}_{i}} \\\\\n",
    "$$\n",
    "\n",
    "$$\n",
    "\\frac{\\vec{x}_{i+1} - \\vec{x}_{i}}{t_{i+1} - t_{i}} + \\sqrt{\\vec{x}_{i}} =  A \\sqrt[5]{\\vec{x}_{i}} \\\\\n",
    "$$\n",
    "$$\n",
    "\\vec{v}_{i} = A \\vec{u}_{i}\n",
    "$$\n",
    "\n",
    "To solve this, we can simply adjoin different instances of the above so that it forms:\n",
    "\n",
    "$$\n",
    " V = AU\n",
    "$$\n",
    "\n",
    "\n",
    "where U, V are both NxN matrices (columns of U,V follow the first equation)\n",
    "This means, using N instances of first eq we can try to get back the Matrix A.\n",
    "\n",
    "$$\n",
    "U = [\\vec{u}_1 \\vec{u}_2 \\dots \\vec{u}_N]\n",
    "$$\n",
    "\n",
    "$$\n",
    "V = [\\vec{v}_1 \\vec{v}_2 \\dots \\vec{v}_N]\n",
    "$$"
   ]
  },
  {
   "cell_type": "code",
   "execution_count": 69,
   "metadata": {},
   "outputs": [],
   "source": [
    "M = 2*(N**2)\n",
    "V = zeros((N,M))\n",
    "U = zeros((N,M))\n",
    "\n",
    "for ind, i in enumerate(randint(0,T/k, M)):\n",
    "    V[:,ind] =  derivs[i] + samples[i]\n",
    "    U[:,ind] = (samples[i])/(1+(samples[i]))"
   ]
  },
  {
   "cell_type": "markdown",
   "metadata": {},
   "source": [
    "### Trying with NC2 equations instead"
   ]
  },
  {
   "cell_type": "markdown",
   "metadata": {},
   "source": [
    "Trying to unravel Adjacency matrix into a vector instead: "
   ]
  },
  {
   "cell_type": "markdown",
   "metadata": {},
   "source": [
    "Adjacency has symmetric structure, which means the equations would look like so:\n",
    "\n",
    "$$\n",
    "A \\vec{u} = \n",
    "\\begin{bmatrix}\n",
    "0 \\quad w_{12} \\quad w_{13} \\dots w_{1N} \\\\\n",
    "w_{21}  \\quad 0  \\quad w_{23}  \\dots w_{2N}\\\\\n",
    "\\vdots \\quad \\vdots \\quad \\ddots \\quad \\dots \\quad \\vdots \\\\\n",
    "w_{N1} \\quad w_{N2} \\quad w_{N3}  \\dots 0\\\\\n",
    "\\end{bmatrix}  \n",
    "\\begin{bmatrix} \n",
    "u_1 \\\\\n",
    "u_2 \\\\\n",
    "u_3 \\\\\n",
    "\\vdots\n",
    "\\end{bmatrix}  \n",
    "= u_1 \\cdot\n",
    "\\begin{bmatrix} \n",
    "0 \\\\\n",
    "w_{21} \\\\\n",
    "w_{31} \\\\\n",
    "\\vdots \n",
    "\\end{bmatrix}  \n",
    "+\n",
    "u_2 \\cdot\n",
    "\\begin{bmatrix} \n",
    "w_{12} \\\\\n",
    "0 \\\\\n",
    "w_{32} \\\\\n",
    "\\vdots \n",
    "\\end{bmatrix} \n",
    "\\dots \n",
    "+\n",
    "u_N \\cdot\n",
    "\\begin{bmatrix} \n",
    "w_{1N} \\\\\n",
    "\\vdots  \\\\\n",
    "w_{N-1 N} \\\\\n",
    "0 \n",
    "\\end{bmatrix} \n",
    "$$\n",
    "\n",
    "A is of order $N \\times N$, but imformation it stores is captured in $\\frac{N^2 - N}{2}$"
   ]
  },
  {
   "cell_type": "markdown",
   "metadata": {},
   "source": [
    "Unraveling the Adjacency matrix mean we only keep track of each pair of nodes, and what the weight of connecting edge is:\n",
    "\n",
    "If we pre-index;\n",
    "-   1 -> 1,2\n",
    "-   1 -> 1,3\n",
    "-   ...\n",
    "-   1 -> 1,N\n",
    "-   2 -> 2,3\n",
    "-   2 -> 2,4\n",
    "and so on till \n",
    "-   N-1 -> N"
   ]
  },
  {
   "cell_type": "markdown",
   "metadata": {},
   "source": [
    "How would $\\vec{u}$ change accordingly?\n",
    "We can notice that $w_{ij} = w_{ji}$ and they only show up in the linear combination of i, jth columns, which means they are scaled by $u_{i} + u_{j}$ Thus, we can simply convert $\\vec{u}_{N\\times 1} \\to \\vec{\\tilde{u}}_{\\frac{N^2 - N}{2}\\times 1} $ where each entry of $\\vec{\\tilde{u}}$ follows the indexing shown above; This transformation can help us compute back the Adjacency because now we just have to produce $\\vec{\\tilde{u}}^{T} \\vec{\\tilde{A}}$\n",
    "\n",
    "Where $\\vec{\\tilde{A}}$ = weights in indexing mentioned above;\n",
    " "
   ]
  },
  {
   "cell_type": "markdown",
   "metadata": {},
   "source": [
    "## Getting the structure of U\n",
    "Consider :\n",
    "$$\n",
    "    A \\vec{u} = \\vec{v}\n",
    "$$\n",
    "where A is of the form \n",
    "$$\n",
    "A = \n",
    "\\begin{bmatrix}\n",
    "0      &  \\quad a_{12}  & \\quad a_{13}  &  \\dots  & a_{1 N-1} &  \\quad a_{1N}    \\\\\n",
    "a_{12} &  \\quad 0       & \\quad a_{23}  &  \\dots & a_{2 N-1} & \\quad a_{2N}    \\\\\n",
    "a_{13} &  \\quad a_{23}  & \\quad 0       &  \\dots & a_{3 N-1} & \\quad a_{3N}    \\\\\n",
    "\\vdots &  \\quad \\vdots & \\quad \\vdots   & \\ddots &\\vdots    & \\quad \\vdots    \\\\\n",
    "a_{1N-1} & \\quad a_{2N-1}&\\quad a_{3N-1}&  \\dots & 0        & \\quad a_{N-1 N} \\\\ \n",
    "a_{1N}  & \\quad a_{2N} & \\quad a_{3N}   & \\dots & a_{N-1 N} & \\quad 0         \\\\\n",
    "\\end{bmatrix}  \n",
    "$$\n",
    "\n",
    "and hence,\n",
    "\n",
    "$$\n",
    "\\begin{bmatrix}\n",
    "0      &  \\quad a_{12}  & \\quad a_{13}  &  \\dots  & a_{1 N-1} &  \\quad a_{1N}    \\\\\n",
    "a_{12} &  \\quad 0       & \\quad a_{23}  &  \\dots & a_{2 N-1} & \\quad a_{2N}    \\\\\n",
    "a_{13} &  \\quad a_{23}  & \\quad 0       &  \\dots & a_{3 N-1} & \\quad a_{3N}    \\\\\n",
    "\\vdots &  \\quad \\vdots & \\quad \\vdots   & \\ddots &\\vdots    & \\quad \\vdots    \\\\\n",
    "a_{1N-1} & \\quad a_{2N-1}&\\quad a_{3N-1}&  \\dots & 0        & \\quad a_{N-1 N} \\\\ \n",
    "a_{1N}  & \\quad a_{2N} & \\quad a_{3N}   & \\dots & a_{N-1 N} & \\quad 0         \\\\\n",
    "\\end{bmatrix}   \n",
    "\\begin{bmatrix} \n",
    "u_1 \\\\\n",
    "u_2 \\\\\n",
    "u_3 \\\\\n",
    "\\vdots \\\\\n",
    "u_{N-1} \\\\\n",
    "u_{N}\n",
    "\\end{bmatrix}  \n",
    "=\n",
    "\\begin{bmatrix} \n",
    "v_1 \\\\\n",
    "v_2 \\\\\n",
    "v_3 \\\\\n",
    "\\vdots \\\\\n",
    "v_{N-1} \\\\\n",
    "v_{N}\n",
    "\\end{bmatrix}  \\\\ \n",
    "\\implies\n",
    "u_1 \n",
    "\\begin{bmatrix}\n",
    "0      \\\\\n",
    "a_{12} \\\\\n",
    "a_{13} \\\\\n",
    "\\vdots \\\\\n",
    "a_{1N-1}\\\\\n",
    "a_{1N} \\\\\n",
    "\\end{bmatrix}\n",
    "+\n",
    "u_2\n",
    "\\begin{bmatrix}\n",
    "a_{12} \\\\\n",
    "0       \\\\\n",
    "a_{23}  \\\\\n",
    "\\vdots \\\\\n",
    "a_{2N-1}\\\\\n",
    "a_{2N}    \\\\\n",
    "\\end{bmatrix}\n",
    "+\n",
    "\\dots \n",
    "+\n",
    "u_N\n",
    "\\begin{bmatrix}\n",
    " a_{1N}    \\\\\n",
    "a_{2N}    \\\\\n",
    "a_{3N}    \\\\\n",
    "\\vdots    \\\\\n",
    "a_{N-1 N} \\\\ \n",
    "0         \\\\\n",
    "\\end{bmatrix}\n",
    "=\n",
    "\\begin{bmatrix} \n",
    "v_1 \\\\\n",
    "v_2 \\\\\n",
    "v_3 \\\\\n",
    "\\vdots \\\\\n",
    "v_{N-1} \\\\\n",
    "v_{N}\n",
    "\\end{bmatrix} \\\\\n",
    "$$\n",
    "Let us vectorize A as follows:\n",
    "$$\n",
    "\\vec{A} = \n",
    "\\begin{bmatrix}\n",
    "a_{12} \\\\\n",
    "a_{13} \\\\\n",
    "\\vdots \\\\\n",
    "a_{1N} \\\\\n",
    "a_{23} \\\\\n",
    "a_{24} \\\\\n",
    "\\vdots \\\\\n",
    "a_{2N} \\\\\n",
    "a_{34} \\\\ \n",
    "\\vdots \\\\\n",
    "\\vdots \\\\\n",
    "a_{N-2 N-1} \\\\\n",
    "a_{N-2 N} \\\\\n",
    "a_{N-1 N}\n",
    "\\end{bmatrix} \n",
    "_{\\frac{N(N-1)}{2} \\times 1}\n",
    "$$\n",
    "\n",
    "Now, for Au = v, we have to write u as a matrix such that\n",
    "$$\n",
    "U_{N \\times {\\frac{N(N-1)}{2}}} \\vec{A} = \\vec{v}\n",
    "$$\n"
   ]
  },
  {
   "cell_type": "markdown",
   "metadata": {},
   "source": [
    "We can see that the matrix follows a structure according to the previous equations (ui, uj only appear as coefficient of aij terms), thus, U can be realised as a matrix in a recursive block manner as follows"
   ]
  },
  {
   "cell_type": "markdown",
   "metadata": {},
   "source": [
    "<!-- $$\n",
    "U = \n",
    "\\begin{bmatrix}\n",
    "\\textbf{0}_{i-1 \\times N-i} & | \\\\  \n",
    "u((i+1:N)) & |\\\\\n",
    "u_{i} I_{N-i} & |\n",
    "\\end{bmatrix}_{i = 1}^{N-1}\n",
    "$$ -->\n",
    "\n",
    "$$\n",
    "U  = \n",
    "\\begin{bmatrix}\n",
    "\\textbf{0}_{i-1 \\times N-i}  & \\rule[-1mm]{0.4mm}{0.5cm} &^{N-1}  \\\\   \n",
    "\\rule{2.5cm}{0.4pt} & \\rule[-1mm]{0.4mm}{0.5cm} &\\\\  \n",
    "u((i+1:N))  &\\rule[-1mm]{0.4mm}{0.5cm} & \\\\\n",
    "\\rule{2.5cm}{0.4pt} & \\rule[-1mm]{0.4mm}{0.5cm} & \\\\\n",
    "u_{i} I_{N-i} & \\rule[-1mm]{0.4mm}{0.5cm} &_{i = 1}\\\\\n",
    "\\end{bmatrix}\n",
    "$$\n"
   ]
  },
  {
   "cell_type": "code",
   "execution_count": 70,
   "metadata": {},
   "outputs": [],
   "source": [
    "def U_synth(u):\n",
    "    N = u.shape[0]\n",
    "    for i in range(1,N):\n",
    "\n",
    "        if i == 1:\n",
    "            uL = u[i:,:].T\n",
    "            I = u[i-1,:]*eye(N-i)\n",
    "            t = append(uL,I,axis=0)\n",
    "            U = t\n",
    "        \n",
    "        else:\n",
    "            Z = zeros((i-1,N-i))\n",
    "            uL = u[i:,:].T\n",
    "            I = u[i-1,:]*eye(N-i)\n",
    "            t = append(Z,uL,axis=0)\n",
    "            t = append(t,I,axis=0)    \n",
    "            U = append(U,t, axis=1)\n",
    "    return U"
   ]
  },
  {
   "cell_type": "code",
   "execution_count": 71,
   "metadata": {},
   "outputs": [],
   "source": [
    "num_sample = N-1//2\n",
    "u = reshape(U[:,0], (N,1))\n",
    "v = V[:,0]\n",
    "Bigu = U_synth(u)\n",
    "vV = v\n",
    "\n",
    "Bigu1 = U_synth(u)\n",
    "vV1 = v\n",
    "\n",
    "for k in range(M):\n",
    "    Bigu = append(Bigu, U_synth(reshape(U[:,k], (N,1))), axis=0)\n",
    "    vV = append(vV, V[:,k], axis = 0)\n",
    "\n",
    "\n",
    "for k in random.permutation(M):\n",
    "    Bigu1 = append(Bigu1, U_synth(reshape(U[:,k], (N,1))), axis=0)\n",
    "    vV1 = append(vV1, V[:,k], axis = 0)\n"
   ]
  },
  {
   "cell_type": "code",
   "execution_count": 72,
   "metadata": {},
   "outputs": [],
   "source": [
    "A_vec_try = dot(pinv(Bigu), vV)\n",
    "A_vec_try_1 = dot(pinv(Bigu1), vV1)"
   ]
  },
  {
   "cell_type": "code",
   "execution_count": 73,
   "metadata": {},
   "outputs": [],
   "source": [
    "def vectorizer(M):\n",
    "    N = M.shape[0]\n",
    "    vec = M[1:,0]\n",
    "    for i in range(1,N):  \n",
    "        vec = append(vec, M[i+1:,i], axis = 0)\n",
    "    return vec\n",
    "\n",
    "def matricizer(vec):\n",
    "    N = vec.shape[0]\n",
    "    N = int((1+np.sqrt(1+8*N))//2)\n",
    "    M = zeros((N,N))\n",
    "    k1 = 0\n",
    "    k2 = N-1\n",
    "    for i in range(N):\n",
    "        s = N - i-2\n",
    "        M[i+1:,i] = vec[k1:k2]\n",
    "        k1 = k2 \n",
    "        k2 += s\n",
    "    return M + M.T"
   ]
  },
  {
   "cell_type": "code",
   "execution_count": 74,
   "metadata": {},
   "outputs": [
    {
     "data": {
      "text/plain": [
       "17.0"
      ]
     },
     "execution_count": 74,
     "metadata": {},
     "output_type": "execute_result"
    }
   ],
   "source": [
    "A = matlab.double(Bigu.tolist())\n",
    "MATLAB.workspace['ww'] = A\n",
    "MATLAB.workspace['U'] = matlab.double(U.tolist())\n",
    "MATLAB.eval(\"rank(U)\")"
   ]
  },
  {
   "cell_type": "code",
   "execution_count": 75,
   "metadata": {},
   "outputs": [
    {
     "data": {
      "text/plain": [
       "202.0"
      ]
     },
     "execution_count": 75,
     "metadata": {},
     "output_type": "execute_result"
    }
   ],
   "source": [
    "MATLAB.eval(\"rank(ww)\")"
   ]
  },
  {
   "cell_type": "code",
   "execution_count": 76,
   "metadata": {},
   "outputs": [
    {
     "data": {
      "text/plain": [
       "(18543, 210)"
      ]
     },
     "execution_count": 76,
     "metadata": {},
     "output_type": "execute_result"
    }
   ],
   "source": [
    "AAAA = matricizer(A_vec_try)\n",
    "AAAA_1 = matricizer(A_vec_try_1)\n",
    "Bigu.shape"
   ]
  },
  {
   "cell_type": "code",
   "execution_count": 77,
   "metadata": {},
   "outputs": [
    {
     "data": {
      "text/plain": [
       "8174.760030359715"
      ]
     },
     "execution_count": 77,
     "metadata": {},
     "output_type": "execute_result"
    },
    {
     "data": {
      "image/png": "[encoded data removed]",
      "text/plain": [
       "<Figure size 288x288 with 2 Axes>"
      ]
     },
     "metadata": {
      "needs_background": "light"
     },
     "output_type": "display_data"
    },
    {
     "data": {
      "image/png": "[encoded data removed]",
      "text/plain": [
       "<Figure size 288x288 with 2 Axes>"
      ]
     },
     "metadata": {
      "needs_background": "light"
     },
     "output_type": "display_data"
    }
   ],
   "source": [
    "matshow(A_gt) \n",
    "colorbar()\n",
    "matshow(AAAA) \n",
    "colorbar()\n",
    "average((A_gt-AAAA)**2)\n",
    "# colorbar()"
   ]
  },
  {
   "cell_type": "code",
   "execution_count": 78,
   "metadata": {},
   "outputs": [
    {
     "data": {
      "text/plain": [
       "<matplotlib.colorbar.Colorbar at 0x7f75595cdfa0>"
      ]
     },
     "execution_count": 78,
     "metadata": {},
     "output_type": "execute_result"
    },
    {
     "data": {
      "image/png": "[encoded data removed]",
      "text/plain": [
       "<Figure size 288x288 with 2 Axes>"
      ]
     },
     "metadata": {
      "needs_background": "light"
     },
     "output_type": "display_data"
    },
    {
     "data": {
      "image/png": "[encoded data removed]",
      "text/plain": [
       "<Figure size 288x288 with 2 Axes>"
      ]
     },
     "metadata": {
      "needs_background": "light"
     },
     "output_type": "display_data"
    }
   ],
   "source": [
    "A_new = (dot(V[:2*N], pinv(U[:2*N])))\n",
    "matshow(A_new)\n",
    "colorbar()\n",
    "matshow(A_gt)\n",
    "colorbar()\n",
    "# norm()"
   ]
  },
  {
   "cell_type": "code",
   "execution_count": 79,
   "metadata": {},
   "outputs": [
    {
     "data": {
      "text/html": [
       "<div>\n",
       "<style scoped>\n",
       "    .dataframe tbody tr th:only-of-type {\n",
       "        vertical-align: middle;\n",
       "    }\n",
       "\n",
       "    .dataframe tbody tr th {\n",
       "        vertical-align: top;\n",
       "    }\n",
       "\n",
       "    .dataframe thead th {\n",
       "        text-align: right;\n",
       "    }\n",
       "</style>\n",
       "<table border=\"1\" class=\"dataframe\">\n",
       "  <thead>\n",
       "    <tr style=\"text-align: right;\">\n",
       "      <th></th>\n",
       "      <th>0</th>\n",
       "      <th>1</th>\n",
       "      <th>2</th>\n",
       "      <th>3</th>\n",
       "      <th>4</th>\n",
       "      <th>5</th>\n",
       "      <th>6</th>\n",
       "      <th>7</th>\n",
       "      <th>8</th>\n",
       "      <th>9</th>\n",
       "      <th>...</th>\n",
       "      <th>11</th>\n",
       "      <th>12</th>\n",
       "      <th>13</th>\n",
       "      <th>14</th>\n",
       "      <th>15</th>\n",
       "      <th>16</th>\n",
       "      <th>17</th>\n",
       "      <th>18</th>\n",
       "      <th>19</th>\n",
       "      <th>20</th>\n",
       "    </tr>\n",
       "  </thead>\n",
       "  <tbody>\n",
       "    <tr>\n",
       "      <th>0</th>\n",
       "      <td>0.000000</td>\n",
       "      <td>-36.148325</td>\n",
       "      <td>18.783102</td>\n",
       "      <td>24.506131</td>\n",
       "      <td>260.620775</td>\n",
       "      <td>-17.201306</td>\n",
       "      <td>5.366880</td>\n",
       "      <td>-39.490640</td>\n",
       "      <td>-58.686849</td>\n",
       "      <td>6.904677</td>\n",
       "      <td>...</td>\n",
       "      <td>-135.714934</td>\n",
       "      <td>-3.324069</td>\n",
       "      <td>86.127332</td>\n",
       "      <td>44.383697</td>\n",
       "      <td>-75.103415</td>\n",
       "      <td>-72.233017</td>\n",
       "      <td>16.764853</td>\n",
       "      <td>-6.366851</td>\n",
       "      <td>70.781301</td>\n",
       "      <td>-10.375429</td>\n",
       "    </tr>\n",
       "    <tr>\n",
       "      <th>1</th>\n",
       "      <td>-36.148325</td>\n",
       "      <td>0.000000</td>\n",
       "      <td>-56.272031</td>\n",
       "      <td>-51.219253</td>\n",
       "      <td>-7.365773</td>\n",
       "      <td>16.245806</td>\n",
       "      <td>-30.843055</td>\n",
       "      <td>24.801707</td>\n",
       "      <td>-33.818898</td>\n",
       "      <td>80.975922</td>\n",
       "      <td>...</td>\n",
       "      <td>39.203371</td>\n",
       "      <td>45.310183</td>\n",
       "      <td>12.296265</td>\n",
       "      <td>3.207954</td>\n",
       "      <td>10.732246</td>\n",
       "      <td>34.595294</td>\n",
       "      <td>5.931134</td>\n",
       "      <td>-2.379237</td>\n",
       "      <td>-27.803025</td>\n",
       "      <td>3.441829</td>\n",
       "    </tr>\n",
       "    <tr>\n",
       "      <th>2</th>\n",
       "      <td>18.783102</td>\n",
       "      <td>-56.272031</td>\n",
       "      <td>0.000000</td>\n",
       "      <td>-3.219091</td>\n",
       "      <td>291.456057</td>\n",
       "      <td>23.888593</td>\n",
       "      <td>8.460654</td>\n",
       "      <td>-56.660095</td>\n",
       "      <td>-113.151489</td>\n",
       "      <td>-5.927751</td>\n",
       "      <td>...</td>\n",
       "      <td>-143.194043</td>\n",
       "      <td>-17.023014</td>\n",
       "      <td>87.036866</td>\n",
       "      <td>85.721947</td>\n",
       "      <td>-52.474721</td>\n",
       "      <td>-22.878331</td>\n",
       "      <td>19.855192</td>\n",
       "      <td>-8.268472</td>\n",
       "      <td>45.394828</td>\n",
       "      <td>-5.865309</td>\n",
       "    </tr>\n",
       "    <tr>\n",
       "      <th>3</th>\n",
       "      <td>24.506131</td>\n",
       "      <td>-51.219253</td>\n",
       "      <td>-3.219091</td>\n",
       "      <td>0.000000</td>\n",
       "      <td>204.249881</td>\n",
       "      <td>-86.487529</td>\n",
       "      <td>10.619677</td>\n",
       "      <td>-47.584734</td>\n",
       "      <td>9.677330</td>\n",
       "      <td>-45.476784</td>\n",
       "      <td>...</td>\n",
       "      <td>-8.182204</td>\n",
       "      <td>-19.019472</td>\n",
       "      <td>111.236873</td>\n",
       "      <td>90.694367</td>\n",
       "      <td>-66.259821</td>\n",
       "      <td>-58.542958</td>\n",
       "      <td>21.197507</td>\n",
       "      <td>-8.365319</td>\n",
       "      <td>27.300737</td>\n",
       "      <td>18.859754</td>\n",
       "    </tr>\n",
       "    <tr>\n",
       "      <th>4</th>\n",
       "      <td>260.620775</td>\n",
       "      <td>-7.365773</td>\n",
       "      <td>291.456057</td>\n",
       "      <td>204.249881</td>\n",
       "      <td>0.000000</td>\n",
       "      <td>-263.383292</td>\n",
       "      <td>216.301352</td>\n",
       "      <td>-44.302693</td>\n",
       "      <td>290.731438</td>\n",
       "      <td>-616.393373</td>\n",
       "      <td>...</td>\n",
       "      <td>12.933467</td>\n",
       "      <td>-309.672152</td>\n",
       "      <td>110.448701</td>\n",
       "      <td>114.486852</td>\n",
       "      <td>-3.333360</td>\n",
       "      <td>-196.456580</td>\n",
       "      <td>24.410798</td>\n",
       "      <td>-10.159092</td>\n",
       "      <td>52.260631</td>\n",
       "      <td>26.033777</td>\n",
       "    </tr>\n",
       "    <tr>\n",
       "      <th>5</th>\n",
       "      <td>-17.201306</td>\n",
       "      <td>16.245806</td>\n",
       "      <td>23.888593</td>\n",
       "      <td>-86.487529</td>\n",
       "      <td>-263.383292</td>\n",
       "      <td>0.000000</td>\n",
       "      <td>-15.606039</td>\n",
       "      <td>209.336881</td>\n",
       "      <td>-26.908697</td>\n",
       "      <td>74.977546</td>\n",
       "      <td>...</td>\n",
       "      <td>91.654842</td>\n",
       "      <td>38.048656</td>\n",
       "      <td>-10.585099</td>\n",
       "      <td>-36.702521</td>\n",
       "      <td>68.459936</td>\n",
       "      <td>11.199604</td>\n",
       "      <td>7.223737</td>\n",
       "      <td>-4.261604</td>\n",
       "      <td>-47.590428</td>\n",
       "      <td>-18.650587</td>\n",
       "    </tr>\n",
       "    <tr>\n",
       "      <th>6</th>\n",
       "      <td>5.366880</td>\n",
       "      <td>-30.843055</td>\n",
       "      <td>8.460654</td>\n",
       "      <td>10.619677</td>\n",
       "      <td>216.301352</td>\n",
       "      <td>-15.606039</td>\n",
       "      <td>0.000000</td>\n",
       "      <td>-29.949661</td>\n",
       "      <td>-51.107747</td>\n",
       "      <td>-5.610802</td>\n",
       "      <td>...</td>\n",
       "      <td>-94.520279</td>\n",
       "      <td>-0.500270</td>\n",
       "      <td>86.112660</td>\n",
       "      <td>48.984304</td>\n",
       "      <td>-51.277997</td>\n",
       "      <td>-53.010499</td>\n",
       "      <td>20.163410</td>\n",
       "      <td>-8.361821</td>\n",
       "      <td>43.478182</td>\n",
       "      <td>-4.161808</td>\n",
       "    </tr>\n",
       "    <tr>\n",
       "      <th>7</th>\n",
       "      <td>-39.490640</td>\n",
       "      <td>24.801707</td>\n",
       "      <td>-56.660095</td>\n",
       "      <td>-47.584734</td>\n",
       "      <td>-44.302693</td>\n",
       "      <td>209.336881</td>\n",
       "      <td>-29.949661</td>\n",
       "      <td>0.000000</td>\n",
       "      <td>-168.478852</td>\n",
       "      <td>115.704718</td>\n",
       "      <td>...</td>\n",
       "      <td>-90.483459</td>\n",
       "      <td>37.106788</td>\n",
       "      <td>-106.978683</td>\n",
       "      <td>-43.248854</td>\n",
       "      <td>76.356941</td>\n",
       "      <td>141.692731</td>\n",
       "      <td>-16.171055</td>\n",
       "      <td>7.712688</td>\n",
       "      <td>-40.505769</td>\n",
       "      <td>-23.568154</td>\n",
       "    </tr>\n",
       "    <tr>\n",
       "      <th>8</th>\n",
       "      <td>-58.686849</td>\n",
       "      <td>-33.818898</td>\n",
       "      <td>-113.151489</td>\n",
       "      <td>9.677330</td>\n",
       "      <td>290.731438</td>\n",
       "      <td>-26.908697</td>\n",
       "      <td>-51.107747</td>\n",
       "      <td>-168.478852</td>\n",
       "      <td>0.000000</td>\n",
       "      <td>102.036858</td>\n",
       "      <td>...</td>\n",
       "      <td>-18.590564</td>\n",
       "      <td>63.840162</td>\n",
       "      <td>55.756009</td>\n",
       "      <td>40.015245</td>\n",
       "      <td>-105.888081</td>\n",
       "      <td>-9.868474</td>\n",
       "      <td>0.517025</td>\n",
       "      <td>2.337600</td>\n",
       "      <td>36.038502</td>\n",
       "      <td>28.248677</td>\n",
       "    </tr>\n",
       "    <tr>\n",
       "      <th>9</th>\n",
       "      <td>6.904677</td>\n",
       "      <td>80.975922</td>\n",
       "      <td>-5.927751</td>\n",
       "      <td>-45.476784</td>\n",
       "      <td>-616.393373</td>\n",
       "      <td>74.977546</td>\n",
       "      <td>-5.610802</td>\n",
       "      <td>115.704718</td>\n",
       "      <td>102.036858</td>\n",
       "      <td>0.000000</td>\n",
       "      <td>...</td>\n",
       "      <td>255.267416</td>\n",
       "      <td>5.873883</td>\n",
       "      <td>-225.879331</td>\n",
       "      <td>-118.979027</td>\n",
       "      <td>175.413060</td>\n",
       "      <td>160.160934</td>\n",
       "      <td>-43.011617</td>\n",
       "      <td>19.316933</td>\n",
       "      <td>-138.215991</td>\n",
       "      <td>10.086515</td>\n",
       "    </tr>\n",
       "    <tr>\n",
       "      <th>10</th>\n",
       "      <td>-68.962654</td>\n",
       "      <td>-20.591561</td>\n",
       "      <td>-85.100952</td>\n",
       "      <td>-114.151064</td>\n",
       "      <td>-142.585717</td>\n",
       "      <td>-4.434592</td>\n",
       "      <td>-82.867780</td>\n",
       "      <td>103.895901</td>\n",
       "      <td>-33.335568</td>\n",
       "      <td>203.415681</td>\n",
       "      <td>...</td>\n",
       "      <td>141.341811</td>\n",
       "      <td>119.967163</td>\n",
       "      <td>-2.291595</td>\n",
       "      <td>-11.845599</td>\n",
       "      <td>10.090903</td>\n",
       "      <td>39.763253</td>\n",
       "      <td>0.234053</td>\n",
       "      <td>0.559116</td>\n",
       "      <td>-51.248897</td>\n",
       "      <td>8.407315</td>\n",
       "    </tr>\n",
       "    <tr>\n",
       "      <th>11</th>\n",
       "      <td>-135.714934</td>\n",
       "      <td>39.203371</td>\n",
       "      <td>-143.194043</td>\n",
       "      <td>-8.182204</td>\n",
       "      <td>12.933467</td>\n",
       "      <td>91.654842</td>\n",
       "      <td>-94.520279</td>\n",
       "      <td>-90.483459</td>\n",
       "      <td>-18.590564</td>\n",
       "      <td>255.267416</td>\n",
       "      <td>...</td>\n",
       "      <td>0.000000</td>\n",
       "      <td>137.436230</td>\n",
       "      <td>-101.480562</td>\n",
       "      <td>-107.632001</td>\n",
       "      <td>-28.186279</td>\n",
       "      <td>70.834492</td>\n",
       "      <td>-30.095014</td>\n",
       "      <td>15.104067</td>\n",
       "      <td>7.565752</td>\n",
       "      <td>-2.940416</td>\n",
       "    </tr>\n",
       "    <tr>\n",
       "      <th>12</th>\n",
       "      <td>-3.324069</td>\n",
       "      <td>45.310183</td>\n",
       "      <td>-17.023014</td>\n",
       "      <td>-19.019472</td>\n",
       "      <td>-309.672152</td>\n",
       "      <td>38.048656</td>\n",
       "      <td>-0.500270</td>\n",
       "      <td>37.106788</td>\n",
       "      <td>63.840162</td>\n",
       "      <td>5.873883</td>\n",
       "      <td>...</td>\n",
       "      <td>137.436230</td>\n",
       "      <td>0.000000</td>\n",
       "      <td>-126.750714</td>\n",
       "      <td>-64.230932</td>\n",
       "      <td>85.687558</td>\n",
       "      <td>92.897937</td>\n",
       "      <td>-26.501371</td>\n",
       "      <td>12.758070</td>\n",
       "      <td>-69.966666</td>\n",
       "      <td>8.872314</td>\n",
       "    </tr>\n",
       "    <tr>\n",
       "      <th>13</th>\n",
       "      <td>86.127332</td>\n",
       "      <td>12.296265</td>\n",
       "      <td>87.036866</td>\n",
       "      <td>111.236873</td>\n",
       "      <td>110.448701</td>\n",
       "      <td>-10.585099</td>\n",
       "      <td>86.112660</td>\n",
       "      <td>-106.978683</td>\n",
       "      <td>55.756009</td>\n",
       "      <td>-225.879331</td>\n",
       "      <td>...</td>\n",
       "      <td>-101.480562</td>\n",
       "      <td>-126.750714</td>\n",
       "      <td>0.000000</td>\n",
       "      <td>27.688826</td>\n",
       "      <td>-0.873178</td>\n",
       "      <td>-30.848016</td>\n",
       "      <td>-0.187110</td>\n",
       "      <td>0.898133</td>\n",
       "      <td>37.741575</td>\n",
       "      <td>0.864653</td>\n",
       "    </tr>\n",
       "    <tr>\n",
       "      <th>14</th>\n",
       "      <td>44.383697</td>\n",
       "      <td>3.207954</td>\n",
       "      <td>85.721947</td>\n",
       "      <td>90.694367</td>\n",
       "      <td>114.486852</td>\n",
       "      <td>-36.702521</td>\n",
       "      <td>48.984304</td>\n",
       "      <td>-43.248854</td>\n",
       "      <td>40.015245</td>\n",
       "      <td>-118.979027</td>\n",
       "      <td>...</td>\n",
       "      <td>-107.632001</td>\n",
       "      <td>-64.230932</td>\n",
       "      <td>27.688826</td>\n",
       "      <td>0.000000</td>\n",
       "      <td>-37.694977</td>\n",
       "      <td>-83.890555</td>\n",
       "      <td>3.519134</td>\n",
       "      <td>-0.277174</td>\n",
       "      <td>67.162857</td>\n",
       "      <td>-11.679861</td>\n",
       "    </tr>\n",
       "    <tr>\n",
       "      <th>15</th>\n",
       "      <td>-75.103415</td>\n",
       "      <td>10.732246</td>\n",
       "      <td>-52.474721</td>\n",
       "      <td>-66.259821</td>\n",
       "      <td>-3.333360</td>\n",
       "      <td>68.459936</td>\n",
       "      <td>-51.277997</td>\n",
       "      <td>76.356941</td>\n",
       "      <td>-105.888081</td>\n",
       "      <td>175.413060</td>\n",
       "      <td>...</td>\n",
       "      <td>-28.186279</td>\n",
       "      <td>85.687558</td>\n",
       "      <td>-0.873178</td>\n",
       "      <td>-37.694977</td>\n",
       "      <td>0.000000</td>\n",
       "      <td>26.008048</td>\n",
       "      <td>2.018975</td>\n",
       "      <td>0.066186</td>\n",
       "      <td>-4.914331</td>\n",
       "      <td>-17.885051</td>\n",
       "    </tr>\n",
       "    <tr>\n",
       "      <th>16</th>\n",
       "      <td>-72.233017</td>\n",
       "      <td>34.595294</td>\n",
       "      <td>-22.878331</td>\n",
       "      <td>-58.542958</td>\n",
       "      <td>-196.456580</td>\n",
       "      <td>11.199604</td>\n",
       "      <td>-53.010499</td>\n",
       "      <td>141.692731</td>\n",
       "      <td>-9.868474</td>\n",
       "      <td>160.160934</td>\n",
       "      <td>...</td>\n",
       "      <td>70.834492</td>\n",
       "      <td>92.897937</td>\n",
       "      <td>-30.848016</td>\n",
       "      <td>-83.890555</td>\n",
       "      <td>26.008048</td>\n",
       "      <td>0.000000</td>\n",
       "      <td>-4.017276</td>\n",
       "      <td>1.666837</td>\n",
       "      <td>-20.103306</td>\n",
       "      <td>-17.597797</td>\n",
       "    </tr>\n",
       "    <tr>\n",
       "      <th>17</th>\n",
       "      <td>16.764853</td>\n",
       "      <td>5.931134</td>\n",
       "      <td>19.855192</td>\n",
       "      <td>21.197507</td>\n",
       "      <td>24.410798</td>\n",
       "      <td>7.223737</td>\n",
       "      <td>20.163410</td>\n",
       "      <td>-16.171055</td>\n",
       "      <td>0.517025</td>\n",
       "      <td>-43.011617</td>\n",
       "      <td>...</td>\n",
       "      <td>-30.095014</td>\n",
       "      <td>-26.501371</td>\n",
       "      <td>-0.187110</td>\n",
       "      <td>3.519134</td>\n",
       "      <td>2.018975</td>\n",
       "      <td>-4.017276</td>\n",
       "      <td>0.000000</td>\n",
       "      <td>0.208238</td>\n",
       "      <td>7.950324</td>\n",
       "      <td>-1.153383</td>\n",
       "    </tr>\n",
       "    <tr>\n",
       "      <th>18</th>\n",
       "      <td>-6.366851</td>\n",
       "      <td>-2.379237</td>\n",
       "      <td>-8.268472</td>\n",
       "      <td>-8.365319</td>\n",
       "      <td>-10.159092</td>\n",
       "      <td>-4.261604</td>\n",
       "      <td>-8.361821</td>\n",
       "      <td>7.712688</td>\n",
       "      <td>2.337600</td>\n",
       "      <td>19.316933</td>\n",
       "      <td>...</td>\n",
       "      <td>15.104067</td>\n",
       "      <td>12.758070</td>\n",
       "      <td>0.898133</td>\n",
       "      <td>-0.277174</td>\n",
       "      <td>0.066186</td>\n",
       "      <td>1.666837</td>\n",
       "      <td>0.208238</td>\n",
       "      <td>0.000000</td>\n",
       "      <td>-3.052219</td>\n",
       "      <td>1.309156</td>\n",
       "    </tr>\n",
       "    <tr>\n",
       "      <th>19</th>\n",
       "      <td>70.781301</td>\n",
       "      <td>-27.803025</td>\n",
       "      <td>45.394828</td>\n",
       "      <td>27.300737</td>\n",
       "      <td>52.260631</td>\n",
       "      <td>-47.590428</td>\n",
       "      <td>43.478182</td>\n",
       "      <td>-40.505769</td>\n",
       "      <td>36.038502</td>\n",
       "      <td>-138.215991</td>\n",
       "      <td>...</td>\n",
       "      <td>7.565752</td>\n",
       "      <td>-69.966666</td>\n",
       "      <td>37.741575</td>\n",
       "      <td>67.162857</td>\n",
       "      <td>-4.914331</td>\n",
       "      <td>-20.103306</td>\n",
       "      <td>7.950324</td>\n",
       "      <td>-3.052219</td>\n",
       "      <td>0.000000</td>\n",
       "      <td>16.552541</td>\n",
       "    </tr>\n",
       "    <tr>\n",
       "      <th>20</th>\n",
       "      <td>-10.375429</td>\n",
       "      <td>3.441829</td>\n",
       "      <td>-5.865309</td>\n",
       "      <td>18.859754</td>\n",
       "      <td>26.033777</td>\n",
       "      <td>-18.650587</td>\n",
       "      <td>-4.161808</td>\n",
       "      <td>-23.568154</td>\n",
       "      <td>28.248677</td>\n",
       "      <td>10.086515</td>\n",
       "      <td>...</td>\n",
       "      <td>-2.940416</td>\n",
       "      <td>8.872314</td>\n",
       "      <td>0.864653</td>\n",
       "      <td>-11.679861</td>\n",
       "      <td>-17.885051</td>\n",
       "      <td>-17.597797</td>\n",
       "      <td>-1.153383</td>\n",
       "      <td>1.309156</td>\n",
       "      <td>16.552541</td>\n",
       "      <td>0.000000</td>\n",
       "    </tr>\n",
       "  </tbody>\n",
       "</table>\n",
       "<p>21 rows × 21 columns</p>\n",
       "</div>"
      ],
      "text/plain": [
       "            0          1           2           3           4           5   \\\n",
       "0     0.000000 -36.148325   18.783102   24.506131  260.620775  -17.201306   \n",
       "1   -36.148325   0.000000  -56.272031  -51.219253   -7.365773   16.245806   \n",
       "2    18.783102 -56.272031    0.000000   -3.219091  291.456057   23.888593   \n",
       "3    24.506131 -51.219253   -3.219091    0.000000  204.249881  -86.487529   \n",
       "4   260.620775  -7.365773  291.456057  204.249881    0.000000 -263.383292   \n",
       "5   -17.201306  16.245806   23.888593  -86.487529 -263.383292    0.000000   \n",
       "6     5.366880 -30.843055    8.460654   10.619677  216.301352  -15.606039   \n",
       "7   -39.490640  24.801707  -56.660095  -47.584734  -44.302693  209.336881   \n",
       "8   -58.686849 -33.818898 -113.151489    9.677330  290.731438  -26.908697   \n",
       "9     6.904677  80.975922   -5.927751  -45.476784 -616.393373   74.977546   \n",
       "10  -68.962654 -20.591561  -85.100952 -114.151064 -142.585717   -4.434592   \n",
       "11 -135.714934  39.203371 -143.194043   -8.182204   12.933467   91.654842   \n",
       "12   -3.324069  45.310183  -17.023014  -19.019472 -309.672152   38.048656   \n",
       "13   86.127332  12.296265   87.036866  111.236873  110.448701  -10.585099   \n",
       "14   44.383697   3.207954   85.721947   90.694367  114.486852  -36.702521   \n",
       "15  -75.103415  10.732246  -52.474721  -66.259821   -3.333360   68.459936   \n",
       "16  -72.233017  34.595294  -22.878331  -58.542958 -196.456580   11.199604   \n",
       "17   16.764853   5.931134   19.855192   21.197507   24.410798    7.223737   \n",
       "18   -6.366851  -2.379237   -8.268472   -8.365319  -10.159092   -4.261604   \n",
       "19   70.781301 -27.803025   45.394828   27.300737   52.260631  -47.590428   \n",
       "20  -10.375429   3.441829   -5.865309   18.859754   26.033777  -18.650587   \n",
       "\n",
       "            6           7           8           9   ...          11  \\\n",
       "0     5.366880  -39.490640  -58.686849    6.904677  ... -135.714934   \n",
       "1   -30.843055   24.801707  -33.818898   80.975922  ...   39.203371   \n",
       "2     8.460654  -56.660095 -113.151489   -5.927751  ... -143.194043   \n",
       "3    10.619677  -47.584734    9.677330  -45.476784  ...   -8.182204   \n",
       "4   216.301352  -44.302693  290.731438 -616.393373  ...   12.933467   \n",
       "5   -15.606039  209.336881  -26.908697   74.977546  ...   91.654842   \n",
       "6     0.000000  -29.949661  -51.107747   -5.610802  ...  -94.520279   \n",
       "7   -29.949661    0.000000 -168.478852  115.704718  ...  -90.483459   \n",
       "8   -51.107747 -168.478852    0.000000  102.036858  ...  -18.590564   \n",
       "9    -5.610802  115.704718  102.036858    0.000000  ...  255.267416   \n",
       "10  -82.867780  103.895901  -33.335568  203.415681  ...  141.341811   \n",
       "11  -94.520279  -90.483459  -18.590564  255.267416  ...    0.000000   \n",
       "12   -0.500270   37.106788   63.840162    5.873883  ...  137.436230   \n",
       "13   86.112660 -106.978683   55.756009 -225.879331  ... -101.480562   \n",
       "14   48.984304  -43.248854   40.015245 -118.979027  ... -107.632001   \n",
       "15  -51.277997   76.356941 -105.888081  175.413060  ...  -28.186279   \n",
       "16  -53.010499  141.692731   -9.868474  160.160934  ...   70.834492   \n",
       "17   20.163410  -16.171055    0.517025  -43.011617  ...  -30.095014   \n",
       "18   -8.361821    7.712688    2.337600   19.316933  ...   15.104067   \n",
       "19   43.478182  -40.505769   36.038502 -138.215991  ...    7.565752   \n",
       "20   -4.161808  -23.568154   28.248677   10.086515  ...   -2.940416   \n",
       "\n",
       "            12          13          14          15          16         17  \\\n",
       "0    -3.324069   86.127332   44.383697  -75.103415  -72.233017  16.764853   \n",
       "1    45.310183   12.296265    3.207954   10.732246   34.595294   5.931134   \n",
       "2   -17.023014   87.036866   85.721947  -52.474721  -22.878331  19.855192   \n",
       "3   -19.019472  111.236873   90.694367  -66.259821  -58.542958  21.197507   \n",
       "4  -309.672152  110.448701  114.486852   -3.333360 -196.456580  24.410798   \n",
       "5    38.048656  -10.585099  -36.702521   68.459936   11.199604   7.223737   \n",
       "6    -0.500270   86.112660   48.984304  -51.277997  -53.010499  20.163410   \n",
       "7    37.106788 -106.978683  -43.248854   76.356941  141.692731 -16.171055   \n",
       "8    63.840162   55.756009   40.015245 -105.888081   -9.868474   0.517025   \n",
       "9     5.873883 -225.879331 -118.979027  175.413060  160.160934 -43.011617   \n",
       "10  119.967163   -2.291595  -11.845599   10.090903   39.763253   0.234053   \n",
       "11  137.436230 -101.480562 -107.632001  -28.186279   70.834492 -30.095014   \n",
       "12    0.000000 -126.750714  -64.230932   85.687558   92.897937 -26.501371   \n",
       "13 -126.750714    0.000000   27.688826   -0.873178  -30.848016  -0.187110   \n",
       "14  -64.230932   27.688826    0.000000  -37.694977  -83.890555   3.519134   \n",
       "15   85.687558   -0.873178  -37.694977    0.000000   26.008048   2.018975   \n",
       "16   92.897937  -30.848016  -83.890555   26.008048    0.000000  -4.017276   \n",
       "17  -26.501371   -0.187110    3.519134    2.018975   -4.017276   0.000000   \n",
       "18   12.758070    0.898133   -0.277174    0.066186    1.666837   0.208238   \n",
       "19  -69.966666   37.741575   67.162857   -4.914331  -20.103306   7.950324   \n",
       "20    8.872314    0.864653  -11.679861  -17.885051  -17.597797  -1.153383   \n",
       "\n",
       "           18          19         20  \n",
       "0   -6.366851   70.781301 -10.375429  \n",
       "1   -2.379237  -27.803025   3.441829  \n",
       "2   -8.268472   45.394828  -5.865309  \n",
       "3   -8.365319   27.300737  18.859754  \n",
       "4  -10.159092   52.260631  26.033777  \n",
       "5   -4.261604  -47.590428 -18.650587  \n",
       "6   -8.361821   43.478182  -4.161808  \n",
       "7    7.712688  -40.505769 -23.568154  \n",
       "8    2.337600   36.038502  28.248677  \n",
       "9   19.316933 -138.215991  10.086515  \n",
       "10   0.559116  -51.248897   8.407315  \n",
       "11  15.104067    7.565752  -2.940416  \n",
       "12  12.758070  -69.966666   8.872314  \n",
       "13   0.898133   37.741575   0.864653  \n",
       "14  -0.277174   67.162857 -11.679861  \n",
       "15   0.066186   -4.914331 -17.885051  \n",
       "16   1.666837  -20.103306 -17.597797  \n",
       "17   0.208238    7.950324  -1.153383  \n",
       "18   0.000000   -3.052219   1.309156  \n",
       "19  -3.052219    0.000000  16.552541  \n",
       "20   1.309156   16.552541   0.000000  \n",
       "\n",
       "[21 rows x 21 columns]"
      ]
     },
     "execution_count": 79,
     "metadata": {},
     "output_type": "execute_result"
    }
   ],
   "source": [
    "pd.DataFrame(AAAA)"
   ]
  },
  {
   "cell_type": "code",
   "execution_count": 80,
   "metadata": {},
   "outputs": [
    {
     "data": {
      "text/plain": [
       "(0.1111324820191755,\n",
       " 1197.450965940449,\n",
       " 1197.4500507956977,\n",
       " 0.11364425729794372)"
      ]
     },
     "execution_count": 80,
     "metadata": {},
     "output_type": "execute_result"
    },
    {
     "data": {
      "image/png": "[encoded data removed]",
      "text/plain": [
       "<Figure size 1152x144 with 2 Axes>"
      ]
     },
     "metadata": {
      "needs_background": "light"
     },
     "output_type": "display_data"
    },
    {
     "data": {
      "image/png": "[encoded data removed]",
      "text/plain": [
       "<Figure size 1152x144 with 2 Axes>"
      ]
     },
     "metadata": {
      "needs_background": "light"
     },
     "output_type": "display_data"
    },
    {
     "data": {
      "image/png": "[encoded data removed]",
      "text/plain": [
       "<Figure size 1152x144 with 2 Axes>"
      ]
     },
     "metadata": {
      "needs_background": "light"
     },
     "output_type": "display_data"
    },
    {
     "data": {
      "image/png": "[encoded data removed]",
      "text/plain": [
       "<Figure size 1152x144 with 2 Axes>"
      ]
     },
     "metadata": {
      "needs_background": "light"
     },
     "output_type": "display_data"
    }
   ],
   "source": [
    "# norm(matricizer(A_vec_try).dot(U) - V)\n",
    "matshow(dot(AAAA,U))\n",
    "colorbar()\n",
    "matshow(V)\n",
    "colorbar()\n",
    "matshow(dot(A_gt,U))\n",
    "colorbar()\n",
    "matshow(dot(AAAA_1,U))\n",
    "colorbar()\n",
    "norm(dot(AAAA,U)-V), norm(dot(AAAA,U)), norm(V), norm(dot(A_gt,U)-V)"
   ]
  },
  {
   "cell_type": "code",
   "execution_count": 81,
   "metadata": {},
   "outputs": [
    {
     "data": {
      "text/plain": [
       "21.0"
      ]
     },
     "execution_count": 81,
     "metadata": {},
     "output_type": "execute_result"
    }
   ],
   "source": [
    "A_gt_mat = matlab.double(A_gt.tolist())\n",
    "MATLAB.workspace[\"aa\"] = A_gt_mat\n",
    "MATLAB.eval(\"rank(aa)\")"
   ]
  },
  {
   "cell_type": "code",
   "execution_count": 82,
   "metadata": {},
   "outputs": [
    {
     "data": {
      "text/plain": [
       "[<matplotlib.lines.Line2D at 0x7f754bad9310>]"
      ]
     },
     "execution_count": 82,
     "metadata": {},
     "output_type": "execute_result"
    },
    {
     "data": {
      "image/png": "[encoded data removed]",
      "text/plain": [
       "<Figure size 432x288 with 1 Axes>"
      ]
     },
     "metadata": {
      "needs_background": "light"
     },
     "output_type": "display_data"
    }
   ],
   "source": [
    "plot((dot(AAAA,U) -V).flatten())\n",
    "# colorbar()"
   ]
  },
  {
   "cell_type": "code",
   "execution_count": 83,
   "metadata": {},
   "outputs": [
    {
     "data": {
      "text/plain": [
       "(1007.2371413558915, 1424.4484258314083)"
      ]
     },
     "execution_count": 83,
     "metadata": {},
     "output_type": "execute_result"
    }
   ],
   "source": [
    "norm(A_vec_try - A_vec_try_1), norm(AAAA - AAAA_1)"
   ]
  },
  {
   "cell_type": "code",
   "execution_count": 84,
   "metadata": {},
   "outputs": [
    {
     "data": {
      "text/plain": [
       "<matplotlib.colorbar.Colorbar at 0x7f754b7d9280>"
      ]
     },
     "execution_count": 84,
     "metadata": {},
     "output_type": "execute_result"
    },
    {
     "data": {
      "image/png": "[encoded data removed]",
      "text/plain": [
       "<Figure size 288x1152 with 2 Axes>"
      ]
     },
     "metadata": {
      "needs_background": "light"
     },
     "output_type": "display_data"
    },
    {
     "data": {
      "image/png": "[encoded data removed]",
      "text/plain": [
       "<Figure size 288x1152 with 2 Axes>"
      ]
     },
     "metadata": {
      "needs_background": "light"
     },
     "output_type": "display_data"
    }
   ],
   "source": [
    "matshow(Bigu)\n",
    "colorbar()\n",
    "matshow(Bigu1)\n",
    "colorbar()"
   ]
  },
  {
   "cell_type": "code",
   "execution_count": 85,
   "metadata": {},
   "outputs": [
    {
     "data": {
      "text/plain": [
       "(201, (18543, 210))"
      ]
     },
     "execution_count": 85,
     "metadata": {},
     "output_type": "execute_result"
    }
   ],
   "source": [
    "linalg.matrix_rank(Bigu), shape(Bigu)"
   ]
  },
  {
   "cell_type": "code",
   "execution_count": 86,
   "metadata": {},
   "outputs": [
    {
     "data": {
      "text/plain": [
       "(201, (18543, 210))"
      ]
     },
     "execution_count": 86,
     "metadata": {},
     "output_type": "execute_result"
    }
   ],
   "source": [
    "linalg.matrix_rank(Bigu1), shape(Bigu1)"
   ]
  },
  {
   "cell_type": "code",
   "execution_count": 87,
   "metadata": {},
   "outputs": [
    {
     "data": {
      "text/plain": [
       "6.466036496704424e-15"
      ]
     },
     "execution_count": 87,
     "metadata": {},
     "output_type": "execute_result"
    },
    {
     "data": {
      "image/png": "[encoded data removed]",
      "text/plain": [
       "<Figure size 288x1152 with 1 Axes>"
      ]
     },
     "metadata": {
      "needs_background": "light"
     },
     "output_type": "display_data"
    }
   ],
   "source": [
    "q = (dot(A_gt,u))\n",
    "p = (dot(U_synth(u),vectorizer(A_gt))).reshape((21,1))\n",
    "# matshow(hstack((q,p)))\n",
    "\n",
    "Q = append(q,zeros((21,1)),axis=1)\n",
    "Q = append(Q,p,axis=1)\n",
    "\n",
    "matshow(Q)\n",
    "norm(q-p)"
   ]
  },
  {
   "cell_type": "code",
   "execution_count": 88,
   "metadata": {},
   "outputs": [
    {
     "data": {
      "text/plain": [
       "(21, 10, 13)"
      ]
     },
     "execution_count": 88,
     "metadata": {},
     "output_type": "execute_result"
    }
   ],
   "source": [
    "r = linalg.matrix_rank \n",
    "r(A_gt) , r(U[:,:N]), r(V[:,:2*N])"
   ]
  },
  {
   "cell_type": "code",
   "execution_count": 89,
   "metadata": {},
   "outputs": [
    {
     "data": {
      "text/plain": [
       "<matplotlib.image.AxesImage at 0x7f754b645190>"
      ]
     },
     "execution_count": 89,
     "metadata": {},
     "output_type": "execute_result"
    },
    {
     "data": {
      "image/png": "[encoded data removed]",
      "text/plain": [
       "<Figure size 685.714x288 with 1 Axes>"
      ]
     },
     "metadata": {
      "needs_background": "light"
     },
     "output_type": "display_data"
    }
   ],
   "source": [
    "matshow(U[:,:50])"
   ]
  }
 ],
 "metadata": {
  "kernelspec": {
   "display_name": "Python 3.9.12 ('graph')",
   "language": "python",
   "name": "python3"
  },
  "language_info": {
   "codemirror_mode": {
    "name": "ipython",
    "version": 3
   },
   "file_extension": ".py",
   "mimetype": "text/x-python",
   "name": "python",
   "nbconvert_exporter": "python",
   "pygments_lexer": "ipython3",
   "version": "3.9.12"
  },
  "vscode": {
   "interpreter": {
    "hash": "8c28d57c2d97abfad27937787db55774051a84c0e262ee8da8e617f587280746"
   }
  }
 },
 "nbformat": 4,
 "nbformat_minor": 2
}
