{
 "cells": [
  {
   "cell_type": "markdown",
   "metadata": {},
   "source": [
    "## Derivative based graph learning in P-regime "
   ]
  },
  {
   "cell_type": "code",
   "execution_count": 4,
   "metadata": {},
   "outputs": [
    {
     "name": "stdout",
     "output_type": "stream",
     "text": [
      "Populating the interactive namespace from numpy and matplotlib\n"
     ]
    }
   ],
   "source": [
    "%pylab inline\n",
    "import pandas as pd\n",
    "import pickle as pkl\n",
    "import matlab\n",
    "import matlab.engine\n",
    "MATLAB = matlab.engine.start_matlab()"
   ]
  },
  {
   "cell_type": "code",
   "execution_count": 5,
   "metadata": {},
   "outputs": [],
   "source": [
    "files = [\"../Simulation3/Data/EVN_n1.pkl\", \"../Simulation3/Data/EVN_n2.pkl\", \"../Simulation3/Data/EVN_n5.pkl\",  \"../Simulation3/Data/EvN.pkl\",  \"../Simulation3/Data/EVN_n20.pkl\"]\n",
    "curv = []\n",
    "eem  = []\n",
    "for i in range(5): curv.append(pkl.load(open(files[i],\"rb\"))) \n",
    "for i in range(5): eem.append(matlab.double((curv[i]*100).tolist()))\n",
    "# ee = matlab.double((e*100).tolist())"
   ]
  },
  {
   "cell_type": "code",
   "execution_count": 6,
   "metadata": {},
   "outputs": [
    {
     "data": {
      "text/plain": [
       "<matlab.object at 0x23147181ad0>"
      ]
     },
     "execution_count": 6,
     "metadata": {},
     "output_type": "execute_result"
    }
   ],
   "source": [
    "for i in range(5):\n",
    "    MATLAB.workspace['ee'] = eem[i]\n",
    "    MATLAB.eval(\"loglog(2:25,ee,linewidth=1); grid on; hold on;\", nargout = 0)\n",
    "\n",
    "\n",
    "# MATLAB.eval(\"plot(2:25,ee); grid on; hold on;\", nargout = 0)\n",
    "MATLAB.xlabel(\"Number of Nodes (N)\")\n",
    "MATLAB.ylabel(\"Relative Error (%)\")\n",
    "MATLAB.legend(\"n=1\",\"n=2\",\"n=5\",\"n=10\",\"n=20\")\n",
    "\n",
    "# for i in range(4):\n",
    "#     MATLAB.workspace['ee'] = eem[i]\n",
    "#     MATLAB.eval(\"loglog(2:25,ee,'*')\")\n",
    "# MATLAB.eval(\"legend\")\n",
    "# MATLAB.xticks(matlab.double([i for i in range(2,20)]))"
   ]
  },
  {
   "cell_type": "markdown",
   "metadata": {},
   "source": [
    "### P regime, N=50 Nodes\n",
    "The set of functions $M$ for P-regime of networks:\n",
    "$$\n",
    "    M = (M_0, M_1,M_2) = (-(\\cdot)^{0.5} , 1, (\\cdot)^{0.2})\n",
    "$$\n",
    "\n",
    "Central equation for node $i$:\n",
    "$$\n",
    "\\frac{dx_{i}}{dt} = - x_{i}^{0.5} + \\sum_{j=1}^{N} A_{ij} x_{j}^{0.2}\n",
    "$$\n",
    "\n",
    "Vectorized and using power notation:\n",
    "\n",
    "$$\n",
    "\\frac{d \\vec{x}}{dt} = - \\vec{x}^{0.5} + I_{N \\times N} A \\vec{x}^{0.2}\n",
    "$$\n",
    "\n",
    "We will evolve the system as per the above equation with the following adjacency matrix:"
   ]
  },
  {
   "cell_type": "code",
   "execution_count": 16,
   "metadata": {},
   "outputs": [],
   "source": [
    "N = 21\n",
    "T =10000\n",
    "A_gt = abs(rand(N,N))\n",
    "for i in range(N): A_gt[i,i] = 0\n",
    "A_gt = (A_gt + A_gt.T)/2"
   ]
  },
  {
   "cell_type": "code",
   "execution_count": 17,
   "metadata": {},
   "outputs": [
    {
     "data": {
      "text/plain": [
       "(array([[0.        , 0.18220202, 0.1689394 , 0.63917122, 0.20097594,\n",
       "         0.58407553, 0.14421554, 0.52352701, 0.84376344, 0.23915866,\n",
       "         0.37406637, 0.33055042, 0.65950858, 0.75124206, 0.37609502,\n",
       "         0.50539495, 0.57644976, 0.45152454, 0.68805556, 0.6359495 ,\n",
       "         0.12299008],\n",
       "        [0.18220202, 0.        , 0.23586837, 0.58879635, 0.54032421,\n",
       "         0.52451263, 0.6437652 , 0.52632276, 0.84131486, 0.42236939,\n",
       "         0.08968218, 0.56326431, 0.62004953, 0.72671574, 0.68812249,\n",
       "         0.56893104, 0.78619145, 0.28237498, 0.77971707, 0.76413389,\n",
       "         0.39781213],\n",
       "        [0.1689394 , 0.23586837, 0.        , 0.83805136, 0.18378591,\n",
       "         0.18687107, 0.94164945, 0.63558564, 0.4334211 , 0.54415861,\n",
       "         0.14503537, 0.69392065, 0.88547798, 0.46150322, 0.77962273,\n",
       "         0.41353916, 0.60305807, 0.62915789, 0.42167827, 0.30401392,\n",
       "         0.95305075],\n",
       "        [0.63917122, 0.58879635, 0.83805136, 0.        , 0.25812394,\n",
       "         0.9249764 , 0.7732027 , 0.54534592, 0.67292597, 0.68961888,\n",
       "         0.12835787, 0.67418407, 0.63164241, 0.58526068, 0.5600244 ,\n",
       "         0.58804007, 0.03240497, 0.23290846, 0.89642284, 0.62894066,\n",
       "         0.34641111],\n",
       "        [0.20097594, 0.54032421, 0.18378591, 0.25812394, 0.        ,\n",
       "         0.58915593, 0.49356074, 0.5599006 , 0.19603564, 0.69290619,\n",
       "         0.65486165, 0.14485589, 0.3749462 , 0.32062256, 0.42783902,\n",
       "         0.50174989, 0.34524059, 0.41901137, 0.58500537, 0.45726272,\n",
       "         0.39149561],\n",
       "        [0.58407553, 0.52451263, 0.18687107, 0.9249764 , 0.58915593,\n",
       "         0.        , 0.27576226, 0.64852262, 0.41422097, 0.87772161,\n",
       "         0.09558665, 0.60402607, 0.18230778, 0.45882319, 0.41673708,\n",
       "         0.83904549, 0.52018251, 0.44574222, 0.55947395, 0.57673008,\n",
       "         0.79582969],\n",
       "        [0.14421554, 0.6437652 , 0.94164945, 0.7732027 , 0.49356074,\n",
       "         0.27576226, 0.        , 0.57575979, 0.29604527, 0.58782698,\n",
       "         0.10427751, 0.62650651, 0.71168732, 0.49817232, 0.62735868,\n",
       "         0.45899311, 0.69002992, 0.300764  , 0.41889019, 0.35658129,\n",
       "         0.54520988],\n",
       "        [0.52352701, 0.52632276, 0.63558564, 0.54534592, 0.5599006 ,\n",
       "         0.64852262, 0.57575979, 0.        , 0.25036626, 0.12270321,\n",
       "         0.52052592, 0.49904559, 0.68671309, 0.36442567, 0.55400275,\n",
       "         0.62186074, 0.80096536, 0.76196788, 0.61551052, 0.57670848,\n",
       "         0.27818059],\n",
       "        [0.84376344, 0.84131486, 0.4334211 , 0.67292597, 0.19603564,\n",
       "         0.41422097, 0.29604527, 0.25036626, 0.        , 0.52941704,\n",
       "         0.79755142, 0.49150456, 0.39774048, 0.38792939, 0.5191005 ,\n",
       "         0.16820378, 0.17407178, 0.61484671, 0.12133281, 0.83875415,\n",
       "         0.5422001 ],\n",
       "        [0.23915866, 0.42236939, 0.54415861, 0.68961888, 0.69290619,\n",
       "         0.87772161, 0.58782698, 0.12270321, 0.52941704, 0.        ,\n",
       "         0.42409299, 0.31960174, 0.20363222, 0.56627011, 0.53016984,\n",
       "         0.38392068, 0.79440664, 0.29790006, 0.42085306, 0.04254254,\n",
       "         0.14345595],\n",
       "        [0.37406637, 0.08968218, 0.14503537, 0.12835787, 0.65486165,\n",
       "         0.09558665, 0.10427751, 0.52052592, 0.79755142, 0.42409299,\n",
       "         0.        , 0.1834801 , 0.14111535, 0.44408534, 0.32069421,\n",
       "         0.58342553, 0.30108708, 0.35735755, 0.7427198 , 0.45860957,\n",
       "         0.94195275],\n",
       "        [0.33055042, 0.56326431, 0.69392065, 0.67418407, 0.14485589,\n",
       "         0.60402607, 0.62650651, 0.49904559, 0.49150456, 0.31960174,\n",
       "         0.1834801 , 0.        , 0.57183024, 0.74649551, 0.90185771,\n",
       "         0.78120831, 0.81808214, 0.50389078, 0.5708949 , 0.66616804,\n",
       "         0.666004  ],\n",
       "        [0.65950858, 0.62004953, 0.88547798, 0.63164241, 0.3749462 ,\n",
       "         0.18230778, 0.71168732, 0.68671309, 0.39774048, 0.20363222,\n",
       "         0.14111535, 0.57183024, 0.        , 0.7710512 , 0.71827835,\n",
       "         0.25810995, 0.71125294, 0.64312319, 0.46759016, 0.46568543,\n",
       "         0.38126478],\n",
       "        [0.75124206, 0.72671574, 0.46150322, 0.58526068, 0.32062256,\n",
       "         0.45882319, 0.49817232, 0.36442567, 0.38792939, 0.56627011,\n",
       "         0.44408534, 0.74649551, 0.7710512 , 0.        , 0.74978348,\n",
       "         0.10703612, 0.44656065, 0.31108697, 0.91789303, 0.43603879,\n",
       "         0.7746197 ],\n",
       "        [0.37609502, 0.68812249, 0.77962273, 0.5600244 , 0.42783902,\n",
       "         0.41673708, 0.62735868, 0.55400275, 0.5191005 , 0.53016984,\n",
       "         0.32069421, 0.90185771, 0.71827835, 0.74978348, 0.        ,\n",
       "         0.27034192, 0.45923797, 0.49866326, 0.17345018, 0.50347856,\n",
       "         0.73900143],\n",
       "        [0.50539495, 0.56893104, 0.41353916, 0.58804007, 0.50174989,\n",
       "         0.83904549, 0.45899311, 0.62186074, 0.16820378, 0.38392068,\n",
       "         0.58342553, 0.78120831, 0.25810995, 0.10703612, 0.27034192,\n",
       "         0.        , 0.74307378, 0.76542473, 0.89488188, 0.91246965,\n",
       "         0.63431724],\n",
       "        [0.57644976, 0.78619145, 0.60305807, 0.03240497, 0.34524059,\n",
       "         0.52018251, 0.69002992, 0.80096536, 0.17407178, 0.79440664,\n",
       "         0.30108708, 0.81808214, 0.71125294, 0.44656065, 0.45923797,\n",
       "         0.74307378, 0.        , 0.20013693, 0.72614059, 0.37755247,\n",
       "         0.39622027],\n",
       "        [0.45152454, 0.28237498, 0.62915789, 0.23290846, 0.41901137,\n",
       "         0.44574222, 0.300764  , 0.76196788, 0.61484671, 0.29790006,\n",
       "         0.35735755, 0.50389078, 0.64312319, 0.31108697, 0.49866326,\n",
       "         0.76542473, 0.20013693, 0.        , 0.65198076, 0.42608094,\n",
       "         0.74215699],\n",
       "        [0.68805556, 0.77971707, 0.42167827, 0.89642284, 0.58500537,\n",
       "         0.55947395, 0.41889019, 0.61551052, 0.12133281, 0.42085306,\n",
       "         0.7427198 , 0.5708949 , 0.46759016, 0.91789303, 0.17345018,\n",
       "         0.89488188, 0.72614059, 0.65198076, 0.        , 0.70242493,\n",
       "         0.10284116],\n",
       "        [0.6359495 , 0.76413389, 0.30401392, 0.62894066, 0.45726272,\n",
       "         0.57673008, 0.35658129, 0.57670848, 0.83875415, 0.04254254,\n",
       "         0.45860957, 0.66616804, 0.46568543, 0.43603879, 0.50347856,\n",
       "         0.91246965, 0.37755247, 0.42608094, 0.70242493, 0.        ,\n",
       "         0.2151764 ],\n",
       "        [0.12299008, 0.39781213, 0.95305075, 0.34641111, 0.39149561,\n",
       "         0.79582969, 0.54520988, 0.27818059, 0.5422001 , 0.14345595,\n",
       "         0.94195275, 0.666004  , 0.38126478, 0.7746197 , 0.73900143,\n",
       "         0.63431724, 0.39622027, 0.74215699, 0.10284116, 0.2151764 ,\n",
       "         0.        ]]),\n",
       " array([[0., 0., 0., 0., 0., 0., 0., 0., 0., 0., 0., 0., 0., 0., 0., 0.,\n",
       "         0., 0., 0., 0., 0.],\n",
       "        [0., 0., 0., 0., 0., 0., 0., 0., 0., 0., 0., 0., 0., 0., 0., 0.,\n",
       "         0., 0., 0., 0., 0.],\n",
       "        [0., 0., 0., 0., 0., 0., 0., 0., 0., 0., 0., 0., 0., 0., 0., 0.,\n",
       "         0., 0., 0., 0., 0.],\n",
       "        [0., 0., 0., 0., 0., 0., 0., 0., 0., 0., 0., 0., 0., 0., 0., 0.,\n",
       "         0., 0., 0., 0., 0.],\n",
       "        [0., 0., 0., 0., 0., 0., 0., 0., 0., 0., 0., 0., 0., 0., 0., 0.,\n",
       "         0., 0., 0., 0., 0.],\n",
       "        [0., 0., 0., 0., 0., 0., 0., 0., 0., 0., 0., 0., 0., 0., 0., 0.,\n",
       "         0., 0., 0., 0., 0.],\n",
       "        [0., 0., 0., 0., 0., 0., 0., 0., 0., 0., 0., 0., 0., 0., 0., 0.,\n",
       "         0., 0., 0., 0., 0.],\n",
       "        [0., 0., 0., 0., 0., 0., 0., 0., 0., 0., 0., 0., 0., 0., 0., 0.,\n",
       "         0., 0., 0., 0., 0.],\n",
       "        [0., 0., 0., 0., 0., 0., 0., 0., 0., 0., 0., 0., 0., 0., 0., 0.,\n",
       "         0., 0., 0., 0., 0.],\n",
       "        [0., 0., 0., 0., 0., 0., 0., 0., 0., 0., 0., 0., 0., 0., 0., 0.,\n",
       "         0., 0., 0., 0., 0.],\n",
       "        [0., 0., 0., 0., 0., 0., 0., 0., 0., 0., 0., 0., 0., 0., 0., 0.,\n",
       "         0., 0., 0., 0., 0.],\n",
       "        [0., 0., 0., 0., 0., 0., 0., 0., 0., 0., 0., 0., 0., 0., 0., 0.,\n",
       "         0., 0., 0., 0., 0.],\n",
       "        [0., 0., 0., 0., 0., 0., 0., 0., 0., 0., 0., 0., 0., 0., 0., 0.,\n",
       "         0., 0., 0., 0., 0.],\n",
       "        [0., 0., 0., 0., 0., 0., 0., 0., 0., 0., 0., 0., 0., 0., 0., 0.,\n",
       "         0., 0., 0., 0., 0.],\n",
       "        [0., 0., 0., 0., 0., 0., 0., 0., 0., 0., 0., 0., 0., 0., 0., 0.,\n",
       "         0., 0., 0., 0., 0.],\n",
       "        [0., 0., 0., 0., 0., 0., 0., 0., 0., 0., 0., 0., 0., 0., 0., 0.,\n",
       "         0., 0., 0., 0., 0.],\n",
       "        [0., 0., 0., 0., 0., 0., 0., 0., 0., 0., 0., 0., 0., 0., 0., 0.,\n",
       "         0., 0., 0., 0., 0.],\n",
       "        [0., 0., 0., 0., 0., 0., 0., 0., 0., 0., 0., 0., 0., 0., 0., 0.,\n",
       "         0., 0., 0., 0., 0.],\n",
       "        [0., 0., 0., 0., 0., 0., 0., 0., 0., 0., 0., 0., 0., 0., 0., 0.,\n",
       "         0., 0., 0., 0., 0.],\n",
       "        [0., 0., 0., 0., 0., 0., 0., 0., 0., 0., 0., 0., 0., 0., 0., 0.,\n",
       "         0., 0., 0., 0., 0.],\n",
       "        [0., 0., 0., 0., 0., 0., 0., 0., 0., 0., 0., 0., 0., 0., 0., 0.,\n",
       "         0., 0., 0., 0., 0.]]))"
      ]
     },
     "execution_count": 17,
     "metadata": {},
     "output_type": "execute_result"
    }
   ],
   "source": [
    "A_gt, A_gt - A_gt.T\n",
    "# checking if the ground truth matrix is symmetric"
   ]
  },
  {
   "cell_type": "code",
   "execution_count": 18,
   "metadata": {},
   "outputs": [
    {
     "data": {
      "text/plain": [
       "array([0.84865939, 0.95564694, 0.57604214, 0.55259294, 2.42577442,\n",
       "       0.40831111, 0.79327455, 0.92617661, 0.42082079, 0.32485796,\n",
       "       0.30260418, 0.3403218 , 0.61333435, 0.01715874, 1.512292  ,\n",
       "       0.29377925, 0.26285333, 0.02285098, 0.14207789, 0.23124499,\n",
       "       2.04768476])"
      ]
     },
     "execution_count": 18,
     "metadata": {},
     "output_type": "execute_result"
    }
   ],
   "source": [
    "dt = 0.001\n",
    "x0 = abs(randn(N,))\n",
    "x0\n",
    "#  setting up initial conditions and the time resolution"
   ]
  },
  {
   "cell_type": "code",
   "execution_count": 5,
   "metadata": {},
   "outputs": [],
   "source": [
    "x = x0\n",
    "Traj = []\n",
    "\n",
    "for i in range(T):\n",
    "    Traj.append(x)\n",
    "    x = x + (-(x)+ dot(A_gt,(x)/(1+x)))*dt"
   ]
  },
  {
   "cell_type": "markdown",
   "metadata": {},
   "source": [
    "### Issue\n",
    "The value of the graph signal depends on the previous update, and the 'how' is dictated by the differential equation\n",
    "But the first term, $\\vec{x}^{0.5}$ will throw some errors in our simulation if any of the components of $\\vec{x}$ are negative. \n",
    "\n",
    "A quick fix was to take the absolute value before applying the square root."
   ]
  },
  {
   "cell_type": "code",
   "execution_count": 6,
   "metadata": {},
   "outputs": [
    {
     "data": {
      "text/plain": [
       "[<matplotlib.lines.Line2D at 0x1d6e3585640>]"
      ]
     },
     "execution_count": 6,
     "metadata": {},
     "output_type": "execute_result"
    },
    {
     "data": {
      "image/png": "[encoded data removed]",
      "text/plain": [
       "<Figure size 432x288 with 1 Axes>"
      ]
     },
     "metadata": {
      "needs_background": "light"
     },
     "output_type": "display_data"
    }
   ],
   "source": [
    "plot([(Traj[i])[0] for i in range(T)])"
   ]
  },
  {
   "cell_type": "code",
   "execution_count": 7,
   "metadata": {},
   "outputs": [
    {
     "data": {
      "text/plain": [
       "<matlab.object at 0x1d6d047bbf0>"
      ]
     },
     "execution_count": 7,
     "metadata": {},
     "output_type": "execute_result"
    }
   ],
   "source": [
    "xp = [Traj[i][0] for i in range(T)]\n",
    "x_0 = matlab.double(xp)\n",
    "MATLAB.plot(x_0)"
   ]
  },
  {
   "cell_type": "code",
   "execution_count": 8,
   "metadata": {},
   "outputs": [],
   "source": [
    "x1 =  [Traj[i][1] for i in range(T)]\n",
    "x_1 = matlab.double(x1)\n",
    "\n",
    "x2 =  [Traj[i][2] for i in range(T)]\n",
    "x_2 = matlab.double(x2)\n",
    "\n",
    "x3 =  [Traj[i][3] for i in range(T)]\n",
    "x_3 = matlab.double(x3)\n",
    "\n",
    "x4 =  [Traj[i][4] for i in range(T)]\n",
    "x_4 = matlab.double(x4)"
   ]
  },
  {
   "cell_type": "code",
   "execution_count": 9,
   "metadata": {},
   "outputs": [],
   "source": [
    "MATLAB.workspace['ex0'] = x_0\n",
    "MATLAB.workspace['ex1'] = x_1\n",
    "MATLAB.workspace['ex2'] = x_2\n",
    "MATLAB.workspace['ex3'] = x_3\n",
    "MATLAB.workspace['ex4'] = x_4"
   ]
  },
  {
   "cell_type": "code",
   "execution_count": 10,
   "metadata": {},
   "outputs": [],
   "source": [
    "MATLAB.eval(\"var1 = [ex0; ex1; ex2; ex3; ex4];\",nargout = 0)\n",
    "MATLAB.eval(\"for k = 1:5 subplot(3,2,k); plot(var1(k,:)); end\",nargout = 0)"
   ]
  },
  {
   "cell_type": "markdown",
   "metadata": {},
   "source": [
    "We will now try to learn back the coefficients of A using some Matrix inversion;\n",
    "\n",
    "For different samples in `Traj` which track the movement of the signal at all nodes, we will take N such samples and compute the finite difference based derivative and set it equal to the affine  RHS of the central equation evaluated at that point in time (we will use left hand derivative)"
   ]
  },
  {
   "cell_type": "code",
   "execution_count": 32,
   "metadata": {},
   "outputs": [],
   "source": [
    "k = 1\n",
    "samples = [Traj[k*i] for i in range(T//k)]\n",
    "derivs = [(samples[i+1] - samples[i])/(k*dt) for i in range(T//k - 1)]\n",
    "# larger timescale used"
   ]
  },
  {
   "cell_type": "code",
   "execution_count": 33,
   "metadata": {},
   "outputs": [
    {
     "data": {
      "text/plain": [
       "[<matplotlib.lines.Line2D at 0x1d6e67ce760>]"
      ]
     },
     "execution_count": 33,
     "metadata": {},
     "output_type": "execute_result"
    },
    {
     "data": {
      "image/png": "[encoded data removed]",
      "text/plain": [
       "<Figure size 432x288 with 1 Axes>"
      ]
     },
     "metadata": {
      "needs_background": "light"
     },
     "output_type": "display_data"
    }
   ],
   "source": [
    "plot(array(samples)[:,0],\"*\")\n",
    "plot([i for i in range(T//k - 1)], array(derivs)[:,0],\"*\")"
   ]
  },
  {
   "cell_type": "markdown",
   "metadata": {},
   "source": [
    "We have many equations of the form \n",
    "$$\n",
    "\\frac{\\vec{x}_{i+1} - \\vec{x}_{i}}{t_{i+1} - t_{i}} = -\\sqrt{\\vec{x}_{i}} + A \\sqrt[5]{\\vec{x}_{i}} \\\\\n",
    "$$\n",
    "\n",
    "$$\n",
    "\\frac{\\vec{x}_{i+1} - \\vec{x}_{i}}{t_{i+1} - t_{i}} + \\sqrt{\\vec{x}_{i}} =  A \\sqrt[5]{\\vec{x}_{i}} \\\\\n",
    "$$\n",
    "$$\n",
    "\\vec{v}_{i} = A \\vec{u}_{i}\n",
    "$$\n",
    "\n",
    "To solve this, we can simply adjoin different instances of the above so that it forms:\n",
    "\n",
    "$$\n",
    " V = AU\n",
    "$$\n",
    "\n",
    "\n",
    "where U, V are both NxN matrices (columns of U,V follow the first equation)\n",
    "This means, using N instances of first eq we can try to get back the Matrix A.\n",
    "\n",
    "$$\n",
    "U = [\\vec{u}_1 \\vec{u}_2 \\dots \\vec{u}_N]\n",
    "$$\n",
    "\n",
    "$$\n",
    "V = [\\vec{v}_1 \\vec{v}_2 \\dots \\vec{v}_N]\n",
    "$$"
   ]
  },
  {
   "cell_type": "code",
   "execution_count": 34,
   "metadata": {},
   "outputs": [],
   "source": [
    "M = N\n",
    "V = zeros((N,M))\n",
    "U = zeros((N,M))\n",
    "\n",
    "for ind, i in enumerate(randint(0,T/k, M)):\n",
    "    V[:,ind] =  derivs[i] + samples[i]\n",
    "    U[:,ind] = (samples[i])/(1+(samples[i]))"
   ]
  },
  {
   "cell_type": "markdown",
   "metadata": {},
   "source": [
    "### Trying with NC2 equations instead"
   ]
  },
  {
   "cell_type": "markdown",
   "metadata": {},
   "source": [
    "Trying to unravel Adjacency matrix into a vector instead: "
   ]
  },
  {
   "cell_type": "markdown",
   "metadata": {},
   "source": [
    "Adjacency has symmetric structure, which means the equations would look like so:\n",
    "\n",
    "$$\n",
    "A \\vec{u} = \n",
    "\\begin{bmatrix}\n",
    "0 \\quad w_{12} \\quad w_{13} \\dots w_{1N} \\\\\n",
    "w_{21}  \\quad 0  \\quad w_{23}  \\dots w_{2N}\\\\\n",
    "\\vdots \\quad \\vdots \\quad \\ddots \\quad \\dots \\quad \\vdots \\\\\n",
    "w_{N1} \\quad w_{N2} \\quad w_{N3}  \\dots 0\\\\\n",
    "\\end{bmatrix}  \n",
    "\\begin{bmatrix} \n",
    "u_1 \\\\\n",
    "u_2 \\\\\n",
    "u_3 \\\\\n",
    "\\vdots\n",
    "\\end{bmatrix}  \n",
    "= u_1 \\cdot\n",
    "\\begin{bmatrix} \n",
    "0 \\\\\n",
    "w_{21} \\\\\n",
    "w_{31} \\\\\n",
    "\\vdots \n",
    "\\end{bmatrix}  \n",
    "+\n",
    "u_2 \\cdot\n",
    "\\begin{bmatrix} \n",
    "w_{12} \\\\\n",
    "0 \\\\\n",
    "w_{32} \\\\\n",
    "\\vdots \n",
    "\\end{bmatrix} \n",
    "\\dots \n",
    "+\n",
    "u_N \\cdot\n",
    "\\begin{bmatrix} \n",
    "w_{1N} \\\\\n",
    "\\vdots  \\\\\n",
    "w_{N-1 N} \\\\\n",
    "0 \n",
    "\\end{bmatrix} \n",
    "$$\n",
    "\n",
    "A is of order $N \\times N$, but imformation it stores is captured in $\\frac{N^2 - N}{2}$"
   ]
  },
  {
   "cell_type": "markdown",
   "metadata": {},
   "source": [
    "Unraveling the Adjacency matrix mean we only keep track of each pair of nodes, and what the weight of connecting edge is:\n",
    "\n",
    "If we pre-index;\n",
    "-   1 -> 1,2\n",
    "-   1 -> 1,3\n",
    "-   ...\n",
    "-   1 -> 1,N\n",
    "-   2 -> 2,3\n",
    "-   2 -> 2,4\n",
    "and so on till \n",
    "-   N-1 -> N"
   ]
  },
  {
   "cell_type": "markdown",
   "metadata": {},
   "source": [
    "How would $\\vec{u}$ change accordingly?\n",
    "We can notice that $w_{ij} = w_{ji}$ and they only show up in the linear combination of i, jth columns, which means they are scaled by $u_{i} + u_{j}$ Thus, we can simply convert $\\vec{u}_{N\\times 1} \\to \\vec{\\tilde{u}}_{\\frac{N^2 - N}{2}\\times 1} $ where each entry of $\\vec{\\tilde{u}}$ follows the indexing shown above; This transformation can help us compute back the Adjacency because now we just have to produce $\\vec{\\tilde{u}}^{T} \\vec{\\tilde{A}}$\n",
    "\n",
    "Where $\\vec{\\tilde{A}}$ = weights in indexing mentioned above;\n",
    " "
   ]
  },
  {
   "cell_type": "markdown",
   "metadata": {},
   "source": [
    "## Getting the structure of U\n",
    "Consider :\n",
    "$$\n",
    "    A \\vec{u} = \\vec{v}\n",
    "$$\n",
    "where A is of the form \n",
    "$$\n",
    "A = \n",
    "\\begin{bmatrix}\n",
    "0      &  \\quad a_{12}  & \\quad a_{13}  &  \\dots  & a_{1 N-1} &  \\quad a_{1N}    \\\\\n",
    "a_{12} &  \\quad 0       & \\quad a_{23}  &  \\dots & a_{2 N-1} & \\quad a_{2N}    \\\\\n",
    "a_{13} &  \\quad a_{23}  & \\quad 0       &  \\dots & a_{3 N-1} & \\quad a_{3N}    \\\\\n",
    "\\vdots &  \\quad \\vdots & \\quad \\vdots   & \\ddots &\\vdots    & \\quad \\vdots    \\\\\n",
    "a_{1N-1} & \\quad a_{2N-1}&\\quad a_{3N-1}&  \\dots & 0        & \\quad a_{N-1 N} \\\\ \n",
    "a_{1N}  & \\quad a_{2N} & \\quad a_{3N}   & \\dots & a_{N-1 N} & \\quad 0         \\\\\n",
    "\\end{bmatrix}  \n",
    "$$\n",
    "\n",
    "and hence,\n",
    "\n",
    "$$\n",
    "\\begin{bmatrix}\n",
    "0      &  \\quad a_{12}  & \\quad a_{13}  &  \\dots  & a_{1 N-1} &  \\quad a_{1N}    \\\\\n",
    "a_{12} &  \\quad 0       & \\quad a_{23}  &  \\dots & a_{2 N-1} & \\quad a_{2N}    \\\\\n",
    "a_{13} &  \\quad a_{23}  & \\quad 0       &  \\dots & a_{3 N-1} & \\quad a_{3N}    \\\\\n",
    "\\vdots &  \\quad \\vdots & \\quad \\vdots   & \\ddots &\\vdots    & \\quad \\vdots    \\\\\n",
    "a_{1N-1} & \\quad a_{2N-1}&\\quad a_{3N-1}&  \\dots & 0        & \\quad a_{N-1 N} \\\\ \n",
    "a_{1N}  & \\quad a_{2N} & \\quad a_{3N}   & \\dots & a_{N-1 N} & \\quad 0         \\\\\n",
    "\\end{bmatrix}   \n",
    "\\begin{bmatrix} \n",
    "u_1 \\\\\n",
    "u_2 \\\\\n",
    "u_3 \\\\\n",
    "\\vdots \\\\\n",
    "u_{N-1} \\\\\n",
    "u_{N}\n",
    "\\end{bmatrix}  \n",
    "=\n",
    "\\begin{bmatrix} \n",
    "v_1 \\\\\n",
    "v_2 \\\\\n",
    "v_3 \\\\\n",
    "\\vdots \\\\\n",
    "v_{N-1} \\\\\n",
    "v_{N}\n",
    "\\end{bmatrix}  \\\\ \n",
    "\\implies\n",
    "u_1 \n",
    "\\begin{bmatrix}\n",
    "0      \\\\\n",
    "a_{12} \\\\\n",
    "a_{13} \\\\\n",
    "\\vdots \\\\\n",
    "a_{1N-1}\\\\\n",
    "a_{1N} \\\\\n",
    "\\end{bmatrix}\n",
    "+\n",
    "u_2\n",
    "\\begin{bmatrix}\n",
    "a_{12} \\\\\n",
    "0       \\\\\n",
    "a_{23}  \\\\\n",
    "\\vdots \\\\\n",
    "a_{2N-1}\\\\\n",
    "a_{2N}    \\\\\n",
    "\\end{bmatrix}\n",
    "+\n",
    "\\dots \n",
    "+\n",
    "u_N\n",
    "\\begin{bmatrix}\n",
    " a_{1N}    \\\\\n",
    "a_{2N}    \\\\\n",
    "a_{3N}    \\\\\n",
    "\\vdots    \\\\\n",
    "a_{N-1 N} \\\\ \n",
    "0         \\\\\n",
    "\\end{bmatrix}\n",
    "=\n",
    "\\begin{bmatrix} \n",
    "v_1 \\\\\n",
    "v_2 \\\\\n",
    "v_3 \\\\\n",
    "\\vdots \\\\\n",
    "v_{N-1} \\\\\n",
    "v_{N}\n",
    "\\end{bmatrix} \\\\\n",
    "$$\n",
    "Let us vectorize A as follows:\n",
    "$$\n",
    "\\vec{A} = \n",
    "\\begin{bmatrix}\n",
    "a_{12} \\\\\n",
    "a_{13} \\\\\n",
    "\\vdots \\\\\n",
    "a_{1N} \\\\\n",
    "a_{23} \\\\\n",
    "a_{24} \\\\\n",
    "\\vdots \\\\\n",
    "a_{2N} \\\\\n",
    "a_{34} \\\\ \n",
    "\\vdots \\\\\n",
    "\\vdots \\\\\n",
    "a_{N-2 N-1} \\\\\n",
    "a_{N-2 N} \\\\\n",
    "a_{N-1 N}\n",
    "\\end{bmatrix} \n",
    "_{\\frac{N(N-1)}{2} \\times 1}\n",
    "$$\n",
    "\n",
    "Now, for Au = v, we have to write u as a matrix such that\n",
    "$$\n",
    "U_{N \\times {\\frac{N(N-1)}{2}}} \\vec{A} = \\vec{v}\n",
    "$$\n"
   ]
  },
  {
   "cell_type": "markdown",
   "metadata": {},
   "source": [
    "We can see that the matrix follows a structure according to the previous equations (ui, uj only appear as coefficient of aij terms), thus, U can be realised as a matrix in a recursive block manner as follows"
   ]
  },
  {
   "cell_type": "markdown",
   "metadata": {},
   "source": [
    "<!-- $$\n",
    "U = \n",
    "\\begin{bmatrix}\n",
    "\\textbf{0}_{i-1 \\times N-i} & | \\\\  \n",
    "u((i+1:N)) & |\\\\\n",
    "u_{i} I_{N-i} & |\n",
    "\\end{bmatrix}_{i = 1}^{N-1}\n",
    "$$ -->\n",
    "\n",
    "$$\n",
    "U  = \n",
    "\\begin{bmatrix}\n",
    "\\textbf{0}_{i-1 \\times N-i}  & \\rule[-1mm]{0.4mm}{0.5cm} &^{N-1}  \\\\   \n",
    "\\rule{2.5cm}{0.4pt} & \\rule[-1mm]{0.4mm}{0.5cm} &\\\\  \n",
    "u((i+1:N))  &\\rule[-1mm]{0.4mm}{0.5cm} & \\\\\n",
    "\\rule{2.5cm}{0.4pt} & \\rule[-1mm]{0.4mm}{0.5cm} & \\\\\n",
    "u_{i} I_{N-i} & \\rule[-1mm]{0.4mm}{0.5cm} &_{i = 1}\\\\\n",
    "\\end{bmatrix}\n",
    "$$\n"
   ]
  },
  {
   "cell_type": "code",
   "execution_count": 35,
   "metadata": {},
   "outputs": [],
   "source": [
    "def U_synth(u):\n",
    "    N = u.shape[0]\n",
    "    for i in range(1,N):\n",
    "\n",
    "        if i == 1:\n",
    "            uL = u[i:,:].T\n",
    "            I = u[i-1,:]*eye(N-i)\n",
    "            t = append(uL,I,axis=0)\n",
    "            U = t\n",
    "        \n",
    "        else:\n",
    "            Z = zeros((i-1,N-i))\n",
    "            uL = u[i:,:].T\n",
    "            I = u[i-1,:]*eye(N-i)\n",
    "            t = append(Z,uL,axis=0)\n",
    "            t = append(t,I,axis=0)    \n",
    "            U = append(U,t, axis=1)\n",
    "    return U"
   ]
  },
  {
   "cell_type": "code",
   "execution_count": 36,
   "metadata": {},
   "outputs": [],
   "source": [
    "num_sample = (N-1)//2\n",
    "u = reshape(U[:,0], (N,1))\n",
    "v = V[:,0]\n",
    "Bigu = U_synth(u)\n",
    "vV = v\n",
    "\n",
    "Bigu1 = U_synth(u)\n",
    "vV1 = v\n",
    "\n",
    "for k in range(1,M):\n",
    "    Bigu = append(Bigu, U_synth(reshape(U[:,k], (N,1))), axis=0)\n",
    "    vV = append(vV, V[:,k], axis = 0)\n",
    "\n",
    "\n",
    "for k in random.permutation(M):\n",
    "    Bigu1 = append(Bigu1, U_synth(reshape(U[:,k], (N,1))), axis=0)\n",
    "    vV1 = append(vV1, V[:,k], axis = 0)\n"
   ]
  },
  {
   "cell_type": "code",
   "execution_count": 37,
   "metadata": {},
   "outputs": [],
   "source": [
    "A_vec_try = dot(pinv(Bigu), vV)\n",
    "A_vec_try_1 = dot(pinv(Bigu1), vV1)"
   ]
  },
  {
   "cell_type": "code",
   "execution_count": 38,
   "metadata": {},
   "outputs": [],
   "source": [
    "def vectorizer(M):\n",
    "    N = M.shape[0]\n",
    "    vec = M[1:,0]\n",
    "    for i in range(1,N):  \n",
    "        vec = append(vec, M[i+1:,i], axis = 0)\n",
    "    return vec\n",
    "\n",
    "def matricizer(vec):\n",
    "    N = vec.shape[0]\n",
    "    N = int((1+np.sqrt(1+8*N))//2)\n",
    "    M = zeros((N,N))\n",
    "    k1 = 0\n",
    "    k2 = N-1\n",
    "    for i in range(N):\n",
    "        s = N - i-2\n",
    "        M[i+1:,i] = vec[k1:k2]\n",
    "        k1 = k2 \n",
    "        k2 += s\n",
    "    return M + M.T"
   ]
  },
  {
   "cell_type": "code",
   "execution_count": 39,
   "metadata": {},
   "outputs": [
    {
     "data": {
      "text/plain": [
       "176.0"
      ]
     },
     "execution_count": 39,
     "metadata": {},
     "output_type": "execute_result"
    }
   ],
   "source": [
    "A = matlab.double(Bigu.tolist())\n",
    "MATLAB.workspace['ww'] = A\n",
    "MATLAB.eval(\"rank(ww)\")"
   ]
  },
  {
   "cell_type": "code",
   "execution_count": 40,
   "metadata": {},
   "outputs": [
    {
     "data": {
      "text/plain": [
       "(441, 210)"
      ]
     },
     "execution_count": 40,
     "metadata": {},
     "output_type": "execute_result"
    }
   ],
   "source": [
    "AAAA = matricizer(A_vec_try)\n",
    "AAAA_1 = matricizer(A_vec_try_1)\n",
    "Bigu.shape"
   ]
  },
  {
   "cell_type": "code",
   "execution_count": 41,
   "metadata": {},
   "outputs": [
    {
     "data": {
      "text/plain": [
       "4.808208111558451"
      ]
     },
     "execution_count": 41,
     "metadata": {},
     "output_type": "execute_result"
    },
    {
     "data": {
      "image/png": "[encoded data removed]",
      "text/plain": [
       "<Figure size 288x288 with 2 Axes>"
      ]
     },
     "metadata": {
      "needs_background": "light"
     },
     "output_type": "display_data"
    },
    {
     "data": {
      "image/png": "[encoded data removed]",
      "text/plain": [
       "<Figure size 288x288 with 2 Axes>"
      ]
     },
     "metadata": {
      "needs_background": "light"
     },
     "output_type": "display_data"
    }
   ],
   "source": [
    "matshow(A_gt) \n",
    "colorbar()\n",
    "matshow(AAAA) \n",
    "colorbar()\n",
    "average((A_gt-AAAA)**2)\n",
    "# colorbar()"
   ]
  },
  {
   "cell_type": "code",
   "execution_count": 42,
   "metadata": {},
   "outputs": [
    {
     "data": {
      "text/plain": [
       "<matplotlib.colorbar.Colorbar at 0x1d6e7fed070>"
      ]
     },
     "execution_count": 42,
     "metadata": {},
     "output_type": "execute_result"
    },
    {
     "data": {
      "image/png": "[encoded data removed]",
      "text/plain": [
       "<Figure size 288x288 with 2 Axes>"
      ]
     },
     "metadata": {
      "needs_background": "light"
     },
     "output_type": "display_data"
    },
    {
     "data": {
      "image/png": "[encoded data removed]",
      "text/plain": [
       "<Figure size 288x288 with 2 Axes>"
      ]
     },
     "metadata": {
      "needs_background": "light"
     },
     "output_type": "display_data"
    }
   ],
   "source": [
    "A_new = (dot(V[:2*N], pinv(U[:2*N])))\n",
    "matshow(A_new)\n",
    "colorbar()\n",
    "matshow(A_gt)\n",
    "colorbar()\n",
    "# norm()"
   ]
  },
  {
   "cell_type": "code",
   "execution_count": 43,
   "metadata": {},
   "outputs": [
    {
     "data": {
      "text/plain": [
       "(1.9844606986407185,\n",
       " 191.45467847050713,\n",
       " 190.90740959068398,\n",
       " 8.801952147802025e-12)"
      ]
     },
     "execution_count": 43,
     "metadata": {},
     "output_type": "execute_result"
    },
    {
     "data": {
      "image/png": "[encoded data removed]",
      "text/plain": [
       "<Figure size 288x288 with 2 Axes>"
      ]
     },
     "metadata": {
      "needs_background": "light"
     },
     "output_type": "display_data"
    },
    {
     "data": {
      "image/png": "[encoded data removed]",
      "text/plain": [
       "<Figure size 288x288 with 2 Axes>"
      ]
     },
     "metadata": {
      "needs_background": "light"
     },
     "output_type": "display_data"
    },
    {
     "data": {
      "image/png": "[encoded data removed]",
      "text/plain": [
       "<Figure size 288x288 with 2 Axes>"
      ]
     },
     "metadata": {
      "needs_background": "light"
     },
     "output_type": "display_data"
    },
    {
     "data": {
      "image/png": "[encoded data removed]",
      "text/plain": [
       "<Figure size 288x288 with 2 Axes>"
      ]
     },
     "metadata": {
      "needs_background": "light"
     },
     "output_type": "display_data"
    }
   ],
   "source": [
    "# norm(matricizer(A_vec_try).dot(U) - V)\n",
    "matshow(dot(AAAA,U))\n",
    "colorbar()\n",
    "matshow(V)\n",
    "colorbar()\n",
    "matshow(dot(A_gt,U))\n",
    "colorbar()\n",
    "matshow(dot(AAAA_1,U))\n",
    "colorbar()\n",
    "norm(dot(AAAA,U)-V), norm(dot(AAAA,U)), norm(V), norm(dot(A_gt,U)-V)"
   ]
  },
  {
   "cell_type": "code",
   "execution_count": 44,
   "metadata": {},
   "outputs": [
    {
     "data": {
      "text/plain": [
       "21.0"
      ]
     },
     "execution_count": 44,
     "metadata": {},
     "output_type": "execute_result"
    }
   ],
   "source": [
    "A_gt_mat = matlab.double(A_gt.tolist())\n",
    "MATLAB.workspace[\"aa\"] = A_gt_mat\n",
    "MATLAB.eval(\"rank(aa)\")"
   ]
  },
  {
   "cell_type": "code",
   "execution_count": 45,
   "metadata": {},
   "outputs": [
    {
     "data": {
      "text/plain": [
       "[<matplotlib.lines.Line2D at 0x1d6e8a177f0>]"
      ]
     },
     "execution_count": 45,
     "metadata": {},
     "output_type": "execute_result"
    },
    {
     "data": {
      "image/png": "[encoded data removed]",
      "text/plain": [
       "<Figure size 432x288 with 1 Axes>"
      ]
     },
     "metadata": {
      "needs_background": "light"
     },
     "output_type": "display_data"
    }
   ],
   "source": [
    "plot((dot(AAAA,U) -V).flatten())\n",
    "# colorbar()"
   ]
  },
  {
   "cell_type": "code",
   "execution_count": 46,
   "metadata": {},
   "outputs": [
    {
     "data": {
      "text/plain": [
       "(7.755274277294735, 10.967614062873418)"
      ]
     },
     "execution_count": 46,
     "metadata": {},
     "output_type": "execute_result"
    }
   ],
   "source": [
    "norm(A_vec_try - A_vec_try_1), norm(AAAA - AAAA_1)"
   ]
  },
  {
   "cell_type": "code",
   "execution_count": 47,
   "metadata": {},
   "outputs": [
    {
     "data": {
      "text/plain": [
       "<matplotlib.colorbar.Colorbar at 0x1d6e8ac2940>"
      ]
     },
     "execution_count": 47,
     "metadata": {},
     "output_type": "execute_result"
    },
    {
     "data": {
      "image/png": "[encoded data removed]",
      "text/plain": [
       "<Figure size 288x604.8 with 2 Axes>"
      ]
     },
     "metadata": {
      "needs_background": "light"
     },
     "output_type": "display_data"
    },
    {
     "data": {
      "image/png": "[encoded data removed]",
      "text/plain": [
       "<Figure size 288x633.6 with 2 Axes>"
      ]
     },
     "metadata": {
      "needs_background": "light"
     },
     "output_type": "display_data"
    }
   ],
   "source": [
    "matshow(Bigu)\n",
    "colorbar()\n",
    "matshow(Bigu1)\n",
    "colorbar()"
   ]
  },
  {
   "cell_type": "code",
   "execution_count": 48,
   "metadata": {},
   "outputs": [
    {
     "data": {
      "text/plain": [
       "(176, (441, 210))"
      ]
     },
     "execution_count": 48,
     "metadata": {},
     "output_type": "execute_result"
    }
   ],
   "source": [
    "linalg.matrix_rank(Bigu), shape(Bigu)"
   ]
  },
  {
   "cell_type": "code",
   "execution_count": 49,
   "metadata": {},
   "outputs": [
    {
     "data": {
      "text/plain": [
       "(176, (462, 210))"
      ]
     },
     "execution_count": 49,
     "metadata": {},
     "output_type": "execute_result"
    }
   ],
   "source": [
    "linalg.matrix_rank(Bigu1), shape(Bigu1)"
   ]
  },
  {
   "cell_type": "code",
   "execution_count": 50,
   "metadata": {},
   "outputs": [
    {
     "data": {
      "text/plain": [
       "5.546672453247935e-15"
      ]
     },
     "execution_count": 50,
     "metadata": {},
     "output_type": "execute_result"
    },
    {
     "data": {
      "image/png": "[encoded data removed]",
      "text/plain": [
       "<Figure size 288x1152 with 1 Axes>"
      ]
     },
     "metadata": {
      "needs_background": "light"
     },
     "output_type": "display_data"
    }
   ],
   "source": [
    "q = (dot(A_gt,u))\n",
    "p = (dot(U_synth(u),vectorizer(A_gt))).reshape((21,1))\n",
    "# matshow(hstack((q,p)))\n",
    "\n",
    "Q = append(q,zeros((21,1)),axis=1)\n",
    "Q = append(Q,p,axis=1)\n",
    "\n",
    "matshow(Q)\n",
    "norm(q-p)"
   ]
  },
  {
   "cell_type": "code",
   "execution_count": 51,
   "metadata": {},
   "outputs": [
    {
     "data": {
      "text/plain": [
       "(21, 12, 17)"
      ]
     },
     "execution_count": 51,
     "metadata": {},
     "output_type": "execute_result"
    }
   ],
   "source": [
    "r = linalg.matrix_rank \n",
    "r(A_gt) , r(U[:,:N]), r(V[:,:2*N])"
   ]
  },
  {
   "cell_type": "code",
   "execution_count": 52,
   "metadata": {},
   "outputs": [
    {
     "data": {
      "text/plain": [
       "<matplotlib.image.AxesImage at 0x1d6e9bb3a90>"
      ]
     },
     "execution_count": 52,
     "metadata": {},
     "output_type": "execute_result"
    },
    {
     "data": {
      "image/png": "[encoded data removed]",
      "text/plain": [
       "<Figure size 288x288 with 1 Axes>"
      ]
     },
     "metadata": {
      "needs_background": "light"
     },
     "output_type": "display_data"
    }
   ],
   "source": [
    "matshow(U[:,:50])"
   ]
  }
 ],
 "metadata": {
  "kernelspec": {
   "display_name": "Python 3.9.9 64-bit",
   "language": "python",
   "name": "python3"
  },
  "language_info": {
   "codemirror_mode": {
    "name": "ipython",
    "version": 3
   },
   "file_extension": ".py",
   "mimetype": "text/x-python",
   "name": "python",
   "nbconvert_exporter": "python",
   "pygments_lexer": "ipython3",
   "version": "3.9.9"
  },
  "vscode": {
   "interpreter": {
    "hash": "d28cfe9b801dc90300b9fc0f66b03165a7e2df121cf51f00b207dbb24586521e"
   }
  }
 },
 "nbformat": 4,
 "nbformat_minor": 2
}
