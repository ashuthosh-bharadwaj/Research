{
 "cells": [
  {
   "cell_type": "code",
   "execution_count": 1,
   "metadata": {},
   "outputs": [
    {
     "name": "stdout",
     "output_type": "stream",
     "text": [
      "Populating the interactive namespace from numpy and matplotlib\n"
     ]
    }
   ],
   "source": [
    "%pylab inline\n",
    "import pandas as pd\n",
    "import pickle as pkl\n",
    "import matlab\n",
    "import matlab.engine\n",
    "MATLAB = matlab.engine.start_matlab()"
   ]
  },
  {
   "cell_type": "code",
   "execution_count": 2,
   "metadata": {},
   "outputs": [],
   "source": [
    "# files = [\"../Simulation3/Data/E1.pkl\", \"../Simulation3/Data/E2.pkl\", \"../Simulation3/Data/E5.pkl\",  \"../Simulation3/Data/E10.pkl\",  \"../Simulation3/Data/E20.pkl\"]\n",
    "# curv = []\n",
    "# eem  = []\n",
    "# for i in range(5): curv.append(pkl.load(open(files[i],\"rb\"))) \n",
    "# for i in range(5): eem.append(matlab.double((curv[i]*100).tolist()))\n",
    "# # ee = matlab.double((e*100).tolist())"
   ]
  },
  {
   "cell_type": "code",
   "execution_count": 4,
   "metadata": {},
   "outputs": [
    {
     "data": {
      "text/plain": [
       "<matlab.object at 0x1cc79f718d0>"
      ]
     },
     "execution_count": 4,
     "metadata": {},
     "output_type": "execute_result"
    }
   ],
   "source": [
    "for i in range(5):\n",
    "    MATLAB.workspace['ee'] = eem[i]\n",
    "    MATLAB.eval(\"loglog(2:20,ee,linewidth=1.5); grid on; hold on;\", nargout = 0)\n",
    "\n",
    "\n",
    "# MATLAB.eval(\"plot(2:25,ee); grid on; hold on;\", nargout = 0)\n",
    "MATLAB.xlabel(\"Number of Nodes (N)\")\n",
    "MATLAB.ylabel(\"Relative Error (%)\")\n",
    "MATLAB.legend(\"n=1\",\"n=2\",\"n=5\",\"n=10\",\"n=20\")\n",
    "\n",
    "# for i in range(4):\n",
    "#     MATLAB.workspace['ee'] = eem[i]\n",
    "#     MATLAB.eval(\"loglog(2:25,ee,'*')\")\n",
    "# MATLAB.eval(\"legend\")\n",
    "# MATLAB.xticks(matlab.double([i for i in range(2,20)]))"
   ]
  },
  {
   "cell_type": "code",
   "execution_count": 4,
   "metadata": {},
   "outputs": [],
   "source": [
    "L = array([[0,\t0,\t0,\t0,\t1,\t1,\t0,\t1,\t0,\t0],\n",
    "[0,\t0,\t0,\t1,\t1,\t0,\t0,\t0,\t0,\t1],\n",
    "[0,\t0,\t0,\t0,\t0,\t0,\t1,\t1,\t0,\t1],\n",
    "[0,\t1,\t0,\t0,\t0,\t0,\t1,\t0,\t1,\t0],\n",
    "[1,\t1,\t0,\t0,\t0,\t0,\t0,\t1,\t0,\t0],\n",
    "[1,\t0,\t0,\t0,\t0,\t0,\t0,\t0,\t1,\t1],\n",
    "[0,\t0,\t1,\t1,\t0,\t0,\t0,\t0,\t1,\t0],\n",
    "[1,\t0,\t1,\t0,\t1,\t0,\t0,\t0,\t0,\t0],\n",
    "[0,\t0,\t0,\t1,\t0,\t1,\t1,\t0,\t0,\t0],\n",
    "[0,\t1,\t1,\t0,\t0,\t1,\t0,\t0,\t0,\t0]])"
   ]
  },
  {
   "cell_type": "code",
   "execution_count": 6,
   "metadata": {},
   "outputs": [],
   "source": [
    "L = -L\n",
    "for i in range(10): L[i,i] = 3 "
   ]
  },
  {
   "cell_type": "code",
   "execution_count": 14,
   "metadata": {},
   "outputs": [
    {
     "data": {
      "text/plain": [
       "<matlab.object at 0x28c48d4ff90>"
      ]
     },
     "execution_count": 14,
     "metadata": {},
     "output_type": "execute_result"
    }
   ],
   "source": [
    "er= [0.004152867400160887,\n",
    " 0.012384894989887762,\n",
    " 0.020524712534086748,\n",
    " 0.028572974938156546,\n",
    " 0.03652638658423241,\n",
    " 0.04439039284643956,\n",
    " 0.0521642038166903,\n",
    " 0.05984900764556196,\n",
    " 0.06744942533872483,\n",
    " 0.07496405044657876,\n",
    " 0.08239239831359756,\n",
    " 0.08973858662159301,\n",
    " 0.09699987594929765]\n",
    "\n",
    "E = matlab.double(er)\n",
    "MATLAB.workspace['E'] = E\n",
    "MATLAB.eval(\" plot(1:2:25,E); hold on; grid on; plot(1:2:25,E,'*');\", nargout =0)\n",
    "MATLAB.xlabel(\"Number of Nodes (N)\")\n",
    "MATLAB.ylabel(\"Relative Error (%)\")"
   ]
  },
  {
   "cell_type": "code",
   "execution_count": null,
   "metadata": {},
   "outputs": [],
   "source": []
  }
 ],
 "metadata": {
  "kernelspec": {
   "display_name": "Python 3.9.9 64-bit",
   "language": "python",
   "name": "python3"
  },
  "language_info": {
   "codemirror_mode": {
    "name": "ipython",
    "version": 3
   },
   "file_extension": ".py",
   "mimetype": "text/x-python",
   "name": "python",
   "nbconvert_exporter": "python",
   "pygments_lexer": "ipython3",
   "version": "3.9.9"
  },
  "orig_nbformat": 4,
  "vscode": {
   "interpreter": {
    "hash": "d28cfe9b801dc90300b9fc0f66b03165a7e2df121cf51f00b207dbb24586521e"
   }
  }
 },
 "nbformat": 4,
 "nbformat_minor": 2
}
