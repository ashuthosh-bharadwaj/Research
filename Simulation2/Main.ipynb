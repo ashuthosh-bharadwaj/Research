{
 "cells": [
  {
   "cell_type": "markdown",
   "metadata": {},
   "source": [
    "# Graph Learning"
   ]
  },
  {
   "cell_type": "code",
   "execution_count": 52,
   "metadata": {},
   "outputs": [
    {
     "name": "stdout",
     "output_type": "stream",
     "text": [
      "%pylab is deprecated, use %matplotlib inline and import the required libraries.\n",
      "Populating the interactive namespace from numpy and matplotlib\n"
     ]
    }
   ],
   "source": [
    "%pylab inline\n",
    "import pandas as pd\n",
    "import pickle as pkl"
   ]
  },
  {
   "cell_type": "code",
   "execution_count": 53,
   "metadata": {},
   "outputs": [],
   "source": [
    "from mat_adj import Adj , file"
   ]
  },
  {
   "cell_type": "code",
   "execution_count": 54,
   "metadata": {},
   "outputs": [],
   "source": [
    "def selfN(x,B,C):\n",
    "    return -B*x + C*tanh(x)"
   ]
  },
  {
   "cell_type": "markdown",
   "metadata": {},
   "source": [
    "## Dynamics in general\n",
    "\n",
    "We know that for any graph system, the node signals follow:\n",
    "\n",
    "$$\n",
    " \\frac{d \\vec{x}}{dt} = M_0(\\vec{x}) + diag(M_1(\\vec{x}))A M_2(\\vec{x}) \n",
    "$$\n",
    "\n",
    "Using these dynamics, it should be theoretically possible to learn back the adjacency matrix of the network that produced the signals.   "
   ]
  },
  {
   "cell_type": "code",
   "execution_count": 61,
   "metadata": {},
   "outputs": [],
   "source": [
    "Dynamics = { \"R1\": (lambda x: -1*x , lambda x: ones(len(x)) , lambda x: x/(1+x)) , \"R2\":(lambda x: -(x)**(0.4) , lambda x: ones(len(x))  , lambda x: (x**(0.2)/(1 + x**(0.2)))), \"P\":(lambda x: - x**(0.5) , lambda x: ones(len(x))  , lambda x: x**(0.2)) , \"M\":(lambda x: x(1- x*x) , lambda x: x , lambda x: x/(1+x)) , \"E\":(lambda x: -1*x , lambda x: x**(0.5) , lambda x: x**2) , \"N\":(selfN , lambda x: ones(len(x))  , lambda x: tanh(x)) }"
   ]
  },
  {
   "cell_type": "code",
   "execution_count": 62,
   "metadata": {},
   "outputs": [],
   "source": [
    "Type = \"R1\"\n",
    "M0 = Dynamics[Type][0]\n",
    "M1 = Dynamics[Type][1]\n",
    "M2 = Dynamics[Type][2]"
   ]
  },
  {
   "cell_type": "code",
   "execution_count": 63,
   "metadata": {},
   "outputs": [],
   "source": [
    "N = 21\n",
    "T = 10000\n",
    "A_gt = pkl.load(open(file(N),\"rb\"))"
   ]
  },
  {
   "cell_type": "code",
   "execution_count": 64,
   "metadata": {},
   "outputs": [
    {
     "data": {
      "text/plain": [
       "<matplotlib.image.AxesImage at 0x7f3a1d172260>"
      ]
     },
     "execution_count": 64,
     "metadata": {},
     "output_type": "execute_result"
    },
    {
     "data": {
      "image/png": "[encoded data removed]",
      "text/plain": [
       "<Figure size 288x288 with 1 Axes>"
      ]
     },
     "metadata": {
      "needs_background": "light"
     },
     "output_type": "display_data"
    }
   ],
   "source": [
    "matshow(A_gt)"
   ]
  },
  {
   "cell_type": "code",
   "execution_count": 65,
   "metadata": {},
   "outputs": [
    {
     "data": {
      "text/plain": [
       "array([2.95500194, 0.22315627, 0.45358707, 0.75932338, 1.13628445,\n",
       "       0.83313097, 0.77850418, 0.1172801 , 0.73019713, 0.23946946,\n",
       "       1.76245269, 0.35319678, 0.81450491, 0.46624949, 0.58765905,\n",
       "       0.18647933, 1.11051955, 0.44574891, 0.02133807, 0.055197  ,\n",
       "       0.57786794])"
      ]
     },
     "execution_count": 65,
     "metadata": {},
     "output_type": "execute_result"
    }
   ],
   "source": [
    "dt = 0.01\n",
    "x0 = abs(randn(N,))\n",
    "x0"
   ]
  },
  {
   "cell_type": "code",
   "execution_count": 66,
   "metadata": {},
   "outputs": [],
   "source": [
    "x = x0\n",
    "Traj = []\n",
    "\n",
    "for i in range(T):\n",
    "    Traj.append(x)\n",
    "    x = x + (M0(x) + dot(diag(M1(x)), dot(A_gt,M2(x))))*dt"
   ]
  },
  {
   "cell_type": "code",
   "execution_count": 67,
   "metadata": {},
   "outputs": [
    {
     "data": {
      "text/plain": [
       "[<matplotlib.lines.Line2D at 0x7f3a1d028a60>]"
      ]
     },
     "execution_count": 67,
     "metadata": {},
     "output_type": "execute_result"
    },
    {
     "data": {
      "image/png": "[encoded data removed]",
      "text/plain": [
       "<Figure size 432x288 with 1 Axes>"
      ]
     },
     "metadata": {
      "needs_background": "light"
     },
     "output_type": "display_data"
    }
   ],
   "source": [
    "plot([(Traj[i])[0] for i in range(T)])"
   ]
  },
  {
   "cell_type": "code",
   "execution_count": 68,
   "metadata": {},
   "outputs": [],
   "source": [
    "k = 4\n",
    "samples = [Traj[k*i] for i in range(T//k)]\n",
    "derivs = [(samples[i+1] - samples[i])/(k*dt) for i in range(T//k - 1)]"
   ]
  },
  {
   "cell_type": "code",
   "execution_count": 69,
   "metadata": {},
   "outputs": [
    {
     "data": {
      "text/plain": [
       "[<matplotlib.lines.Line2D at 0x7f3a1d28f580>]"
      ]
     },
     "execution_count": 69,
     "metadata": {},
     "output_type": "execute_result"
    },
    {
     "data": {
      "image/png": "[encoded data removed]",
      "text/plain": [
       "<Figure size 432x288 with 1 Axes>"
      ]
     },
     "metadata": {
      "needs_background": "light"
     },
     "output_type": "display_data"
    }
   ],
   "source": [
    "plot(array(samples)[:,0],\"*\")\n",
    "plot([i for i in range(T//k - 1)], array(derivs)[:,0],\"*\")"
   ]
  },
  {
   "cell_type": "code",
   "execution_count": null,
   "metadata": {},
   "outputs": [],
   "source": []
  }
 ],
 "metadata": {
  "kernelspec": {
   "display_name": "Python 3.10.4 64-bit",
   "language": "python",
   "name": "python3"
  },
  "language_info": {
   "codemirror_mode": {
    "name": "ipython",
    "version": 3
   },
   "file_extension": ".py",
   "mimetype": "text/x-python",
   "name": "python",
   "nbconvert_exporter": "python",
   "pygments_lexer": "ipython3",
   "version": "3.10.4"
  },
  "orig_nbformat": 4,
  "vscode": {
   "interpreter": {
    "hash": "916dbcbb3f70747c44a77c7bcd40155683ae19c65e1c03b4aa3499c5328201f1"
   }
  }
 },
 "nbformat": 4,
 "nbformat_minor": 2
}
