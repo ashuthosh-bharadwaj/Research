{
 "cells": [
  {
   "cell_type": "code",
   "execution_count": 22,
   "metadata": {},
   "outputs": [
    {
     "name": "stdout",
     "output_type": "stream",
     "text": [
      "Populating the interactive namespace from numpy and matplotlib\n"
     ]
    }
   ],
   "source": [
    "%pylab inline\n",
    "import pandas as pd\n",
    "import matlab\n",
    "import matlab.engine\n",
    "MATLAB = matlab.engine.start_matlab()"
   ]
  },
  {
   "cell_type": "code",
   "execution_count": 24,
   "metadata": {},
   "outputs": [],
   "source": [
    "def selfN(x,B,C):\n",
    "    return -B*x + C*tanh(x)"
   ]
  },
  {
   "cell_type": "markdown",
   "metadata": {},
   "source": [
    "# Dynamics in general\n",
    "\n",
    "We know that for any graph system, the node signals follow:\n",
    "\n",
    "$$\n",
    " \\frac{d \\vec{x}}{dt} = M_0(\\vec{x}) + diag(M_1(\\vec{x}))A M_2(\\vec{x}) \n",
    "$$\n",
    "\n",
    "Using these dynamics, it should be theoretically possible to learn back the adjacency matrix of the network that produced the signals.   "
   ]
  },
  {
   "cell_type": "code",
   "execution_count": 25,
   "metadata": {},
   "outputs": [],
   "source": [
    "Dynamics = { \"R1\": (lambda x: -1*x , lambda x: 1 , lambda x: x/(1+x)) , \"R2\":(lambda x: -(x)**(0.4) , 1 , lambda x: (x**(0.2)/(1 + x**(0.2)))), \"P\":(lambda x: - x**(0.5) , 1 , lambda x: x**(0.2)) , \"M\":(lambda x: x(1- x*x) , lambda x: x , lambda x: x/(1+x)) , \"E\":(lambda x: -1*x , lambda x: x**(0.5) , lambda x: x**2) , \"N\":(selfN , 1 , lambda x: tanh(x)) }"
   ]
  },
  {
   "cell_type": "code",
   "execution_count": 26,
   "metadata": {},
   "outputs": [],
   "source": [
    "Type = \"P\"\n",
    "M0 = Dynamics[Type][0]\n",
    "M1 = Dynamics[Type][1]\n",
    "M2 = Dynamics[Type][2]"
   ]
  },
  {
   "cell_type": "code",
   "execution_count": null,
   "metadata": {},
   "outputs": [],
   "source": []
  }
 ],
 "metadata": {
  "language_info": {
   "name": "python"
  },
  "orig_nbformat": 4
 },
 "nbformat": 4,
 "nbformat_minor": 2
}
