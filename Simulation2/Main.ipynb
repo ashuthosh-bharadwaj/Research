{
 "cells": [
  {
   "cell_type": "markdown",
   "metadata": {},
   "source": [
    "# Graph Learning"
   ]
  },
  {
   "cell_type": "code",
   "execution_count": 52,
   "metadata": {},
   "outputs": [
    {
     "name": "stdout",
     "output_type": "stream",
     "text": [
      "%pylab is deprecated, use %matplotlib inline and import the required libraries.\n",
      "Populating the interactive namespace from numpy and matplotlib\n"
     ]
    }
   ],
   "source": [
    "%pylab inline\n",
    "import pandas as pd\n",
    "import pickle as pkl"
   ]
  },
  {
   "cell_type": "code",
   "execution_count": 53,
   "metadata": {},
   "outputs": [],
   "source": [
    "from mat_adj import Adj , file"
   ]
  },
  {
   "cell_type": "code",
   "execution_count": 54,
   "metadata": {},
   "outputs": [],
   "source": [
    "def selfN(x,B,C):\n",
    "    return -B*x + C*tanh(x)"
   ]
  },
  {
   "cell_type": "markdown",
   "metadata": {},
   "source": [
    "## Dynamics in general\n",
    "\n",
    "We know that for any graph system, the node signals follow:\n",
    "\n",
    "$$\n",
    " \\frac{d \\vec{x}}{dt} = M_0(\\vec{x}) + diag(M_1(\\vec{x}))A M_2(\\vec{x}) \n",
    "$$\n",
    "\n",
    "Using these dynamics, it should be theoretically possible to learn back the adjacency matrix of the network that produced the signals.   "
   ]
  },
  {
   "cell_type": "code",
   "execution_count": 61,
   "metadata": {},
   "outputs": [],
   "source": [
    "Dynamics = { \"R1\": (lambda x: -1*x , lambda x: ones(len(x)) , lambda x: x/(1+x)) , \"R2\":(lambda x: -(x)**(0.4) , lambda x: ones(len(x))  , lambda x: (x**(0.2)/(1 + x**(0.2)))), \"P\":(lambda x: - x**(0.5) , lambda x: ones(len(x))  , lambda x: x**(0.2)) , \"M\":(lambda x: x(1- x*x) , lambda x: x , lambda x: x/(1+x)) , \"E\":(lambda x: -1*x , lambda x: x**(0.5) , lambda x: x**2) , \"N\":(selfN , lambda x: ones(len(x))  , lambda x: tanh(x)) }"
   ]
  },
  {
   "cell_type": "code",
   "execution_count": 62,
   "metadata": {},
   "outputs": [],
   "source": [
    "Type = \"R1\"\n",
    "M0 = Dynamics[Type][0]\n",
    "M1 = Dynamics[Type][1]\n",
    "M2 = Dynamics[Type][2]"
   ]
  },
  {
   "cell_type": "code",
   "execution_count": 70,
   "metadata": {},
   "outputs": [],
   "source": [
    "N = 21\n",
    "T = 1000\n",
    "A_gt = pkl.load(open(file(N),\"rb\"))"
   ]
  },
  {
   "cell_type": "code",
   "execution_count": 72,
   "metadata": {},
   "outputs": [
    {
     "data": {
      "text/plain": [
       "<matplotlib.image.AxesImage at 0x7f3a1cec8c40>"
      ]
     },
     "execution_count": 72,
     "metadata": {},
     "output_type": "execute_result"
    },
    {
     "data": {
      "image/png": "[encoded data removed]",
      "text/plain": [
       "<Figure size 288x288 with 1 Axes>"
      ]
     },
     "metadata": {
      "needs_background": "light"
     },
     "output_type": "display_data"
    }
   ],
   "source": [
    "matshow(A_gt)"
   ]
  },
  {
   "cell_type": "code",
   "execution_count": 73,
   "metadata": {},
   "outputs": [
    {
     "data": {
      "text/plain": [
       "array([1.20173713, 0.63936752, 0.41124103, 1.20061028, 0.91884876,\n",
       "       1.3686655 , 0.89758971, 0.99016497, 1.74778882, 0.60603641,\n",
       "       1.00156963, 0.6995641 , 0.81420799, 0.54130594, 0.99656527,\n",
       "       0.75864455, 1.94441814, 0.0529711 , 0.61072297, 0.65220361,\n",
       "       0.01843366])"
      ]
     },
     "execution_count": 73,
     "metadata": {},
     "output_type": "execute_result"
    }
   ],
   "source": [
    "dt = 0.01\n",
    "x0 = abs(randn(N,))\n",
    "x0"
   ]
  },
  {
   "cell_type": "code",
   "execution_count": 74,
   "metadata": {},
   "outputs": [],
   "source": [
    "x = x0\n",
    "Traj = []\n",
    "\n",
    "for i in range(T):\n",
    "    Traj.append(x)\n",
    "    x = x + (M0(x) + dot(diag(M1(x)), dot(A_gt,M2(x))))*dt"
   ]
  },
  {
   "cell_type": "code",
   "execution_count": 75,
   "metadata": {},
   "outputs": [
    {
     "data": {
      "text/plain": [
       "[<matplotlib.lines.Line2D at 0x7f3a1cf17700>]"
      ]
     },
     "execution_count": 75,
     "metadata": {},
     "output_type": "execute_result"
    },
    {
     "data": {
      "image/png": "[encoded data removed]",
      "text/plain": [
       "<Figure size 432x288 with 1 Axes>"
      ]
     },
     "metadata": {
      "needs_background": "light"
     },
     "output_type": "display_data"
    }
   ],
   "source": [
    "plot([(Traj[i])[0] for i in range(T)])"
   ]
  },
  {
   "cell_type": "code",
   "execution_count": 76,
   "metadata": {},
   "outputs": [],
   "source": [
    "k = 4\n",
    "samples = [Traj[k*i] for i in range(T//k)]\n",
    "derivs = [(samples[i+1] - samples[i])/(k*dt) for i in range(T//k - 1)]"
   ]
  },
  {
   "cell_type": "code",
   "execution_count": 77,
   "metadata": {},
   "outputs": [
    {
     "data": {
      "text/plain": [
       "[<matplotlib.lines.Line2D at 0x7f3a1d43b190>]"
      ]
     },
     "execution_count": 77,
     "metadata": {},
     "output_type": "execute_result"
    },
    {
     "data": {
      "image/png": "[encoded data removed]",
      "text/plain": [
       "<Figure size 432x288 with 1 Axes>"
      ]
     },
     "metadata": {
      "needs_background": "light"
     },
     "output_type": "display_data"
    }
   ],
   "source": [
    "plot(array(samples)[:,0],\"*\")\n",
    "plot([i for i in range(T//k - 1)], array(derivs)[:,0],\"*\")"
   ]
  },
  {
   "cell_type": "code",
   "execution_count": 79,
   "metadata": {},
   "outputs": [
    {
     "name": "stdout",
     "output_type": "stream",
     "text": [
      "Variable   Type         Data/Info\n",
      "---------------------------------\n",
      "AA         DataFrame          0         1        <...>n\\n[22 rows x 22 columns]\n",
      "A_gt       ndarray      21x21: 441 elems, type `float64`, 3528 bytes\n",
      "Adj        function     <function Adj at 0x7f3a1f83bd90>\n",
      "Dynamics   dict         n=6\n",
      "M0         function     <function <lambda> at 0x7f3a1d327d90>\n",
      "M1         function     <function <lambda> at 0x7f3a1d327eb0>\n",
      "M2         function     <function <lambda> at 0x7f3a1d327e20>\n",
      "N          int          21\n",
      "T          int          1000\n",
      "Traj       list         n=1000\n",
      "Type       str          R1\n",
      "derivs     list         n=249\n",
      "dt         float        0.01\n",
      "file       function     <function file at 0x7f3a1f71ab90>\n",
      "i          int          999\n",
      "k          int          4\n",
      "matlab     module       <module 'matlab' from '/h<...>site-packages/matlab.py'>\n",
      "os         module       <module 'os' from '/usr/lib/python3.10/os.py'>\n",
      "pd         module       <module 'pandas' from '/h<...>ages/pandas/__init__.py'>\n",
      "pkl        module       <module 'pickle' from '/u<...>ib/python3.10/pickle.py'>\n",
      "samples    list         n=250\n",
      "selfN      function     <function selfN at 0x7f3a1d2d2710>\n",
      "x          ndarray      21: 21 elems, type `float64`, 168 bytes\n",
      "x0         ndarray      21: 21 elems, type `float64`, 168 bytes\n"
     ]
    }
   ],
   "source": [
    "whos"
   ]
  },
  {
   "cell_type": "code",
   "execution_count": null,
   "metadata": {},
   "outputs": [],
   "source": []
  }
 ],
 "metadata": {
  "kernelspec": {
   "display_name": "Python 3.10.4 64-bit",
   "language": "python",
   "name": "python3"
  },
  "language_info": {
   "codemirror_mode": {
    "name": "ipython",
    "version": 3
   },
   "file_extension": ".py",
   "mimetype": "text/x-python",
   "name": "python",
   "nbconvert_exporter": "python",
   "pygments_lexer": "ipython3",
   "version": "3.10.4"
  },
  "orig_nbformat": 4,
  "vscode": {
   "interpreter": {
    "hash": "916dbcbb3f70747c44a77c7bcd40155683ae19c65e1c03b4aa3499c5328201f1"
   }
  }
 },
 "nbformat": 4,
 "nbformat_minor": 2
}
